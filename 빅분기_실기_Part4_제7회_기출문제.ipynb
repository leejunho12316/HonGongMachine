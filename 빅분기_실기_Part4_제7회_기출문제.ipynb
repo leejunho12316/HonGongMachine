{
  "nbformat": 4,
  "nbformat_minor": 0,
  "metadata": {
    "colab": {
      "provenance": [],
      "authorship_tag": "ABX9TyPPHFnaULHI5+VcWHyzefFD",
      "include_colab_link": true
    },
    "kernelspec": {
      "name": "python3",
      "display_name": "Python 3"
    },
    "language_info": {
      "name": "python"
    }
  },
  "cells": [
    {
      "cell_type": "markdown",
      "metadata": {
        "id": "view-in-github",
        "colab_type": "text"
      },
      "source": [
        "<a href=\"https://colab.research.google.com/github/leejunho12316/HonGongMachine/blob/main/%EB%B9%85%EB%B6%84%EA%B8%B0_%EC%8B%A4%EA%B8%B0_Part4_%EC%A0%9C7%ED%9A%8C_%EA%B8%B0%EC%B6%9C%EB%AC%B8%EC%A0%9C.ipynb\" target=\"_parent\"><img src=\"https://colab.research.google.com/assets/colab-badge.svg\" alt=\"Open In Colab\"/></a>"
      ]
    },
    {
      "cell_type": "markdown",
      "source": [
        "#제3유형"
      ],
      "metadata": {
        "id": "TWY0xkQkiQZm"
      }
    },
    {
      "cell_type": "markdown",
      "source": [
        "1"
      ],
      "metadata": {
        "id": "cceMCB52iRnq"
      }
    },
    {
      "cell_type": "code",
      "execution_count": 12,
      "metadata": {
        "colab": {
          "base_uri": "https://localhost:8080/"
        },
        "id": "qjpluY0_eQvm",
        "outputId": "5ec6c195-83b2-4604-9da2-0a75a6440313"
      },
      "outputs": [
        {
          "output_type": "stream",
          "name": "stdout",
          "text": [
            "(210, 6) (90, 6)\n"
          ]
        }
      ],
      "source": [
        "import pandas as pd\n",
        "df = pd.read_csv('clam.csv')\n",
        "\n",
        "train = df.iloc[:210,:]\n",
        "test = df.iloc[210:,:]\n",
        "print(train.shape, test.shape)"
      ]
    },
    {
      "cell_type": "code",
      "source": [
        "#문제1-1\n",
        "import numpy as np\n",
        "from statsmodels.formula.api import logit\n",
        "model = logit('gender~weight', data=train).fit()\n",
        "model.summary()\n",
        "\n",
        "print(round(np.exp(model.params['weight']), 4))"
      ],
      "metadata": {
        "colab": {
          "base_uri": "https://localhost:8080/"
        },
        "id": "SK1Dkj8BepMW",
        "outputId": "b384c3d1-ed3b-4fd7-ee6a-5f53814178ed"
      },
      "execution_count": 24,
      "outputs": [
        {
          "output_type": "stream",
          "name": "stdout",
          "text": [
            "Optimization terminated successfully.\n",
            "         Current function value: 0.690045\n",
            "         Iterations 4\n",
            "1.0047\n"
          ]
        }
      ]
    },
    {
      "cell_type": "code",
      "source": [
        "#문제 1-2\n",
        "from statsmodels.formula.api import logit\n",
        "model = logit('gender~age+length+diameter+height+weight', data=train).fit()\n",
        "model.summary()\n",
        "\n",
        "print(round(model.llf * -2, 2))"
      ],
      "metadata": {
        "colab": {
          "base_uri": "https://localhost:8080/"
        },
        "id": "H1go0jPAfL0B",
        "outputId": "e44f7799-4648-4e00-d256-119128a21a27"
      },
      "execution_count": 16,
      "outputs": [
        {
          "output_type": "stream",
          "name": "stdout",
          "text": [
            "Optimization terminated successfully.\n",
            "         Current function value: 0.683173\n",
            "         Iterations 4\n",
            "286.93\n"
          ]
        }
      ]
    },
    {
      "cell_type": "code",
      "source": [
        "#문제 1-3\n",
        "from statsmodels.formula.api import logit\n",
        "model = logit('gender~weight', data=train).fit()\n",
        "\n",
        "test['predict'] = (model.predict(test[['gender','weight']]) > 0.5).astype(int)\n",
        "print(round(sum(test['gender'] != test['predict'])/len(test), 3))"
      ],
      "metadata": {
        "colab": {
          "base_uri": "https://localhost:8080/"
        },
        "id": "B0hing7xfsL9",
        "outputId": "7c21c2fa-1451-473d-c4a9-c042fd3c9110"
      },
      "execution_count": 23,
      "outputs": [
        {
          "output_type": "stream",
          "name": "stdout",
          "text": [
            "Optimization terminated successfully.\n",
            "         Current function value: 0.690045\n",
            "         Iterations 4\n",
            "0.478\n"
          ]
        },
        {
          "output_type": "stream",
          "name": "stderr",
          "text": [
            "/tmp/ipython-input-3939035256.py:5: SettingWithCopyWarning: \n",
            "A value is trying to be set on a copy of a slice from a DataFrame.\n",
            "Try using .loc[row_indexer,col_indexer] = value instead\n",
            "\n",
            "See the caveats in the documentation: https://pandas.pydata.org/pandas-docs/stable/user_guide/indexing.html#returning-a-view-versus-a-copy\n",
            "  test['predict'] = (model.predict(test[['gender','weight']]) > 0.5).astype(int)\n"
          ]
        }
      ]
    },
    {
      "cell_type": "code",
      "source": [
        "#문제 1-3\n",
        "from sklearn.metrics import accuracy_score\n",
        "from statsmodels.formula.api import logit\n",
        "model = logit('gender~weight', data=train).fit()\n",
        "\n",
        "target = test.pop('gender')\n",
        "predict = model.predict(test)\n",
        "predict = (predict>0.5).astype(int)\n",
        "\n",
        "score = accuracy_score(predict, target)\n",
        "print(round(1-score,3))"
      ],
      "metadata": {
        "colab": {
          "base_uri": "https://localhost:8080/"
        },
        "id": "DHE8-SpAhk6b",
        "outputId": "8671f3f5-d27c-47e9-a234-ae758f4cee53"
      },
      "execution_count": 13,
      "outputs": [
        {
          "output_type": "stream",
          "name": "stdout",
          "text": [
            "Optimization terminated successfully.\n",
            "         Current function value: 0.690045\n",
            "         Iterations 4\n",
            "0.478\n"
          ]
        }
      ]
    },
    {
      "cell_type": "markdown",
      "source": [
        "2"
      ],
      "metadata": {
        "id": "4TFgqanVh3Eb"
      }
    },
    {
      "cell_type": "code",
      "source": [
        "import pandas as pd\n",
        "df = pd.read_csv('system_cpu.csv')\n",
        "df.head(3)"
      ],
      "metadata": {
        "id": "5ZjI09J1iSrs",
        "outputId": "f36ac422-88f8-4533-c24b-359a95a422b3",
        "colab": {
          "base_uri": "https://localhost:8080/",
          "height": 143
        }
      },
      "execution_count": 14,
      "outputs": [
        {
          "output_type": "execute_result",
          "data": {
            "text/plain": [
              "    ERP  Feature1  Feature2  Feature3    CPU\n",
              "0  30.6     235.1      44.5      44.0  112.3\n",
              "1  40.3      36.6      46.4      36.1   58.6\n",
              "2  57.7      52.2      66.5       2.0   55.3"
            ],
            "text/html": [
              "\n",
              "  <div id=\"df-a94554e5-8cdb-4349-a521-2359269b3568\" class=\"colab-df-container\">\n",
              "    <div>\n",
              "<style scoped>\n",
              "    .dataframe tbody tr th:only-of-type {\n",
              "        vertical-align: middle;\n",
              "    }\n",
              "\n",
              "    .dataframe tbody tr th {\n",
              "        vertical-align: top;\n",
              "    }\n",
              "\n",
              "    .dataframe thead th {\n",
              "        text-align: right;\n",
              "    }\n",
              "</style>\n",
              "<table border=\"1\" class=\"dataframe\">\n",
              "  <thead>\n",
              "    <tr style=\"text-align: right;\">\n",
              "      <th></th>\n",
              "      <th>ERP</th>\n",
              "      <th>Feature1</th>\n",
              "      <th>Feature2</th>\n",
              "      <th>Feature3</th>\n",
              "      <th>CPU</th>\n",
              "    </tr>\n",
              "  </thead>\n",
              "  <tbody>\n",
              "    <tr>\n",
              "      <th>0</th>\n",
              "      <td>30.6</td>\n",
              "      <td>235.1</td>\n",
              "      <td>44.5</td>\n",
              "      <td>44.0</td>\n",
              "      <td>112.3</td>\n",
              "    </tr>\n",
              "    <tr>\n",
              "      <th>1</th>\n",
              "      <td>40.3</td>\n",
              "      <td>36.6</td>\n",
              "      <td>46.4</td>\n",
              "      <td>36.1</td>\n",
              "      <td>58.6</td>\n",
              "    </tr>\n",
              "    <tr>\n",
              "      <th>2</th>\n",
              "      <td>57.7</td>\n",
              "      <td>52.2</td>\n",
              "      <td>66.5</td>\n",
              "      <td>2.0</td>\n",
              "      <td>55.3</td>\n",
              "    </tr>\n",
              "  </tbody>\n",
              "</table>\n",
              "</div>\n",
              "    <div class=\"colab-df-buttons\">\n",
              "\n",
              "  <div class=\"colab-df-container\">\n",
              "    <button class=\"colab-df-convert\" onclick=\"convertToInteractive('df-a94554e5-8cdb-4349-a521-2359269b3568')\"\n",
              "            title=\"Convert this dataframe to an interactive table.\"\n",
              "            style=\"display:none;\">\n",
              "\n",
              "  <svg xmlns=\"http://www.w3.org/2000/svg\" height=\"24px\" viewBox=\"0 -960 960 960\">\n",
              "    <path d=\"M120-120v-720h720v720H120Zm60-500h600v-160H180v160Zm220 220h160v-160H400v160Zm0 220h160v-160H400v160ZM180-400h160v-160H180v160Zm440 0h160v-160H620v160ZM180-180h160v-160H180v160Zm440 0h160v-160H620v160Z\"/>\n",
              "  </svg>\n",
              "    </button>\n",
              "\n",
              "  <style>\n",
              "    .colab-df-container {\n",
              "      display:flex;\n",
              "      gap: 12px;\n",
              "    }\n",
              "\n",
              "    .colab-df-convert {\n",
              "      background-color: #E8F0FE;\n",
              "      border: none;\n",
              "      border-radius: 50%;\n",
              "      cursor: pointer;\n",
              "      display: none;\n",
              "      fill: #1967D2;\n",
              "      height: 32px;\n",
              "      padding: 0 0 0 0;\n",
              "      width: 32px;\n",
              "    }\n",
              "\n",
              "    .colab-df-convert:hover {\n",
              "      background-color: #E2EBFA;\n",
              "      box-shadow: 0px 1px 2px rgba(60, 64, 67, 0.3), 0px 1px 3px 1px rgba(60, 64, 67, 0.15);\n",
              "      fill: #174EA6;\n",
              "    }\n",
              "\n",
              "    .colab-df-buttons div {\n",
              "      margin-bottom: 4px;\n",
              "    }\n",
              "\n",
              "    [theme=dark] .colab-df-convert {\n",
              "      background-color: #3B4455;\n",
              "      fill: #D2E3FC;\n",
              "    }\n",
              "\n",
              "    [theme=dark] .colab-df-convert:hover {\n",
              "      background-color: #434B5C;\n",
              "      box-shadow: 0px 1px 3px 1px rgba(0, 0, 0, 0.15);\n",
              "      filter: drop-shadow(0px 1px 2px rgba(0, 0, 0, 0.3));\n",
              "      fill: #FFFFFF;\n",
              "    }\n",
              "  </style>\n",
              "\n",
              "    <script>\n",
              "      const buttonEl =\n",
              "        document.querySelector('#df-a94554e5-8cdb-4349-a521-2359269b3568 button.colab-df-convert');\n",
              "      buttonEl.style.display =\n",
              "        google.colab.kernel.accessAllowed ? 'block' : 'none';\n",
              "\n",
              "      async function convertToInteractive(key) {\n",
              "        const element = document.querySelector('#df-a94554e5-8cdb-4349-a521-2359269b3568');\n",
              "        const dataTable =\n",
              "          await google.colab.kernel.invokeFunction('convertToInteractive',\n",
              "                                                    [key], {});\n",
              "        if (!dataTable) return;\n",
              "\n",
              "        const docLinkHtml = 'Like what you see? Visit the ' +\n",
              "          '<a target=\"_blank\" href=https://colab.research.google.com/notebooks/data_table.ipynb>data table notebook</a>'\n",
              "          + ' to learn more about interactive tables.';\n",
              "        element.innerHTML = '';\n",
              "        dataTable['output_type'] = 'display_data';\n",
              "        await google.colab.output.renderOutput(dataTable, element);\n",
              "        const docLink = document.createElement('div');\n",
              "        docLink.innerHTML = docLinkHtml;\n",
              "        element.appendChild(docLink);\n",
              "      }\n",
              "    </script>\n",
              "  </div>\n",
              "\n",
              "\n",
              "    <div id=\"df-01de5a03-ac1a-4e5c-9852-3bff59008ebe\">\n",
              "      <button class=\"colab-df-quickchart\" onclick=\"quickchart('df-01de5a03-ac1a-4e5c-9852-3bff59008ebe')\"\n",
              "                title=\"Suggest charts\"\n",
              "                style=\"display:none;\">\n",
              "\n",
              "<svg xmlns=\"http://www.w3.org/2000/svg\" height=\"24px\"viewBox=\"0 0 24 24\"\n",
              "     width=\"24px\">\n",
              "    <g>\n",
              "        <path d=\"M19 3H5c-1.1 0-2 .9-2 2v14c0 1.1.9 2 2 2h14c1.1 0 2-.9 2-2V5c0-1.1-.9-2-2-2zM9 17H7v-7h2v7zm4 0h-2V7h2v10zm4 0h-2v-4h2v4z\"/>\n",
              "    </g>\n",
              "</svg>\n",
              "      </button>\n",
              "\n",
              "<style>\n",
              "  .colab-df-quickchart {\n",
              "      --bg-color: #E8F0FE;\n",
              "      --fill-color: #1967D2;\n",
              "      --hover-bg-color: #E2EBFA;\n",
              "      --hover-fill-color: #174EA6;\n",
              "      --disabled-fill-color: #AAA;\n",
              "      --disabled-bg-color: #DDD;\n",
              "  }\n",
              "\n",
              "  [theme=dark] .colab-df-quickchart {\n",
              "      --bg-color: #3B4455;\n",
              "      --fill-color: #D2E3FC;\n",
              "      --hover-bg-color: #434B5C;\n",
              "      --hover-fill-color: #FFFFFF;\n",
              "      --disabled-bg-color: #3B4455;\n",
              "      --disabled-fill-color: #666;\n",
              "  }\n",
              "\n",
              "  .colab-df-quickchart {\n",
              "    background-color: var(--bg-color);\n",
              "    border: none;\n",
              "    border-radius: 50%;\n",
              "    cursor: pointer;\n",
              "    display: none;\n",
              "    fill: var(--fill-color);\n",
              "    height: 32px;\n",
              "    padding: 0;\n",
              "    width: 32px;\n",
              "  }\n",
              "\n",
              "  .colab-df-quickchart:hover {\n",
              "    background-color: var(--hover-bg-color);\n",
              "    box-shadow: 0 1px 2px rgba(60, 64, 67, 0.3), 0 1px 3px 1px rgba(60, 64, 67, 0.15);\n",
              "    fill: var(--button-hover-fill-color);\n",
              "  }\n",
              "\n",
              "  .colab-df-quickchart-complete:disabled,\n",
              "  .colab-df-quickchart-complete:disabled:hover {\n",
              "    background-color: var(--disabled-bg-color);\n",
              "    fill: var(--disabled-fill-color);\n",
              "    box-shadow: none;\n",
              "  }\n",
              "\n",
              "  .colab-df-spinner {\n",
              "    border: 2px solid var(--fill-color);\n",
              "    border-color: transparent;\n",
              "    border-bottom-color: var(--fill-color);\n",
              "    animation:\n",
              "      spin 1s steps(1) infinite;\n",
              "  }\n",
              "\n",
              "  @keyframes spin {\n",
              "    0% {\n",
              "      border-color: transparent;\n",
              "      border-bottom-color: var(--fill-color);\n",
              "      border-left-color: var(--fill-color);\n",
              "    }\n",
              "    20% {\n",
              "      border-color: transparent;\n",
              "      border-left-color: var(--fill-color);\n",
              "      border-top-color: var(--fill-color);\n",
              "    }\n",
              "    30% {\n",
              "      border-color: transparent;\n",
              "      border-left-color: var(--fill-color);\n",
              "      border-top-color: var(--fill-color);\n",
              "      border-right-color: var(--fill-color);\n",
              "    }\n",
              "    40% {\n",
              "      border-color: transparent;\n",
              "      border-right-color: var(--fill-color);\n",
              "      border-top-color: var(--fill-color);\n",
              "    }\n",
              "    60% {\n",
              "      border-color: transparent;\n",
              "      border-right-color: var(--fill-color);\n",
              "    }\n",
              "    80% {\n",
              "      border-color: transparent;\n",
              "      border-right-color: var(--fill-color);\n",
              "      border-bottom-color: var(--fill-color);\n",
              "    }\n",
              "    90% {\n",
              "      border-color: transparent;\n",
              "      border-bottom-color: var(--fill-color);\n",
              "    }\n",
              "  }\n",
              "</style>\n",
              "\n",
              "      <script>\n",
              "        async function quickchart(key) {\n",
              "          const quickchartButtonEl =\n",
              "            document.querySelector('#' + key + ' button');\n",
              "          quickchartButtonEl.disabled = true;  // To prevent multiple clicks.\n",
              "          quickchartButtonEl.classList.add('colab-df-spinner');\n",
              "          try {\n",
              "            const charts = await google.colab.kernel.invokeFunction(\n",
              "                'suggestCharts', [key], {});\n",
              "          } catch (error) {\n",
              "            console.error('Error during call to suggestCharts:', error);\n",
              "          }\n",
              "          quickchartButtonEl.classList.remove('colab-df-spinner');\n",
              "          quickchartButtonEl.classList.add('colab-df-quickchart-complete');\n",
              "        }\n",
              "        (() => {\n",
              "          let quickchartButtonEl =\n",
              "            document.querySelector('#df-01de5a03-ac1a-4e5c-9852-3bff59008ebe button');\n",
              "          quickchartButtonEl.style.display =\n",
              "            google.colab.kernel.accessAllowed ? 'block' : 'none';\n",
              "        })();\n",
              "      </script>\n",
              "    </div>\n",
              "\n",
              "    </div>\n",
              "  </div>\n"
            ],
            "application/vnd.google.colaboratory.intrinsic+json": {
              "type": "dataframe",
              "variable_name": "df",
              "summary": "{\n  \"name\": \"df\",\n  \"rows\": 115,\n  \"fields\": [\n    {\n      \"column\": \"ERP\",\n      \"properties\": {\n        \"dtype\": \"number\",\n        \"std\": 57.566070447957635,\n        \"min\": -27.1,\n        \"max\": 241.0,\n        \"num_unique_values\": 113,\n        \"samples\": [\n          48.4,\n          80.3,\n          13.1\n        ],\n        \"semantic_type\": \"\",\n        \"description\": \"\"\n      }\n    },\n    {\n      \"column\": \"Feature1\",\n      \"properties\": {\n        \"dtype\": \"number\",\n        \"std\": 65.58703248280744,\n        \"min\": -48.6,\n        \"max\": 235.1,\n        \"num_unique_values\": 113,\n        \"samples\": [\n          45.1,\n          75.2,\n          -0.0\n        ],\n        \"semantic_type\": \"\",\n        \"description\": \"\"\n      }\n    },\n    {\n      \"column\": \"Feature2\",\n      \"properties\": {\n        \"dtype\": \"number\",\n        \"std\": 39.24440634591347,\n        \"min\": -47.8,\n        \"max\": 249.6,\n        \"num_unique_values\": 108,\n        \"samples\": [\n          65.3,\n          63.7,\n          59.6\n        ],\n        \"semantic_type\": \"\",\n        \"description\": \"\"\n      }\n    },\n    {\n      \"column\": \"Feature3\",\n      \"properties\": {\n        \"dtype\": \"number\",\n        \"std\": 32.518677306441724,\n        \"min\": -42.7,\n        \"max\": 134.5,\n        \"num_unique_values\": 110,\n        \"samples\": [\n          -4.6,\n          22.4,\n          58.2\n        ],\n        \"semantic_type\": \"\",\n        \"description\": \"\"\n      }\n    },\n    {\n      \"column\": \"CPU\",\n      \"properties\": {\n        \"dtype\": \"number\",\n        \"std\": 30.1124486752139,\n        \"min\": 51.2,\n        \"max\": 149.1,\n        \"num_unique_values\": 110,\n        \"samples\": [\n          52.4,\n          129.5,\n          104.1\n        ],\n        \"semantic_type\": \"\",\n        \"description\": \"\"\n      }\n    }\n  ]\n}"
            }
          },
          "metadata": {},
          "execution_count": 14
        }
      ]
    },
    {
      "cell_type": "code",
      "source": [
        "#문제2-1\n",
        "df.corr()\n",
        "print(0.882194)"
      ],
      "metadata": {
        "id": "p9_l4ijniYp2",
        "outputId": "cdd7ebe7-cba7-4229-8b8d-47057c31053a",
        "colab": {
          "base_uri": "https://localhost:8080/"
        }
      },
      "execution_count": 17,
      "outputs": [
        {
          "output_type": "stream",
          "name": "stdout",
          "text": [
            "0.882194\n"
          ]
        }
      ]
    },
    {
      "cell_type": "code",
      "source": [
        "#문제2-2\n",
        "from statsmodels.formula.api import ols\n",
        "df = df[df['CPU'] < 100]\n",
        "\n",
        "model = ols('ERP~Feature1+Feature2+Feature3+CPU', data=df).fit()\n",
        "model.summary()\n",
        "\n",
        "print(round(model.rsquared, 3))"
      ],
      "metadata": {
        "id": "hg_WYT2JihoN",
        "outputId": "504df5e1-2094-42b4-ac48-17a383dbafbf",
        "colab": {
          "base_uri": "https://localhost:8080/"
        }
      },
      "execution_count": 27,
      "outputs": [
        {
          "output_type": "stream",
          "name": "stdout",
          "text": [
            "0.755\n"
          ]
        }
      ]
    },
    {
      "cell_type": "code",
      "source": [
        "#문제2-3\n",
        "print(round(model.pvalues.sort_values(ascending=False).iloc[0], 3))"
      ],
      "metadata": {
        "id": "5KAeddFjjEmU",
        "outputId": "733027e9-9480-449c-db16-92a3f58ab3d7",
        "colab": {
          "base_uri": "https://localhost:8080/"
        }
      },
      "execution_count": 34,
      "outputs": [
        {
          "output_type": "stream",
          "name": "stdout",
          "text": [
            "0.684\n"
          ]
        }
      ]
    },
    {
      "cell_type": "code",
      "source": [
        "dir(model)"
      ],
      "metadata": {
        "id": "yN3FkiO7i6Hp",
        "outputId": "22586a1f-be9c-4d86-b8e8-8266052ad425",
        "colab": {
          "base_uri": "https://localhost:8080/"
        }
      },
      "execution_count": 24,
      "outputs": [
        {
          "output_type": "execute_result",
          "data": {
            "text/plain": [
              "['HC0_se',\n",
              " 'HC1_se',\n",
              " 'HC2_se',\n",
              " 'HC3_se',\n",
              " '_HCCM',\n",
              " '__class__',\n",
              " '__delattr__',\n",
              " '__dict__',\n",
              " '__dir__',\n",
              " '__doc__',\n",
              " '__eq__',\n",
              " '__format__',\n",
              " '__ge__',\n",
              " '__getattribute__',\n",
              " '__getstate__',\n",
              " '__gt__',\n",
              " '__hash__',\n",
              " '__init__',\n",
              " '__init_subclass__',\n",
              " '__le__',\n",
              " '__lt__',\n",
              " '__module__',\n",
              " '__ne__',\n",
              " '__new__',\n",
              " '__reduce__',\n",
              " '__reduce_ex__',\n",
              " '__repr__',\n",
              " '__setattr__',\n",
              " '__sizeof__',\n",
              " '__str__',\n",
              " '__subclasshook__',\n",
              " '__weakref__',\n",
              " '_abat_diagonal',\n",
              " '_cache',\n",
              " '_data_attr',\n",
              " '_data_in_cache',\n",
              " '_get_robustcov_results',\n",
              " '_get_wald_nonlinear',\n",
              " '_is_nested',\n",
              " '_transform_predict_exog',\n",
              " '_use_t',\n",
              " '_wexog_singular_values',\n",
              " 'aic',\n",
              " 'bic',\n",
              " 'bse',\n",
              " 'centered_tss',\n",
              " 'compare_f_test',\n",
              " 'compare_lm_test',\n",
              " 'compare_lr_test',\n",
              " 'condition_number',\n",
              " 'conf_int',\n",
              " 'conf_int_el',\n",
              " 'cov_HC0',\n",
              " 'cov_HC1',\n",
              " 'cov_HC2',\n",
              " 'cov_HC3',\n",
              " 'cov_kwds',\n",
              " 'cov_params',\n",
              " 'cov_type',\n",
              " 'df_model',\n",
              " 'df_resid',\n",
              " 'diagn',\n",
              " 'eigenvals',\n",
              " 'el_test',\n",
              " 'ess',\n",
              " 'f_pvalue',\n",
              " 'f_test',\n",
              " 'fittedvalues',\n",
              " 'fvalue',\n",
              " 'get_influence',\n",
              " 'get_prediction',\n",
              " 'get_robustcov_results',\n",
              " 'info_criteria',\n",
              " 'initialize',\n",
              " 'k_constant',\n",
              " 'llf',\n",
              " 'load',\n",
              " 'model',\n",
              " 'mse_model',\n",
              " 'mse_resid',\n",
              " 'mse_total',\n",
              " 'nobs',\n",
              " 'normalized_cov_params',\n",
              " 'outlier_test',\n",
              " 'params',\n",
              " 'predict',\n",
              " 'pvalues',\n",
              " 'remove_data',\n",
              " 'resid',\n",
              " 'resid_pearson',\n",
              " 'rsquared',\n",
              " 'rsquared_adj',\n",
              " 'save',\n",
              " 'scale',\n",
              " 'ssr',\n",
              " 'summary',\n",
              " 'summary2',\n",
              " 't_test',\n",
              " 't_test_pairwise',\n",
              " 'tvalues',\n",
              " 'uncentered_tss',\n",
              " 'use_t',\n",
              " 'wald_test',\n",
              " 'wald_test_terms',\n",
              " 'wresid']"
            ]
          },
          "metadata": {},
          "execution_count": 24
        }
      ]
    }
  ]
}