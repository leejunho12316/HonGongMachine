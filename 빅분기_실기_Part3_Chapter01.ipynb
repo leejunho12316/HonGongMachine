{
  "nbformat": 4,
  "nbformat_minor": 0,
  "metadata": {
    "colab": {
      "provenance": [],
      "authorship_tag": "ABX9TyNdRihdk6Sk2pZgPu/yCVt8",
      "include_colab_link": true
    },
    "kernelspec": {
      "name": "python3",
      "display_name": "Python 3"
    },
    "language_info": {
      "name": "python"
    }
  },
  "cells": [
    {
      "cell_type": "markdown",
      "metadata": {
        "id": "view-in-github",
        "colab_type": "text"
      },
      "source": [
        "<a href=\"https://colab.research.google.com/github/leejunho12316/HonGongMachine/blob/main/%EB%B9%85%EB%B6%84%EA%B8%B0_%EC%8B%A4%EA%B8%B0_Part3_Chapter01.ipynb\" target=\"_parent\"><img src=\"https://colab.research.google.com/assets/colab-badge.svg\" alt=\"Open In Colab\"/></a>"
      ]
    },
    {
      "cell_type": "markdown",
      "source": [
        "#단일 표본 검정"
      ],
      "metadata": {
        "id": "JZqxQEgkDU5g"
      }
    },
    {
      "cell_type": "code",
      "execution_count": 1,
      "metadata": {
        "id": "cFqcZj7T727m"
      },
      "outputs": [],
      "source": [
        "import pandas as pd\n",
        "df = pd.DataFrame({\n",
        "    'weights' : [122,121,120,119,125,115,121,118,117,127,\n",
        "                 123,129,119,124,114,126,122,124,121,116,\n",
        "                 120,123,127,118,122,117,124,125,123,2532]\n",
        "})"
      ]
    },
    {
      "cell_type": "code",
      "source": [
        "from scipy import stats\n",
        "statistic, pvalue = stats.ttest_1samp(df['weights'], 120)\n",
        "print('통계량 : ', statistic)\n",
        "print(\"유의 확률 :\", pvalue)"
      ],
      "metadata": {
        "colab": {
          "base_uri": "https://localhost:8080/"
        },
        "id": "1OpQFvar8U3j",
        "outputId": "4e514839-f9d8-44ab-a750-d66c44e850f2"
      },
      "execution_count": 11,
      "outputs": [
        {
          "output_type": "stream",
          "name": "stdout",
          "text": [
            "통계량 :  1.0179880333213098\n",
            "유의 확률 : 0.3171017160932224\n"
          ]
        }
      ]
    },
    {
      "cell_type": "markdown",
      "source": [
        "#대응 표본 검정"
      ],
      "metadata": {
        "id": "FibShuZTDZVs"
      }
    },
    {
      "cell_type": "code",
      "source": [
        "import pandas as pd\n",
        "df = pd.DataFrame({\n",
        "    'before' : [85, 90, 92, 88, 86, 89, 83, 87],\n",
        "    'after' : [85.5, 89.9, 92.6, 89.5, 85.8, 88.8, 84.6, 87.8]\n",
        "})"
      ],
      "metadata": {
        "id": "SNQMlOIeDaZj"
      },
      "execution_count": 12,
      "outputs": []
    },
    {
      "cell_type": "code",
      "source": [
        "from scipy import stats\n",
        "statistic, pvalue = stats.ttest_rel(df['before'], df['after'], alternative='less') #H1 : before - after < 0 이다.\n",
        "print('통계량 : ', statistic)\n",
        "print('유의 확률 : ', pvalue)"
      ],
      "metadata": {
        "colab": {
          "base_uri": "https://localhost:8080/"
        },
        "id": "wZd7roBuEI5Q",
        "outputId": "c3041127-6d58-4a92-968b-23e9f7a7402e"
      },
      "execution_count": 17,
      "outputs": [
        {
          "output_type": "stream",
          "name": "stdout",
          "text": [
            "통계량 :  -2.2127749675452324\n",
            "유의 확률 :  0.03127028733756238\n"
          ]
        }
      ]
    },
    {
      "cell_type": "code",
      "source": [
        "from scipy import stats\n",
        "statistic, pvalue = stats.ttest_rel(df['after'], df['before'], alternative='greater') #H1 : after - before > 0 이다.\n",
        "print('통계량 : ', statistic)\n",
        "print('유의 확률 : ', pvalue)"
      ],
      "metadata": {
        "colab": {
          "base_uri": "https://localhost:8080/"
        },
        "id": "vMohEOSCFMBn",
        "outputId": "6a05c36c-e234-492f-c7a4-bb75ee44a343"
      },
      "execution_count": 19,
      "outputs": [
        {
          "output_type": "stream",
          "name": "stdout",
          "text": [
            "통계량 :  2.2127749675452324\n",
            "유의 확률 :  0.03127028733756238\n"
          ]
        }
      ]
    },
    {
      "cell_type": "code",
      "source": [
        "#양측 대응 표본 검정\n",
        "from scipy import stats\n",
        "statistic, pvalue = stats.ttest_rel(df['after'], df['before'], alternative='two-sided')\n",
        "print('통계량 : ', statistic)\n",
        "print('유의 확률 : ', pvalue)"
      ],
      "metadata": {
        "colab": {
          "base_uri": "https://localhost:8080/"
        },
        "id": "gEkqRFLBFx5b",
        "outputId": "9bd3f8ce-ca42-4207-9e18-bb8fa0c395d1"
      },
      "execution_count": 20,
      "outputs": [
        {
          "output_type": "stream",
          "name": "stdout",
          "text": [
            "통계량 :  2.2127749675452324\n",
            "유의 확률 :  0.06254057467512476\n"
          ]
        }
      ]
    },
    {
      "cell_type": "markdown",
      "source": [
        "#독립 표본 검정"
      ],
      "metadata": {
        "id": "Rs78DlYJHAXE"
      }
    },
    {
      "cell_type": "code",
      "source": [
        "import pandas as pd\n",
        "class1 = [85, 90, 92, 88, 86, 89, 83, 87]\n",
        "class2 = [80, 82, 88, 85, 84]"
      ],
      "metadata": {
        "id": "gKhQwxEdHBMx"
      },
      "execution_count": 21,
      "outputs": []
    },
    {
      "cell_type": "code",
      "source": [
        "from scipy import stats\n",
        "statistic, pvalue = stats.ttest_ind(class1, class2, alternative='two-sided')\n",
        "print('통계량 : ', statistic)\n",
        "print('유의 확률 : ', pvalue)\n",
        "\n",
        "print()\n",
        "\n",
        "statistic, pvalue = stats.ttest_ind(class1, class2, alternative='two-sided', equal_var=False)\n",
        "print('통계량 : ', statistic)\n",
        "print('유의 확률 : ', pvalue)"
      ],
      "metadata": {
        "colab": {
          "base_uri": "https://localhost:8080/"
        },
        "id": "kkUcdtTpHnE9",
        "outputId": "d539a6ea-73dc-45d9-81e4-2463604385c7"
      },
      "execution_count": 25,
      "outputs": [
        {
          "output_type": "stream",
          "name": "stdout",
          "text": [
            "통계량 :  2.2108140580092237\n",
            "유의 확률 :  0.04914857789252186\n",
            "\n",
            "통계량 :  2.1818699281825236\n",
            "유의 확률 :  0.059589330071355334\n"
          ]
        }
      ]
    },
    {
      "cell_type": "code",
      "source": [
        "#단측 검정\n",
        "statistic, pvalue = stats.ttest_ind(class1, class2, equal_var=True, alternative='less')\n",
        "print('통계량 : ', statistic)\n",
        "print('유의 확률 : ', pvalue)\n",
        "\n",
        "print()\n",
        "\n",
        "statistic, pvalue = stats.ttest_ind(class1, class2, equal_var=True, alternative='greater')\n",
        "print('통계량 : ', statistic)\n",
        "print('유의 확률 : ', pvalue)"
      ],
      "metadata": {
        "colab": {
          "base_uri": "https://localhost:8080/"
        },
        "id": "bWlahxLTJEKs",
        "outputId": "21d3a008-1235-45bd-dddd-3dd1e5d3e85a"
      },
      "execution_count": 29,
      "outputs": [
        {
          "output_type": "stream",
          "name": "stdout",
          "text": [
            "통계량 :  2.2108140580092237\n",
            "유의 확률 :  0.9754257110537391\n",
            "\n",
            "통계량 :  2.2108140580092237\n",
            "유의 확률 :  0.02457428894626093\n"
          ]
        }
      ]
    },
    {
      "cell_type": "code",
      "source": [],
      "metadata": {
        "id": "uuQ0kMtMLoe5"
      },
      "execution_count": null,
      "outputs": []
    },
    {
      "cell_type": "markdown",
      "source": [
        "#비모수 검정\n",
        "\n",
        "샤피로-윌크 검정\n",
        "-> 정규성 t-검정, 비정규성 윌콕슨"
      ],
      "metadata": {
        "id": "gJkllIs3LotW"
      }
    },
    {
      "cell_type": "markdown",
      "source": [
        "1. 비모수 - 단일"
      ],
      "metadata": {
        "id": "nXVhixxcN8DY"
      }
    },
    {
      "cell_type": "code",
      "source": [
        "import pandas as pd\n",
        "df = pd.DataFrame({\n",
        "    'weights' : [125, 126, 118, 124, 117, 127, 123, 122,119, 142]\n",
        "})"
      ],
      "metadata": {
        "id": "_XNowdLkLpqd"
      },
      "execution_count": 33,
      "outputs": []
    },
    {
      "cell_type": "code",
      "source": [
        "#샤피로-윌크 정규성 검정\n",
        "from scipy import stats\n",
        "s,p = stats.shapiro(df['weights'])\n",
        "print(s,p)\n",
        "#H0 : 정규분포 따른다\n",
        "#H1 : 정규분포 안따른다\n",
        "#pvalue 0.05보다 작으므로 H1 채택 -> 정규분포 아니니 윌콕슨"
      ],
      "metadata": {
        "colab": {
          "base_uri": "https://localhost:8080/"
        },
        "id": "xm-9zgq-MHo6",
        "outputId": "c6f43841-84a6-4a93-9e63-0c6acba9f52b"
      },
      "execution_count": 35,
      "outputs": [
        {
          "output_type": "stream",
          "name": "stdout",
          "text": [
            "0.8164570347000635 0.022960129822451016\n"
          ]
        }
      ]
    },
    {
      "cell_type": "code",
      "source": [
        "#윌콕슨\n",
        "s,p = stats.wilcoxon(df['weights'] - 120, alternative = 'less')\n",
        "print(s, p)"
      ],
      "metadata": {
        "colab": {
          "base_uri": "https://localhost:8080/"
        },
        "id": "Yg3SUjPBMOxj",
        "outputId": "472318d3-b507-447d-984d-f1913d1fe751"
      },
      "execution_count": 39,
      "outputs": [
        {
          "output_type": "stream",
          "name": "stdout",
          "text": [
            "47.0 0.9814453125\n"
          ]
        }
      ]
    },
    {
      "cell_type": "markdown",
      "source": [
        "2. 비모수 - 대응"
      ],
      "metadata": {
        "id": "z9UKJA4rN3J5"
      }
    },
    {
      "cell_type": "code",
      "source": [
        "import pandas as pd\n",
        "df = pd.DataFrame({\n",
        "    'before' : [85, 90, 92, 88, 86, 89, 83, 87],\n",
        "    'after' : [86, 92, 94, 89, 84, 90, 84, 88]\n",
        "})"
      ],
      "metadata": {
        "id": "dB4YO0sFOEDW"
      },
      "execution_count": 40,
      "outputs": []
    },
    {
      "cell_type": "code",
      "source": [
        "#샤피로-윌크 정규성 검정\n",
        "from scipy import stats\n",
        "s, p = stats.shapiro(df['after'] - df['before'])\n",
        "print(s, p)\n",
        "#H0 : 정규분포 따른다\n",
        "#H1 : 정규분포 안따른다\n",
        "#pvalue 0.05보다 작으므로 H1 채택 -> 정규분포 아니니 윌콕슨"
      ],
      "metadata": {
        "colab": {
          "base_uri": "https://localhost:8080/"
        },
        "id": "sABuj8JvOQbf",
        "outputId": "1b73dc3f-7d9f-436e-bddc-7a079e3392ae"
      },
      "execution_count": 42,
      "outputs": [
        {
          "output_type": "stream",
          "name": "stdout",
          "text": [
            "0.6886147375920879 0.0016734051223900109\n"
          ]
        }
      ]
    },
    {
      "cell_type": "code",
      "source": [
        "#윌콕슨\n",
        "s, p = stats.wilcoxon(df['after'], df['before'], alternative='greater')\n",
        "print(s, p)"
      ],
      "metadata": {
        "colab": {
          "base_uri": "https://localhost:8080/"
        },
        "id": "6hvfGPPUO-8e",
        "outputId": "333d3848-335b-4be7-bbb6-a5a760c500a8"
      },
      "execution_count": 44,
      "outputs": [
        {
          "output_type": "stream",
          "name": "stdout",
          "text": [
            "29.0 0.07421875\n"
          ]
        }
      ]
    },
    {
      "cell_type": "markdown",
      "source": [
        "3. 비모수-독립"
      ],
      "metadata": {
        "id": "uFja8CEVQJFZ"
      }
    },
    {
      "cell_type": "code",
      "source": [
        "import pandas as pd\n",
        "class1 = [85, 90, 92, 88, 86, 89, 83, 87]\n",
        "class2 = [80, 82, 88, 85, 84]"
      ],
      "metadata": {
        "id": "ZjWnZ-5fQLlT"
      },
      "execution_count": 45,
      "outputs": []
    },
    {
      "cell_type": "code",
      "source": [
        "#샤피로-윌크 정규성 검정 - 둘다 정규성 만족\n",
        "from scipy import stats\n",
        "print(stats.shapiro(class1))\n",
        "print(stats.shapiro(class2))"
      ],
      "metadata": {
        "colab": {
          "base_uri": "https://localhost:8080/"
        },
        "id": "jaB9axfXQUS8",
        "outputId": "4fae0b5e-a0ae-4091-b4ba-08404a47a383"
      },
      "execution_count": 48,
      "outputs": [
        {
          "output_type": "stream",
          "name": "stdout",
          "text": [
            "ShapiroResult(statistic=np.float64(0.9981893537736595), pvalue=np.float64(0.999986994137081))\n",
            "ShapiroResult(statistic=np.float64(0.9917398436295009), pvalue=np.float64(0.9854182266624983))\n"
          ]
        }
      ]
    },
    {
      "cell_type": "code",
      "source": [
        "#등분산 검정 - 등분산 만족\n",
        "stats.levene(class1, class2)"
      ],
      "metadata": {
        "colab": {
          "base_uri": "https://localhost:8080/"
        },
        "id": "Z2CkWVbEQmO-",
        "outputId": "c7587d7a-6e78-4481-9450-f1315a8a7cb2"
      },
      "execution_count": 49,
      "outputs": [
        {
          "output_type": "execute_result",
          "data": {
            "text/plain": [
              "LeveneResult(statistic=np.float64(0.0027925869510027727), pvalue=np.float64(0.958802951766629))"
            ]
          },
          "metadata": {},
          "execution_count": 49
        }
      ]
    },
    {
      "cell_type": "code",
      "source": [
        "#정규성, 등분산 만족 - 독립 표본 검정\n",
        "stats.ttest_ind(class1, class2, alternative='less', equal_var = True) #귀무가설 채택"
      ],
      "metadata": {
        "colab": {
          "base_uri": "https://localhost:8080/"
        },
        "id": "hgGj-cTYQthy",
        "outputId": "3937b45d-9daf-471b-dafe-789153f4b6a4"
      },
      "execution_count": 50,
      "outputs": [
        {
          "output_type": "execute_result",
          "data": {
            "text/plain": [
              "TtestResult(statistic=np.float64(2.2108140580092237), pvalue=np.float64(0.9754257110537391), df=np.float64(11.0))"
            ]
          },
          "metadata": {},
          "execution_count": 50
        }
      ]
    },
    {
      "cell_type": "markdown",
      "source": [
        "3. 비모수-독립 2"
      ],
      "metadata": {
        "id": "wEB7sYJoRKHa"
      }
    },
    {
      "cell_type": "code",
      "source": [
        "import pandas as pd\n",
        "class1 = [85, 90, 92, 88, 86, 89, 83,  87]\n",
        "class2 = [80, 82, 88, 85, 130]"
      ],
      "metadata": {
        "id": "hOzaNuoxRMJV"
      },
      "execution_count": 51,
      "outputs": []
    },
    {
      "cell_type": "code",
      "source": [
        "#샤피로-윌크 정규성 검정 - 하나 불만족\n",
        "from scipy import stats\n",
        "print(stats.shapiro(class1))\n",
        "print(stats.shapiro(class2))"
      ],
      "metadata": {
        "colab": {
          "base_uri": "https://localhost:8080/"
        },
        "id": "ETKALtMuRR9Y",
        "outputId": "9388c0fa-5535-4d3a-c73b-55c11c5222fa"
      },
      "execution_count": 54,
      "outputs": [
        {
          "output_type": "stream",
          "name": "stdout",
          "text": [
            "ShapiroResult(statistic=np.float64(0.9981893537736595), pvalue=np.float64(0.999986994137081))\n",
            "ShapiroResult(statistic=np.float64(0.6880497349322277), pvalue=np.float64(0.007151570728885509))\n"
          ]
        }
      ]
    },
    {
      "cell_type": "code",
      "source": [
        "#정규성 불만족 - 만 휘트니 검정\n",
        "stats.mannwhitneyu(class1, class2, alternative='less') #귀무가설"
      ],
      "metadata": {
        "colab": {
          "base_uri": "https://localhost:8080/"
        },
        "id": "p6mbxc3ERquo",
        "outputId": "1c891333-e482-4275-ca74-bb8c999ac198"
      },
      "execution_count": 55,
      "outputs": [
        {
          "output_type": "execute_result",
          "data": {
            "text/plain": [
              "MannwhitneyuResult(statistic=np.float64(26.0), pvalue=np.float64(0.8299904236851448))"
            ]
          },
          "metadata": {},
          "execution_count": 55
        }
      ]
    }
  ]
}