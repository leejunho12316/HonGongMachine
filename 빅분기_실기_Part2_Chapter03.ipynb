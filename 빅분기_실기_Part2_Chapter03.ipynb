{
  "nbformat": 4,
  "nbformat_minor": 0,
  "metadata": {
    "colab": {
      "provenance": [],
      "authorship_tag": "ABX9TyN51r/VAnzxWL9bxA7v/yiT",
      "include_colab_link": true
    },
    "kernelspec": {
      "name": "python3",
      "display_name": "Python 3"
    },
    "language_info": {
      "name": "python"
    }
  },
  "cells": [
    {
      "cell_type": "markdown",
      "metadata": {
        "id": "view-in-github",
        "colab_type": "text"
      },
      "source": [
        "<a href=\"https://colab.research.google.com/github/leejunho12316/HonGongMachine/blob/main/%EB%B9%85%EB%B6%84%EA%B8%B0_%EC%8B%A4%EA%B8%B0_Part2_Chapter03.ipynb\" target=\"_parent\"><img src=\"https://colab.research.google.com/assets/colab-badge.svg\" alt=\"Open In Colab\"/></a>"
      ]
    },
    {
      "cell_type": "code",
      "execution_count": 1,
      "metadata": {
        "id": "d_xd_9McOg2p"
      },
      "outputs": [],
      "source": [
        "import pandas as pd\n",
        "y_true = pd.DataFrame([1,1,1,0,0,1,1,1,1,0])\n",
        "y_pred = pd.DataFrame([1,0,1,1,0,0,0,1,1,0])\n",
        "\n",
        "y_true_str = pd.DataFrame(['A','A','A','B','B','A','A','A','A','B'])\n",
        "y_pred_str = pd.DataFrame(['A','B','A','A','B','B','B','A','A','B'])"
      ]
    },
    {
      "cell_type": "markdown",
      "source": [
        "#이진 분류 평가지표"
      ],
      "metadata": {
        "id": "ZaZ9xs8FQWin"
      }
    },
    {
      "cell_type": "code",
      "source": [
        "#정확도\n",
        "from sklearn.metrics import accuracy_score\n",
        "accuracy = accuracy_score(y_true, y_pred)\n",
        "print(accuracy)\n",
        "\n",
        "accuracy_str = accuracy_score(y_true_str, y_pred_str)\n",
        "print(accuracy_str)"
      ],
      "metadata": {
        "colab": {
          "base_uri": "https://localhost:8080/"
        },
        "id": "Md2xJ9cfPIrt",
        "outputId": "c0095c28-409b-4263-8e3f-1c4ad92bda43"
      },
      "execution_count": 6,
      "outputs": [
        {
          "output_type": "stream",
          "name": "stdout",
          "text": [
            "0.6\n",
            "0.6\n"
          ]
        }
      ]
    },
    {
      "cell_type": "code",
      "source": [
        "#정밀도\n",
        "from sklearn.metrics import precision_score\n",
        "precision = precision_score(y_true, y_pred)\n",
        "print(precision)\n",
        "\n",
        "precision_str = precision_score(y_true_str, y_pred_str, pos_label='A')\n",
        "print(precision_str)"
      ],
      "metadata": {
        "colab": {
          "base_uri": "https://localhost:8080/"
        },
        "id": "ILdPyqyiPa7b",
        "outputId": "65ac3459-20ba-4431-8669-618b71ea17a1"
      },
      "execution_count": 9,
      "outputs": [
        {
          "output_type": "stream",
          "name": "stdout",
          "text": [
            "0.8\n",
            "0.8\n"
          ]
        }
      ]
    },
    {
      "cell_type": "code",
      "source": [
        "#재현율\n",
        "from sklearn.metrics import recall_score\n",
        "recall = recall_score(y_true, y_pred)\n",
        "print(recall)\n",
        "\n",
        "recall_str = recall_score(y_true_str, y_pred_str, pos_label='A')\n",
        "print(recall_str)"
      ],
      "metadata": {
        "colab": {
          "base_uri": "https://localhost:8080/"
        },
        "id": "_0pIxfQOP9GN",
        "outputId": "69134f99-71b0-4b28-a063-a650a9aa6992"
      },
      "execution_count": 11,
      "outputs": [
        {
          "output_type": "stream",
          "name": "stdout",
          "text": [
            "0.5714285714285714\n",
            "0.5714285714285714\n"
          ]
        }
      ]
    },
    {
      "cell_type": "code",
      "source": [
        "#F1 Score\n",
        "from sklearn.metrics import f1_score\n",
        "f1 = f1_score(y_true, y_pred)\n",
        "print(f1)\n",
        "\n",
        "f1_str = f1_score(y_true_str, y_pred_str, pos_label='A')\n",
        "print(f1_str)"
      ],
      "metadata": {
        "colab": {
          "base_uri": "https://localhost:8080/"
        },
        "id": "FHUP5loIQHvE",
        "outputId": "0988767d-1172-48ae-cb7d-a1be6b32976a"
      },
      "execution_count": 12,
      "outputs": [
        {
          "output_type": "stream",
          "name": "stdout",
          "text": [
            "0.6666666666666666\n",
            "0.6666666666666666\n"
          ]
        }
      ]
    },
    {
      "cell_type": "code",
      "source": [
        "#ROC-AUC\n",
        "from sklearn.metrics import roc_auc_score\n",
        "\n",
        "y_true = pd.DataFrame([0,1,0,1,1,0,0,0,1,1])\n",
        "y_pred_proba = pd.DataFrame([0.4, 0.9, 0.1, 0.3, 0.8, 0.6, 0.4, 0.2, 0.7, 0.6])\n",
        "roc_auc = roc_auc_score(y_true, y_pred_proba)\n",
        "print(roc_auc)\n",
        "\n",
        "y_true_str = pd.DataFrame(['A','B','A','B','B','A','A','A','B','B'])\n",
        "y_pred_proba_str = pd.DataFrame([0.4, 0.9, 0.1, 0.3, 0.8, 0.6, 0.4, 0.2, 0.7, 0.6])\n",
        "roc_auc_str = roc_auc_score(y_true_str, y_pred_proba_str)\n",
        "print(roc_auc_str)"
      ],
      "metadata": {
        "colab": {
          "base_uri": "https://localhost:8080/"
        },
        "id": "JwcPC9I3QTmC",
        "outputId": "ada3e45c-bf2b-4596-9abc-0b8e6c6c5d53"
      },
      "execution_count": 14,
      "outputs": [
        {
          "output_type": "stream",
          "name": "stdout",
          "text": [
            "0.86\n",
            "0.86\n"
          ]
        }
      ]
    },
    {
      "cell_type": "markdown",
      "source": [
        "#다중 분류 평가지표\n",
        "- 이진 분류에 평균을 계산하는 방식(파라미터)만 추가해주면 됨"
      ],
      "metadata": {
        "id": "xqL6xAncPtZr"
      }
    },
    {
      "cell_type": "code",
      "source": [
        "y_true = pd.DataFrame([1,2,3,3,2,1,3,3,2,1])\n",
        "y_pred = pd.DataFrame([1,2,1,3,2,1,1,2,2,1])\n",
        "\n",
        "y_true_str = pd.DataFrame(['A','B','C','C','B','A','C','C','B','A'])\n",
        "y_pred_str = pd.DataFrame(['A','B','A','C','B','A','A','B','B','A'])"
      ],
      "metadata": {
        "id": "YpWAhZ7PRv9n"
      },
      "execution_count": 15,
      "outputs": []
    },
    {
      "cell_type": "code",
      "source": [
        "#정확도\n",
        "from sklearn.metrics import accuracy_score\n",
        "accuracy = accuracy_score(y_true, y_pred)\n",
        "print(accuracy)\n",
        "\n",
        "accuracy_str = accuracy_score(y_true_str, y_pred_str)\n",
        "print(accuracy_str)"
      ],
      "metadata": {
        "colab": {
          "base_uri": "https://localhost:8080/"
        },
        "id": "-JQW9UJHRwEP",
        "outputId": "6e51616a-ccf4-4a41-d2cc-9d81a90117d7"
      },
      "execution_count": 17,
      "outputs": [
        {
          "output_type": "stream",
          "name": "stdout",
          "text": [
            "0.7\n",
            "0.7\n"
          ]
        }
      ]
    },
    {
      "cell_type": "code",
      "source": [
        "#정밀도\n",
        "from sklearn.metrics import precision_score\n",
        "precision = precision_score(y_true, y_pred, average='macro') #micro, macro, weighted\n",
        "print(precision)\n",
        "\n",
        "precision_str = precision_score(y_true_str, y_pred_str, pos_label = 'A', average='macro')\n",
        "print(precision_str)"
      ],
      "metadata": {
        "colab": {
          "base_uri": "https://localhost:8080/"
        },
        "id": "bz6VAH1FRwJn",
        "outputId": "6233f7a6-50f0-47ac-b7fb-4664abf29dfb"
      },
      "execution_count": 22,
      "outputs": [
        {
          "output_type": "stream",
          "name": "stdout",
          "text": [
            "0.7833333333333333\n",
            "0.7833333333333333\n"
          ]
        },
        {
          "output_type": "stream",
          "name": "stderr",
          "text": [
            "/usr/local/lib/python3.12/dist-packages/sklearn/metrics/_classification.py:1618: UserWarning: Note that pos_label (set to 'A') is ignored when average != 'binary' (got 'macro'). You may use labels=[pos_label] to specify a single positive class.\n",
            "  warnings.warn(\n"
          ]
        }
      ]
    },
    {
      "cell_type": "code",
      "source": [
        "#재현율\n",
        "from sklearn.metrics import recall_score\n",
        "recall = recall_score(y_true, y_pred, average='macro') #micro,, wieghted\n",
        "print(recall)\n",
        "\n",
        "recall_str = recall_score(y_true_str, y_pred_str, pos_label='A', average='macro')\n",
        "print(recall_str)"
      ],
      "metadata": {
        "colab": {
          "base_uri": "https://localhost:8080/"
        },
        "id": "n_6bAAIDTVZQ",
        "outputId": "706f006e-da26-4bae-d1c2-afe3c0b8ff94"
      },
      "execution_count": 23,
      "outputs": [
        {
          "output_type": "stream",
          "name": "stdout",
          "text": [
            "0.75\n",
            "0.75\n"
          ]
        },
        {
          "output_type": "stream",
          "name": "stderr",
          "text": [
            "/usr/local/lib/python3.12/dist-packages/sklearn/metrics/_classification.py:1618: UserWarning: Note that pos_label (set to 'A') is ignored when average != 'binary' (got 'macro'). You may use labels=[pos_label] to specify a single positive class.\n",
            "  warnings.warn(\n"
          ]
        }
      ]
    },
    {
      "cell_type": "code",
      "source": [
        "#F1 score\n",
        "from sklearn.metrics import f1_score\n",
        "f1 = f1_score(y_true, y_pred, average='macro')\n",
        "print(f1)\n",
        "\n",
        "f1_str = f1_score(y_true_str, y_pred_str, average='macro')\n",
        "print(f1_str)"
      ],
      "metadata": {
        "colab": {
          "base_uri": "https://localhost:8080/"
        },
        "id": "ETVQkwDFRwPV",
        "outputId": "0fbbfa67-433f-41e2-f63c-fad0df95eaf6"
      },
      "execution_count": 24,
      "outputs": [
        {
          "output_type": "stream",
          "name": "stdout",
          "text": [
            "0.669047619047619\n",
            "0.669047619047619\n"
          ]
        }
      ]
    },
    {
      "cell_type": "markdown",
      "source": [
        "#회귀 평가지표"
      ],
      "metadata": {
        "id": "4VDU6Cv5RwVW"
      }
    },
    {
      "cell_type": "code",
      "source": [
        "import pandas as pd\n",
        "y_true = pd.DataFrame([1, 2, 5, 2, 4, 4, 7, 9])\n",
        "y_pred = pd.DataFrame([1.14, 2.53, 4.87, 3.08, 4.21, 5.53, 7.51, 10.32])"
      ],
      "metadata": {
        "id": "laOu1fMIRwbK"
      },
      "execution_count": 25,
      "outputs": []
    },
    {
      "cell_type": "code",
      "source": [
        "#MSE\n",
        "from sklearn.metrics import mean_squared_error\n",
        "mse = mean_squared_error(y_true, y_pred)\n",
        "print(mse)\n",
        "\n",
        "from sklearn.metrics import r2_score\n",
        "r2 = r2_score(y_true, y_pred)\n",
        "print(r2)\n",
        "\n",
        "from sklearn.metrics import root_mean_squared_error\n",
        "rmse = root_mean_squared_error(y_true, y_pred)\n",
        "print(rmse)\n",
        "\n",
        "from sklearn.metrics import mean_squared_log_error\n",
        "msle = mean_squared_log_error(y_true, y_pred)\n",
        "print(msle)\n",
        "\n",
        "from sklearn.metrics import root_mean_squared_error\n",
        "rmse = root_mean_squared_error(y_true, y_pred)\n",
        "print(rmse)\n",
        "\n",
        "from sklearn.metrics import mean_absolute_percentage_error\n",
        "mape = mean_absolute_percentage_error(y_true, y_pred)\n",
        "print(mape)\n",
        "\n",
        "mape = (abs(y_true-y_pred)/y_true).mean() * 100\n",
        "print(mape)"
      ],
      "metadata": {
        "colab": {
          "base_uri": "https://localhost:8080/"
        },
        "id": "85OVTBmoRwgS",
        "outputId": "9932d2ac-d572-47b1-b165-f4421e4bb2f1"
      },
      "execution_count": 33,
      "outputs": [
        {
          "output_type": "stream",
          "name": "stdout",
          "text": [
            "0.7339125000000001\n",
            "0.8859941747572815\n",
            "0.8566869323154171\n",
            "0.027278486182156975\n",
            "0.8566869323154171\n",
            "0.20319047619047617\n",
            "0    20.319048\n",
            "dtype: float64\n"
          ]
        }
      ]
    },
    {
      "cell_type": "code",
      "source": [],
      "metadata": {
        "id": "9eJWdeeCRwlW"
      },
      "execution_count": null,
      "outputs": []
    },
    {
      "cell_type": "code",
      "source": [],
      "metadata": {
        "id": "U8nZ1Gb4RvSo"
      },
      "execution_count": null,
      "outputs": []
    }
  ]
}