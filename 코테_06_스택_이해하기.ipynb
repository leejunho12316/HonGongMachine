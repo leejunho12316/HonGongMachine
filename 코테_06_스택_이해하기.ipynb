{
  "nbformat": 4,
  "nbformat_minor": 0,
  "metadata": {
    "colab": {
      "provenance": [],
      "authorship_tag": "ABX9TyNggOkh0WEyowZBsxPIrM0T",
      "include_colab_link": true
    },
    "kernelspec": {
      "name": "python3",
      "display_name": "Python 3"
    },
    "language_info": {
      "name": "python"
    }
  },
  "cells": [
    {
      "cell_type": "markdown",
      "metadata": {
        "id": "view-in-github",
        "colab_type": "text"
      },
      "source": [
        "<a href=\"https://colab.research.google.com/github/leejunho12316/HonGongMachine/blob/main/%EC%BD%94%ED%85%8C_06_%EC%8A%A4%ED%83%9D_%EC%9D%B4%ED%95%B4%ED%95%98%EA%B8%B0.ipynb\" target=\"_parent\"><img src=\"https://colab.research.google.com/assets/colab-badge.svg\" alt=\"Open In Colab\"/></a>"
      ]
    },
    {
      "cell_type": "code",
      "source": [
        "#스택\n",
        "\n",
        "원래 메모리를 직접 관리해야하는 언어로 스택을 구현하려면 isFull, isEmpty가 필요한데 Python은 동적으로 메모리를 할달하기 때문에 필요 없음\n",
        "그래서 push() pop() 함수가 [].append() [].pop() 밖에 안해서 함수도 필요없음"
      ],
      "metadata": {
        "id": "9YkYjs8fgu-1"
      },
      "execution_count": null,
      "outputs": []
    },
    {
      "cell_type": "code",
      "source": [
        "stack = []\n",
        "\n",
        "stack.append(3)\n",
        "stack.append(\"편\")\n",
        "stack.append(\"하다~\")\n",
        "stack.append(\"파이\")\n",
        "stack.append(\"썬\")\n",
        "\n",
        "print(stack.pop())\n",
        "print(stack.pop())\n",
        "print(len(stack))"
      ],
      "metadata": {
        "colab": {
          "base_uri": "https://localhost:8080/"
        },
        "id": "ngeXkViGhTBr",
        "outputId": "9d18b28e-8496-4992-bd10-d0c36843e4c0"
      },
      "execution_count": 24,
      "outputs": [
        {
          "output_type": "stream",
          "name": "stdout",
          "text": [
            "썬\n",
            "파이\n",
            "3\n"
          ]
        }
      ]
    }
  ]
}