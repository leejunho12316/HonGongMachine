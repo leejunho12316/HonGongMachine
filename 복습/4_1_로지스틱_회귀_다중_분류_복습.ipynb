{
  "nbformat": 4,
  "nbformat_minor": 0,
  "metadata": {
    "colab": {
      "provenance": [],
      "authorship_tag": "ABX9TyPbKPMvkS8uU8bnsggSmQNr",
      "include_colab_link": true
    },
    "kernelspec": {
      "name": "python3",
      "display_name": "Python 3"
    },
    "language_info": {
      "name": "python"
    }
  },
  "cells": [
    {
      "cell_type": "markdown",
      "metadata": {
        "id": "view-in-github",
        "colab_type": "text"
      },
      "source": [
        "<a href=\"https://colab.research.google.com/github/leejunho12316/HonGongMachine/blob/main/%EB%B3%B5%EC%8A%B5/4_1_%EB%A1%9C%EC%A7%80%EC%8A%A4%ED%8B%B1_%ED%9A%8C%EA%B7%80_%EB%8B%A4%EC%A4%91_%EB%B6%84%EB%A5%98_%EB%B3%B5%EC%8A%B5.ipynb\" target=\"_parent\"><img src=\"https://colab.research.google.com/assets/colab-badge.svg\" alt=\"Open In Colab\"/></a>"
      ]
    },
    {
      "cell_type": "markdown",
      "source": [
        "#데이터 불러오기"
      ],
      "metadata": {
        "id": "hunFIVnNrKHy"
      }
    },
    {
      "cell_type": "code",
      "execution_count": 19,
      "metadata": {
        "id": "0CkvUDF3oRLc"
      },
      "outputs": [],
      "source": [
        "import pandas as pd\n",
        "fish = pd.read_csv('https://bit.ly/fish_csv_data')\n",
        "\n",
        "fish_input = fish[['Weight','Length','Diagonal','Height','Width']].to_numpy()\n",
        "fish_target = fish['Species'].to_numpy()"
      ]
    },
    {
      "cell_type": "code",
      "source": [
        "from sklearn.model_selection import train_test_split\n",
        "\n",
        "train_input, test_input, train_target, test_target = train_test_split(fish_input, fish_target, random_state = 42)\n",
        "train_input[:5]"
      ],
      "metadata": {
        "colab": {
          "base_uri": "https://localhost:8080/"
        },
        "id": "rsvHbVXKokA7",
        "outputId": "1ff72641-5371-4fe5-9839-977962ae2ee1"
      },
      "execution_count": 20,
      "outputs": [
        {
          "output_type": "execute_result",
          "data": {
            "text/plain": [
              "array([[720.    ,  35.    ,  40.6   ,  16.3618,   6.09  ],\n",
              "       [500.    ,  45.    ,  48.    ,   6.96  ,   4.896 ],\n",
              "       [  7.5   ,  10.5   ,  11.6   ,   1.972 ,   1.16  ],\n",
              "       [110.    ,  22.    ,  23.5   ,   5.5225,   3.995 ],\n",
              "       [140.    ,  20.7   ,  23.2   ,   8.5376,   3.2944]])"
            ]
          },
          "metadata": {},
          "execution_count": 20
        }
      ]
    },
    {
      "cell_type": "markdown",
      "source": [
        "#데이터 전처리"
      ],
      "metadata": {
        "id": "hirxXGC2rMfp"
      }
    },
    {
      "cell_type": "code",
      "source": [
        "from sklearn.preprocessing import StandardScaler\n",
        "\n",
        "ss = StandardScaler()\n",
        "ss.fit(train_input)\n",
        "train_scaled = ss.transform(train_input)\n",
        "test_scaled = ss.transform(test_input)\n",
        "\n",
        "train_scaled[:5]"
      ],
      "metadata": {
        "colab": {
          "base_uri": "https://localhost:8080/"
        },
        "id": "jPh08aprp-N9",
        "outputId": "fd50bb6a-64e1-432b-9af8-b929bb31d366"
      },
      "execution_count": 21,
      "outputs": [
        {
          "output_type": "execute_result",
          "data": {
            "text/plain": [
              "array([[ 0.91965782,  0.60943175,  0.81041221,  1.85194896,  1.00075672],\n",
              "       [ 0.30041219,  1.54653445,  1.45316551, -0.46981663,  0.27291745],\n",
              "       [-1.0858536 , -1.68646987, -1.70848587, -1.70159849, -2.0044758 ],\n",
              "       [-0.79734143, -0.60880176, -0.67486907, -0.82480589, -0.27631471],\n",
              "       [-0.71289885, -0.73062511, -0.70092664, -0.0802298 , -0.7033869 ]])"
            ]
          },
          "metadata": {},
          "execution_count": 21
        }
      ]
    },
    {
      "cell_type": "markdown",
      "source": [
        "#로지스틱 회귀"
      ],
      "metadata": {
        "id": "6ny2DErPrO-K"
      }
    },
    {
      "cell_type": "code",
      "source": [
        "from sklearn.linear_model import LogisticRegression\n",
        "\n",
        "lr = LogisticRegression(C=20, max_iter = 1000)\n",
        "lr.fit(train_scaled, train_target)\n",
        "\n",
        "print(lr.score(train_scaled,train_target), lr.score(test_scaled, test_target))"
      ],
      "metadata": {
        "colab": {
          "base_uri": "https://localhost:8080/"
        },
        "id": "X-EzNBtLqe7V",
        "outputId": "227d8a1c-ba4c-4ef8-f0c7-43a2324d6a69"
      },
      "execution_count": 22,
      "outputs": [
        {
          "output_type": "stream",
          "name": "stdout",
          "text": [
            "0.9327731092436975 0.925\n"
          ]
        }
      ]
    },
    {
      "cell_type": "code",
      "source": [
        "#각 target에 따른 선형방적식\n",
        "for i, species in enumerate(np.unique(fish['Species'])):\n",
        "  print(f\"{species} : {lr.coef_[i]}, {lr.intercept_[i]}\")"
      ],
      "metadata": {
        "colab": {
          "base_uri": "https://localhost:8080/"
        },
        "id": "JydiLJROqyTw",
        "outputId": "f3391fcd-1851-43d4-adba-dadc31d14303"
      },
      "execution_count": 33,
      "outputs": [
        {
          "output_type": "stream",
          "name": "stdout",
          "text": [
            "Bream : [-1.50605456 -1.03747913  2.60919713  7.69422741 -1.18603342], -0.10345047417360666\n",
            "Parkki : [ 0.19200046 -1.99988812 -3.79617724  6.5031264  -2.00022753], -0.27281217829035537\n",
            "Perch : [ 3.55793539  6.36988929 -8.52233733 -5.75397233  3.79233437], 3.244448525080772\n",
            "Pike : [-0.11453309  3.61060122  3.94464503 -3.62243904 -1.75981679], -0.17565068952586746\n",
            "Roach : [-1.40843718 -6.09242191  5.28629634 -0.8669657   1.84518456], 2.6496002492319994\n",
            "Smelt : [-1.33419947  1.48153392  1.38217547 -5.6602348  -4.39228965], -6.720428489764947\n",
            "Whitefish : [ 0.61328845 -2.33223525 -0.90379939  1.70625807  3.70084846], 1.3782930574420549\n"
          ]
        }
      ]
    },
    {
      "cell_type": "code",
      "source": [
        "print(\"####예측 확률들과 결과####\")\n",
        "print(lr.classes_)\n",
        "for i in range(0,5):\n",
        "  print(f\"{lr.decision_function(train_scaled[[i]])} : {lr.predict(train_scaled[[i]])}\")"
      ],
      "metadata": {
        "colab": {
          "base_uri": "https://localhost:8080/"
        },
        "id": "dwqeGHQdrHFk",
        "outputId": "8604cf99-da7b-45ba-83ad-33e458f3df95"
      },
      "execution_count": 41,
      "outputs": [
        {
          "output_type": "stream",
          "name": "stdout",
          "text": [
            "####예측 확률들과 결과####\n",
            "['Bream' 'Parkki' 'Perch' 'Pike' 'Roach' 'Smelt' 'Whitefish']\n",
            "[[ 13.05613266   5.65021583  -3.36892077  -3.35349913   2.16648838\n",
            "  -20.8024891    6.65207213]] : ['Bream']\n",
            "[[ -2.30735473 -12.4256765    5.51848827  12.32768082   1.39710969\n",
            "   -1.36092538  -3.14932217]] : ['Pike']\n",
            "[[-11.89130526   2.3208673    5.38802626  -3.18837799   3.19867994\n",
            "    8.30401254  -4.13190278]] : ['Smelt']\n",
            "[[-6.05038366 -1.45756872  5.97905376 -1.47051572  4.11935165 -1.60911471\n",
            "   0.4891774 ]] : ['Perch']\n",
            "[[ 0.11630064  4.59751043 -0.17830559 -3.96844323  3.17132187 -4.2769302\n",
            "   0.53854607]] : ['Parkki']\n"
          ]
        }
      ]
    },
    {
      "cell_type": "code",
      "source": [],
      "metadata": {
        "id": "4ov58GpLrH-q"
      },
      "execution_count": null,
      "outputs": []
    }
  ]
}