{
  "nbformat": 4,
  "nbformat_minor": 0,
  "metadata": {
    "colab": {
      "provenance": [],
      "authorship_tag": "ABX9TyOJ0TrzzsOzNsqMmLPNxpjL",
      "include_colab_link": true
    },
    "kernelspec": {
      "name": "python3",
      "display_name": "Python 3"
    },
    "language_info": {
      "name": "python"
    }
  },
  "cells": [
    {
      "cell_type": "markdown",
      "metadata": {
        "id": "view-in-github",
        "colab_type": "text"
      },
      "source": [
        "<a href=\"https://colab.research.google.com/github/leejunho12316/HonGongMachine/blob/main/%EB%B9%85%EB%B6%84%EA%B8%B0%EC%8B%A4%EA%B8%B0_Part1_Chapter3.ipynb\" target=\"_parent\"><img src=\"https://colab.research.google.com/assets/colab-badge.svg\" alt=\"Open In Colab\"/></a>"
      ]
    },
    {
      "cell_type": "markdown",
      "source": [
        "# Section 01"
      ],
      "metadata": {
        "id": "c-A6t_ORrzo2"
      }
    },
    {
      "cell_type": "code",
      "source": [
        "import pandas as pd\n",
        "df = pd.read_csv('type1_data1.csv')"
      ],
      "metadata": {
        "id": "l7juQcHyqq4e",
        "colab": {
          "base_uri": "https://localhost:8080/",
          "height": 333
        },
        "outputId": "6022af8f-c484-453b-86e4-5e958d1cf3d1"
      },
      "execution_count": 1,
      "outputs": [
        {
          "output_type": "error",
          "ename": "FileNotFoundError",
          "evalue": "[Errno 2] No such file or directory: 'type1_data1.csv'",
          "traceback": [
            "\u001b[0;31m---------------------------------------------------------------------------\u001b[0m",
            "\u001b[0;31mFileNotFoundError\u001b[0m                         Traceback (most recent call last)",
            "\u001b[0;32m/tmp/ipython-input-915650947.py\u001b[0m in \u001b[0;36m<cell line: 0>\u001b[0;34m()\u001b[0m\n\u001b[1;32m      1\u001b[0m \u001b[0;32mimport\u001b[0m \u001b[0mpandas\u001b[0m \u001b[0;32mas\u001b[0m \u001b[0mpd\u001b[0m\u001b[0;34m\u001b[0m\u001b[0;34m\u001b[0m\u001b[0m\n\u001b[0;32m----> 2\u001b[0;31m \u001b[0mdf\u001b[0m \u001b[0;34m=\u001b[0m \u001b[0mpd\u001b[0m\u001b[0;34m.\u001b[0m\u001b[0mread_csv\u001b[0m\u001b[0;34m(\u001b[0m\u001b[0;34m'type1_data1.csv'\u001b[0m\u001b[0;34m)\u001b[0m\u001b[0;34m\u001b[0m\u001b[0;34m\u001b[0m\u001b[0m\n\u001b[0m",
            "\u001b[0;32m/usr/local/lib/python3.12/dist-packages/pandas/io/parsers/readers.py\u001b[0m in \u001b[0;36mread_csv\u001b[0;34m(filepath_or_buffer, sep, delimiter, header, names, index_col, usecols, dtype, engine, converters, true_values, false_values, skipinitialspace, skiprows, skipfooter, nrows, na_values, keep_default_na, na_filter, verbose, skip_blank_lines, parse_dates, infer_datetime_format, keep_date_col, date_parser, date_format, dayfirst, cache_dates, iterator, chunksize, compression, thousands, decimal, lineterminator, quotechar, quoting, doublequote, escapechar, comment, encoding, encoding_errors, dialect, on_bad_lines, delim_whitespace, low_memory, memory_map, float_precision, storage_options, dtype_backend)\u001b[0m\n\u001b[1;32m   1024\u001b[0m     \u001b[0mkwds\u001b[0m\u001b[0;34m.\u001b[0m\u001b[0mupdate\u001b[0m\u001b[0;34m(\u001b[0m\u001b[0mkwds_defaults\u001b[0m\u001b[0;34m)\u001b[0m\u001b[0;34m\u001b[0m\u001b[0;34m\u001b[0m\u001b[0m\n\u001b[1;32m   1025\u001b[0m \u001b[0;34m\u001b[0m\u001b[0m\n\u001b[0;32m-> 1026\u001b[0;31m     \u001b[0;32mreturn\u001b[0m \u001b[0m_read\u001b[0m\u001b[0;34m(\u001b[0m\u001b[0mfilepath_or_buffer\u001b[0m\u001b[0;34m,\u001b[0m \u001b[0mkwds\u001b[0m\u001b[0;34m)\u001b[0m\u001b[0;34m\u001b[0m\u001b[0;34m\u001b[0m\u001b[0m\n\u001b[0m\u001b[1;32m   1027\u001b[0m \u001b[0;34m\u001b[0m\u001b[0m\n\u001b[1;32m   1028\u001b[0m \u001b[0;34m\u001b[0m\u001b[0m\n",
            "\u001b[0;32m/usr/local/lib/python3.12/dist-packages/pandas/io/parsers/readers.py\u001b[0m in \u001b[0;36m_read\u001b[0;34m(filepath_or_buffer, kwds)\u001b[0m\n\u001b[1;32m    618\u001b[0m \u001b[0;34m\u001b[0m\u001b[0m\n\u001b[1;32m    619\u001b[0m     \u001b[0;31m# Create the parser.\u001b[0m\u001b[0;34m\u001b[0m\u001b[0;34m\u001b[0m\u001b[0m\n\u001b[0;32m--> 620\u001b[0;31m     \u001b[0mparser\u001b[0m \u001b[0;34m=\u001b[0m \u001b[0mTextFileReader\u001b[0m\u001b[0;34m(\u001b[0m\u001b[0mfilepath_or_buffer\u001b[0m\u001b[0;34m,\u001b[0m \u001b[0;34m**\u001b[0m\u001b[0mkwds\u001b[0m\u001b[0;34m)\u001b[0m\u001b[0;34m\u001b[0m\u001b[0;34m\u001b[0m\u001b[0m\n\u001b[0m\u001b[1;32m    621\u001b[0m \u001b[0;34m\u001b[0m\u001b[0m\n\u001b[1;32m    622\u001b[0m     \u001b[0;32mif\u001b[0m \u001b[0mchunksize\u001b[0m \u001b[0;32mor\u001b[0m \u001b[0miterator\u001b[0m\u001b[0;34m:\u001b[0m\u001b[0;34m\u001b[0m\u001b[0;34m\u001b[0m\u001b[0m\n",
            "\u001b[0;32m/usr/local/lib/python3.12/dist-packages/pandas/io/parsers/readers.py\u001b[0m in \u001b[0;36m__init__\u001b[0;34m(self, f, engine, **kwds)\u001b[0m\n\u001b[1;32m   1618\u001b[0m \u001b[0;34m\u001b[0m\u001b[0m\n\u001b[1;32m   1619\u001b[0m         \u001b[0mself\u001b[0m\u001b[0;34m.\u001b[0m\u001b[0mhandles\u001b[0m\u001b[0;34m:\u001b[0m \u001b[0mIOHandles\u001b[0m \u001b[0;34m|\u001b[0m \u001b[0;32mNone\u001b[0m \u001b[0;34m=\u001b[0m \u001b[0;32mNone\u001b[0m\u001b[0;34m\u001b[0m\u001b[0;34m\u001b[0m\u001b[0m\n\u001b[0;32m-> 1620\u001b[0;31m         \u001b[0mself\u001b[0m\u001b[0;34m.\u001b[0m\u001b[0m_engine\u001b[0m \u001b[0;34m=\u001b[0m \u001b[0mself\u001b[0m\u001b[0;34m.\u001b[0m\u001b[0m_make_engine\u001b[0m\u001b[0;34m(\u001b[0m\u001b[0mf\u001b[0m\u001b[0;34m,\u001b[0m \u001b[0mself\u001b[0m\u001b[0;34m.\u001b[0m\u001b[0mengine\u001b[0m\u001b[0;34m)\u001b[0m\u001b[0;34m\u001b[0m\u001b[0;34m\u001b[0m\u001b[0m\n\u001b[0m\u001b[1;32m   1621\u001b[0m \u001b[0;34m\u001b[0m\u001b[0m\n\u001b[1;32m   1622\u001b[0m     \u001b[0;32mdef\u001b[0m \u001b[0mclose\u001b[0m\u001b[0;34m(\u001b[0m\u001b[0mself\u001b[0m\u001b[0;34m)\u001b[0m \u001b[0;34m->\u001b[0m \u001b[0;32mNone\u001b[0m\u001b[0;34m:\u001b[0m\u001b[0;34m\u001b[0m\u001b[0;34m\u001b[0m\u001b[0m\n",
            "\u001b[0;32m/usr/local/lib/python3.12/dist-packages/pandas/io/parsers/readers.py\u001b[0m in \u001b[0;36m_make_engine\u001b[0;34m(self, f, engine)\u001b[0m\n\u001b[1;32m   1878\u001b[0m                 \u001b[0;32mif\u001b[0m \u001b[0;34m\"b\"\u001b[0m \u001b[0;32mnot\u001b[0m \u001b[0;32min\u001b[0m \u001b[0mmode\u001b[0m\u001b[0;34m:\u001b[0m\u001b[0;34m\u001b[0m\u001b[0;34m\u001b[0m\u001b[0m\n\u001b[1;32m   1879\u001b[0m                     \u001b[0mmode\u001b[0m \u001b[0;34m+=\u001b[0m \u001b[0;34m\"b\"\u001b[0m\u001b[0;34m\u001b[0m\u001b[0;34m\u001b[0m\u001b[0m\n\u001b[0;32m-> 1880\u001b[0;31m             self.handles = get_handle(\n\u001b[0m\u001b[1;32m   1881\u001b[0m                 \u001b[0mf\u001b[0m\u001b[0;34m,\u001b[0m\u001b[0;34m\u001b[0m\u001b[0;34m\u001b[0m\u001b[0m\n\u001b[1;32m   1882\u001b[0m                 \u001b[0mmode\u001b[0m\u001b[0;34m,\u001b[0m\u001b[0;34m\u001b[0m\u001b[0;34m\u001b[0m\u001b[0m\n",
            "\u001b[0;32m/usr/local/lib/python3.12/dist-packages/pandas/io/common.py\u001b[0m in \u001b[0;36mget_handle\u001b[0;34m(path_or_buf, mode, encoding, compression, memory_map, is_text, errors, storage_options)\u001b[0m\n\u001b[1;32m    871\u001b[0m         \u001b[0;32mif\u001b[0m \u001b[0mioargs\u001b[0m\u001b[0;34m.\u001b[0m\u001b[0mencoding\u001b[0m \u001b[0;32mand\u001b[0m \u001b[0;34m\"b\"\u001b[0m \u001b[0;32mnot\u001b[0m \u001b[0;32min\u001b[0m \u001b[0mioargs\u001b[0m\u001b[0;34m.\u001b[0m\u001b[0mmode\u001b[0m\u001b[0;34m:\u001b[0m\u001b[0;34m\u001b[0m\u001b[0;34m\u001b[0m\u001b[0m\n\u001b[1;32m    872\u001b[0m             \u001b[0;31m# Encoding\u001b[0m\u001b[0;34m\u001b[0m\u001b[0;34m\u001b[0m\u001b[0m\n\u001b[0;32m--> 873\u001b[0;31m             handle = open(\n\u001b[0m\u001b[1;32m    874\u001b[0m                 \u001b[0mhandle\u001b[0m\u001b[0;34m,\u001b[0m\u001b[0;34m\u001b[0m\u001b[0;34m\u001b[0m\u001b[0m\n\u001b[1;32m    875\u001b[0m                 \u001b[0mioargs\u001b[0m\u001b[0;34m.\u001b[0m\u001b[0mmode\u001b[0m\u001b[0;34m,\u001b[0m\u001b[0;34m\u001b[0m\u001b[0;34m\u001b[0m\u001b[0m\n",
            "\u001b[0;31mFileNotFoundError\u001b[0m: [Errno 2] No such file or directory: 'type1_data1.csv'"
          ]
        }
      ]
    },
    {
      "cell_type": "code",
      "source": [
        "#문제1\n",
        "cond = df['f5'] != 0\n",
        "df2 = df[cond]\n",
        "\n",
        "#문제2\n",
        "v_min = df2['views'].min()\n",
        "df2['views'] = df2['views'].fillna(v_min)\n",
        "\n",
        "print(df2['views'].median())"
      ],
      "metadata": {
        "colab": {
          "base_uri": "https://localhost:8080/"
        },
        "id": "Yv8MbpHwq5eW",
        "outputId": "f79c277b-7f51-4fd7-eceb-9ae854bf0609"
      },
      "execution_count": null,
      "outputs": [
        {
          "output_type": "stream",
          "name": "stdout",
          "text": [
            "5924.0\n"
          ]
        },
        {
          "output_type": "stream",
          "name": "stderr",
          "text": [
            "/tmp/ipython-input-2872252605.py:7: SettingWithCopyWarning: \n",
            "A value is trying to be set on a copy of a slice from a DataFrame.\n",
            "Try using .loc[row_indexer,col_indexer] = value instead\n",
            "\n",
            "See the caveats in the documentation: https://pandas.pydata.org/pandas-docs/stable/user_guide/indexing.html#returning-a-view-versus-a-copy\n",
            "  df2['views'] = df2['views'].fillna(v_min)\n"
          ]
        }
      ]
    },
    {
      "cell_type": "markdown",
      "source": [
        "# Section 02"
      ],
      "metadata": {
        "id": "MwcpxoMwr7x_"
      }
    },
    {
      "cell_type": "code",
      "source": [
        "import pandas as pd\n",
        "df = pd.read_csv('type1_data1.csv')"
      ],
      "metadata": {
        "id": "IM5gewHlr-jc"
      },
      "execution_count": null,
      "outputs": []
    },
    {
      "cell_type": "code",
      "source": [
        "#문제1\n",
        "df2 = df['subscribed'].value_counts().sort_values(ascending=False)\n",
        "date = df2.index[0]\n",
        "print(date)\n",
        "\n",
        "#문제2\n",
        "print(int(date[-2:]))"
      ],
      "metadata": {
        "colab": {
          "base_uri": "https://localhost:8080/"
        },
        "id": "uaVT1bKusAHW",
        "outputId": "82d437b5-b4f6-465c-f743-54447db2d1bf"
      },
      "execution_count": null,
      "outputs": [
        {
          "output_type": "stream",
          "name": "stdout",
          "text": [
            "2025-02-17\n",
            "17\n"
          ]
        }
      ]
    },
    {
      "cell_type": "markdown",
      "source": [
        "# Section3"
      ],
      "metadata": {
        "id": "kE6Ug4rhsC5e"
      }
    },
    {
      "cell_type": "code",
      "source": [
        "import pandas as pd\n",
        "df = pd.read_csv('type1_data1.csv')"
      ],
      "metadata": {
        "id": "0aGRIpyZsDB4"
      },
      "execution_count": null,
      "outputs": []
    },
    {
      "cell_type": "code",
      "source": [
        "#문제1\n",
        "df2 = df.dropna(axis=0)\n",
        "\n",
        "#문제2\n",
        "df2['Q2'] = df2['views']/df2['f1']\n",
        "\n",
        "#문제3\n",
        "Q2_max = df2['Q2'].max()\n",
        "int(df2[df2['Q2'] == Q2_max].loc[115,'age'])\n",
        "#int(df2.sort_values(by = 'Q2', ascending=False).iloc[0, 1])"
      ],
      "metadata": {
        "id": "q0DfDDgcsDI5",
        "colab": {
          "base_uri": "https://localhost:8080/"
        },
        "outputId": "f2189235-0f0d-4c91-8832-35e1e01e5b28"
      },
      "execution_count": null,
      "outputs": [
        {
          "output_type": "stream",
          "name": "stderr",
          "text": [
            "/tmp/ipython-input-3073642203.py:5: SettingWithCopyWarning: \n",
            "A value is trying to be set on a copy of a slice from a DataFrame.\n",
            "Try using .loc[row_indexer,col_indexer] = value instead\n",
            "\n",
            "See the caveats in the documentation: https://pandas.pydata.org/pandas-docs/stable/user_guide/indexing.html#returning-a-view-versus-a-copy\n",
            "  df2['Q2'] = df2['views']/df2['f1']\n"
          ]
        },
        {
          "output_type": "execute_result",
          "data": {
            "text/plain": [
              "22"
            ]
          },
          "metadata": {},
          "execution_count": 25
        }
      ]
    },
    {
      "cell_type": "markdown",
      "source": [
        "#Section 04"
      ],
      "metadata": {
        "id": "ym2ymZPNH55P"
      }
    },
    {
      "cell_type": "code",
      "source": [
        "import pandas as pd\n",
        "df = pd.read_csv('type1_data1.csv')"
      ],
      "metadata": {
        "id": "eXh3-rKgHS8V"
      },
      "execution_count": null,
      "outputs": []
    },
    {
      "cell_type": "code",
      "source": [
        "#Q1\n",
        "df['views'] = df['views'].fillna(0)\n",
        "\n",
        "#Q2\n",
        "df = df.sort_values(by='views', ascending=False)\n",
        "views_10 = df.iloc[9, 9]\n",
        "print(views_10)\n",
        "\n",
        "#Q3\n",
        "df.iloc[0:10, 9] = views_10\n",
        "\n",
        "#Q4\n",
        "views_sum = int(df['views'].sum())\n",
        "print(views_sum)"
      ],
      "metadata": {
        "colab": {
          "base_uri": "https://localhost:8080/"
        },
        "id": "sUdG8ZRlHTrh",
        "outputId": "8957fbc8-691f-4dfd-e0e8-10227fd8b704"
      },
      "execution_count": null,
      "outputs": [
        {
          "output_type": "stream",
          "name": "stdout",
          "text": [
            "9877.0\n",
            "652812\n"
          ]
        }
      ]
    },
    {
      "cell_type": "code",
      "source": [
        "val = df['views'].nlargest(10).iloc[-1]\n",
        "print(val)"
      ],
      "metadata": {
        "colab": {
          "base_uri": "https://localhost:8080/"
        },
        "id": "DMxNW68HJogN",
        "outputId": "07ee3d04-0bfe-484d-e8e2-384bab8ac0da"
      },
      "execution_count": null,
      "outputs": [
        {
          "output_type": "stream",
          "name": "stdout",
          "text": [
            "9877.0\n"
          ]
        }
      ]
    },
    {
      "cell_type": "markdown",
      "source": [
        "#Section05"
      ],
      "metadata": {
        "id": "Jf_ChE3rl6Pp"
      }
    },
    {
      "cell_type": "code",
      "source": [
        "import pandas as pd\n",
        "df = pd.read_csv('type1_data1.csv')"
      ],
      "metadata": {
        "id": "yAJdNy6bl_pu"
      },
      "execution_count": 2,
      "outputs": []
    },
    {
      "cell_type": "code",
      "source": [
        "#문제1\n",
        "cond = df['f4'].str.contains('FJ')\n",
        "df = df[cond]\n",
        "\n",
        "r = df['f2'].mean()\n",
        "print(round(r,2))"
      ],
      "metadata": {
        "id": "WTrHNEjumEj6"
      },
      "execution_count": 6,
      "outputs": []
    },
    {
      "cell_type": "markdown",
      "source": [
        "#Section6"
      ],
      "metadata": {
        "id": "y3u7SH1zmQhp"
      }
    },
    {
      "cell_type": "code",
      "source": [
        "import pandas as pd\n",
        "df = pd.read_csv('type1_data1.csv')"
      ],
      "metadata": {
        "id": "saoPl6zomsl7"
      },
      "execution_count": 11,
      "outputs": []
    },
    {
      "cell_type": "code",
      "source": [
        "cond1 = df['f3'] == 'gold'\n",
        "cond2 = df['f2'] == 2\n",
        "\n",
        "df = df[cond1 & cond2]\n",
        "\n",
        "var = df['f1'].var()\n",
        "print(round(var,2))"
      ],
      "metadata": {
        "colab": {
          "base_uri": "https://localhost:8080/"
        },
        "id": "2Kt2QgvVmwsZ",
        "outputId": "6537cf02-e985-44a3-c504-4ed10f8977a2"
      },
      "execution_count": 19,
      "outputs": [
        {
          "output_type": "stream",
          "name": "stdout",
          "text": [
            "235.43\n"
          ]
        }
      ]
    },
    {
      "cell_type": "markdown",
      "source": [
        "#Section07"
      ],
      "metadata": {
        "id": "LubjK03-nNcn"
      }
    },
    {
      "cell_type": "code",
      "source": [
        "import pandas as pd\n",
        "df = pd.read_csv('type1_data1.csv')"
      ],
      "metadata": {
        "id": "1gns82B5mxiQ"
      },
      "execution_count": 58,
      "outputs": []
    },
    {
      "cell_type": "code",
      "source": [
        "df['age'] = df['age'] + 1\n",
        "\n",
        "cond20 = (df['age']//10 == 2)\n",
        "mean20 = df[cond20]['views'].mean()\n",
        "\n",
        "cond30 = (df['age']//10 == 3)\n",
        "mean30 = df[cond30]['views'].mean()\n",
        "\n",
        "res = abs(mean20 - mean30)\n",
        "print(round(res,2))"
      ],
      "metadata": {
        "colab": {
          "base_uri": "https://localhost:8080/"
        },
        "id": "2LfZfQS_nTIk",
        "outputId": "1e0f2ba8-2324-40bc-ae19-1f9b2768fcd3"
      },
      "execution_count": 59,
      "outputs": [
        {
          "output_type": "stream",
          "name": "stdout",
          "text": [
            "263.13\n"
          ]
        }
      ]
    },
    {
      "cell_type": "markdown",
      "source": [
        "#Section 08"
      ],
      "metadata": {
        "id": "MoOR4pFVoaaW"
      }
    },
    {
      "cell_type": "code",
      "source": [
        "import pandas as pd\n",
        "df = pd.read_csv('type1_data1.csv')"
      ],
      "metadata": {
        "id": "zyM5Iq72o73l"
      },
      "execution_count": 71,
      "outputs": []
    },
    {
      "cell_type": "code",
      "source": [
        "df['subscribed'] = pd.to_datetime(df['subscribed'])\n",
        "\n",
        "cond1 = df['subscribed'].dt.year == 2024\n",
        "cond2 = df['subscribed'].dt.month == 2\n",
        "df = df[cond1 & cond2]\n",
        "\n",
        "cond3 = df['f3'] == 'gold'\n",
        "\n",
        "print(len(df[cond3]))"
      ],
      "metadata": {
        "colab": {
          "base_uri": "https://localhost:8080/"
        },
        "id": "oMVCOqDeoEEj",
        "outputId": "9444a644-f7b4-43ca-a4a1-9ca1b2cb3ed0"
      },
      "execution_count": 72,
      "outputs": [
        {
          "output_type": "stream",
          "name": "stdout",
          "text": [
            "5\n"
          ]
        }
      ]
    },
    {
      "cell_type": "markdown",
      "source": [
        "#Section 09"
      ],
      "metadata": {
        "id": "6JRIBBl7n8mq"
      }
    },
    {
      "cell_type": "code",
      "source": [
        "import pandas as pd\n",
        "df = pd.read_csv('type1_data1.csv')"
      ],
      "metadata": {
        "id": "vT4X6Aghp5Y2"
      },
      "execution_count": 73,
      "outputs": []
    },
    {
      "cell_type": "code",
      "source": [
        "cond = df['views'] <= 1000\n",
        "df = df[cond]\n",
        "\n",
        "df['f4'].value_counts().index[0]"
      ],
      "metadata": {
        "colab": {
          "base_uri": "https://localhost:8080/",
          "height": 35
        },
        "id": "ZjGZIIdyp5po",
        "outputId": "b7647ff5-7cee-48aa-87cf-1e293b733a22"
      },
      "execution_count": 81,
      "outputs": [
        {
          "output_type": "execute_result",
          "data": {
            "text/plain": [
              "'ISFJ'"
            ],
            "application/vnd.google.colaboratory.intrinsic+json": {
              "type": "string"
            }
          },
          "metadata": {},
          "execution_count": 81
        }
      ]
    },
    {
      "cell_type": "markdown",
      "source": [
        "#Section 10"
      ],
      "metadata": {
        "id": "DPPHtYyIq4ZX"
      }
    },
    {
      "cell_type": "code",
      "source": [
        "import pandas as pd\n",
        "df = pd.read_csv('type1_data1.csv')"
      ],
      "metadata": {
        "id": "N2pIA7EOq5TD"
      },
      "execution_count": 82,
      "outputs": []
    },
    {
      "cell_type": "code",
      "source": [
        "df.dropna(axis=0, inplace=True)\n",
        "\n",
        "df = df.groupby(by='city').mean(numeric_only=True)\n",
        "\n",
        "df = df['f2'].sort_values(ascending=False)\n",
        "df.index[0]"
      ],
      "metadata": {
        "colab": {
          "base_uri": "https://localhost:8080/",
          "height": 35
        },
        "id": "-QqYscwCq9fB",
        "outputId": "48df916e-1cfd-475c-b420-61e7226b436a"
      },
      "execution_count": 96,
      "outputs": [
        {
          "output_type": "execute_result",
          "data": {
            "text/plain": [
              "'서울'"
            ],
            "application/vnd.google.colaboratory.intrinsic+json": {
              "type": "string"
            }
          },
          "metadata": {},
          "execution_count": 96
        }
      ]
    },
    {
      "cell_type": "markdown",
      "source": [
        "#Section 11"
      ],
      "metadata": {
        "id": "6pgsu2BerEBV"
      }
    },
    {
      "cell_type": "code",
      "source": [
        "import pandas as pd\n",
        "df = pd.read_csv('type1_data1.csv')"
      ],
      "metadata": {
        "id": "GSznCs3Nt13D"
      },
      "execution_count": 106,
      "outputs": []
    },
    {
      "cell_type": "code",
      "source": [
        "df.dropna(axis=0, inplace=True)\n",
        "\n",
        "end = int(len(df)*0.7)\n",
        "df = df.head(end)\n",
        "#df = df.iloc[:end]\n",
        "\n",
        "\n",
        "Q3, Q1 = df['views'].quantile(0.75), df['views'].quantile(0.25)\n",
        "print(int(Q3-Q1))"
      ],
      "metadata": {
        "colab": {
          "base_uri": "https://localhost:8080/"
        },
        "id": "xO6U-ynJt3aT",
        "outputId": "74a68123-c89d-4a7c-e69b-b073805aecff"
      },
      "execution_count": 107,
      "outputs": [
        {
          "output_type": "stream",
          "name": "stdout",
          "text": [
            "2771\n"
          ]
        }
      ]
    },
    {
      "cell_type": "markdown",
      "source": [
        "#Section 12"
      ],
      "metadata": {
        "id": "wt5ZNcYrt4IF"
      }
    },
    {
      "cell_type": "code",
      "source": [
        "import pandas as pd\n",
        "df = pd.read_csv('type1_data1.csv')"
      ],
      "metadata": {
        "id": "XvRDL7MIuvKj"
      },
      "execution_count": 154,
      "outputs": []
    },
    {
      "cell_type": "code",
      "source": [
        "df.isnull().sum().sort_values(ascending=False)\n",
        "#f1, f3\n",
        "\n",
        "df.dropna(subset=['f1'], inplace=True)\n",
        "\n",
        "df['f3'].fillna(df['f3'].mode()[0], inplace=True)\n",
        "\n",
        "print(len(df[df['f3'] == 'gold']))\n",
        "\n"
      ],
      "metadata": {
        "colab": {
          "base_uri": "https://localhost:8080/"
        },
        "id": "F6U_pWOkt4x_",
        "outputId": "49fdb936-4551-499a-f752-0ce485693d1c"
      },
      "execution_count": 155,
      "outputs": [
        {
          "output_type": "stream",
          "name": "stdout",
          "text": [
            "63\n"
          ]
        },
        {
          "output_type": "stream",
          "name": "stderr",
          "text": [
            "/tmp/ipython-input-3142405841.py:6: FutureWarning: A value is trying to be set on a copy of a DataFrame or Series through chained assignment using an inplace method.\n",
            "The behavior will change in pandas 3.0. This inplace method will never work because the intermediate object on which we are setting values always behaves as a copy.\n",
            "\n",
            "For example, when doing 'df[col].method(value, inplace=True)', try using 'df.method({col: value}, inplace=True)' or df[col] = df[col].method(value) instead, to perform the operation inplace on the original object.\n",
            "\n",
            "\n",
            "  df['f3'].fillna(df['f3'].mode()[0], inplace=True)\n"
          ]
        }
      ]
    },
    {
      "cell_type": "markdown",
      "source": [
        "#Section 13"
      ],
      "metadata": {
        "id": "l2tii5BnwnQ7"
      }
    },
    {
      "cell_type": "code",
      "source": [
        "import pandas as pd\n",
        "df = pd.read_csv('type1_data1.csv')"
      ],
      "metadata": {
        "id": "Ab2_2bgbxRyK"
      },
      "execution_count": 156,
      "outputs": []
    },
    {
      "cell_type": "code",
      "source": [
        "df = df[df['f1'].isnull()]\n",
        "\n",
        "print(round(df['age'].mean(), 1))"
      ],
      "metadata": {
        "colab": {
          "base_uri": "https://localhost:8080/"
        },
        "id": "YFNNaWWEt4d3",
        "outputId": "5f1c8142-5bf6-49d2-b7bc-dbd33cf9af82"
      },
      "execution_count": 160,
      "outputs": [
        {
          "output_type": "stream",
          "name": "stdout",
          "text": [
            "53.6\n"
          ]
        }
      ]
    },
    {
      "cell_type": "markdown",
      "source": [
        "#Section 14"
      ],
      "metadata": {
        "id": "XWkJ01H_xYXq"
      }
    },
    {
      "cell_type": "code",
      "source": [
        "import pandas as pd\n",
        "df = pd.read_csv('type1_data1.csv')\n",
        "\n",
        "df.drop_duplicates(inplace=True)\n",
        "\n",
        "df['f3'].fillna(0, inplace=True)\n",
        "df['f3'] = df['f3'].replace('silver',1).replace('gold', 2).replace('vip',3)\n",
        "\n",
        "print(df['f3'].sum())"
      ],
      "metadata": {
        "colab": {
          "base_uri": "https://localhost:8080/"
        },
        "id": "gG7ucyXZxYcl",
        "outputId": "240d8406-461b-4f0f-ba1a-7e4db255081c"
      },
      "execution_count": 195,
      "outputs": [
        {
          "output_type": "stream",
          "name": "stdout",
          "text": [
            "167\n"
          ]
        },
        {
          "output_type": "stream",
          "name": "stderr",
          "text": [
            "/tmp/ipython-input-4030630626.py:6: FutureWarning: A value is trying to be set on a copy of a DataFrame or Series through chained assignment using an inplace method.\n",
            "The behavior will change in pandas 3.0. This inplace method will never work because the intermediate object on which we are setting values always behaves as a copy.\n",
            "\n",
            "For example, when doing 'df[col].method(value, inplace=True)', try using 'df.method({col: value}, inplace=True)' or df[col] = df[col].method(value) instead, to perform the operation inplace on the original object.\n",
            "\n",
            "\n",
            "  df['f3'].fillna(0, inplace=True)\n",
            "/tmp/ipython-input-4030630626.py:7: FutureWarning: Downcasting behavior in `replace` is deprecated and will be removed in a future version. To retain the old behavior, explicitly call `result.infer_objects(copy=False)`. To opt-in to the future behavior, set `pd.set_option('future.no_silent_downcasting', True)`\n",
            "  df['f3'] = df['f3'].replace('silver',1).replace('gold', 2).replace('vip',3)\n"
          ]
        }
      ]
    },
    {
      "cell_type": "markdown",
      "source": [
        "#Section 15"
      ],
      "metadata": {
        "id": "7y_X0VPC2dMy"
      }
    },
    {
      "cell_type": "code",
      "source": [
        "import pandas as pd\n",
        "df = pd.read_csv('type1_data1.csv')\n",
        "\n",
        "df = df.select_dtypes(exclude='object')\n",
        "df.fillna(0, inplace=True)\n",
        "df['sum'] = df.sum(axis=1)\n",
        "\n",
        "res = len(df[df['sum'] > 3000])\n",
        "print(int(res))"
      ],
      "metadata": {
        "colab": {
          "base_uri": "https://localhost:8080/"
        },
        "id": "LZl2CxzB2fKq",
        "outputId": "d1131e34-0f08-4b62-e3a8-70cecf1dcc0f"
      },
      "execution_count": 224,
      "outputs": [
        {
          "output_type": "stream",
          "name": "stdout",
          "text": [
            "88\n"
          ]
        }
      ]
    },
    {
      "cell_type": "markdown",
      "source": [
        "#Section 16"
      ],
      "metadata": {
        "id": "_1Ss7cIz2jYp"
      }
    },
    {
      "cell_type": "code",
      "source": [
        "import pandas as pd\n",
        "df = pd.read_csv('type1_data1.csv')\n",
        "\n",
        "Q1, Q3 = df['views'].quantile(0.25), df['views'].quantile(0.75)\n",
        "IQR = Q3-Q1\n",
        "\n",
        "cond1 = df['views'] < Q1-IQR*1.5\n",
        "cond2 = df['views'] > Q3+IQR*1.5\n",
        "res = df[cond1|cond2]['views'].sum()\n",
        "print(int(res))"
      ],
      "metadata": {
        "colab": {
          "base_uri": "https://localhost:8080/"
        },
        "id": "wP6LGGE5xYkd",
        "outputId": "d1c2ffcd-44db-4e79-ae39-0042de3ba25c"
      },
      "execution_count": 231,
      "outputs": [
        {
          "output_type": "stream",
          "name": "stdout",
          "text": [
            "77699\n"
          ]
        }
      ]
    },
    {
      "cell_type": "markdown",
      "source": [
        "#Section 17"
      ],
      "metadata": {
        "id": "RhyEHygy4Kz7"
      }
    },
    {
      "cell_type": "code",
      "source": [
        "import pandas as pd\n",
        "df = pd.read_csv('type1_data1.csv')\n",
        "\n",
        "std1 = df['views'].std()\n",
        "\n",
        "cond_so = (df['age'] != round(df['age'], 0))\n",
        "cond_min = df['age'] <= 0\n",
        "df = df[~(cond_so | cond_min)]\n",
        "\n",
        "std2 = df['views'].std()\n",
        "\n",
        "res = std1+std2\n",
        "print(round(res,2))"
      ],
      "metadata": {
        "colab": {
          "base_uri": "https://localhost:8080/"
        },
        "id": "W-ldwbiJ4cqu",
        "outputId": "14101b1b-746c-4cbe-eaf2-3dd844d8d1d1"
      },
      "execution_count": 284,
      "outputs": [
        {
          "output_type": "stream",
          "name": "stdout",
          "text": [
            "8297.31\n"
          ]
        }
      ]
    },
    {
      "cell_type": "markdown",
      "source": [
        "#Section 18"
      ],
      "metadata": {
        "id": "JQyKG0WD4xdI"
      }
    },
    {
      "cell_type": "code",
      "source": [
        "import pandas as pd\n",
        "df = pd.read_csv('type1_data2.csv', index_col = 'year')"
      ],
      "metadata": {
        "id": "wLtzH2Id7uYO"
      },
      "execution_count": 289,
      "outputs": []
    },
    {
      "cell_type": "code",
      "source": [
        "df1 = df.loc[2001, :]\n",
        "mean = df1.mean()\n",
        "res1 = len(df1[df1>mean])\n",
        "\n",
        "df2 = df.loc[2003, :]\n",
        "mean = df2.mean()\n",
        "res2 = len(df2[df2<mean])\n",
        "\n",
        "print(res1 + res2)"
      ],
      "metadata": {
        "colab": {
          "base_uri": "https://localhost:8080/"
        },
        "id": "mrO-lv7F6gSs",
        "outputId": "d1608473-4153-458d-d647-e4cc99c6aef6"
      },
      "execution_count": 299,
      "outputs": [
        {
          "output_type": "stream",
          "name": "stdout",
          "text": [
            "202\n"
          ]
        }
      ]
    },
    {
      "cell_type": "markdown",
      "source": [
        "#Section 19"
      ],
      "metadata": {
        "id": "-Wa0P3fs-HQi"
      }
    },
    {
      "cell_type": "code",
      "source": [
        "import pandas as pd\n",
        "df = pd.read_csv('type1_data1.csv')\n",
        "df.fillna(method='bfill', inplace=True)\n",
        "df = df.groupby(by=['city','f2']).sum(numeric_only=True).reset_index()\n",
        "\n",
        "df.iloc[2, 0]\n"
      ],
      "metadata": {
        "colab": {
          "base_uri": "https://localhost:8080/",
          "height": 92
        },
        "id": "XbvOdxYU-H9A",
        "outputId": "a9a22d15-7e1f-44ef-9043-7e5da3fc313c"
      },
      "execution_count": 326,
      "outputs": [
        {
          "output_type": "stream",
          "name": "stderr",
          "text": [
            "/tmp/ipython-input-3086904951.py:3: FutureWarning: DataFrame.fillna with 'method' is deprecated and will raise in a future version. Use obj.ffill() or obj.bfill() instead.\n",
            "  df.fillna(method='bfill', inplace=True)\n"
          ]
        },
        {
          "output_type": "execute_result",
          "data": {
            "text/plain": [
              "'경기'"
            ],
            "application/vnd.google.colaboratory.intrinsic+json": {
              "type": "string"
            }
          },
          "metadata": {},
          "execution_count": 326
        }
      ]
    },
    {
      "cell_type": "markdown",
      "source": [
        "#Section 20"
      ],
      "metadata": {
        "id": "GECroHiq_iYr"
      }
    },
    {
      "cell_type": "code",
      "source": [
        "import pandas as pd\n",
        "df = pd.read_csv('type1_data1.csv')\n",
        "\n",
        "df['subscribed'] = pd.to_datetime(df['subscribed'])\n",
        "df['month'] = df['subscribed'].dt.month\n",
        "\n",
        "df = df.groupby(by='month').sum(numeric_only=True)\n",
        "\n",
        "res = df.sort_values(by='views', ascending=True).index[0]\n",
        "print(res)"
      ],
      "metadata": {
        "colab": {
          "base_uri": "https://localhost:8080/"
        },
        "id": "eM_ERjFexYoS",
        "outputId": "6f18fa1e-f11b-48fa-fd93-76efdcff7c18"
      },
      "execution_count": 340,
      "outputs": [
        {
          "output_type": "stream",
          "name": "stdout",
          "text": [
            "11\n"
          ]
        }
      ]
    },
    {
      "cell_type": "markdown",
      "source": [
        "#Section 21"
      ],
      "metadata": {
        "id": "S2WyNanM_o0m"
      }
    },
    {
      "cell_type": "code",
      "source": [
        "import pandas as pd\n",
        "df = pd.read_csv('delivery_time.csv')\n",
        "\n",
        "df['실제도착시간'] = pd.to_datetime(df['실제도착시간'])\n",
        "df['예상도착시간'] = pd.to_datetime(df['예상도착시간'])\n",
        "\n",
        "cond = df['예상도착시간'] < df['실제도착시간']\n",
        "df = df[cond]\n",
        "\n",
        "df = df[df['거리'] >= 7]\n",
        "print(len(df))"
      ],
      "metadata": {
        "colab": {
          "base_uri": "https://localhost:8080/"
        },
        "id": "Yyw7_GgIAaPf",
        "outputId": "59de9f37-48a8-46df-a90a-a56a1ccfa1e6"
      },
      "execution_count": 345,
      "outputs": [
        {
          "output_type": "stream",
          "name": "stdout",
          "text": [
            "311\n"
          ]
        }
      ]
    },
    {
      "cell_type": "markdown",
      "source": [
        "#Section 22"
      ],
      "metadata": {
        "id": "6dMpvdmtBRnF"
      }
    },
    {
      "cell_type": "code",
      "source": [
        "import pandas as pd\n",
        "df = pd.read_csv('delivery_time.csv')\n",
        "\n",
        "df['주문시간'] = pd.to_datetime(df['주문시간'])\n",
        "df['실제도착시간'] = pd.to_datetime(df['실제도착시간'])\n",
        "\n",
        "df['차이'] = (df['실제도착시간'] - df['주문시간']).dt.total_seconds()/60\n",
        "\n",
        "df = df.groupby(by = '앱종류')['차이'].mean()\n",
        "\n",
        "res = df.min()\n",
        "print(int(round(res)))"
      ],
      "metadata": {
        "colab": {
          "base_uri": "https://localhost:8080/"
        },
        "id": "KauUvXM2BTZX",
        "outputId": "75fc6104-1dcf-4720-9d96-e9a854d87b6a"
      },
      "execution_count": 384,
      "outputs": [
        {
          "output_type": "stream",
          "name": "stdout",
          "text": [
            "62\n"
          ]
        }
      ]
    },
    {
      "cell_type": "markdown",
      "source": [
        "#Section 23"
      ],
      "metadata": {
        "id": "Q500FxKdCtq_"
      }
    },
    {
      "cell_type": "code",
      "source": [
        "import pandas as pd\n",
        "df = pd.read_csv('delivery_time.csv')\n",
        "\n",
        "df['실제도착시간'] = pd.to_datetime(df['실제도착시간'])\n",
        "df['예상도착시간'] = pd.to_datetime(df['예상도착시간'])\n",
        "df['차이'] = (df['실제도착시간'] - df['예상도착시간']).dt.total_seconds()\n",
        "\n",
        "df['지연여부'] = df['차이'] > 0\n",
        "\n",
        "df.groupby(by=['결제종류'])['지연여부'].mean()"
      ],
      "metadata": {
        "colab": {
          "base_uri": "https://localhost:8080/",
          "height": 209
        },
        "id": "DA7ufxHkDVuf",
        "outputId": "4138c992-fc5c-4c46-c4bc-c80473ec7e68"
      },
      "execution_count": 415,
      "outputs": [
        {
          "output_type": "execute_result",
          "data": {
            "text/plain": [
              "결제종류\n",
              "앱결제    0.556634\n",
              "카드     0.489971\n",
              "현금     0.488304\n",
              "Name: 지연여부, dtype: float64"
            ],
            "text/html": [
              "<div>\n",
              "<style scoped>\n",
              "    .dataframe tbody tr th:only-of-type {\n",
              "        vertical-align: middle;\n",
              "    }\n",
              "\n",
              "    .dataframe tbody tr th {\n",
              "        vertical-align: top;\n",
              "    }\n",
              "\n",
              "    .dataframe thead th {\n",
              "        text-align: right;\n",
              "    }\n",
              "</style>\n",
              "<table border=\"1\" class=\"dataframe\">\n",
              "  <thead>\n",
              "    <tr style=\"text-align: right;\">\n",
              "      <th></th>\n",
              "      <th>지연여부</th>\n",
              "    </tr>\n",
              "    <tr>\n",
              "      <th>결제종류</th>\n",
              "      <th></th>\n",
              "    </tr>\n",
              "  </thead>\n",
              "  <tbody>\n",
              "    <tr>\n",
              "      <th>앱결제</th>\n",
              "      <td>0.556634</td>\n",
              "    </tr>\n",
              "    <tr>\n",
              "      <th>카드</th>\n",
              "      <td>0.489971</td>\n",
              "    </tr>\n",
              "    <tr>\n",
              "      <th>현금</th>\n",
              "      <td>0.488304</td>\n",
              "    </tr>\n",
              "  </tbody>\n",
              "</table>\n",
              "</div><br><label><b>dtype:</b> float64</label>"
            ]
          },
          "metadata": {},
          "execution_count": 415
        }
      ]
    },
    {
      "cell_type": "markdown",
      "source": [
        "#Section 24"
      ],
      "metadata": {
        "id": "lwZP2MpKDXlr"
      }
    },
    {
      "cell_type": "code",
      "source": [
        "import pandas as pd\n",
        "df = pd.read_csv('delivery_time.csv')\n",
        "\n",
        "df_temp = df.groupby(by='user').sum(numeric_only=True)\n",
        "user_50 = df_temp[df_temp['거리'] >= 50].index\n",
        "\n",
        "df = df[df['user'].isin(user_50)]['결제종류']\n",
        "\n",
        "print(df.value_counts()[0])"
      ],
      "metadata": {
        "colab": {
          "base_uri": "https://localhost:8080/"
        },
        "id": "eQGGj6onJYf6",
        "outputId": "ceb696b3-f4b2-44a5-f9a1-682c34cd8322"
      },
      "execution_count": 460,
      "outputs": [
        {
          "output_type": "stream",
          "name": "stdout",
          "text": [
            "48\n"
          ]
        },
        {
          "output_type": "stream",
          "name": "stderr",
          "text": [
            "/tmp/ipython-input-4097782634.py:9: FutureWarning: Series.__getitem__ treating keys as positions is deprecated. In a future version, integer keys will always be treated as labels (consistent with DataFrame behavior). To access a value by position, use `ser.iloc[pos]`\n",
            "  print(df.value_counts()[0])\n"
          ]
        }
      ]
    },
    {
      "cell_type": "markdown",
      "source": [
        "#Section 25"
      ],
      "metadata": {
        "id": "VMqqkWF_Qte4"
      }
    },
    {
      "cell_type": "code",
      "source": [
        "import pandas as pd\n",
        "df = pd.read_csv('delivery_time.csv')\n",
        "\n",
        "df['주문시간'] = pd.to_datetime(df['주문시간'])\n",
        "df_first = df.groupby('user')['주문시간'].min().reset_index()\n",
        "df_last = df.groupby('user')['주문시간'].max().reset_index()\n",
        "df = pd.merge(df_first, df_last, on='user')\n",
        "df.columns = ['user','첫 주문','마지막 주문']\n",
        "\n",
        "df['difference'] = (df['마지막 주문'] - df['첫 주문']).dt.days\n",
        "\n",
        "cond = df['difference'] != 0\n",
        "mean = df[cond].mean()\n",
        "\n",
        "cond = df['difference'] > mean\n",
        "print(len(df[cond]))"
      ],
      "metadata": {
        "colab": {
          "base_uri": "https://localhost:8080/"
        },
        "id": "cnk1oWIxQuii",
        "outputId": "9fac934a-f48e-4904-bcf2-be574f02dc9d"
      },
      "execution_count": 477,
      "outputs": [
        {
          "output_type": "stream",
          "name": "stdout",
          "text": [
            "146\n"
          ]
        }
      ]
    },
    {
      "cell_type": "markdown",
      "source": [
        "#Section 26"
      ],
      "metadata": {
        "id": "rV-SRkytSr56"
      }
    },
    {
      "cell_type": "code",
      "source": [
        "import pandas as pd\n",
        "df = pd.read_csv('delivery_time.csv')\n",
        "\n",
        "df['주문시간'] = pd.to_datetime(df['주문시간'])\n",
        "\n",
        "df['연-월'] = df['주문시간'].dt.to_period('M')\n",
        "date = df['연-월'].value_counts().index[0] #2022-09\n",
        "\n",
        "cond1 = df['연-월'] == date\n",
        "cond2 = df['앱종류'] == '배고팡'\n",
        "df = df[cond1 & cond2].value_counts('결제종류')\n",
        "\n",
        "res = df.loc['앱결제'] / df.sum()\n",
        "print(round(res, 2))"
      ],
      "metadata": {
        "colab": {
          "base_uri": "https://localhost:8080/"
        },
        "id": "0xBzYlHZVpNS",
        "outputId": "0f0977c1-ed19-4956-987e-c48e478ac21b"
      },
      "execution_count": 538,
      "outputs": [
        {
          "output_type": "stream",
          "name": "stdout",
          "text": [
            "0.31\n"
          ]
        }
      ]
    },
    {
      "cell_type": "code",
      "source": [
        "import pandas as pd\n",
        "df = pd.read_csv('delivery_time.csv')\n",
        "\n",
        "df['주문시간'] = pd.to_datetime(df['주문시간'])\n",
        "\n",
        "df['year'] = df['주문시간'].dt.year\n",
        "df['month'] = df['주문시간'].dt.month\n",
        "df.value_counts(['year','month']) #2022-9\n",
        "\n",
        "cond1 = df['year'] == 2022\n",
        "cond2 = df['month'] == 9\n",
        "df = df[cond1 & cond2]\n",
        "\n",
        "cond3 = df['앱종류'] == '배고팡'\n",
        "df = df[cond3]\n",
        "\n",
        "df = df.value_counts('결제종류')\n",
        "round(df[1] / df.sum(), 2)"
      ],
      "metadata": {
        "colab": {
          "base_uri": "https://localhost:8080/"
        },
        "id": "etavD7xES18O",
        "outputId": "6f3eb921-69cf-4ae0-d4a5-70cc25dca763"
      },
      "execution_count": 517,
      "outputs": [
        {
          "output_type": "stream",
          "name": "stderr",
          "text": [
            "/tmp/ipython-input-1862445245.py:18: FutureWarning: Series.__getitem__ treating keys as positions is deprecated. In a future version, integer keys will always be treated as labels (consistent with DataFrame behavior). To access a value by position, use `ser.iloc[pos]`\n",
            "  round(df[1] / df.sum(), 2)\n"
          ]
        },
        {
          "output_type": "execute_result",
          "data": {
            "text/plain": [
              "np.float64(0.31)"
            ]
          },
          "metadata": {},
          "execution_count": 517
        }
      ]
    },
    {
      "cell_type": "markdown",
      "source": [
        "#Section 27"
      ],
      "metadata": {
        "id": "3bRvQNopDXvE"
      }
    },
    {
      "cell_type": "code",
      "source": [
        "import pandas as pd\n",
        "df = pd.read_csv('delivery_time.csv')\n",
        "\n"
      ],
      "metadata": {
        "id": "O-klMgZ6ZwZH"
      },
      "execution_count": null,
      "outputs": []
    },
    {
      "cell_type": "code",
      "source": [],
      "metadata": {
        "id": "px-C_6GHDX2i"
      },
      "execution_count": null,
      "outputs": []
    },
    {
      "cell_type": "code",
      "source": [],
      "metadata": {
        "id": "977fiydQDYDl"
      },
      "execution_count": null,
      "outputs": []
    },
    {
      "cell_type": "code",
      "source": [],
      "metadata": {
        "id": "I8nhu4W3JagT"
      },
      "execution_count": null,
      "outputs": []
    }
  ]
}