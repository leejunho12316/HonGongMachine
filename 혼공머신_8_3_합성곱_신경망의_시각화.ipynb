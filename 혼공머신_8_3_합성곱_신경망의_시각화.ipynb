{
  "nbformat": 4,
  "nbformat_minor": 0,
  "metadata": {
    "colab": {
      "provenance": [],
      "gpuType": "T4",
      "authorship_tag": "ABX9TyOgkm/+ndzYVCJYtn1tlXoW",
      "include_colab_link": true
    },
    "kernelspec": {
      "name": "python3",
      "display_name": "Python 3"
    },
    "language_info": {
      "name": "python"
    },
    "accelerator": "GPU"
  },
  "cells": [
    {
      "cell_type": "markdown",
      "metadata": {
        "id": "view-in-github",
        "colab_type": "text"
      },
      "source": [
        "<a href=\"https://colab.research.google.com/github/leejunho12316/HonGongMachine/blob/main/%ED%98%BC%EA%B3%B5%EB%A8%B8%EC%8B%A0_8_3_%ED%95%A9%EC%84%B1%EA%B3%B1_%EC%8B%A0%EA%B2%BD%EB%A7%9D%EC%9D%98_%EC%8B%9C%EA%B0%81%ED%99%94.ipynb\" target=\"_parent\"><img src=\"https://colab.research.google.com/assets/colab-badge.svg\" alt=\"Open In Colab\"/></a>"
      ]
    },
    {
      "cell_type": "markdown",
      "source": [
        "#2장 코드"
      ],
      "metadata": {
        "id": "3ROBK08COxtj"
      }
    },
    {
      "cell_type": "code",
      "source": [
        "from tensorflow import keras\n",
        "from sklearn.model_selection import train_test_split\n",
        "\n",
        "##패션 MNIST 데이터 불러오기\n",
        "(train_input,train_target), (test_input, test_target) = keras.datasets.fashion_mnist.load_data()\n",
        "train_scaled = train_input.reshape(-1, 28, 28, 1)/ 255.0\n",
        "train_scaled, val_scaled, train_target, val_target = train_test_split(train_scaled, train_target, test_size = 0.2, random_state = 42)\n",
        "\n",
        "##합성곱 신경망 만들기\n",
        "model = keras.Sequential()\n",
        "model.add(keras.layers.Conv2D(32, kernel_size=3, activation='relu', padding='same', input_shape=(28,28,1)))\n",
        "model.add(keras.layers.MaxPooling2D(2))\n",
        "model.add(keras.layers.Conv2D(64, kernel_size=3, activation='relu', padding='same'))\n",
        "model.add(keras.layers.MaxPooling2D(2))\n",
        "\n",
        "model.add(keras.layers.Flatten())\n",
        "model.add(keras.layers.Dense(100,activation='relu'))\n",
        "model.add(keras.layers.Dropout(0.4))\n",
        "model.add(keras.layers.Dense(10, activation='softmax'))"
      ],
      "metadata": {
        "colab": {
          "base_uri": "https://localhost:8080/"
        },
        "id": "gEbgbQ9cO0ns",
        "outputId": "a509bb90-cfb9-4ded-a1db-92e449cfdc8a"
      },
      "execution_count": 1,
      "outputs": [
        {
          "output_type": "stream",
          "name": "stdout",
          "text": [
            "Downloading data from https://storage.googleapis.com/tensorflow/tf-keras-datasets/train-labels-idx1-ubyte.gz\n",
            "\u001b[1m29515/29515\u001b[0m \u001b[32m━━━━━━━━━━━━━━━━━━━━\u001b[0m\u001b[37m\u001b[0m \u001b[1m0s\u001b[0m 0us/step\n",
            "Downloading data from https://storage.googleapis.com/tensorflow/tf-keras-datasets/train-images-idx3-ubyte.gz\n",
            "\u001b[1m26421880/26421880\u001b[0m \u001b[32m━━━━━━━━━━━━━━━━━━━━\u001b[0m\u001b[37m\u001b[0m \u001b[1m0s\u001b[0m 0us/step\n",
            "Downloading data from https://storage.googleapis.com/tensorflow/tf-keras-datasets/t10k-labels-idx1-ubyte.gz\n",
            "\u001b[1m5148/5148\u001b[0m \u001b[32m━━━━━━━━━━━━━━━━━━━━\u001b[0m\u001b[37m\u001b[0m \u001b[1m0s\u001b[0m 1us/step\n",
            "Downloading data from https://storage.googleapis.com/tensorflow/tf-keras-datasets/t10k-images-idx3-ubyte.gz\n",
            "\u001b[1m4422102/4422102\u001b[0m \u001b[32m━━━━━━━━━━━━━━━━━━━━\u001b[0m\u001b[37m\u001b[0m \u001b[1m0s\u001b[0m 0us/step\n"
          ]
        },
        {
          "output_type": "stream",
          "name": "stderr",
          "text": [
            "/usr/local/lib/python3.11/dist-packages/keras/src/layers/convolutional/base_conv.py:107: UserWarning: Do not pass an `input_shape`/`input_dim` argument to a layer. When using Sequential models, prefer using an `Input(shape)` object as the first layer in the model instead.\n",
            "  super().__init__(activity_regularizer=activity_regularizer, **kwargs)\n"
          ]
        }
      ]
    },
    {
      "cell_type": "code",
      "source": [
        "model.compile(optimizer='adam', loss='sparse_categorical_crossentropy', metrics=['accuracy'])\n",
        "checkpoint_cb = keras.callbacks.ModelCheckpoint('best-cnn-model.h5', save_best_only=True)\n",
        "early_stopping_cb = keras.callbacks.EarlyStopping(patience=2, restore_best_weights=True)\n",
        "\n",
        "history = model.fit(train_scaled, train_target, epochs=20,\n",
        "                    validation_data=(val_scaled, val_target),\n",
        "                    callbacks = [checkpoint_cb, early_stopping_cb])"
      ],
      "metadata": {
        "colab": {
          "base_uri": "https://localhost:8080/"
        },
        "id": "ANVOzVqxPt0Q",
        "outputId": "54822910-1943-4d97-e7bc-aeb12478991f"
      },
      "execution_count": 2,
      "outputs": [
        {
          "output_type": "stream",
          "name": "stdout",
          "text": [
            "Epoch 1/20\n",
            "\u001b[1m1490/1500\u001b[0m \u001b[32m━━━━━━━━━━━━━━━━━━━\u001b[0m\u001b[37m━\u001b[0m \u001b[1m0s\u001b[0m 4ms/step - accuracy: 0.7441 - loss: 0.7002"
          ]
        },
        {
          "output_type": "stream",
          "name": "stderr",
          "text": [
            "WARNING:absl:You are saving your model as an HDF5 file via `model.save()` or `keras.saving.save_model(model)`. This file format is considered legacy. We recommend using instead the native Keras format, e.g. `model.save('my_model.keras')` or `keras.saving.save_model(model, 'my_model.keras')`. \n"
          ]
        },
        {
          "output_type": "stream",
          "name": "stdout",
          "text": [
            "\b\b\b\b\b\b\b\b\b\b\b\b\b\b\b\b\b\b\b\b\b\b\b\b\b\b\b\b\b\b\b\b\b\b\b\b\b\b\b\b\b\b\b\b\b\b\b\b\b\b\b\b\b\b\b\b\b\b\b\b\b\b\b\b\b\b\b\b\b\b\b\b\b\b\b\b\r\u001b[1m1500/1500\u001b[0m \u001b[32m━━━━━━━━━━━━━━━━━━━━\u001b[0m\u001b[37m\u001b[0m \u001b[1m16s\u001b[0m 6ms/step - accuracy: 0.7446 - loss: 0.6988 - val_accuracy: 0.8836 - val_loss: 0.3243\n",
            "Epoch 2/20\n",
            "\u001b[1m1490/1500\u001b[0m \u001b[32m━━━━━━━━━━━━━━━━━━━\u001b[0m\u001b[37m━\u001b[0m \u001b[1m0s\u001b[0m 4ms/step - accuracy: 0.8728 - loss: 0.3601"
          ]
        },
        {
          "output_type": "stream",
          "name": "stderr",
          "text": [
            "WARNING:absl:You are saving your model as an HDF5 file via `model.save()` or `keras.saving.save_model(model)`. This file format is considered legacy. We recommend using instead the native Keras format, e.g. `model.save('my_model.keras')` or `keras.saving.save_model(model, 'my_model.keras')`. \n"
          ]
        },
        {
          "output_type": "stream",
          "name": "stdout",
          "text": [
            "\b\b\b\b\b\b\b\b\b\b\b\b\b\b\b\b\b\b\b\b\b\b\b\b\b\b\b\b\b\b\b\b\b\b\b\b\b\b\b\b\b\b\b\b\b\b\b\b\b\b\b\b\b\b\b\b\b\b\b\b\b\b\b\b\b\b\b\b\b\b\b\b\b\b\b\b\r\u001b[1m1500/1500\u001b[0m \u001b[32m━━━━━━━━━━━━━━━━━━━━\u001b[0m\u001b[37m\u001b[0m \u001b[1m8s\u001b[0m 5ms/step - accuracy: 0.8728 - loss: 0.3601 - val_accuracy: 0.8956 - val_loss: 0.2797\n",
            "Epoch 3/20\n",
            "\u001b[1m1498/1500\u001b[0m \u001b[32m━━━━━━━━━━━━━━━━━━━\u001b[0m\u001b[37m━\u001b[0m \u001b[1m0s\u001b[0m 4ms/step - accuracy: 0.8933 - loss: 0.2951"
          ]
        },
        {
          "output_type": "stream",
          "name": "stderr",
          "text": [
            "WARNING:absl:You are saving your model as an HDF5 file via `model.save()` or `keras.saving.save_model(model)`. This file format is considered legacy. We recommend using instead the native Keras format, e.g. `model.save('my_model.keras')` or `keras.saving.save_model(model, 'my_model.keras')`. \n"
          ]
        },
        {
          "output_type": "stream",
          "name": "stdout",
          "text": [
            "\b\b\b\b\b\b\b\b\b\b\b\b\b\b\b\b\b\b\b\b\b\b\b\b\b\b\b\b\b\b\b\b\b\b\b\b\b\b\b\b\b\b\b\b\b\b\b\b\b\b\b\b\b\b\b\b\b\b\b\b\b\b\b\b\b\b\b\b\b\b\b\b\b\b\b\b\r\u001b[1m1500/1500\u001b[0m \u001b[32m━━━━━━━━━━━━━━━━━━━━\u001b[0m\u001b[37m\u001b[0m \u001b[1m9s\u001b[0m 5ms/step - accuracy: 0.8933 - loss: 0.2951 - val_accuracy: 0.9056 - val_loss: 0.2535\n",
            "Epoch 4/20\n",
            "\u001b[1m1486/1500\u001b[0m \u001b[32m━━━━━━━━━━━━━━━━━━━\u001b[0m\u001b[37m━\u001b[0m \u001b[1m0s\u001b[0m 3ms/step - accuracy: 0.9052 - loss: 0.2599"
          ]
        },
        {
          "output_type": "stream",
          "name": "stderr",
          "text": [
            "WARNING:absl:You are saving your model as an HDF5 file via `model.save()` or `keras.saving.save_model(model)`. This file format is considered legacy. We recommend using instead the native Keras format, e.g. `model.save('my_model.keras')` or `keras.saving.save_model(model, 'my_model.keras')`. \n"
          ]
        },
        {
          "output_type": "stream",
          "name": "stdout",
          "text": [
            "\b\b\b\b\b\b\b\b\b\b\b\b\b\b\b\b\b\b\b\b\b\b\b\b\b\b\b\b\b\b\b\b\b\b\b\b\b\b\b\b\b\b\b\b\b\b\b\b\b\b\b\b\b\b\b\b\b\b\b\b\b\b\b\b\b\b\b\b\b\b\b\b\b\b\b\b\r\u001b[1m1500/1500\u001b[0m \u001b[32m━━━━━━━━━━━━━━━━━━━━\u001b[0m\u001b[37m\u001b[0m \u001b[1m6s\u001b[0m 4ms/step - accuracy: 0.9052 - loss: 0.2599 - val_accuracy: 0.9086 - val_loss: 0.2484\n",
            "Epoch 5/20\n",
            "\u001b[1m1490/1500\u001b[0m \u001b[32m━━━━━━━━━━━━━━━━━━━\u001b[0m\u001b[37m━\u001b[0m \u001b[1m0s\u001b[0m 3ms/step - accuracy: 0.9133 - loss: 0.2409"
          ]
        },
        {
          "output_type": "stream",
          "name": "stderr",
          "text": [
            "WARNING:absl:You are saving your model as an HDF5 file via `model.save()` or `keras.saving.save_model(model)`. This file format is considered legacy. We recommend using instead the native Keras format, e.g. `model.save('my_model.keras')` or `keras.saving.save_model(model, 'my_model.keras')`. \n"
          ]
        },
        {
          "output_type": "stream",
          "name": "stdout",
          "text": [
            "\b\b\b\b\b\b\b\b\b\b\b\b\b\b\b\b\b\b\b\b\b\b\b\b\b\b\b\b\b\b\b\b\b\b\b\b\b\b\b\b\b\b\b\b\b\b\b\b\b\b\b\b\b\b\b\b\b\b\b\b\b\b\b\b\b\b\b\b\b\b\b\b\b\b\b\b\r\u001b[1m1500/1500\u001b[0m \u001b[32m━━━━━━━━━━━━━━━━━━━━\u001b[0m\u001b[37m\u001b[0m \u001b[1m6s\u001b[0m 4ms/step - accuracy: 0.9132 - loss: 0.2409 - val_accuracy: 0.9161 - val_loss: 0.2302\n",
            "Epoch 6/20\n",
            "\u001b[1m1498/1500\u001b[0m \u001b[32m━━━━━━━━━━━━━━━━━━━\u001b[0m\u001b[37m━\u001b[0m \u001b[1m0s\u001b[0m 3ms/step - accuracy: 0.9208 - loss: 0.2167"
          ]
        },
        {
          "output_type": "stream",
          "name": "stderr",
          "text": [
            "WARNING:absl:You are saving your model as an HDF5 file via `model.save()` or `keras.saving.save_model(model)`. This file format is considered legacy. We recommend using instead the native Keras format, e.g. `model.save('my_model.keras')` or `keras.saving.save_model(model, 'my_model.keras')`. \n"
          ]
        },
        {
          "output_type": "stream",
          "name": "stdout",
          "text": [
            "\b\b\b\b\b\b\b\b\b\b\b\b\b\b\b\b\b\b\b\b\b\b\b\b\b\b\b\b\b\b\b\b\b\b\b\b\b\b\b\b\b\b\b\b\b\b\b\b\b\b\b\b\b\b\b\b\b\b\b\b\b\b\b\b\b\b\b\b\b\b\b\b\b\b\b\b\r\u001b[1m1500/1500\u001b[0m \u001b[32m━━━━━━━━━━━━━━━━━━━━\u001b[0m\u001b[37m\u001b[0m \u001b[1m6s\u001b[0m 4ms/step - accuracy: 0.9208 - loss: 0.2167 - val_accuracy: 0.9192 - val_loss: 0.2235\n",
            "Epoch 7/20\n",
            "\u001b[1m1491/1500\u001b[0m \u001b[32m━━━━━━━━━━━━━━━━━━━\u001b[0m\u001b[37m━\u001b[0m \u001b[1m0s\u001b[0m 3ms/step - accuracy: 0.9251 - loss: 0.2001"
          ]
        },
        {
          "output_type": "stream",
          "name": "stderr",
          "text": [
            "WARNING:absl:You are saving your model as an HDF5 file via `model.save()` or `keras.saving.save_model(model)`. This file format is considered legacy. We recommend using instead the native Keras format, e.g. `model.save('my_model.keras')` or `keras.saving.save_model(model, 'my_model.keras')`. \n"
          ]
        },
        {
          "output_type": "stream",
          "name": "stdout",
          "text": [
            "\b\b\b\b\b\b\b\b\b\b\b\b\b\b\b\b\b\b\b\b\b\b\b\b\b\b\b\b\b\b\b\b\b\b\b\b\b\b\b\b\b\b\b\b\b\b\b\b\b\b\b\b\b\b\b\b\b\b\b\b\b\b\b\b\b\b\b\b\b\b\b\b\b\b\b\b\r\u001b[1m1500/1500\u001b[0m \u001b[32m━━━━━━━━━━━━━━━━━━━━\u001b[0m\u001b[37m\u001b[0m \u001b[1m10s\u001b[0m 4ms/step - accuracy: 0.9251 - loss: 0.2002 - val_accuracy: 0.9210 - val_loss: 0.2173\n",
            "Epoch 8/20\n",
            "\u001b[1m1500/1500\u001b[0m \u001b[32m━━━━━━━━━━━━━━━━━━━━\u001b[0m\u001b[37m\u001b[0m \u001b[1m10s\u001b[0m 4ms/step - accuracy: 0.9320 - loss: 0.1831 - val_accuracy: 0.9175 - val_loss: 0.2363\n",
            "Epoch 9/20\n",
            "\u001b[1m1485/1500\u001b[0m \u001b[32m━━━━━━━━━━━━━━━━━━━\u001b[0m\u001b[37m━\u001b[0m \u001b[1m0s\u001b[0m 3ms/step - accuracy: 0.9364 - loss: 0.1709"
          ]
        },
        {
          "output_type": "stream",
          "name": "stderr",
          "text": [
            "WARNING:absl:You are saving your model as an HDF5 file via `model.save()` or `keras.saving.save_model(model)`. This file format is considered legacy. We recommend using instead the native Keras format, e.g. `model.save('my_model.keras')` or `keras.saving.save_model(model, 'my_model.keras')`. \n"
          ]
        },
        {
          "output_type": "stream",
          "name": "stdout",
          "text": [
            "\b\b\b\b\b\b\b\b\b\b\b\b\b\b\b\b\b\b\b\b\b\b\b\b\b\b\b\b\b\b\b\b\b\b\b\b\b\b\b\b\b\b\b\b\b\b\b\b\b\b\b\b\b\b\b\b\b\b\b\b\b\b\b\b\b\b\b\b\b\b\b\b\b\b\b\b\r\u001b[1m1500/1500\u001b[0m \u001b[32m━━━━━━━━━━━━━━━━━━━━\u001b[0m\u001b[37m\u001b[0m \u001b[1m10s\u001b[0m 4ms/step - accuracy: 0.9364 - loss: 0.1709 - val_accuracy: 0.9237 - val_loss: 0.2155\n",
            "Epoch 10/20\n",
            "\u001b[1m1500/1500\u001b[0m \u001b[32m━━━━━━━━━━━━━━━━━━━━\u001b[0m\u001b[37m\u001b[0m \u001b[1m5s\u001b[0m 4ms/step - accuracy: 0.9392 - loss: 0.1619 - val_accuracy: 0.9200 - val_loss: 0.2443\n",
            "Epoch 11/20\n",
            "\u001b[1m1500/1500\u001b[0m \u001b[32m━━━━━━━━━━━━━━━━━━━━\u001b[0m\u001b[37m\u001b[0m \u001b[1m7s\u001b[0m 5ms/step - accuracy: 0.9450 - loss: 0.1462 - val_accuracy: 0.9222 - val_loss: 0.2271\n"
          ]
        }
      ]
    },
    {
      "cell_type": "code",
      "source": [
        "import matplotlib.pyplot as plt\n",
        "plt.plot(history.history['loss'])\n",
        "plt.plot(history.history['val_loss'])\n",
        "plt.xlabel('epoch')\n",
        "plt.ylabel('score')\n",
        "plt.legend(['train_score','val_score'])"
      ],
      "metadata": {
        "colab": {
          "base_uri": "https://localhost:8080/",
          "height": 467
        },
        "id": "JPprTbz7QaoM",
        "outputId": "ce9a46fd-2a9f-406b-f10d-929087eef1f4"
      },
      "execution_count": 3,
      "outputs": [
        {
          "output_type": "execute_result",
          "data": {
            "text/plain": [
              "<matplotlib.legend.Legend at 0x7a5002369e90>"
            ]
          },
          "metadata": {},
          "execution_count": 3
        },
        {
          "output_type": "display_data",
          "data": {
            "text/plain": [
              "<Figure size 640x480 with 1 Axes>"
            ],
            "image/png": "[encoded data removed]"
          },
          "metadata": {}
        }
      ]
    },
    {
      "cell_type": "code",
      "source": [
        "#validation\n",
        "model.evaluate(val_scaled, val_target)\n",
        "\n",
        "#하나만 예측해보기\n",
        "preds = model.predict(val_scaled[0:1])\n",
        "print(preds)\n",
        "\n",
        "#test\n",
        "test_scaled = test_input.reshape(-1, 28, 28, 1) / 255.0\n",
        "model.evaluate(test_scaled, test_target)"
      ],
      "metadata": {
        "colab": {
          "base_uri": "https://localhost:8080/"
        },
        "id": "T_Jbw8dKRJ2h",
        "outputId": "c4299381-f573-4b24-83be-6700b3b8b554"
      },
      "execution_count": 6,
      "outputs": [
        {
          "output_type": "stream",
          "name": "stdout",
          "text": [
            "\u001b[1m375/375\u001b[0m \u001b[32m━━━━━━━━━━━━━━━━━━━━\u001b[0m\u001b[37m\u001b[0m \u001b[1m1s\u001b[0m 2ms/step - accuracy: 0.9260 - loss: 0.2093\n",
            "\u001b[1m1/1\u001b[0m \u001b[32m━━━━━━━━━━━━━━━━━━━━\u001b[0m\u001b[37m\u001b[0m \u001b[1m0s\u001b[0m 30ms/step\n",
            "[[5.7000313e-21 1.5612622e-32 1.9322062e-27 4.7848910e-24 9.6850711e-27\n",
            "  5.0924851e-22 2.3577037e-24 9.8165877e-21 1.0000000e+00 1.2071553e-23]]\n",
            "\u001b[1m313/313\u001b[0m \u001b[32m━━━━━━━━━━━━━━━━━━━━\u001b[0m\u001b[37m\u001b[0m \u001b[1m1s\u001b[0m 2ms/step - accuracy: 0.9117 - loss: 0.2475\n"
          ]
        },
        {
          "output_type": "execute_result",
          "data": {
            "text/plain": [
              "[0.24111433327198029, 0.9132999777793884]"
            ]
          },
          "metadata": {},
          "execution_count": 6
        }
      ]
    },
    {
      "cell_type": "markdown",
      "source": [
        "#3 시작"
      ],
      "metadata": {
        "id": "Zq2bvkc_Qv8D"
      }
    },
    {
      "cell_type": "code",
      "execution_count": 9,
      "metadata": {
        "colab": {
          "base_uri": "https://localhost:8080/"
        },
        "id": "sRNpND1WM-Yx",
        "outputId": "77f8b4a4-4ade-43e0-ba16-acec7bf95848"
      },
      "outputs": [
        {
          "output_type": "stream",
          "name": "stderr",
          "text": [
            "WARNING:absl:Compiled the loaded model, but the compiled metrics have yet to be built. `model.compile_metrics` will be empty until you train or evaluate the model.\n"
          ]
        },
        {
          "output_type": "execute_result",
          "data": {
            "text/plain": [
              "[<Conv2D name=conv2d, built=True>,\n",
              " <MaxPooling2D name=max_pooling2d, built=True>,\n",
              " <Conv2D name=conv2d_1, built=True>,\n",
              " <MaxPooling2D name=max_pooling2d_1, built=True>,\n",
              " <Flatten name=flatten, built=True>,\n",
              " <Dense name=dense, built=True>,\n",
              " <Dropout name=dropout, built=True>,\n",
              " <Dense name=dense_1, built=True>]"
            ]
          },
          "metadata": {},
          "execution_count": 9
        }
      ],
      "source": [
        "from tensorflow import keras\n",
        "model = keras.models.load_model('best-cnn-model.h5')\n",
        "model.layers"
      ]
    },
    {
      "cell_type": "code",
      "source": [
        "print(\"첫 번째 Conv2D의 가중치 개수 : \", len(model.layers[0].weights))\n",
        "print(model.layers[0].weights)"
      ],
      "metadata": {
        "colab": {
          "base_uri": "https://localhost:8080/"
        },
        "id": "tdIude1gRn7J",
        "outputId": "1a3932f7-56bb-470e-e703-e02455e39b77"
      },
      "execution_count": 25,
      "outputs": [
        {
          "output_type": "stream",
          "name": "stdout",
          "text": [
            "첫 번째 Conv2D의 가중치 개수 :  2\n",
            "[<Variable path=sequential/conv2d/kernel, shape=(3, 3, 1, 32), dtype=float32, value=[[[[-1.51590824e-01 -2.38276601e-01  2.35222101e-01  1.55228535e-02\n",
            "    -5.25785685e-02 -2.30600476e-01  1.62749976e-01 -1.52378008e-01\n",
            "    -2.60827124e-01  5.19526154e-02  1.22606412e-01  2.08351105e-01\n",
            "     2.38377787e-02  1.29977375e-01 -9.91062000e-02  2.86606401e-02\n",
            "    -1.08684003e-01  6.44988790e-02 -4.67184447e-02 -2.77188867e-01\n",
            "     1.12915508e-01 -1.24727368e-01 -2.13331550e-01  2.45231703e-01\n",
            "    -1.82747573e-01 -7.75228590e-02 -2.00542122e-01  2.09664941e-01\n",
            "    -3.32334518e-01 -2.40086392e-02  2.05315933e-01 -1.68852794e+00]]\n",
            "\n",
            "  [[-2.06189156e-01 -1.26895621e-01  3.16703647e-01 -1.63928568e-01\n",
            "    -9.97564290e-03 -1.75875947e-02  1.79206833e-01  2.67893374e-01\n",
            "    -8.68629757e-03  1.61755383e-01 -4.76084724e-02  2.62293845e-01\n",
            "     7.44446591e-02 -1.01385944e-01  3.03042561e-01 -9.46252048e-02\n",
            "     1.29189655e-01 -3.67558450e-02 -1.15205914e-01 -1.64599776e-01\n",
            "    -9.96239260e-02  2.72954494e-01  1.55253872e-01 -3.72315973e-01\n",
            "     1.76816359e-01 -2.12488160e-01  1.01811782e-01 -1.73168957e-01\n",
            "    -2.66266819e-02  6.58231527e-02  2.09593073e-01 -2.26755053e-01]]\n",
            "\n",
            "  [[ 1.87210947e-01 -8.76505300e-03  2.88064510e-01 -3.17068279e-01\n",
            "    -4.22404557e-02 -2.53921032e-01  3.27845626e-02 -8.34827572e-02\n",
            "     2.74336576e-01  1.20258830e-01 -1.53130382e-01  7.72643611e-02\n",
            "    -7.61306286e-02  3.85258091e-03 -1.87899143e-01  9.34530124e-02\n",
            "     6.39388785e-02  8.04839283e-02  2.27980271e-01 -2.07579359e-02\n",
            "    -4.28055435e-01  2.61677355e-01  1.43359736e-01 -3.02046508e-01\n",
            "     5.31336144e-02  4.40807641e-02  1.09012246e-01 -2.65962094e-01\n",
            "     4.55794409e-02 -5.25857471e-02  4.32687216e-02  2.79751688e-01]]]\n",
            "\n",
            "\n",
            " [[[-2.19661910e-02  2.06235796e-01  6.23883195e-02  5.51203080e-02\n",
            "    -1.93719625e-01  1.97639883e-01  2.96637192e-02  4.06240076e-02\n",
            "    -9.81551185e-02 -1.86745133e-02  5.88303022e-02 -6.27414510e-02\n",
            "     1.56468019e-01  2.83890873e-01  2.29512095e-01  1.63605139e-01\n",
            "    -3.01906765e-01  3.23495090e-01  2.64553696e-01  1.06810495e-01\n",
            "     1.47857666e-01  1.86056852e-01 -3.51650506e-01  6.58023357e-02\n",
            "    -4.23786581e-01  2.11121500e-01 -2.64986336e-01  2.87297010e-01\n",
            "    -3.86274233e-02 -1.02753155e-01  4.75835502e-01 -1.79068720e+00]]\n",
            "\n",
            "  [[-4.51722503e-01  1.13946907e-01 -2.01406628e-01 -1.96267009e-01\n",
            "    -8.76844078e-02  2.23433539e-01  5.25616370e-02  3.36729616e-01\n",
            "     2.89912522e-01  5.49677871e-02  2.75073469e-01 -1.16469683e-02\n",
            "    -3.64572525e-01 -8.57373625e-02 -1.65155251e-02  6.93353340e-02\n",
            "     6.61454573e-02 -3.20716918e-01 -1.64022192e-01  2.70477980e-01\n",
            "     3.83881390e-01 -1.39519274e-01  1.83612734e-01  2.51170874e-01\n",
            "     1.84856534e-01  2.37179063e-02  3.22156936e-01  1.48429535e-02\n",
            "     4.74511608e-02  1.73529625e-01 -2.68393159e-01 -3.34359437e-01]]\n",
            "\n",
            "  [[-1.96199827e-02  2.60096099e-02 -6.42885566e-02 -3.56702805e-01\n",
            "     2.77824998e-01  2.36232951e-01  1.63253486e-01 -3.01153332e-01\n",
            "    -1.85520411e-01  2.83090293e-01  9.26234573e-02  1.45314366e-01\n",
            "     2.01746330e-01 -2.06758738e-01 -2.05805510e-01 -4.66088541e-02\n",
            "     2.58448541e-01  2.68898457e-02 -2.02575386e-01  1.63383052e-01\n",
            "    -4.25475184e-03 -9.14744258e-01  5.38285673e-02  2.27681473e-01\n",
            "     2.46220142e-01 -1.61102027e-01 -7.24228770e-02 -2.80685008e-01\n",
            "     1.37521788e-01 -5.23574129e-02 -2.87746519e-01  8.76697898e-03]]]\n",
            "\n",
            "\n",
            " [[[ 2.97317475e-01  1.04957491e-01 -3.38056803e-01  1.65325344e-01\n",
            "    -1.60944834e-01  8.76656733e-03 -2.77864467e-02  3.91754247e-02\n",
            "     3.34027499e-01 -2.91909546e-01 -2.62378782e-01 -1.09471507e-01\n",
            "    -1.96166709e-01  8.41952264e-02  2.87593007e-01 -1.27522036e-01\n",
            "    -1.92194447e-01  2.60848731e-01 -2.24342942e-01 -2.99354326e-02\n",
            "    -2.28271753e-01  1.90138191e-01 -2.43552223e-01  7.93384667e-03\n",
            "    -2.26424307e-01 -1.87209859e-01 -9.92012247e-02  1.82509542e-01\n",
            "     5.04620634e-02  6.30979240e-02 -2.92991340e-01  3.71929109e-02]]\n",
            "\n",
            "  [[-1.31509483e-01  1.45318598e-01 -1.89771920e-01  2.38727406e-01\n",
            "     7.14985281e-02 -2.40868166e-01  7.54989833e-02  1.18327275e-01\n",
            "    -3.11314493e-01 -2.87756324e-01  4.95403865e-03  7.06207519e-03\n",
            "    -2.25527614e-01  2.19028309e-01 -2.88616478e-01 -1.14021331e-01\n",
            "    -1.82192355e-01 -3.54228586e-01  2.47288793e-01  8.54009241e-02\n",
            "     1.72039524e-01 -7.75889233e-02  2.29806438e-01 -1.57876849e-01\n",
            "     9.85356718e-02  1.38641253e-01  2.69654691e-01  1.17661513e-01\n",
            "    -1.41829655e-01  4.14080843e-02 -1.61365533e+00  2.73013204e-01]]\n",
            "\n",
            "  [[ 2.27789834e-01  8.76877606e-02 -1.52053609e-01  2.70728648e-01\n",
            "     2.14342132e-01 -3.07257213e-02 -1.43997222e-01 -2.51844078e-01\n",
            "    -1.42352402e-01  2.49486491e-01 -9.45021287e-02 -5.02755716e-02\n",
            "     3.75754416e-01 -3.24506372e-01  6.01455104e-03 -1.26913339e-01\n",
            "     3.37576479e-01  4.93472023e-03 -5.87416850e-02 -2.62809008e-01\n",
            "     5.38802997e-04 -6.07391417e-01  9.81108919e-02  1.66767351e-02\n",
            "     1.13409922e-01  1.10310115e-01 -1.86779067e-01  2.34707016e-02\n",
            "     1.47795439e-01 -2.13704050e-01 -1.26820040e+00  1.24208242e-01]]]]>, <Variable path=sequential/conv2d/bias, shape=(32,), dtype=float32, value=[-0.01382621 -0.03043183  0.00214074 -0.00182986 -0.0035586  -0.00608568\n",
            " -0.22576573 -0.0135407  -0.00352057 -0.2124708  -0.02996105 -0.07355844\n",
            " -0.0122491  -0.01421951 -0.01190527 -0.03177269 -0.00888699 -0.02927379\n",
            " -0.00796301 -0.00305348 -0.01986238  0.02383592 -0.00492128 -0.00135016\n",
            " -0.00669773  0.01083712 -0.00347319 -0.08179881 -0.09056189 -0.08060258\n",
            "  0.10811197  0.14277028]>]\n"
          ]
        }
      ]
    },
    {
      "cell_type": "code",
      "source": [
        "print(\"첫 번째 가중치의 shape : \", model.layers[0].weights[0].shape)\n",
        "print(\"두 번째 가중치의 shape : \", model.layers[0].weights[1].shape)"
      ],
      "metadata": {
        "colab": {
          "base_uri": "https://localhost:8080/"
        },
        "id": "DgAce0RFTf9H",
        "outputId": "eed5d8f7-70e7-4f51-ede7-c4547ac9aa77"
      },
      "execution_count": 26,
      "outputs": [
        {
          "output_type": "stream",
          "name": "stdout",
          "text": [
            "첫 번째 가중치의 shape :  (3, 3, 1, 32)\n",
            "두 번째 가중치의 shape :  (32,)\n"
          ]
        }
      ]
    },
    {
      "cell_type": "code",
      "source": [
        "conv_weights = model.layers[0].weights[0].numpy()\n",
        "print(conv_weights.mean(), conv_weights.std())"
      ],
      "metadata": {
        "colab": {
          "base_uri": "https://localhost:8080/"
        },
        "id": "swMDuDRNRpju",
        "outputId": "e0080b35-a377-486e-e229-c9ba2b80d4a0"
      },
      "execution_count": 27,
      "outputs": [
        {
          "output_type": "stream",
          "name": "stdout",
          "text": [
            "-0.02279224 0.2750822\n"
          ]
        }
      ]
    },
    {
      "cell_type": "code",
      "source": [
        "import matplotlib.pyplot as plt\n",
        "plt.hist(model.layers[0].weights[0].numpy().reshape(-1,1))"
      ],
      "metadata": {
        "colab": {
          "base_uri": "https://localhost:8080/",
          "height": 521
        },
        "id": "OCVJl5NuU0Cy",
        "outputId": "71f158ad-c1b6-4291-fa18-bd21fef3f1d0"
      },
      "execution_count": 35,
      "outputs": [
        {
          "output_type": "execute_result",
          "data": {
            "text/plain": [
              "(array([  3.,   0.,   1.,   1.,   0.,   2.,  47.,  94., 106.,  34.]),\n",
              " array([-1.7906872 , -1.56403494, -1.33738267, -1.11073041, -0.88407815,\n",
              "        -0.65742588, -0.43077359, -0.20412131,  0.02253096,  0.24918324,\n",
              "         0.4758355 ]),\n",
              " <BarContainer object of 10 artists>)"
            ]
          },
          "metadata": {},
          "execution_count": 35
        },
        {
          "output_type": "display_data",
          "data": {
            "text/plain": [
              "<Figure size 640x480 with 1 Axes>"
            ],
            "image/png": "[encoded data removed]"
          },
          "metadata": {}
        }
      ]
    },
    {
      "cell_type": "code",
      "source": [],
      "metadata": {
        "id": "oN1SByH9U3cJ"
      },
      "execution_count": null,
      "outputs": []
    }
  ]
}