{
  "nbformat": 4,
  "nbformat_minor": 0,
  "metadata": {
    "colab": {
      "provenance": [],
      "authorship_tag": "ABX9TyNkQIS83Emzhwa+aRivuIhf",
      "include_colab_link": true
    },
    "kernelspec": {
      "name": "python3",
      "display_name": "Python 3"
    },
    "language_info": {
      "name": "python"
    }
  },
  "cells": [
    {
      "cell_type": "markdown",
      "metadata": {
        "id": "view-in-github",
        "colab_type": "text"
      },
      "source": [
        "<a href=\"https://colab.research.google.com/github/leejunho12316/HonGongMachine/blob/main/%ED%98%BC%EA%B3%B5%EB%A8%B8%EC%8B%A0_%EB%B3%B5%EC%8A%B5/%ED%98%BC%EA%B3%B5%EB%A8%B8%EC%8B%A0_5_2_%EB%B3%B5%EC%8A%B5.ipynb\" target=\"_parent\"><img src=\"https://colab.research.google.com/assets/colab-badge.svg\" alt=\"Open In Colab\"/></a>"
      ]
    },
    {
      "cell_type": "code",
      "execution_count": 15,
      "metadata": {
        "id": "neKemCRVBiyC"
      },
      "outputs": [],
      "source": [
        "import pandas as pd\n",
        "wine = pd.read_csv(\"https://bit.ly/wine_csv_data\")\n",
        "wine_input = wine[['alcohol','sugar','pH']].to_numpy()\n",
        "wine_target = wine['class'].to_numpy()"
      ]
    },
    {
      "cell_type": "code",
      "source": [
        "from sklearn.model_selection import train_test_split\n",
        "train_input, test_input, train_target, test_target = train_test_split(wine_input, wine_target, test_size = 0.2, random_state = 42)\n",
        "sub_input, val_input, sub_target, val_target = train_test_split(train_input, train_target, test_size = 0.25, random_state = 42)"
      ],
      "metadata": {
        "id": "NalbXRhCCKkS"
      },
      "execution_count": 16,
      "outputs": []
    },
    {
      "cell_type": "code",
      "source": [
        "print(sub_input.shape, test_input.shape, val_input.shape)"
      ],
      "metadata": {
        "colab": {
          "base_uri": "https://localhost:8080/"
        },
        "id": "nzvySCy8C06e",
        "outputId": "f5a31589-22c3-4a5b-e95e-d639011fcf32"
      },
      "execution_count": 17,
      "outputs": [
        {
          "output_type": "stream",
          "name": "stdout",
          "text": [
            "(3897, 3) (1300, 3) (1300, 3)\n"
          ]
        }
      ]
    },
    {
      "cell_type": "code",
      "source": [
        "from sklearn.tree import DecisionTreeClassifier\n",
        "dt = DecisionTreeClassifier(random_state = 42)\n",
        "dt.fit(sub_input, sub_target)\n",
        "\n",
        "print(dt.score(sub_input, sub_target))\n",
        "print(dt.score(test_input, test_target))\n",
        "print(dt.score(val_input, val_target))"
      ],
      "metadata": {
        "colab": {
          "base_uri": "https://localhost:8080/"
        },
        "id": "AtHQr4a9EwsM",
        "outputId": "893956e9-70d3-46d3-cb13-e823aa01b0ea"
      },
      "execution_count": 18,
      "outputs": [
        {
          "output_type": "stream",
          "name": "stdout",
          "text": [
            "0.9969207082371054\n",
            "0.8423076923076923\n",
            "0.86\n"
          ]
        }
      ]
    },
    {
      "cell_type": "markdown",
      "source": [
        "교차 검증"
      ],
      "metadata": {
        "id": "XVWcyOAwJrfZ"
      }
    },
    {
      "cell_type": "code",
      "source": [
        "from sklearn.model_selection import cross_validate\n",
        "from sklearn.model_selection import StratifiedKFold\n",
        "import numpy as np\n",
        "\n",
        "def print_scores(scores):\n",
        "  print(\"fit_time: \", scores['fit_time'])\n",
        "  print(\"score_time: \", scores['score_time'])\n",
        "  print(\"test_score: \", scores['test_score'])\n",
        "  print(\"평균 점수 : \", np.mean(scores['test_score']))\n",
        "  print()\n",
        "\n",
        "splitter = StratifiedKFold(n_splits = 30, shuffle=True, random_state = 42)\n",
        "\n",
        "print(\"원본 데이터로 교차검증\")\n",
        "scores = cross_validate(dt, wine_input, wine_target, cv = splitter)\n",
        "print_scores(scores)\n",
        "\n",
        "print(\"훈련 데이터로 교차검증\")\n",
        "scores = cross_validate(dt, sub_input, sub_target, cv = splitter)\n",
        "print_scores(scores)\n",
        "\n",
        "print(\"테스트 데이터로 교차검증\")\n",
        "scores = cross_validate(dt, test_input, test_target, cv = splitter)\n",
        "print_scores(scores)\n",
        "\n",
        "print(\"검증 데이터로 교차검증\")\n",
        "scores = cross_validate(dt, val_input, val_target, cv = splitter)\n",
        "print_scores(scores)"
      ],
      "metadata": {
        "colab": {
          "base_uri": "https://localhost:8080/"
        },
        "id": "zQf4gh9HE-zh",
        "outputId": "920123a5-0483-49e9-a7ab-538402069db9"
      },
      "execution_count": 38,
      "outputs": [
        {
          "output_type": "stream",
          "name": "stdout",
          "text": [
            "원본 데이터로 교차검증\n",
            "fit_time:  [0.0183835  0.01951265 0.01886559 0.01800656 0.01846576 0.0179224\n",
            " 0.01794362 0.01804018 0.01789188 0.01771665 0.02099156 0.01811147\n",
            " 0.01816821 0.01731873 0.02057934 0.01765013 0.0176127  0.01745415\n",
            " 0.01784205 0.01780224 0.01976919 0.02316642 0.01884127 0.02109218\n",
            " 0.01773596 0.01781249 0.01813364 0.01774359 0.01776266 0.01827502]\n",
            "score_time:  [0.00161815 0.00183344 0.00170708 0.00180817 0.00174665 0.00168872\n",
            " 0.00169182 0.00174785 0.00151587 0.00171494 0.00159669 0.00166106\n",
            " 0.00166202 0.00161648 0.00161886 0.00166631 0.00172687 0.0017705\n",
            " 0.00162339 0.00162196 0.00182462 0.00162601 0.00164127 0.00158548\n",
            " 0.00169063 0.00168562 0.00178099 0.00163484 0.0028646  0.00160122]\n",
            "test_score:  [0.87557604 0.88479263 0.86635945 0.88479263 0.90322581 0.85253456\n",
            " 0.9124424  0.86175115 0.87557604 0.87557604 0.86175115 0.88940092\n",
            " 0.86175115 0.86635945 0.84331797 0.88940092 0.87096774 0.84722222\n",
            " 0.93055556 0.87962963 0.85648148 0.87037037 0.88888889 0.88888889\n",
            " 0.89351852 0.87037037 0.85185185 0.85185185 0.88425926 0.86574074]\n",
            "평균 점수 :  0.875173522216533\n",
            "\n",
            "훈련 데이터로 교차검증\n",
            "fit_time:  [0.0110693  0.0106802  0.01166964 0.01105475 0.01114345 0.01127338\n",
            " 0.01180315 0.01264644 0.01148105 0.01127601 0.01096225 0.01135468\n",
            " 0.01154685 0.01122522 0.01071501 0.01496315 0.01092434 0.01129007\n",
            " 0.01194739 0.01094127 0.01081657 0.01140738 0.01113248 0.01095843\n",
            " 0.01125813 0.01105118 0.01101518 0.01065445 0.01104856 0.01109195]\n",
            "score_time:  [0.00153947 0.00142384 0.00154042 0.00140977 0.00141191 0.00162911\n",
            " 0.00152898 0.00153708 0.00140071 0.00145936 0.00152373 0.00172472\n",
            " 0.00143623 0.00148821 0.00178313 0.00166202 0.00166345 0.00142598\n",
            " 0.00140953 0.00159097 0.00139689 0.00163698 0.00160217 0.00162244\n",
            " 0.00155091 0.00146627 0.00147414 0.00156999 0.00158167 0.00147057]\n",
            "test_score:  [0.85384615 0.82307692 0.88461538 0.84615385 0.81538462 0.86923077\n",
            " 0.9        0.83846154 0.86923077 0.83846154 0.79230769 0.8\n",
            " 0.81538462 0.88461538 0.84615385 0.86923077 0.8        0.86153846\n",
            " 0.83846154 0.84615385 0.86923077 0.87692308 0.78461538 0.79230769\n",
            " 0.89230769 0.84615385 0.78461538 0.82170543 0.79844961 0.89147287]\n",
            "평균 점수 :  0.8416696481812761\n",
            "\n",
            "테스트 데이터로 교차검증\n",
            "fit_time:  [0.01042867 0.00526047 0.00546718 0.00501752 0.00513053 0.00515079\n",
            " 0.00524068 0.00543523 0.00494385 0.00538588 0.00501132 0.00524044\n",
            " 0.00511003 0.00533748 0.00516915 0.00520682 0.00918388 0.00521111\n",
            " 0.0052321  0.00505996 0.00511503 0.00498581 0.00649524 0.00446725\n",
            " 0.0034647  0.00341988 0.00425673 0.00552464 0.00420237 0.00395679]\n",
            "score_time:  [0.00196052 0.00125742 0.00135803 0.00148916 0.00127268 0.00130177\n",
            " 0.00140405 0.00127411 0.0014987  0.00138187 0.00140214 0.00136662\n",
            " 0.001436   0.00128722 0.00132155 0.00126314 0.00137329 0.00140309\n",
            " 0.00141358 0.00129414 0.00144601 0.00282669 0.00129747 0.00089908\n",
            " 0.00083208 0.0008142  0.00144506 0.00120306 0.0009551  0.00086164]\n",
            "test_score:  [0.90909091 0.75       0.79545455 0.90909091 0.93181818 0.86363636\n",
            " 0.77272727 0.86363636 0.75       0.86363636 0.81395349 0.95348837\n",
            " 0.72093023 0.79069767 0.90697674 0.76744186 0.79069767 0.76744186\n",
            " 0.88372093 0.79069767 0.97674419 0.76744186 0.79069767 0.88372093\n",
            " 0.86046512 0.90697674 0.79069767 0.86046512 0.93023256 0.81395349]\n",
            "평균 점수 :  0.8392177589852009\n",
            "\n",
            "검증 데이터로 교차검증\n",
            "fit_time:  [0.00355411 0.00328469 0.00317073 0.00324082 0.00326419 0.00318909\n",
            " 0.00318646 0.00317955 0.00323915 0.0032022  0.00312424 0.0031662\n",
            " 0.00322986 0.00335836 0.0030992  0.00335884 0.00312304 0.00328565\n",
            " 0.00341558 0.00322032 0.00315118 0.00338411 0.00320196 0.00324178\n",
            " 0.00337911 0.00317121 0.00328994 0.00327468 0.00318122 0.00329423]\n",
            "score_time:  [0.00081754 0.00076628 0.00078583 0.00077534 0.00078034 0.00075269\n",
            " 0.00076771 0.00088406 0.00077081 0.00074291 0.00076509 0.00080228\n",
            " 0.0007906  0.00077105 0.00077891 0.00086474 0.00080228 0.0010078\n",
            " 0.00096202 0.0008626  0.00081015 0.00081301 0.0008316  0.00084209\n",
            " 0.0008347  0.00077343 0.00079608 0.00075555 0.00083494 0.00075555]\n",
            "test_score:  [0.79545455 0.77272727 0.79545455 0.77272727 0.90909091 0.79545455\n",
            " 0.84090909 0.84090909 0.88636364 0.81818182 0.93023256 0.86046512\n",
            " 0.8372093  0.88372093 0.88372093 0.86046512 0.79069767 0.88372093\n",
            " 0.93023256 0.76744186 0.74418605 0.90697674 0.90697674 0.90697674\n",
            " 0.86046512 0.81395349 0.8372093  0.86046512 0.8372093  0.79069767]\n",
            "평균 점수 :  0.8440098661028894\n",
            "\n"
          ]
        }
      ]
    },
    {
      "cell_type": "markdown",
      "source": [
        "하이퍼파라미터 튜닝"
      ],
      "metadata": {
        "id": "5x97XlSbFdb0"
      }
    },
    {
      "cell_type": "code",
      "source": [
        "from sklearn.tree import DecisionTreeClassifier\n",
        "from sklearn.model_selection import StratifiedKFold\n",
        "from sklearn.model_selection import GridSearchCV\n",
        "\n",
        "#그리드 서치 파라미터 한 개\n",
        "dt = DecisionTreeClassifier(random_state = 42)\n",
        "splitter = StratifiedKFold(n_splits = 10, shuffle = True, random_state = 42)\n",
        "\n",
        "params = {'min_impurity_decrease' : [0.001, 0.002, 0.003, 0.004, 0.005]}\n",
        "gs = GridSearchCV(dt, params, n_jobs = -1, cv = splitter)\n",
        "gs.fit(train_input, train_target)\n",
        "\n",
        "\n",
        "print(\"all_scores : \", gs.cv_results_['mean_test_score'])\n",
        "print(\"best_parameter ; \", gs.best_params_)\n",
        "dt = gs.best_estimator_\n",
        "print(\"score : \", dt.score(train_input, train_target))"
      ],
      "metadata": {
        "colab": {
          "base_uri": "https://localhost:8080/"
        },
        "id": "cgNWrhnqJvNO",
        "outputId": "afc9b1d1-fcd6-4162-be7f-bc40df6a9a1a"
      },
      "execution_count": 55,
      "outputs": [
        {
          "output_type": "stream",
          "name": "stdout",
          "text": [
            "all_scores :  [0.86088076 0.85375908 0.85240996 0.85029235 0.84875389]\n",
            "best_parameter ;  {'min_impurity_decrease': 0.001}\n",
            "score :  0.8724263998460651\n"
          ]
        }
      ]
    },
    {
      "cell_type": "code",
      "source": [
        "#그리드 서치 파라미터 여러 개\n",
        "dt = DecisionTreeClassifier(random_state = 42)\n",
        "spltiter = StratifiedKFold(n_splits = 10, shuffle = True, random_state = 42)\n",
        "\n",
        "params = {'min_impurity_decrease' : np.arange(0.0001, 0.001, 0.0011),\n",
        "          'max_depth' : range(5, 20, 1),\n",
        "          'min_samples_split' : range(2, 100, 10)}\n",
        "gs = GridSearchCV(dt, params, n_jobs = -1, cv = splitter)\n",
        "gs.fit(train_input, train_target)\n",
        "\n",
        "print(\"all_scores : \", gs.cv_results_['mean_test_score'])\n",
        "print(\"best_parameter : \", gs.best_params_)\n",
        "dt = gs.best_estimator_\n",
        "print(\"score : \", dt.score(train_input, train_target))"
      ],
      "metadata": {
        "colab": {
          "base_uri": "https://localhost:8080/"
        },
        "id": "zBrZR_ofK4eL",
        "outputId": "e14e6643-4f0c-40eb-a4c8-285a553f43ca"
      },
      "execution_count": 56,
      "outputs": [
        {
          "output_type": "stream",
          "name": "stdout",
          "text": [
            "all_scores :  [0.85395139 0.85395139 0.85395139 0.85414406 0.85433674 0.85452942\n",
            " 0.85452942 0.85472173 0.85472173 0.85510708 0.85741292 0.85702794\n",
            " 0.85702868 0.85702868 0.85799096 0.85837706 0.85895472 0.85857122\n",
            " 0.85857085 0.8589562  0.85895472 0.85895472 0.85876278 0.86030273\n",
            " 0.86184193 0.86242033 0.86280569 0.86242219 0.86261375 0.86299911\n",
            " 0.85895991 0.85915333 0.85799837 0.8591511  0.86184452 0.86242256\n",
            " 0.86261561 0.86184749 0.86261598 0.86300133 0.85895731 0.85684156\n",
            " 0.85530199 0.85838039 0.86049652 0.86088224 0.8612676  0.86088484\n",
            " 0.86165333 0.86184638 0.86280643 0.8560727  0.85549578 0.85934526\n",
            " 0.86165296 0.8622321  0.86126908 0.86069364 0.86146213 0.86107789\n",
            " 0.86049948 0.85645509 0.85587891 0.85953609 0.86107455 0.86107677\n",
            " 0.86107603 0.86011598 0.86126871 0.86088447 0.86684638 0.85895768\n",
            " 0.85664888 0.8603068  0.86280754 0.8630017  0.86126908 0.85992367\n",
            " 0.8608841  0.86069216 0.86434489 0.85761153 0.85703498 0.85953831\n",
            " 0.86223099 0.86242515 0.86049985 0.85934675 0.86030717 0.86011524\n",
            " 0.86819179 0.85992033 0.85876723 0.86011524 0.86261598 0.86261746\n",
            " 0.86069216 0.85953905 0.86030717 0.86011524 0.87050207 0.86049689\n",
            " 0.85857344 0.86050059 0.86261598 0.86223284 0.86030754 0.85953905\n",
            " 0.86030717 0.86011524 0.86857937 0.85991996 0.85857381 0.86030829\n",
            " 0.86261598 0.86223284 0.86030754 0.85953905 0.86030717 0.86011524\n",
            " 0.87165703 0.86069031 0.85818808 0.86030829 0.86261598 0.86223284\n",
            " 0.86030754 0.85953905 0.86030717 0.86011524 0.86838706 0.86107529\n",
            " 0.85857344 0.86030829 0.86261598 0.86223284 0.86030754 0.85953905\n",
            " 0.86030717 0.86011524 0.86838743 0.86068994 0.85857344 0.86030829\n",
            " 0.86261598 0.86223284 0.86030754 0.85953905 0.86030717 0.86011524]\n",
            "best_parameter :  {'max_depth': 17, 'min_impurity_decrease': 0.0001, 'min_samples_split': 2}\n",
            "score :  0.9609390032711179\n"
          ]
        }
      ]
    },
    {
      "cell_type": "code",
      "source": [
        "from scipy.stats import uniform, randint\n",
        "from sklearn.model_selection import RandomizedSearchCV\n",
        "from sklearn.tree import DecisionTreeClassifier\n",
        "from sklearn.model_selection import StratifiedKFold\n",
        "\n",
        "params = {\n",
        "    'min_impurity_decrease' : uniform(0.0001, 0.001),\n",
        "    'max_depth' : randint(20,50),\n",
        "    'min_samples_split' : randint(2,25),\n",
        "    'min_samples_leaf' : randint(1,25)\n",
        "}\n",
        "\n",
        "splitter = StratifiedKFold(n_splits = 10, shuffle = True, random_state = 42)\n",
        "\n",
        "dt = DecisionTreeClassifier(random_state = 42)\n",
        "rs = RandomizedSearchCV(dt, params, n_iter = 100, n_jobs = -1, random_state = 42, cv=splitter)\n",
        "rs.fit(train_input, train_target)\n",
        "\n",
        "print(\"all_scores : \", rs.cv_results_['mean_test_score'])\n",
        "print(\"best_parameter : \", rs.best_params_)\n",
        "dt = rs.best_estimator_\n",
        "print(\"score : \", dt.score(train_input, train_target))"
      ],
      "metadata": {
        "colab": {
          "base_uri": "https://localhost:8080/"
        },
        "id": "AqnHYvPEOe-T",
        "outputId": "32937184-148a-48dc-cf41-41da0d050710"
      },
      "execution_count": 74,
      "outputs": [
        {
          "output_type": "stream",
          "name": "stdout",
          "text": [
            "all_scores :  [0.86107344 0.86165185 0.86472914 0.86183971 0.8608815  0.86434378\n",
            " 0.8616511  0.86145917 0.86318994 0.86396139 0.86165147 0.86107344\n",
            " 0.86280495 0.86260857 0.8610727  0.86125982 0.86376723 0.86492293\n",
            " 0.86010968 0.86241737 0.86164555 0.86165036 0.86241922 0.86222729\n",
            " 0.86203461 0.86549726 0.86318957 0.86010857 0.86222988 0.86338224\n",
            " 0.86357603 0.86318882 0.86261338 0.86491663 0.86453424 0.86280569\n",
            " 0.8622284  0.86318549 0.86068845 0.86145954 0.86145768 0.85972729\n",
            " 0.86088224 0.86088113 0.86068771 0.86299615 0.86261227 0.86126538\n",
            " 0.86088039 0.86280532 0.86222914 0.86165036 0.86242145 0.86145991\n",
            " 0.86184267 0.86184415 0.86280606 0.86010931 0.86088076 0.86261338\n",
            " 0.86646139 0.86107307 0.86184267 0.86184378 0.86049689 0.86030458\n",
            " 0.86280569 0.86376575 0.86280569 0.86107307 0.86126575 0.85837743\n",
            " 0.86376797 0.8601119  0.8631892  0.86010857 0.86107529 0.86357566\n",
            " 0.86164888 0.86145768 0.86338261 0.86626464 0.8651119  0.86107344\n",
            " 0.86030162 0.86184045 0.86049689 0.85914629 0.86376723 0.86703794\n",
            " 0.8610727  0.86318957 0.86280532 0.862998   0.86319142 0.86203646\n",
            " 0.86280569 0.86376834 0.86319068 0.85914666]\n",
            "best_parameter :  {'max_depth': 27, 'min_impurity_decrease': 0.0001704161308495439, 'min_samples_leaf': 18, 'min_samples_split': 16}\n",
            "score :  0.8907061766403694\n"
          ]
        }
      ]
    },
    {
      "cell_type": "code",
      "source": [
        "all_scores :  [0.86511513 0.86261235 0.86838528 0.86588547 0.86376731 0.86434497\n",
        " 0.86280503 0.86280484 0.86357592 0.86357555 0.86280503 0.8626142\n",
        " 0.86472977 0.86954283 0.86203543 0.86761827 0.86222884 0.86473033\n",
        " 0.86877082 0.86184423 0.86126657 0.86511494 0.8626142  0.86203543\n",
        " 0.86511476 0.86607722 0.86222773 0.86684682 0.86261309 0.86338436\n",
        " 0.8629977  0.86242171 0.86184478 0.86165211 0.86049808 0.86530706\n",
        " 0.86280521 0.86684775 0.86203524 0.86318983 0.86780947 0.86761624\n",
        " 0.86126694 0.86934867 0.86857889 0.86530743 0.86434497 0.86415303\n",
        " 0.86838602 0.86530688 0.86145813 0.86684626 0.8618446  0.86145961\n",
        " 0.86338454 0.86569131 0.86242152 0.86376805 0.86203543 0.86376916\n",
        " 0.86511457 0.86184275 0.86338454 0.86242004 0.86107481 0.86203654\n",
        " 0.86184478 0.86434552 0.86184478 0.86338473 0.86299993 0.8641534\n",
        " 0.86338269 0.85972662 0.86415303 0.86665433 0.86261253 0.86222884\n",
        " 0.86858111 0.86472903 0.86242097 0.86261457 0.86742448 0.86434497\n",
        " 0.86684682 0.86184423 0.86107481 0.86877193 0.86338362 0.86242171\n",
        " 0.8674243  0.86222773 0.86242004 0.86415414 0.86376805 0.86261272\n",
        " 0.86184478 0.86357518 0.86203635 0.86203691]\n",
        "best_parameter :  {'max_depth': 39, 'min_impurity_decrease': 0.00034102546602601173, 'min_samples_leaf': 7, 'min_samples_split': 13}\n",
        "score :  0.8928227823744468"
      ],
      "metadata": {
        "id": "VpFlAjgWR03f"
      },
      "execution_count": null,
      "outputs": []
    }
  ]
}
