{
  "nbformat": 4,
  "nbformat_minor": 0,
  "metadata": {
    "colab": {
      "provenance": [],
      "authorship_tag": "ABX9TyNlmxTVlRbB86fd4NWHuhq/",
      "include_colab_link": true
    },
    "kernelspec": {
      "name": "python3",
      "display_name": "Python 3"
    },
    "language_info": {
      "name": "python"
    }
  },
  "cells": [
    {
      "cell_type": "markdown",
      "metadata": {
        "id": "view-in-github",
        "colab_type": "text"
      },
      "source": [
        "<a href=\"https://colab.research.google.com/github/leejunho12316/HonGongMachine/blob/main/%ED%98%BC%EA%B3%B5%EB%A8%B8%EC%8B%A0_5_3_%ED%8A%B8%EB%A6%AC%EC%9D%98_%EC%95%99%EC%83%81%EB%B8%94.ipynb\" target=\"_parent\"><img src=\"https://colab.research.google.com/assets/colab-badge.svg\" alt=\"Open In Colab\"/></a>"
      ]
    },
    {
      "cell_type": "code",
      "execution_count": 1,
      "metadata": {
        "id": "ZYpZaBdgQaZ5"
      },
      "outputs": [],
      "source": [
        "import pandas as pd\n",
        "import numpy as np\n",
        "from sklearn.model_selection import train_test_split\n",
        "\n",
        "wine = pd.read_csv('https://bit.ly/wine_csv_data')\n",
        "wine_input = wine[['alcohol','sugar','pH']].to_numpy()\n",
        "wine_target = wine['class'].to_numpy()\n",
        "\n",
        "train_input, test_input, train_target, test_target = train_test_split(wine_input, wine_target, test_size = 0.2, random_state = 42)"
      ]
    },
    {
      "cell_type": "markdown",
      "source": [
        "#랜덤 포레스트"
      ],
      "metadata": {
        "id": "p0eu8kUyY11E"
      }
    },
    {
      "cell_type": "code",
      "source": [
        "from sklearn.ensemble import RandomForestClassifier\n",
        "\n",
        "rf = RandomForestClassifier(oob_score=True, n_jobs = -1)\n",
        "rf.fit(train_input, train_target)\n",
        "rf.score(train_input, train_target)"
      ],
      "metadata": {
        "colab": {
          "base_uri": "https://localhost:8080/"
        },
        "id": "4OXqh7w_Y3Ly",
        "outputId": "503d8ca5-aeca-4a50-cfb0-e43027e5f20a"
      },
      "execution_count": null,
      "outputs": [
        {
          "output_type": "execute_result",
          "data": {
            "text/plain": [
              "0.996921300750433"
            ]
          },
          "metadata": {},
          "execution_count": 21
        }
      ]
    },
    {
      "cell_type": "code",
      "source": [
        "print(rf.feature_importances_)\n",
        "print(rf.oob_score_)"
      ],
      "metadata": {
        "colab": {
          "base_uri": "https://localhost:8080/"
        },
        "id": "KmyDjYj2aer-",
        "outputId": "761597f2-56f2-401d-955d-6b84e9e30da6"
      },
      "execution_count": null,
      "outputs": [
        {
          "output_type": "stream",
          "name": "stdout",
          "text": [
            "[0.23673835 0.50033953 0.26292212]\n",
            "0.9001346930921685\n"
          ]
        }
      ]
    },
    {
      "cell_type": "markdown",
      "source": [
        "랜덤 포레스트 교차검증"
      ],
      "metadata": {
        "id": "mnMFubKcYyu-"
      }
    },
    {
      "cell_type": "code",
      "source": [
        "from sklearn.ensemble import RandomForestClassifier\n",
        "from sklearn.model_selection import cross_validate\n",
        "\n",
        "rf = RandomForestClassifier(oob_score = True, n_jobs = -1, random_state = 42)\n",
        "\n",
        "#교차 검증\n",
        "scores = cross_validate(rf, train_input, train_target,\n",
        "                        return_train_score = True, n_jobs = -1)\n",
        "print(\"train, test mean score :\", np.mean(scores['train_score']), np.mean(scores['test_score']))\n",
        "\n",
        "rf.fit(train_input, train_target)\n",
        "print(\"feature importances : \", rf.feature_importances_)\n",
        "print(\"OOB (out of bag) score :\", rf.oob_score_)"
      ],
      "metadata": {
        "colab": {
          "base_uri": "https://localhost:8080/"
        },
        "id": "jpS4uIFcVLwG",
        "outputId": "f26cb6ae-d342-47a6-99c8-a79c39f9e790"
      },
      "execution_count": null,
      "outputs": [
        {
          "output_type": "stream",
          "name": "stdout",
          "text": [
            "train, test mean score : 0.9973541965122431 0.8905151032797809\n",
            "feature importances :  [0.23167441 0.50039841 0.26792718]\n",
            "OOB (out of bag) score : 0.8934000384837406\n"
          ]
        }
      ]
    },
    {
      "cell_type": "markdown",
      "source": [
        "#엑스트라 트리"
      ],
      "metadata": {
        "id": "Fdj-DHZTV_-O"
      }
    },
    {
      "cell_type": "code",
      "source": [
        "from sklearn.ensemble import ExtraTreesClassifier\n",
        "from sklearn.model_selection import cross_validate\n",
        "\n",
        "et = ExtraTreesClassifier(n_jobs = -1, random_state = 42)\n",
        "\n",
        "#교차검증\n",
        "scores = cross_validate(et, train_input, train_target, return_train_score = True, n_jobs = -1)\n",
        "print(f\"train_score : {scores['train_score']}, test_score : {scores['test_score']}\")\n",
        "\n",
        "#출력\n",
        "et.fit(train_input, train_target)\n",
        "print(\"속성 중요도 : \", et.feature_importances_)\n",
        "print(\"테스트 점수 : \", et.score(test_input, test_target))"
      ],
      "metadata": {
        "colab": {
          "base_uri": "https://localhost:8080/"
        },
        "id": "GQTl9JsraHFg",
        "outputId": "fd528c12-b92b-413a-a44f-89447ab2bd75"
      },
      "execution_count": null,
      "outputs": [
        {
          "output_type": "stream",
          "name": "stdout",
          "text": [
            "train_score : [0.9971133  0.99663219 0.998076   0.997595   0.9978355 ], test_score : [0.88365385 0.87884615 0.90375361 0.88835419 0.88931665]\n",
            "속성 중요도 :  [0.20183568 0.52242907 0.27573525]\n",
            "테스트 점수 :  0.8861538461538462\n"
          ]
        }
      ]
    },
    {
      "cell_type": "markdown",
      "source": [
        "#그래디언트 부스팅"
      ],
      "metadata": {
        "id": "lpl9WeaKcaoK"
      }
    },
    {
      "cell_type": "code",
      "source": [
        "from sklearn.ensemble import GradientBoostingClassifier\n",
        "from sklearn.model_selection import cross_validate\n",
        "\n",
        "gb = GradientBoostingClassifier(n_estimators=500, random_state = 42)\n",
        "\n",
        "scores = cross_validate(gb, train_input, train_target,\n",
        "                        return_train_score = True, n_jobs = -1)\n",
        "\n",
        "print(np.mean(scores['train_score']), np.mean(scores['test_score']))\n",
        "\n"
      ],
      "metadata": {
        "id": "ZSANYFLNaHNb",
        "colab": {
          "base_uri": "https://localhost:8080/"
        },
        "outputId": "ad99b894-b0b3-4d1e-e74a-d4f71c419f0c"
      },
      "execution_count": 3,
      "outputs": [
        {
          "output_type": "stream",
          "name": "stdout",
          "text": [
            "0.9215896435285418 0.8749283704745687\n"
          ]
        }
      ]
    },
    {
      "cell_type": "markdown",
      "source": [
        "#히스토그램 기반 그래디언트 부스팅"
      ],
      "metadata": {
        "id": "onIjPAlzc78K"
      }
    },
    {
      "cell_type": "code",
      "source": [
        "from sklearn.experimental import enable_hist_gradient_boosting\n",
        "from sklearn.ensemble import HistGradientBoostingClassifier\n",
        "\n",
        "hgbc = HistGradientBoostingClassifier(random_state = 42)\n",
        "scores = cross_validate(hgbc, train_input, train_target, return_train_score = True)\n",
        "\n",
        "print(np.mean(scores['train_score']), np.mean(scores['test_score']))"
      ],
      "metadata": {
        "id": "2JW15dJRc8H8",
        "colab": {
          "base_uri": "https://localhost:8080/",
          "height": 221
        },
        "outputId": "e9fc1c07-bf14-404f-f48c-fe5fb300121f"
      },
      "execution_count": 12,
      "outputs": [
        {
          "output_type": "error",
          "ename": "NameError",
          "evalue": "name 'hgb' is not defined",
          "traceback": [
            "\u001b[0;31m---------------------------------------------------------------------------\u001b[0m",
            "\u001b[0;31mNameError\u001b[0m                                 Traceback (most recent call last)",
            "\u001b[0;32m<ipython-input-12-121330be087a>\u001b[0m in \u001b[0;36m<cell line: 0>\u001b[0;34m()\u001b[0m\n\u001b[1;32m      3\u001b[0m \u001b[0;34m\u001b[0m\u001b[0m\n\u001b[1;32m      4\u001b[0m \u001b[0mhgbc\u001b[0m \u001b[0;34m=\u001b[0m \u001b[0mHistGradientBoostingClassifier\u001b[0m\u001b[0;34m(\u001b[0m\u001b[0mrandom_state\u001b[0m \u001b[0;34m=\u001b[0m \u001b[0;36m42\u001b[0m\u001b[0;34m)\u001b[0m\u001b[0;34m\u001b[0m\u001b[0;34m\u001b[0m\u001b[0m\n\u001b[0;32m----> 5\u001b[0;31m \u001b[0mscores\u001b[0m \u001b[0;34m=\u001b[0m \u001b[0mcross_validate\u001b[0m\u001b[0;34m(\u001b[0m\u001b[0mhgb\u001b[0m\u001b[0;34m|\u001b[0m\u001b[0mc\u001b[0m\u001b[0;34m,\u001b[0m \u001b[0mtrain_input\u001b[0m\u001b[0;34m,\u001b[0m \u001b[0mtrain_target\u001b[0m\u001b[0;34m,\u001b[0m \u001b[0mreturn_train_score\u001b[0m \u001b[0;34m=\u001b[0m \u001b[0;32mTrue\u001b[0m\u001b[0;34m)\u001b[0m\u001b[0;34m\u001b[0m\u001b[0;34m\u001b[0m\u001b[0m\n\u001b[0m\u001b[1;32m      6\u001b[0m \u001b[0;34m\u001b[0m\u001b[0m\n\u001b[1;32m      7\u001b[0m \u001b[0mprint\u001b[0m\u001b[0;34m(\u001b[0m\u001b[0mnp\u001b[0m\u001b[0;34m.\u001b[0m\u001b[0mmean\u001b[0m\u001b[0;34m(\u001b[0m\u001b[0mscores\u001b[0m\u001b[0;34m[\u001b[0m\u001b[0;34m'train_score'\u001b[0m\u001b[0;34m]\u001b[0m\u001b[0;34m)\u001b[0m\u001b[0;34m,\u001b[0m \u001b[0mnp\u001b[0m\u001b[0;34m.\u001b[0m\u001b[0mmean\u001b[0m\u001b[0;34m(\u001b[0m\u001b[0mscores\u001b[0m\u001b[0;34m[\u001b[0m\u001b[0;34m'test_score'\u001b[0m\u001b[0;34m]\u001b[0m\u001b[0;34m)\u001b[0m\u001b[0;34m)\u001b[0m\u001b[0;34m\u001b[0m\u001b[0;34m\u001b[0m\u001b[0m\n",
            "\u001b[0;31mNameError\u001b[0m: name 'hgb' is not defined"
          ]
        }
      ]
    },
    {
      "cell_type": "code",
      "source": [
        "from sklearn.inspection import permutation_importance\n",
        "\n",
        "hgbc.fit(train_input, train_target)\n",
        "result = permutation_importance(hgbc, train_input, train_target,\n",
        "                                n_repeats = 10, random_state = 42, n_jobs = -1)\n",
        "\n",
        "print(result.importances_mean)"
      ],
      "metadata": {
        "id": "3LSWoxf4c8Zh",
        "colab": {
          "base_uri": "https://localhost:8080/"
        },
        "outputId": "037fab97-60f0-4504-c124-1b69ea3a0259"
      },
      "execution_count": 14,
      "outputs": [
        {
          "output_type": "stream",
          "name": "stdout",
          "text": [
            "[0.08876275 0.23438522 0.08027708]\n"
          ]
        }
      ]
    },
    {
      "cell_type": "code",
      "source": [],
      "metadata": {
        "id": "mnXzVX_kc8hp"
      },
      "execution_count": null,
      "outputs": []
    },
    {
      "cell_type": "code",
      "source": [],
      "metadata": {
        "id": "UTE081Oxc8pp"
      },
      "execution_count": null,
      "outputs": []
    },
    {
      "cell_type": "code",
      "source": [],
      "metadata": {
        "id": "7WdCb8SuaHWC"
      },
      "execution_count": null,
      "outputs": []
    }
  ]
}