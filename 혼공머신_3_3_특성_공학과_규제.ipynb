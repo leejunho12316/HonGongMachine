{
  "nbformat": 4,
  "nbformat_minor": 0,
  "metadata": {
    "colab": {
      "provenance": [],
      "authorship_tag": "ABX9TyP9OrWpaH/cNTWNmBoimLwo",
      "include_colab_link": true
    },
    "kernelspec": {
      "name": "python3",
      "display_name": "Python 3"
    },
    "language_info": {
      "name": "python"
    }
  },
  "cells": [
    {
      "cell_type": "markdown",
      "metadata": {
        "id": "view-in-github",
        "colab_type": "text"
      },
      "source": [
        "<a href=\"https://colab.research.google.com/github/leejunho12316/HonGongMachine/blob/main/%ED%98%BC%EA%B3%B5%EB%A8%B8%EC%8B%A0_3_3_%ED%8A%B9%EC%84%B1_%EA%B3%B5%ED%95%99%EA%B3%BC_%EA%B7%9C%EC%A0%9C.ipynb\" target=\"_parent\"><img src=\"https://colab.research.google.com/assets/colab-badge.svg\" alt=\"Open In Colab\"/></a>"
      ]
    },
    {
      "cell_type": "markdown",
      "source": [
        "#데이터 준비"
      ],
      "metadata": {
        "id": "KH1sWW6X70-R"
      }
    },
    {
      "cell_type": "code",
      "execution_count": null,
      "metadata": {
        "id": "VuFxDVDV6y8r"
      },
      "outputs": [],
      "source": [
        "import pandas as pd\n",
        "import numpy as np\n",
        "\n",
        "#농어 길이, 높이, 두께 정보\n",
        "df = pd.read_csv(\"https://bit.ly/perch_csv_data\")\n",
        "perch_full = df.to_numpy()\n",
        "print(perch_full)"
      ]
    },
    {
      "cell_type": "code",
      "source": [
        "#농어 무게 정보\n",
        "perch_weight = np.array([5.9, 32.0, 40.0, 51.5, 70.0, 100.0, 78.0, 80.0, 85.0, 85.0, 110.0,\n",
        "       115.0, 125.0, 130.0, 120.0, 120.0, 130.0, 135.0, 110.0, 130.0,\n",
        "       150.0, 145.0, 150.0, 170.0, 225.0, 145.0, 188.0, 180.0, 197.0,\n",
        "       218.0, 300.0, 260.0, 265.0, 250.0, 250.0, 300.0, 320.0, 514.0,\n",
        "       556.0, 840.0, 685.0, 700.0, 700.0, 690.0, 900.0, 650.0, 820.0,\n",
        "       850.0, 900.0, 1015.0, 820.0, 1100.0, 1000.0, 1100.0, 1000.0,\n",
        "       1000.0])"
      ],
      "metadata": {
        "id": "5jOKRPt_7yR-"
      },
      "execution_count": 3,
      "outputs": []
    },
    {
      "cell_type": "code",
      "source": [
        "from sklearn.model_selection import train_test_split\n",
        "train_input, test_input, train_target, test_target = train_test_split(perch_full, perch_weight, random_state = 42)"
      ],
      "metadata": {
        "id": "jctmx2Yl8Ofl"
      },
      "execution_count": 4,
      "outputs": []
    },
    {
      "cell_type": "markdown",
      "source": [
        "#사이킷런 변환기"
      ],
      "metadata": {
        "id": "zsxUndvF8YRL"
      }
    },
    {
      "cell_type": "code",
      "source": [
        "train_input[:3]"
      ],
      "metadata": {
        "colab": {
          "base_uri": "https://localhost:8080/"
        },
        "id": "9Xj_RsM-LRgP",
        "outputId": "17b9b855-e022-4e21-e025-2ef3e4820ed5"
      },
      "execution_count": 34,
      "outputs": [
        {
          "output_type": "execute_result",
          "data": {
            "text/plain": [
              "array([[19.6 ,  5.14,  3.04],\n",
              "       [22.  ,  5.88,  3.52],\n",
              "       [18.7 ,  5.2 ,  3.12]])"
            ]
          },
          "metadata": {},
          "execution_count": 34
        }
      ]
    },
    {
      "cell_type": "code",
      "source": [
        "from sklearn.preprocessing import PolynomialFeatures\n",
        "\n",
        "#모든 경우의 수로 가능한 조합을 만드는 것. - 앞에서 한 x^2 추가하기의 다양한 버전\n",
        "poly = PolynomialFeatures(degree=2, include_bias = False)\n",
        "poly.fit(train_input)\n",
        "\n",
        "train_poly = poly.transform(train_input)\n",
        "test_poly = poly.transform(test_input)\n",
        "print(train_poly)"
      ],
      "metadata": {
        "colab": {
          "base_uri": "https://localhost:8080/"
        },
        "id": "tdMsOqyQ8r-v",
        "outputId": "8f89a5c9-5a1b-4f12-dfb1-5b4230062572"
      },
      "execution_count": 30,
      "outputs": [
        {
          "output_type": "stream",
          "name": "stdout",
          "text": [
            "[[  19.6       5.14      3.04    384.16    100.744    59.584    26.4196\n",
            "    15.6256    9.2416]\n",
            " [  22.        5.88      3.52    484.      129.36     77.44     34.5744\n",
            "    20.6976   12.3904]\n",
            " [  18.7       5.2       3.12    349.69     97.24     58.344    27.04\n",
            "    16.224     9.7344]\n",
            " [  17.4       4.59      2.94    302.76     79.866    51.156    21.0681\n",
            "    13.4946    8.6436]\n",
            " [  36.       10.61      6.74   1296.      381.96    242.64    112.5721\n",
            "    71.5114   45.4276]\n",
            " [  25.        6.44      3.68    625.      161.       92.       41.4736\n",
            "    23.6992   13.5424]\n",
            " [  40.       11.93      7.11   1600.      477.2     284.4     142.3249\n",
            "    84.8223   50.5521]\n",
            " [  39.       12.43      7.35   1521.      484.77    286.65    154.5049\n",
            "    91.3605   54.0225]\n",
            " [  43.       11.93      7.28   1849.      512.99    313.04    142.3249\n",
            "    86.8504   52.9984]\n",
            " [  22.        5.64      3.52    484.      124.08     77.44     31.8096\n",
            "    19.8528   12.3904]\n",
            " [  20.        5.08      2.77    400.      101.6      55.4      25.8064\n",
            "    14.0716    7.6729]\n",
            " [  22.        6.11      3.52    484.      134.42     77.44     37.3321\n",
            "    21.5072   12.3904]\n",
            " [  24.        7.29      3.72    576.      174.96     89.28     53.1441\n",
            "    27.1188   13.8384]\n",
            " [  27.5       7.17      4.34    756.25    197.175   119.35     51.4089\n",
            "    31.1178   18.8356]\n",
            " [  43.       12.51      7.42   1849.      537.93    319.06    156.5001\n",
            "    92.8242   55.0564]\n",
            " [  40.       11.73      7.22   1600.      469.2     288.8     137.5929\n",
            "    84.6906   52.1284]\n",
            " [  24.        6.38      3.82    576.      153.12     91.68     40.7044\n",
            "    24.3716   14.5924]\n",
            " [  21.        5.92      3.31    441.      124.32     69.51     35.0464\n",
            "    19.5952   10.9561]\n",
            " [  27.5       7.05      4.34    756.25    193.875   119.35     49.7025\n",
            "    30.597    18.8356]\n",
            " [  40.       12.38      7.46   1600.      495.2     298.4     153.2644\n",
            "    92.3548   55.6516]\n",
            " [  32.8      10.03      6.02   1075.84    328.984   197.456   100.6009\n",
            "    60.3806   36.2404]\n",
            " [  26.5       7.17      4.14    702.25    190.005   109.71     51.4089\n",
            "    29.6838   17.1396]\n",
            " [  36.5      10.88      6.86   1332.25    397.12    250.39    118.3744\n",
            "    74.6368   47.0596]\n",
            " [  13.7       3.53      2.      187.69     48.361    27.4      12.4609\n",
            "     7.06      4.    ]\n",
            " [  22.7       5.95      3.63    515.29    135.065    82.401    35.4025\n",
            "    21.5985   13.1769]\n",
            " [  15.        3.82      2.43    225.       57.3      36.45     14.5924\n",
            "     9.2826    5.9049]\n",
            " [  37.       10.57      6.37   1369.      391.09    235.69    111.7249\n",
            "    67.3309   40.5769]\n",
            " [  35.       11.49      7.8    1225.      402.15    273.      132.0201\n",
            "    89.622    60.84  ]\n",
            " [  28.7       7.59      4.64    823.69    217.833   133.168    57.6081\n",
            "    35.2176   21.5296]\n",
            " [  23.5       6.28      3.72    552.25    147.58     87.42     39.4384\n",
            "    23.3616   13.8384]\n",
            " [  39.       11.14      6.     1521.      434.46    234.      124.0996\n",
            "    66.84     36.    ]\n",
            " [  21.        5.69      3.56    441.      119.49     74.76     32.3761\n",
            "    20.2564   12.6736]\n",
            " [  23.        5.22      3.63    529.      120.06     83.49     27.2484\n",
            "    18.9486   13.1769]\n",
            " [  22.        5.52      4.      484.      121.44     88.       30.4704\n",
            "    22.08     16.    ]\n",
            " [  44.       12.49      7.6    1936.      549.56    334.4     156.0001\n",
            "    94.924    57.76  ]\n",
            " [  22.5       6.79      3.62    506.25    152.775    81.45     46.1041\n",
            "    24.5798   13.1044]\n",
            " [  19.        5.64      3.05    361.      107.16     57.95     31.8096\n",
            "    17.202     9.3025]\n",
            " [  37.       10.84      6.26   1369.      401.08    231.62    117.5056\n",
            "    67.8584   39.1876]\n",
            " [  22.        6.11      3.41    484.      134.42     75.02     37.3321\n",
            "    20.8351   11.6281]\n",
            " [  25.6       6.56      4.24    655.36    167.936   108.544    43.0336\n",
            "    27.8144   17.9776]\n",
            " [  42.       12.8       6.87   1764.      537.6     288.54    163.84\n",
            "    87.936    47.1969]\n",
            " [  34.5      10.26      6.39   1190.25    353.97    220.455   105.2676\n",
            "    65.5614   40.8321]]\n"
          ]
        }
      ]
    },
    {
      "cell_type": "code",
      "source": [
        "#특성이 어떻게 만들어졌는지 출력\n",
        "poly.get_feature_names_out()"
      ],
      "metadata": {
        "colab": {
          "base_uri": "https://localhost:8080/"
        },
        "id": "SGijZxwK_Cs-",
        "outputId": "55a21dcf-0ce3-4ef4-fb57-6cd32f117900"
      },
      "execution_count": 35,
      "outputs": [
        {
          "output_type": "execute_result",
          "data": {
            "text/plain": [
              "array(['x0', 'x1', 'x2', 'x0^2', 'x0 x1', 'x0 x2', 'x1^2', 'x1 x2',\n",
              "       'x2^2'], dtype=object)"
            ]
          },
          "metadata": {},
          "execution_count": 35
        }
      ]
    },
    {
      "cell_type": "markdown",
      "source": [
        "#다중 회귀 모델 훈련"
      ],
      "metadata": {
        "id": "20bY1cJB_QU1"
      }
    },
    {
      "cell_type": "code",
      "source": [
        "from sklearn.linear_model import LinearRegression\n",
        "lr = LinearRegression()\n",
        "lr.fit(train_poly, train_target)\n",
        "print(lr.score(train_poly, train_target), lr.score(test_poly, test_target))"
      ],
      "metadata": {
        "colab": {
          "base_uri": "https://localhost:8080/"
        },
        "id": "7QOaM8xLA-Wi",
        "outputId": "e82c3415-b248-47f4-c4d4-2c7fabd154af"
      },
      "execution_count": 36,
      "outputs": [
        {
          "output_type": "stream",
          "name": "stdout",
          "text": [
            "0.9903183436982125 0.9714559911594111\n"
          ]
        }
      ]
    },
    {
      "cell_type": "markdown",
      "source": [
        "#규제"
      ],
      "metadata": {
        "id": "ShSCSvjIBKlS"
      }
    },
    {
      "cell_type": "code",
      "source": [
        "from sklearn.preprocessing import StandardScaler\n",
        "ss = StandardScaler()\n",
        "ss.fit(train_poly)\n",
        "\n",
        "train_scaled = ss.transform(train_poly)\n",
        "test_scaled = ss.transform(test_poly)"
      ],
      "metadata": {
        "id": "lQqPlsrVIFd6"
      },
      "execution_count": 26,
      "outputs": []
    },
    {
      "cell_type": "markdown",
      "source": [
        "#1. 릿지 회귀"
      ],
      "metadata": {
        "id": "FCvy164JMc9E"
      }
    },
    {
      "cell_type": "code",
      "source": [
        "from sklearn.linear_model import Ridge\n",
        "ridge = Ridge()\n",
        "ridge.fit(train_scaled, train_target)\n",
        "print(ridge.score(train_scaled, train_target), ridge.score(test_scaled, test_target))"
      ],
      "metadata": {
        "colab": {
          "base_uri": "https://localhost:8080/"
        },
        "id": "yM0Ne7YIIRiM",
        "outputId": "f47722e1-fe36-4212-bd74-88629fdce3e0"
      },
      "execution_count": 28,
      "outputs": [
        {
          "output_type": "stream",
          "name": "stdout",
          "text": [
            "0.9896101671037343 0.9790693977615387\n"
          ]
        }
      ]
    },
    {
      "cell_type": "code",
      "source": [
        "import matplotlib.pyplot as plt\n",
        "\n",
        "#Ridge 회기 alpha값 변화시키며 실험\n",
        "train_score, test_score = [], []\n",
        "\n",
        "alpha_list = [0.001, 0.01, 0.1, 1, 10, 100]\n",
        "for alpha in alpha_list:\n",
        "  ridge = Ridge(alpha = alpha)\n",
        "  ridge.fit(train_scaled, train_target)\n",
        "\n",
        "  train_score.append(ridge.score(train_scaled, train_target))\n",
        "  test_score.append(ridge.score(test_scaled, test_target))\n",
        "\n",
        "plt.plot(np.log10(alpha_list), train_score)\n",
        "plt.plot(np.log10(alpha_list), test_score)\n",
        "plt.show()"
      ],
      "metadata": {
        "colab": {
          "base_uri": "https://localhost:8080/",
          "height": 430
        },
        "id": "Vyxd-atNN5Ub",
        "outputId": "c2c8098d-d72e-40c1-bd05-7c64e3eac3d2"
      },
      "execution_count": 44,
      "outputs": [
        {
          "output_type": "display_data",
          "data": {
            "text/plain": [
              "<Figure size 640x480 with 1 Axes>"
            ],
            "image/png": "[encoded data removed]"
          },
          "metadata": {}
        }
      ]
    },
    {
      "cell_type": "code",
      "source": [
        "#답: 0.1\n",
        "ridge = Ridge(alpha = 0.1)\n",
        "ridge.fit(train_scaled, train_target)\n",
        "print(ridge.score(train_scaled, train_target), ridge.score(test_scaled, test_target))"
      ],
      "metadata": {
        "colab": {
          "base_uri": "https://localhost:8080/"
        },
        "id": "p3Ifac5UPH8V",
        "outputId": "d6d9c672-7e00-40be-de61-a51619d5d37b"
      },
      "execution_count": 45,
      "outputs": [
        {
          "output_type": "stream",
          "name": "stdout",
          "text": [
            "0.9903815817570367 0.9827976465386928\n"
          ]
        }
      ]
    },
    {
      "cell_type": "markdown",
      "source": [
        "\n",
        "#2. 라쏘 회귀"
      ],
      "metadata": {
        "id": "DSdf9p77I-cM"
      }
    },
    {
      "cell_type": "code",
      "source": [
        "from sklearn.linear_model import Lasso\n",
        "lasso = Lasso()\n",
        "lasso.fit(train_scaled, train_target)\n",
        "print(lasso.score(train_scaled, train_target), lasso.score(test_scaled, test_target))"
      ],
      "metadata": {
        "colab": {
          "base_uri": "https://localhost:8080/"
        },
        "id": "Y5My_sqcNhTf",
        "outputId": "3ab50faf-3407-4c4c-9c28-8f1b2011eb86"
      },
      "execution_count": 40,
      "outputs": [
        {
          "output_type": "stream",
          "name": "stdout",
          "text": [
            "0.989789897208096 0.9800593698421883\n"
          ]
        }
      ]
    },
    {
      "cell_type": "code",
      "source": [
        "train_score, test_score = [], []\n",
        "\n",
        "alpha_list = [0.001, 0.01, 0.1, 1, 10, 100]\n",
        "for alpha in alpha_list:\n",
        "  lasso = Lasso(alpha = alpha)\n",
        "  lasso.fit(train_scaled, train_target)\n",
        "\n",
        "  train_score.append(lasso.score(train_scaled, train_target))\n",
        "  test_score.append(lasso.score(test_scaled, test_target))\n",
        "\n",
        "plt.plot(np.log10(alpha_list), train_score)\n",
        "plt.plot(np.log10(alpha_list), test_score)\n",
        "plt.show()"
      ],
      "metadata": {
        "colab": {
          "base_uri": "https://localhost:8080/",
          "height": 559
        },
        "id": "7ulYYol6NrY3",
        "outputId": "ea63df9a-c835-415c-a82a-08d95ca87e7b"
      },
      "execution_count": 49,
      "outputs": [
        {
          "output_type": "stream",
          "name": "stderr",
          "text": [
            "/usr/local/lib/python3.10/dist-packages/sklearn/linear_model/_coordinate_descent.py:695: ConvergenceWarning: Objective did not converge. You might want to increase the number of iterations, check the scale of the features or consider increasing regularisation. Duality gap: 2.336e+04, tolerance: 5.183e+02\n",
            "  model = cd_fast.enet_coordinate_descent(\n",
            "/usr/local/lib/python3.10/dist-packages/sklearn/linear_model/_coordinate_descent.py:695: ConvergenceWarning: Objective did not converge. You might want to increase the number of iterations, check the scale of the features or consider increasing regularisation. Duality gap: 2.025e+04, tolerance: 5.183e+02\n",
            "  model = cd_fast.enet_coordinate_descent(\n",
            "/usr/local/lib/python3.10/dist-packages/sklearn/linear_model/_coordinate_descent.py:695: ConvergenceWarning: Objective did not converge. You might want to increase the number of iterations, check the scale of the features or consider increasing regularisation. Duality gap: 8.062e+02, tolerance: 5.183e+02\n",
            "  model = cd_fast.enet_coordinate_descent(\n"
          ]
        },
        {
          "output_type": "display_data",
          "data": {
            "text/plain": [
              "<Figure size 640x480 with 1 Axes>"
            ],
            "image/png": "[encoded data removed]"
          },
          "metadata": {}
        }
      ]
    },
    {
      "cell_type": "code",
      "source": [
        "#답 - alpha : 1\n",
        "lasso = Lasso(alpha = 1)\n",
        "lasso.fit(train_scaled, train_target)\n",
        "print(lasso.score(train_scaled, train_target), lasso.score(test_scaled, test_target))"
      ],
      "metadata": {
        "colab": {
          "base_uri": "https://localhost:8080/"
        },
        "id": "tv3eiT7jPzYb",
        "outputId": "5580fde9-91a8-4e07-b26a-447e89bd0161"
      },
      "execution_count": 50,
      "outputs": [
        {
          "output_type": "stream",
          "name": "stdout",
          "text": [
            "0.989789897208096 0.9800593698421883\n"
          ]
        }
      ]
    },
    {
      "cell_type": "code",
      "source": [
        "lasso.coef_"
      ],
      "metadata": {
        "colab": {
          "base_uri": "https://localhost:8080/"
        },
        "id": "zE6SP8yaQkJc",
        "outputId": "9284e1bd-4282-461e-b711-f59f41daf448"
      },
      "execution_count": 51,
      "outputs": [
        {
          "output_type": "execute_result",
          "data": {
            "text/plain": [
              "array([ 0.        ,  0.        ,  0.        , 95.61184844, 11.60230215,\n",
              "        0.        , 10.5804005 ,  0.        , 31.51508869,  0.        ,\n",
              "       22.30028081,  0.        , 29.10414951,  0.        ,  0.        ,\n",
              "       18.50441438,  0.        ,  0.        , 41.93702532,  0.        ,\n",
              "        0.        ,  0.        ,  0.        ,  0.        ,  0.        ,\n",
              "        5.74835225,  0.        ,  0.        ,  0.        , 20.53363452,\n",
              "        0.        ,  0.        ,  0.        ,  8.8783085 ,  0.        ,\n",
              "        0.        ,  0.        ,  0.        ,  0.        ,  0.        ,\n",
              "        0.        ,  0.        ,  0.        ,  0.        , 35.3124872 ,\n",
              "        0.        ,  0.        ,  0.        ,  0.        , 21.35881131,\n",
              "        0.        ,  0.        ,  0.        ,  0.        ,  0.        ])"
            ]
          },
          "metadata": {},
          "execution_count": 51
        }
      ]
    },
    {
      "cell_type": "code",
      "source": [],
      "metadata": {
        "id": "A6kartZwQpbG"
      },
      "execution_count": null,
      "outputs": []
    }
  ]
}