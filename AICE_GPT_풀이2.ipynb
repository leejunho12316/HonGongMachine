{
  "nbformat": 4,
  "nbformat_minor": 0,
  "metadata": {
    "colab": {
      "provenance": [],
      "authorship_tag": "ABX9TyPiR9hiycKjf41+WflsDz33",
      "include_colab_link": true
    },
    "kernelspec": {
      "name": "python3",
      "display_name": "Python 3"
    },
    "language_info": {
      "name": "python"
    }
  },
  "cells": [
    {
      "cell_type": "markdown",
      "metadata": {
        "id": "view-in-github",
        "colab_type": "text"
      },
      "source": [
        "<a href=\"https://colab.research.google.com/github/leejunho12316/HonGongMachine/blob/main/AICE_GPT_%ED%92%80%EC%9D%B42.ipynb\" target=\"_parent\"><img src=\"https://colab.research.google.com/assets/colab-badge.svg\" alt=\"Open In Colab\"/></a>"
      ]
    },
    {
      "cell_type": "code",
      "execution_count": 6,
      "metadata": {
        "id": "F27ygsR6LTwH"
      },
      "outputs": [],
      "source": [
        "import pandas as pd\n",
        "df = pd.read_csv('auto_mpg.csv')\n",
        "df.drop('name', axis=1, inplace=True)\n",
        "df.dropna(how='any', axis=0, inplace=True)"
      ]
    },
    {
      "cell_type": "code",
      "source": [
        "from sklearn.model_selection import train_test_split\n",
        "from sklearn.preprocessing import MinMaxScaler\n",
        "\n",
        "X=df.drop('mpg', axis=1)\n",
        "y=df['mpg']\n",
        "\n",
        "X_train, X_val, y_train, y_val = train_test_split(X, y, test_size=0.2)\n",
        "\n",
        "scaler = MinMaxScaler()\n",
        "X_train_scaled = scaler.fit_transform(X_train)\n",
        "X_val_scaled = scaler.transform(X_val)"
      ],
      "metadata": {
        "id": "VbK0d-1jNAn_"
      },
      "execution_count": 7,
      "outputs": []
    },
    {
      "cell_type": "code",
      "source": [
        "#1\n",
        "from sklearn.tree import DecisionTreeRegressor\n",
        "from sklearn.ensemble import RandomForestRegressor\n",
        "from sklearn.metrics import mean_absolute_error\n",
        "\n",
        "dt = DecisionTreeRegressor()\n",
        "rf = RandomForestRegressor()\n",
        "dt.fit(X_train, y_train)\n",
        "rf.fit(X_train, y_train)\n",
        "\n",
        "dt_pred = dt.predict(X_val)\n",
        "rf_pred = rf.predict(X_val)\n",
        "\n",
        "dt_score = mean_absolute_error(y_val, dt_pred)\n",
        "rf_score = mean_absolute_error(y_val, rf_pred)\n",
        "print(dt_score, rf_score)"
      ],
      "metadata": {
        "colab": {
          "base_uri": "https://localhost:8080/"
        },
        "id": "OiCmMfpNNPLb",
        "outputId": "2219bbff-5290-4a15-b8f6-15af648247e4"
      },
      "execution_count": 50,
      "outputs": [
        {
          "output_type": "stream",
          "name": "stdout",
          "text": [
            "7.102699999999999 5.374255000000002\n"
          ]
        }
      ]
    },
    {
      "cell_type": "code",
      "source": [
        "#2\n",
        "from sklearn.linear_model import LinearRegression\n",
        "lr = LinearRegression()\n",
        "lr.fit(X_train_scaled, y_train)\n",
        "\n",
        "y_pred = lr.predict(X_val_scaled)\n",
        "score = mean_absolute_error(y_pred, y_val)\n",
        "print(score)"
      ],
      "metadata": {
        "colab": {
          "base_uri": "https://localhost:8080/"
        },
        "id": "TkJm3NmSN6c-",
        "outputId": "b5922fa6-8653-4cea-bafd-e72a964c5374"
      },
      "execution_count": 10,
      "outputs": [
        {
          "output_type": "stream",
          "name": "stdout",
          "text": [
            "7.753516291154326\n"
          ]
        }
      ]
    },
    {
      "cell_type": "code",
      "source": [
        "#3\n",
        "import numpy as np\n",
        "print(\"rmse : \", np.sqrt(rf_score))"
      ],
      "metadata": {
        "colab": {
          "base_uri": "https://localhost:8080/"
        },
        "id": "T4Mb2EqmOJsW",
        "outputId": "64a69249-e659-494d-93cf-e6e1caa34c24"
      },
      "execution_count": 15,
      "outputs": [
        {
          "output_type": "stream",
          "name": "stdout",
          "text": [
            "rmse :  2.3212819733931513\n"
          ]
        }
      ]
    },
    {
      "cell_type": "code",
      "source": [
        "#4\n",
        "from sklearn.metrics import mean_absolute_error, mean_squared_error\n",
        "from sklearn.svm import SVR\n",
        "svr = SVR(kernel='rbf')\n",
        "svr.fit(X_train_scaled, y_train)\n",
        "\n",
        "svr_pred = svr.predict(X_val_scaled)\n",
        "print('mse: ', mean_absolute_error(y_val, y_pred))\n",
        "print('mse: ', mean_squared_error(y_val, y_pred))"
      ],
      "metadata": {
        "colab": {
          "base_uri": "https://localhost:8080/"
        },
        "id": "hjBRgk0ROVlF",
        "outputId": "7940a94b-ef94-48a3-fd7d-af2d58a873b9"
      },
      "execution_count": 51,
      "outputs": [
        {
          "output_type": "stream",
          "name": "stdout",
          "text": [
            "mse:  6.377457594776465\n",
            "mse:  179.86545300710767\n"
          ]
        }
      ]
    },
    {
      "cell_type": "code",
      "source": [
        "#5\n",
        "from sklearn.metrics import mean_squared_log_error\n",
        "print(mean_squared_log_error(dt_pred, y_val))"
      ],
      "metadata": {
        "colab": {
          "base_uri": "https://localhost:8080/"
        },
        "id": "C09lksY1Ora_",
        "outputId": "12971619-48cf-4631-be21-5796149b4e10"
      },
      "execution_count": 21,
      "outputs": [
        {
          "output_type": "stream",
          "name": "stdout",
          "text": [
            "0.13051128202309825\n"
          ]
        }
      ]
    },
    {
      "cell_type": "code",
      "source": [
        "#6\n",
        "from sklearn.metrics import r2_score\n",
        "from xgboost import XGBRegressor\n",
        "\n",
        "xgb = XGBRegressor()\n",
        "xgb.fit(X_train, y_train)\n",
        "xgb_pred = xgb.predict(X_val)\n",
        "\n",
        "print('r2 score : ', r2_score(xgb_pred, y_val))"
      ],
      "metadata": {
        "colab": {
          "base_uri": "https://localhost:8080/"
        },
        "id": "5QKDwMwDPGUY",
        "outputId": "608f5d21-7176-40fb-b5fa-3461a6f64e3f"
      },
      "execution_count": 27,
      "outputs": [
        {
          "output_type": "stream",
          "name": "stdout",
          "text": [
            "r2 score :  0.30504403240474354\n"
          ]
        }
      ]
    },
    {
      "cell_type": "code",
      "source": [
        "#7\n",
        "from sklearn.linear_model import LinearRegression, Ridge, Lasso\n",
        "lr, r, l = LinearRegression(), Ridge(), Lasso()\n",
        "lr.fit(X_train_scaled, y_train)\n",
        "r.fit(X_train_scaled, y_train)\n",
        "l.fit(X_train_scaled, y_train)\n",
        "\n",
        "lr_pred = lr.predict(X_val_scaled)\n",
        "r_pred = r.predict(X_val_scaled)\n",
        "l_pred = l.predict(X_val_scaled)\n",
        "\n",
        "lr_score = r2_score(lr_pred, y_val)\n",
        "r_score = r2_score(r_pred, y_val)\n",
        "l_score = r2_score(l_pred, y_val)\n",
        "\n",
        "print(lr_score, r_score, l_score)\n"
      ],
      "metadata": {
        "colab": {
          "base_uri": "https://localhost:8080/"
        },
        "id": "pQBckzoPPklE",
        "outputId": "d8f25167-67dc-47f1-f586-e9bdbb37d792"
      },
      "execution_count": 33,
      "outputs": [
        {
          "output_type": "stream",
          "name": "stdout",
          "text": [
            "-3.705300105104329 -3.8893608531210813 -24.220791390023564\n"
          ]
        }
      ]
    },
    {
      "cell_type": "code",
      "source": [
        "#8\n",
        "import matplotlib.pyplot as plt\n",
        "\n",
        "dt_score = r2_score(dt_pred, y_val)\n",
        "rf_score = r2_score(rf_pred, y_val)\n",
        "xgb_score = r2_score(xgb_pred, y_val)\n",
        "\n",
        "plt.bar(x=['DecisionTree','RandomForest','XGBoost'], height = [dt_score, rf_score, xgb_score])\n",
        "plt.show()"
      ],
      "metadata": {
        "colab": {
          "base_uri": "https://localhost:8080/",
          "height": 430
        },
        "id": "O-ngWMGaPs6B",
        "outputId": "8faf0de1-2b46-437c-a400-f736a9983ae1"
      },
      "execution_count": 38,
      "outputs": [
        {
          "output_type": "display_data",
          "data": {
            "text/plain": [
              "<Figure size 640x480 with 1 Axes>"
            ],
            "image/png": "[encoded data removed]"
          },
          "metadata": {}
        }
      ]
    },
    {
      "cell_type": "code",
      "source": [
        "#9\n",
        "from sklearn.neighbors import KNeighborsRegressor\n",
        "from sklearn.svm import SVR\n",
        "\n",
        "svr = SVR()\n",
        "knr = KNeighborsRegressor()\n",
        "\n",
        "svr.fit(X_train_scaled, y_train)\n",
        "knr.fit(X_train_scaled, y_train)\n",
        "svr_pred = svr.predict(X_val_scaled)\n",
        "knr_pred = knr.predict(X_val_scaled)\n",
        "svr_score = r2_score(svr_pred, y_val)\n",
        "knr_score = r2_score(knr_pred, y_val)\n",
        "print(svr_score, knr_score)"
      ],
      "metadata": {
        "colab": {
          "base_uri": "https://localhost:8080/"
        },
        "id": "TVZTOSZOQuXr",
        "outputId": "1bfecd59-52f1-450b-81eb-776b31852d65"
      },
      "execution_count": 40,
      "outputs": [
        {
          "output_type": "stream",
          "name": "stdout",
          "text": [
            "-4.525761808073734 0.05826180329065822\n"
          ]
        }
      ]
    },
    {
      "cell_type": "code",
      "source": [
        "#10\n",
        "from sklearn.ensemble import GradientBoostingRegressor\n",
        "gbr = GradientBoostingRegressor()\n",
        "gbr.fit(X_train, y_train)\n",
        "gbr_pred = gbr.predict(X_val)\n",
        "score = r2_score(gbr_pred, y_val)\n",
        "\n",
        "print(score>=0.7)"
      ],
      "metadata": {
        "colab": {
          "base_uri": "https://localhost:8080/"
        },
        "id": "OuXRU5j5RQHq",
        "outputId": "a1d041f5-4268-42ce-8b53-dd50761d1903"
      },
      "execution_count": 41,
      "outputs": [
        {
          "output_type": "stream",
          "name": "stdout",
          "text": [
            "False\n"
          ]
        }
      ]
    },
    {
      "cell_type": "code",
      "source": [
        "#11\n",
        "dt_score = mean_absolute_error(y_val, dt_pred)\n",
        "rf_score = mean_absolute_error(y_val, rf_pred)\n",
        "svr_score = mean_absolute_error(y_val, svr_pred)\n",
        "gbr_score = mean_absolute_error(y_val, gbr_pred)\n",
        "knr_score = mean_absolute_error(y_val, knr_pred)\n",
        "print(dt_score, rf_score, svr_score, gbr_score, knr_score)\n",
        "#knr_score"
      ],
      "metadata": {
        "colab": {
          "base_uri": "https://localhost:8080/"
        },
        "id": "tOhwRw99RgPj",
        "outputId": "0c863771-e165-4a9d-8729-63332efa770e"
      },
      "execution_count": 64,
      "outputs": [
        {
          "output_type": "stream",
          "name": "stdout",
          "text": [
            "7.102699999999999 5.374255000000002 6.377457594776465 4.892305353082637 4.7744800000000005\n"
          ]
        }
      ]
    },
    {
      "cell_type": "code",
      "source": [
        "#12\n",
        "svr_score1, svr_score2 = mean_absolute_error(y_val, svr_pred), mean_squared_error(y_val, svr_pred)\n",
        "gbr_score1, gbr_score2 = mean_absolute_error(y_val, gbr_pred), mean_squared_error(y_val, gbr_pred)\n",
        "rf_score1, rf_score2 = mean_absolute_error(y_val, rf_pred), mean_squared_error(y_val, rf_pred)\n",
        "\n",
        "print((svr_score1 + svr_score2)/2, (gbr_score1 + gbr_score2)/2, (rf_score1 + rf_score2)/2)"
      ],
      "metadata": {
        "colab": {
          "base_uri": "https://localhost:8080/"
        },
        "id": "FSweG7IBVYro",
        "outputId": "96502ed0-072f-4e11-ba9b-9605b253ec0a"
      },
      "execution_count": 65,
      "outputs": [
        {
          "output_type": "stream",
          "name": "stdout",
          "text": [
            "93.12145530094207 35.57417884614072 45.85263466554999\n"
          ]
        }
      ]
    },
    {
      "cell_type": "code",
      "source": [
        "#16\n",
        "plt.scatter(rf_pred, y_val)\n",
        "plt.plot([10,70], [10,70])\n",
        "plt.xlabel('predict')\n",
        "plt.ylabel('original')\n",
        "plt.grid()\n",
        "plt.show()"
      ],
      "metadata": {
        "colab": {
          "base_uri": "https://localhost:8080/",
          "height": 449
        },
        "id": "z9bd7HX0V7Zd",
        "outputId": "9cefc274-e303-4a19-96f2-c6d764b7bb17"
      },
      "execution_count": 58,
      "outputs": [
        {
          "output_type": "display_data",
          "data": {
            "text/plain": [
              "<Figure size 640x480 with 1 Axes>"
            ],
            "image/png": "[encoded data removed]"
          },
          "metadata": {}
        }
      ]
    },
    {
      "cell_type": "code",
      "source": [
        "#17\n",
        "difference = y_val - dt_pred\n",
        "difference.hist(bins=20)"
      ],
      "metadata": {
        "colab": {
          "base_uri": "https://localhost:8080/",
          "height": 448
        },
        "id": "iSSfd4p6WV3z",
        "outputId": "7fdd814a-6c0e-4e5d-9b27-ae0f230355df"
      },
      "execution_count": 63,
      "outputs": [
        {
          "output_type": "execute_result",
          "data": {
            "text/plain": [
              "<Axes: >"
            ]
          },
          "metadata": {},
          "execution_count": 63
        },
        {
          "output_type": "display_data",
          "data": {
            "text/plain": [
              "<Figure size 640x480 with 1 Axes>"
            ],
            "image/png": "[encoded data removed]"
          },
          "metadata": {}
        }
      ]
    }
  ]
}