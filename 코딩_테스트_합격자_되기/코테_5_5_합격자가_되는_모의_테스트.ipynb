{
  "nbformat": 4,
  "nbformat_minor": 0,
  "metadata": {
    "colab": {
      "provenance": [],
      "authorship_tag": "ABX9TyMGOmWdQQrYuoLTnypQrZVR",
      "include_colab_link": true
    },
    "kernelspec": {
      "name": "python3",
      "display_name": "Python 3"
    },
    "language_info": {
      "name": "python"
    }
  },
  "cells": [
    {
      "cell_type": "markdown",
      "metadata": {
        "id": "view-in-github",
        "colab_type": "text"
      },
      "source": [
        "<a href=\"https://colab.research.google.com/github/leejunho12316/HonGongMachine/blob/main/%EC%BD%94%ED%85%8C_5_5_%ED%95%A9%EA%B2%A9%EC%9E%90%EA%B0%80_%EB%90%98%EB%8A%94_%EB%AA%A8%EC%9D%98_%ED%85%8C%EC%8A%A4%ED%8A%B8.ipynb\" target=\"_parent\"><img src=\"https://colab.research.google.com/assets/colab-badge.svg\" alt=\"Open In Colab\"/></a>"
      ]
    },
    {
      "cell_type": "markdown",
      "source": [
        "#문제 03"
      ],
      "metadata": {
        "id": "oEXRV_6aEn6b"
      }
    },
    {
      "cell_type": "code",
      "execution_count": null,
      "metadata": {
        "id": "Y7jji47iYVro"
      },
      "outputs": [],
      "source": [
        "def solution(arr):\n",
        "  n = len(arr)\n",
        "  res = []\n",
        "  for i in range(n):\n",
        "    for j in range(i+1, n):\n",
        "      res.append(arr[i] + arr[j])\n",
        "\n",
        "  res = sorted(list(set(res)))\n",
        "\n",
        "  return res"
      ]
    },
    {
      "cell_type": "code",
      "source": [
        "arr1 = [2,1,3,4,1]\n",
        "arr2 = [5,0,2,7]\n",
        "\n",
        "print(solution(arr1))\n",
        "print(solution(arr2))"
      ],
      "metadata": {
        "colab": {
          "base_uri": "https://localhost:8080/"
        },
        "id": "m_5mLW7AZJNM",
        "outputId": "435ef45b-4444-4b58-92a3-d4345afbe906"
      },
      "execution_count": null,
      "outputs": [
        {
          "output_type": "stream",
          "name": "stdout",
          "text": [
            "[2, 3, 4, 5, 6, 7]\n",
            "[2, 5, 7, 9, 12]\n"
          ]
        }
      ]
    },
    {
      "cell_type": "markdown",
      "source": [
        "#문제 04"
      ],
      "metadata": {
        "id": "lbLQ6EaTZXg-"
      }
    },
    {
      "cell_type": "code",
      "source": [
        "def solution(answers):\n",
        "  patterns = [\n",
        "      [1,2,3,4,5],\n",
        "      [2,1,2,3,2,4,5],\n",
        "      [3,3,1,1,2,2,4,4,5,5]\n",
        "  ]\n",
        "  scores = [0] * 3\n",
        "\n",
        "  for i, answer in enumerate(answers):               N\n",
        "    for j, pattern in enumerate(patterns):           정수  O(N)\n",
        "      if answer == pattern[i % len(pattern)]:\n",
        "        scores[j] += 1\n",
        "\n",
        "  highest_scores = []\n",
        "  for i, score in enumerate(scores):\n",
        "    if score == max(scores):\n",
        "      highest_scores.append(i+1)\n",
        "\n",
        "  return highest_scores"
      ],
      "metadata": {
        "id": "beIxv8SbE6EW"
      },
      "execution_count": 8,
      "outputs": []
    },
    {
      "cell_type": "code",
      "source": [
        "answers = [4,4,4,4,4,4,4,4,4,4,4,4,4,4,4,4,4,4]\n",
        "solution(answers)"
      ],
      "metadata": {
        "colab": {
          "base_uri": "https://localhost:8080/"
        },
        "id": "SjskjU5HFUAk",
        "outputId": "e14bc248-fb29-4f8c-da68-ff2ce11a6a89"
      },
      "execution_count": 9,
      "outputs": [
        {
          "output_type": "execute_result",
          "data": {
            "text/plain": [
              "[3]"
            ]
          },
          "metadata": {},
          "execution_count": 9
        }
      ]
    },
    {
      "cell_type": "markdown",
      "source": [
        "#문제 05 행렬의 곱셈"
      ],
      "metadata": {
        "id": "GLbOJfBNHR9k"
      }
    },
    {
      "cell_type": "code",
      "source": [
        "def solution(arr1, arr2):\n",
        ""
      ],
      "metadata": {
        "id": "iNG0f7GxHToa"
      },
      "execution_count": null,
      "outputs": []
    }
  ]
}
