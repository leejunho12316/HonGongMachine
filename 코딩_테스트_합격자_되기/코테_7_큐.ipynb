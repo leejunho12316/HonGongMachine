{
  "nbformat": 4,
  "nbformat_minor": 0,
  "metadata": {
    "colab": {
      "provenance": [],
      "authorship_tag": "ABX9TyNacrSNJx+9HhO96Z/DBVel",
      "include_colab_link": true
    },
    "kernelspec": {
      "name": "python3",
      "display_name": "Python 3"
    },
    "language_info": {
      "name": "python"
    }
  },
  "cells": [
    {
      "cell_type": "markdown",
      "metadata": {
        "id": "view-in-github",
        "colab_type": "text"
      },
      "source": [
        "<a href=\"https://colab.research.google.com/github/leejunho12316/HonGongMachine/blob/main/%EC%BD%94%ED%85%8C_7_%ED%81%90.ipynb\" target=\"_parent\"><img src=\"https://colab.research.google.com/assets/colab-badge.svg\" alt=\"Open In Colab\"/></a>"
      ]
    },
    {
      "cell_type": "markdown",
      "source": [
        "pop(0) 방식"
      ],
      "metadata": {
        "id": "oBfjDbnMmTTi"
      }
    },
    {
      "cell_type": "code",
      "execution_count": 1,
      "metadata": {
        "colab": {
          "base_uri": "https://localhost:8080/"
        },
        "id": "eUUpN9DLk99U",
        "outputId": "403370ec-f65a-4524-9d98-b4d84ad58166"
      },
      "outputs": [
        {
          "output_type": "stream",
          "name": "stdout",
          "text": [
            "1\n",
            "2\n"
          ]
        }
      ],
      "source": [
        "queue = []\n",
        "\n",
        "queue.append(1)\n",
        "queue.append(2)\n",
        "queue.append(3)\n",
        "\n",
        "print(queue.pop(0))\n",
        "\n",
        "queue.append(4)\n",
        "queue.append(5)\n",
        "\n",
        "print(queue.pop(0))"
      ]
    },
    {
      "cell_type": "markdown",
      "source": [
        "deque의 popleft() 방식"
      ],
      "metadata": {
        "id": "3klWIr2LmVOQ"
      }
    },
    {
      "cell_type": "code",
      "source": [
        "from collections import deque\n",
        "\n",
        "queue = deque()\n",
        "\n",
        "queue.append(1)\n",
        "queue.append(2)\n",
        "queue.append(3)\n",
        "\n",
        "print(queue.popleft())\n",
        "\n",
        "queue.append(4)\n",
        "queue.append(5)\n",
        "\n",
        "print(queue.popleft())\n",
        "print(queue.pop())"
      ],
      "metadata": {
        "colab": {
          "base_uri": "https://localhost:8080/"
        },
        "id": "AWrHgVZKlNs9",
        "outputId": "7d9587c9-96e2-46c9-a5e0-2cd5e067e90a"
      },
      "execution_count": 4,
      "outputs": [
        {
          "output_type": "stream",
          "name": "stdout",
          "text": [
            "1\n",
            "2\n",
            "5\n"
          ]
        }
      ]
    },
    {
      "cell_type": "code",
      "source": [
        "둘의 성능 비교하기"
      ],
      "metadata": {
        "id": "phO019symBAY"
      },
      "execution_count": null,
      "outputs": []
    },
    {
      "cell_type": "code",
      "source": [
        "from collections import deque\n",
        "import time\n",
        "\n",
        "lst = list(range(100000))\n",
        "dq = deque(range(100000))\n",
        "\n",
        "start_time = time.time()\n",
        "for i in range(len(lst)):\n",
        "  lst.pop(0)\n",
        "end_time = time.time()\n",
        "lst_time = end_time - start_time\n",
        "print(\"pop(0) 방식 : \", lst_time)\n",
        "\n",
        "start_time = time.time()\n",
        "for i in range(len(dq)):\n",
        "  dq.popleft()\n",
        "end_time = time.time()\n",
        "dq_time = end_time - start_time\n",
        "print(\"deque 방식 : \", dq_time)\n",
        "\n",
        "print(f\"deque가 pop(0) 보다 {lst_time/dq_time}배 빠르다\")"
      ],
      "metadata": {
        "colab": {
          "base_uri": "https://localhost:8080/"
        },
        "id": "vdfud1QQmD1C",
        "outputId": "dd728ff6-0e6d-4a25-b176-07524bc74b86"
      },
      "execution_count": 8,
      "outputs": [
        {
          "output_type": "stream",
          "name": "stdout",
          "text": [
            "pop(0) 방식 :  0.8834362030029297\n",
            "deque 방식 :  0.009158134460449219\n",
            "deque가 pop(0) 보다 96.46464646464646배 빠르다\n"
          ]
        }
      ]
    },
    {
      "cell_type": "markdown",
      "source": [
        "#몸풀기 - 요세푸스 문제"
      ],
      "metadata": {
        "id": "ocGrCdZrmb8z"
      }
    },
    {
      "cell_type": "code",
      "source": [
        "from collections import deque\n",
        "\n",
        "def solution(N, K):\n",
        "  queue = deque(range(1, N+1))\n",
        "\n",
        "  res = 0\n",
        "  while(queue):\n",
        "    for i in range(K-1):\n",
        "      queue.append(queue.popleft())\n",
        "    res = queue.popleft()\n",
        "    print(\"뒤진사람 : \", res)\n",
        "    print(\"남은사람 : \", queue)\n",
        "  return res"
      ],
      "metadata": {
        "id": "lLvBSwYOof6T"
      },
      "execution_count": 37,
      "outputs": []
    },
    {
      "cell_type": "code",
      "source": [
        "print(\"마지막 뒤진사람 : \", solution(10, 7))"
      ],
      "metadata": {
        "colab": {
          "base_uri": "https://localhost:8080/"
        },
        "id": "6oobwXJYpb8c",
        "outputId": "23478d6e-1c6e-4cf0-965b-c84d6c8c424a"
      },
      "execution_count": 38,
      "outputs": [
        {
          "output_type": "stream",
          "name": "stdout",
          "text": [
            "뒤진사람 :  7\n",
            "남은사람 :  deque([8, 9, 10, 1, 2, 3, 4, 5, 6])\n",
            "뒤진사람 :  4\n",
            "남은사람 :  deque([5, 6, 8, 9, 10, 1, 2, 3])\n",
            "뒤진사람 :  2\n",
            "남은사람 :  deque([3, 5, 6, 8, 9, 10, 1])\n",
            "뒤진사람 :  1\n",
            "남은사람 :  deque([3, 5, 6, 8, 9, 10])\n",
            "뒤진사람 :  3\n",
            "남은사람 :  deque([5, 6, 8, 9, 10])\n",
            "뒤진사람 :  6\n",
            "남은사람 :  deque([8, 9, 10, 5])\n",
            "뒤진사람 :  10\n",
            "남은사람 :  deque([5, 8, 9])\n",
            "뒤진사람 :  5\n",
            "남은사람 :  deque([8, 9])\n",
            "뒤진사람 :  8\n",
            "남은사람 :  deque([9])\n",
            "뒤진사람 :  9\n",
            "남은사람 :  deque([])\n",
            "마지막 뒤진사람 :  9\n"
          ]
        }
      ]
    },
    {
      "cell_type": "code",
      "source": [],
      "metadata": {
        "id": "hQC7ge_ApkIs"
      },
      "execution_count": null,
      "outputs": []
    }
  ]
}
