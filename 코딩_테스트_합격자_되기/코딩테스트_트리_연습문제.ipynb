{
  "nbformat": 4,
  "nbformat_minor": 0,
  "metadata": {
    "colab": {
      "provenance": [],
      "authorship_tag": "ABX9TyPI8zdsGs4g9DJu6n0M+sa3",
      "include_colab_link": true
    },
    "kernelspec": {
      "name": "python3",
      "display_name": "Python 3"
    },
    "language_info": {
      "name": "python"
    }
  },
  "cells": [
    {
      "cell_type": "markdown",
      "metadata": {
        "id": "view-in-github",
        "colab_type": "text"
      },
      "source": [
        "<a href=\"https://colab.research.google.com/github/leejunho12316/HonGongMachine/blob/main/%EC%BD%94%EB%94%A9%ED%85%8C%EC%8A%A4%ED%8A%B8_%ED%8A%B8%EB%A6%AC_%EC%97%B0%EC%8A%B5%EB%AC%B8%EC%A0%9C.ipynb\" target=\"_parent\"><img src=\"https://colab.research.google.com/assets/colab-badge.svg\" alt=\"Open In Colab\"/></a>"
      ]
    },
    {
      "cell_type": "markdown",
      "source": [
        "#만들어져 있는 트리 탐색 - pre in post"
      ],
      "metadata": {
        "id": "K1V4WumMrNIc"
      }
    },
    {
      "cell_type": "code",
      "source": [
        "def inorder(tree, i): #왼-중-오\n",
        "  if i < len(tree):\n",
        "    inorder(tree, i*2+1)\n",
        "    print(tree[i], end=\"\")\n",
        "    inorder(tree, i*2+2)\n",
        "\n",
        "def preorder(tree, i): #중-왼-오\n",
        "  if i < len(tree):\n",
        "    print(tree[i], end=\"\")\n",
        "    preorder(tree, i*2+1)\n",
        "    preorder(tree, i*2+2)\n",
        "\n",
        "def postorder(tree, i):\n",
        "  if i < len(tree):\n",
        "    postorder(tree, i*2+1)\n",
        "    postorder(tree, i*2+2)\n",
        "    print(tree[i], end=\"\")"
      ],
      "metadata": {
        "id": "GFuSKblQnywk"
      },
      "execution_count": 34,
      "outputs": []
    },
    {
      "cell_type": "code",
      "source": [
        "preorder([1,2,3,4,5,6,7], 0)\n",
        "print()\n",
        "inorder([1,2,3,4,5,6,7], 0)\n",
        "print()\n",
        "postorder([1,2,3,4,5,6,7], 0)\n",
        "print()"
      ],
      "metadata": {
        "colab": {
          "base_uri": "https://localhost:8080/"
        },
        "id": "EfBnSfu2lcKx",
        "outputId": "a3dcf7d2-ba26-47a0-e07a-9a7f599c762a"
      },
      "execution_count": 35,
      "outputs": [
        {
          "output_type": "stream",
          "name": "stdout",
          "text": [
            "1245367\n",
            "4251637\n",
            "4526731\n"
          ]
        }
      ]
    },
    {
      "cell_type": "markdown",
      "source": [
        "#트리 구현"
      ],
      "metadata": {
        "id": "DxgXEkI2pDRq"
      }
    },
    {
      "cell_type": "code",
      "source": [],
      "metadata": {
        "id": "MxJ48s7jrTHH"
      },
      "execution_count": null,
      "outputs": []
    }
  ]
}
