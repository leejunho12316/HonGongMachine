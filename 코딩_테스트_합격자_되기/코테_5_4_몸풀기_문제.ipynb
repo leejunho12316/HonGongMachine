{
  "nbformat": 4,
  "nbformat_minor": 0,
  "metadata": {
    "colab": {
      "provenance": [],
      "authorship_tag": "ABX9TyO3A0sGJJ3yrlDEhp4/Qygr",
      "include_colab_link": true
    },
    "kernelspec": {
      "name": "python3",
      "display_name": "Python 3"
    },
    "language_info": {
      "name": "python"
    }
  },
  "cells": [
    {
      "cell_type": "markdown",
      "metadata": {
        "id": "view-in-github",
        "colab_type": "text"
      },
      "source": [
        "<a href=\"https://colab.research.google.com/github/leejunho12316/HonGongMachine/blob/main/%EC%BD%94%ED%85%8C_5_4_%EB%AA%B8%ED%92%80%EA%B8%B0_%EB%AC%B8%EC%A0%9C.ipynb\" target=\"_parent\"><img src=\"https://colab.research.google.com/assets/colab-badge.svg\" alt=\"Open In Colab\"/></a>"
      ]
    },
    {
      "cell_type": "markdown",
      "source": [
        "#문제 01 배열 정렬하기"
      ],
      "metadata": {
        "id": "H1QKUaKkV6dt"
      }
    },
    {
      "cell_type": "code",
      "execution_count": 16,
      "metadata": {
        "id": "eYVfg26TOSij"
      },
      "outputs": [],
      "source": [
        "def solution(arr):\n",
        "  return sorted(arr)"
      ]
    },
    {
      "cell_type": "code",
      "source": [
        "import time\n",
        "\n",
        "def n2_sort(arr):\n",
        "  n = len(arr)\n",
        "\n",
        "  for i in range(n):\n",
        "    for j in range(n-i-1):\n",
        "      if arr[j] > arr[j + 1]:\n",
        "        arr[j], arr[j+1] = arr[j+1], arr[j]\n",
        "\n",
        "  return arr\n",
        "\n",
        "def n_sort(arr):\n",
        "  sorted = arr.sort()\n",
        "  return sorted\n",
        "\n",
        "def measure_time(func, arr):\n",
        "  start_time = time.time()\n",
        "  res = func(arr)\n",
        "  end_time = time.time()\n",
        "\n",
        "  return end_time - start_time, res\n",
        "\n",
        "\n",
        "arr = list(range(10000))\n",
        "n2_time,n2_result = measure_time(n2_sort, arr)\n",
        "print(format(n2_time, \".10f\"))\n",
        "\n",
        "n_time, n_result = measure_time(n_sort, arr)\n",
        "print(format(n_time, \".10f\"))"
      ],
      "metadata": {
        "colab": {
          "base_uri": "https://localhost:8080/"
        },
        "id": "1V5xvOAgQbQ8",
        "outputId": "b6180f77-5850-4e85-b4d4-ac50650b08be"
      },
      "execution_count": 19,
      "outputs": [
        {
          "output_type": "stream",
          "name": "stdout",
          "text": [
            "2.8622028828\n",
            "0.0000801086\n"
          ]
        }
      ]
    },
    {
      "cell_type": "markdown",
      "source": [
        "#문제 02 배열 제어하기"
      ],
      "metadata": {
        "id": "tJDliLzKUQ74"
      }
    },
    {
      "cell_type": "code",
      "source": [
        "def solution(arr):\n",
        "  arr_sorted =  sorted(list(set(arr)), reverse=True)\n",
        "  return arr_sorted\n",
        "\n",
        "def measure_time(func, arr):\n",
        "  start_time = time.time()\n",
        "  res = func(arr)\n",
        "  end_time = time.time()\n",
        "\n",
        "  return end_time - start_time, res\n"
      ],
      "metadata": {
        "id": "DxfFOKuTV_8G"
      },
      "execution_count": 23,
      "outputs": []
    },
    {
      "cell_type": "code",
      "source": [
        "arr = list(range(10000))\n",
        "\n",
        "sol_time, sol_res = measure_time(solution, arr)\n",
        "print(format(sol_time,\".10f\"))"
      ],
      "metadata": {
        "colab": {
          "base_uri": "https://localhost:8080/"
        },
        "id": "nBuKRU0jWOdz",
        "outputId": "b974e9c8-8eed-4c6a-b5cf-31bdcb1ad0dc"
      },
      "execution_count": 26,
      "outputs": [
        {
          "output_type": "stream",
          "name": "stdout",
          "text": [
            "0.0004925728\n"
          ]
        }
      ]
    },
    {
      "cell_type": "code",
      "source": [],
      "metadata": {
        "id": "jKMeKNJSX3I3"
      },
      "execution_count": null,
      "outputs": []
    }
  ]
}
