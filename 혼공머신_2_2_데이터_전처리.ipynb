{
  "nbformat": 4,
  "nbformat_minor": 0,
  "metadata": {
    "colab": {
      "provenance": [],
      "authorship_tag": "ABX9TyOAqc/FtCP0HsKGzZ7qb2Up",
      "include_colab_link": true
    },
    "kernelspec": {
      "name": "python3",
      "display_name": "Python 3"
    },
    "language_info": {
      "name": "python"
    }
  },
  "cells": [
    {
      "cell_type": "markdown",
      "metadata": {
        "id": "view-in-github",
        "colab_type": "text"
      },
      "source": [
        "<a href=\"https://colab.research.google.com/github/leejunho12316/HonGongMachine/blob/main/%ED%98%BC%EA%B3%B5%EB%A8%B8%EC%8B%A0_2_2_%EB%8D%B0%EC%9D%B4%ED%84%B0_%EC%A0%84%EC%B2%98%EB%A6%AC.ipynb\" target=\"_parent\"><img src=\"https://colab.research.google.com/assets/colab-badge.svg\" alt=\"Open In Colab\"/></a>"
      ]
    },
    {
      "cell_type": "markdown",
      "source": [
        "외울거"
      ],
      "metadata": {
        "id": "ucMGx_d1m-D5"
      }
    },
    {
      "cell_type": "code",
      "source": [
        "1. numpy\n",
        "랜덤의 시드를 정하는 방법                                   - np.random.seed(42)\n",
        "특정 구간의 정수를 차례대로 반환하는 방법                   - index = np.arange(49)\n",
        "랜덤 섞기                                                   - np.random.shuffle(index)\n",
        "서로 다른 두 개 리스트에서 하나씩 빼서 하나의 원소로 만드는 - np.column_stack()\n",
        "0,1로이루어진 거 만들고 합치기 방법                         - np.concatenate((np.ones(35), np.zeros(14)))\n",
        "\n",
        "2. sklearn\n",
        "train/test 데이터셋 쉽게 만들기 + 층화                      - from sklearn.model_selection import train_test_split"
      ],
      "metadata": {
        "id": "TiMpsRlnm-vc"
      },
      "execution_count": null,
      "outputs": []
    },
    {
      "cell_type": "markdown",
      "source": [
        "   ."
      ],
      "metadata": {
        "id": "yIVx3TUdnM49"
      }
    },
    {
      "cell_type": "markdown",
      "source": [
        "#데이터 만들기"
      ],
      "metadata": {
        "id": "xIXfioiDoqGM"
      }
    },
    {
      "cell_type": "code",
      "source": [
        "import numpy as np"
      ],
      "metadata": {
        "id": "WfNPfKbdmkWt"
      },
      "execution_count": 14,
      "outputs": []
    },
    {
      "cell_type": "code",
      "execution_count": 15,
      "metadata": {
        "id": "kkvq4RenmRez"
      },
      "outputs": [],
      "source": [
        "fish_length = [25.4, 26.3, 26.5, 29.0, 29.0, 29.7, 29.7, 30.0, 30.0, 30.7, 31.0, 31.0,\n",
        "                31.5, 32.0, 32.0, 32.0, 33.0, 33.0, 33.5, 33.5, 34.0, 34.0, 34.5, 35.0,\n",
        "                35.0, 35.0, 35.0, 36.0, 36.0, 37.0, 38.5, 38.5, 39.5, 41.0, 41.0, 9.8,\n",
        "                10.5, 10.6, 11.0, 11.2, 11.3, 11.8, 11.8, 12.0, 12.2, 12.4, 13.0, 14.3, 15.0]\n",
        "fish_weight = [242.0, 290.0, 340.0, 363.0, 430.0, 450.0, 500.0, 390.0, 450.0, 500.0, 475.0, 500.0,\n",
        "                500.0, 340.0, 600.0, 600.0, 700.0, 700.0, 610.0, 650.0, 575.0, 685.0, 620.0, 680.0,\n",
        "                700.0, 725.0, 720.0, 714.0, 850.0, 1000.0, 920.0, 955.0, 925.0, 975.0, 950.0, 6.7,\n",
        "                7.5, 7.0, 9.7, 9.8, 8.7, 10.0, 9.9, 9.8, 12.2, 13.4, 12.2, 19.7, 19.9]"
      ]
    },
    {
      "cell_type": "code",
      "source": [
        "fish_data = np.column_stack((fish_length, fish_weight))\n",
        "print(fish_data[:5])\n",
        "\n",
        "fish_target = np.concatenate((np.ones(35), np.zeros(14)))\n",
        "print(fish_target[:5])"
      ],
      "metadata": {
        "colab": {
          "base_uri": "https://localhost:8080/"
        },
        "id": "viNQI9UPmeTy",
        "outputId": "cdd2ef58-90bf-437d-f4c1-730c71315f85"
      },
      "execution_count": 16,
      "outputs": [
        {
          "output_type": "stream",
          "name": "stdout",
          "text": [
            "[[ 25.4 242. ]\n",
            " [ 26.3 290. ]\n",
            " [ 26.5 340. ]\n",
            " [ 29.  363. ]\n",
            " [ 29.  430. ]]\n",
            "[1. 1. 1. 1. 1.]\n"
          ]
        }
      ]
    },
    {
      "cell_type": "code",
      "source": [
        "#train/test split\n",
        "from sklearn.neighbors import KNeighborsClassifier\n",
        "from sklearn.model_selection import train_test_split\n",
        "\n",
        "train_input, test_input, train_target, test_target = train_test_split(fish_data, fish_target, stratify = fish_target, random_state=42)"
      ],
      "metadata": {
        "id": "Gxv9igiSmwo0"
      },
      "execution_count": 25,
      "outputs": []
    },
    {
      "cell_type": "code",
      "source": [
        "kn = KNeighborsClassifier()\n",
        "kn.fit(train_input, train_target)\n",
        "kn.score(test_input, test_target)"
      ],
      "metadata": {
        "id": "DzLTscM8nze9",
        "colab": {
          "base_uri": "https://localhost:8080/"
        },
        "outputId": "76476ac6-c576-4fe2-d46e-31b911c42dc0"
      },
      "execution_count": 26,
      "outputs": [
        {
          "output_type": "execute_result",
          "data": {
            "text/plain": [
              "1.0"
            ]
          },
          "metadata": {},
          "execution_count": 26
        }
      ]
    },
    {
      "cell_type": "markdown",
      "source": [
        "#25cm에 150g인 녀석은 왜 빙어인걸까?"
      ],
      "metadata": {
        "id": "JpGKUb_gt76W"
      }
    },
    {
      "cell_type": "code",
      "source": [
        "kn.predict([[25,150]])"
      ],
      "metadata": {
        "colab": {
          "base_uri": "https://localhost:8080/"
        },
        "id": "FzPRidTkr5Pn",
        "outputId": "e89e1381-ee9d-43a7-f56a-b33a6403d734"
      },
      "execution_count": 28,
      "outputs": [
        {
          "output_type": "execute_result",
          "data": {
            "text/plain": [
              "array([0.])"
            ]
          },
          "metadata": {},
          "execution_count": 28
        }
      ]
    },
    {
      "cell_type": "code",
      "source": [
        "distances, indexes = kn.kneighbors([[25,150]]) #얘랑 가까운 5개의 데이터 꺼내보기\n",
        "print(train_target[indexes])"
      ],
      "metadata": {
        "colab": {
          "base_uri": "https://localhost:8080/"
        },
        "id": "DFiWbUJmtjEt",
        "outputId": "32c403cb-4f99-40ea-d9bd-013ec45d1913"
      },
      "execution_count": 46,
      "outputs": [
        {
          "output_type": "stream",
          "name": "stdout",
          "text": [
            "[[1. 0. 0. 0. 0.]]\n"
          ]
        }
      ]
    },
    {
      "cell_type": "code",
      "source": [
        "import matplotlib.pyplot as plt\n",
        "plt.scatter(train_input[:,0], train_input[:,1])\n",
        "plt.scatter(25,150, marker='^')\n",
        "plt.scatter(train_input[indexes, 0], train_input[indexes, 1], color='red')\n",
        "\n",
        "plt.xlabel('length')\n",
        "plt.ylabel('weight')\n",
        "plt.show()"
      ],
      "metadata": {
        "colab": {
          "base_uri": "https://localhost:8080/",
          "height": 449
        },
        "id": "_r4zQYlDqzk_",
        "outputId": "8b7d96e7-581a-433e-cda4-95adddbbfed8"
      },
      "execution_count": 40,
      "outputs": [
        {
          "output_type": "display_data",
          "data": {
            "text/plain": [
              "<Figure size 640x480 with 1 Axes>"
            ],
            "image/png": "[encoded data removed]"
          },
          "metadata": {}
        }
      ]
    },
    {
      "cell_type": "code",
      "source": [
        "kn.kneighbors([[25,150]]) #정답 : 가로의 길이가 영향을 끼치지 못함! 정규화 필요!"
      ],
      "metadata": {
        "colab": {
          "base_uri": "https://localhost:8080/"
        },
        "id": "kCBnafQHseDr",
        "outputId": "0873de4c-3d09-4983-fd01-4683f12f502c"
      },
      "execution_count": 47,
      "outputs": [
        {
          "output_type": "execute_result",
          "data": {
            "text/plain": [
              "(array([[ 92.00086956, 130.48375378, 130.73859415, 138.32150953,\n",
              "         138.39320793]]),\n",
              " array([[21, 33, 19, 30,  1]]))"
            ]
          },
          "metadata": {},
          "execution_count": 47
        }
      ]
    },
    {
      "cell_type": "markdown",
      "source": [
        "#정규화"
      ],
      "metadata": {
        "id": "KFTuTyGAvsnt"
      }
    },
    {
      "cell_type": "code",
      "source": [
        "train_input[:5]"
      ],
      "metadata": {
        "colab": {
          "base_uri": "https://localhost:8080/"
        },
        "id": "7VvCEziav0Pz",
        "outputId": "7a526776-5b89-48b6-8930-0582a59b0d8a"
      },
      "execution_count": 52,
      "outputs": [
        {
          "output_type": "execute_result",
          "data": {
            "text/plain": [
              "array([[ 29.7, 500. ],\n",
              "       [ 12.2,  12.2],\n",
              "       [ 33. , 700. ],\n",
              "       [ 11.3,   8.7],\n",
              "       [ 39.5, 925. ]])"
            ]
          },
          "metadata": {},
          "execution_count": 52
        }
      ]
    },
    {
      "cell_type": "code",
      "source": [
        "mean = np.mean(train_input, axis=0)\n",
        "std = np.std(train_input, axis=0)\n",
        "print(mean, std)"
      ],
      "metadata": {
        "colab": {
          "base_uri": "https://localhost:8080/"
        },
        "id": "NsWkDQ4yvtm3",
        "outputId": "341a45c4-5070-4ea4-be23-d69f9bd423a7"
      },
      "execution_count": 49,
      "outputs": [
        {
          "output_type": "stream",
          "name": "stdout",
          "text": [
            "[ 27.29722222 454.09722222] [  9.98244253 323.29893931]\n"
          ]
        }
      ]
    },
    {
      "cell_type": "code",
      "source": [
        "train_scaled = (train_input-mean)/std"
      ],
      "metadata": {
        "id": "ckZoL4vXvxqd"
      },
      "execution_count": 53,
      "outputs": []
    },
    {
      "cell_type": "code",
      "source": [
        "new = ([25,150]-mean)/std\n",
        "\n",
        "plt.scatter(train_scaled[:,0], train_scaled[:,1])\n",
        "plt.scatter(new[0], new[1], marker='^')\n",
        "plt.show()"
      ],
      "metadata": {
        "colab": {
          "base_uri": "https://localhost:8080/",
          "height": 430
        },
        "id": "VYdZoSyLxvOQ",
        "outputId": "e3d37c08-32dd-4310-9b6d-fe9b4ae73cc4"
      },
      "execution_count": 55,
      "outputs": [
        {
          "output_type": "display_data",
          "data": {
            "text/plain": [
              "<Figure size 640x480 with 1 Axes>"
            ],
            "image/png": "[encoded data removed]"
          },
          "metadata": {}
        }
      ]
    },
    {
      "cell_type": "markdown",
      "source": [
        "#다시 훈련"
      ],
      "metadata": {
        "id": "QezmFdkQyEtI"
      }
    },
    {
      "cell_type": "code",
      "source": [
        "kn = KNeighborsClassifier()\n",
        "kn.fit(train_scaled, train_target)\n",
        "\n",
        "test_scaled = (test_input-mean)/std\n",
        "kn.score(test_scaled, test_target)"
      ],
      "metadata": {
        "colab": {
          "base_uri": "https://localhost:8080/"
        },
        "id": "wibchm0hzDQM",
        "outputId": "46b85f38-f5a1-4b8c-aa93-c999029da781"
      },
      "execution_count": 58,
      "outputs": [
        {
          "output_type": "execute_result",
          "data": {
            "text/plain": [
              "1.0"
            ]
          },
          "metadata": {},
          "execution_count": 58
        }
      ]
    },
    {
      "cell_type": "code",
      "source": [
        "distances, indexes = kn.kneighbors([new])\n",
        "\n",
        "plt.scatter(train_scaled[:,0], train_scaled[:,1])\n",
        "plt.scatter(train_scaled[indexes, 0], train_scaled[indexes, 1], color='red')\n",
        "plt.scatter(new[0], new[1], marker='^')\n",
        "plt.scatter\n",
        "\n",
        "plt.show()"
      ],
      "metadata": {
        "colab": {
          "base_uri": "https://localhost:8080/",
          "height": 430
        },
        "id": "C6tV19LWzMg9",
        "outputId": "31ae85b6-2b9e-4d83-ff5b-d1cc9eb1f5c6"
      },
      "execution_count": 63,
      "outputs": [
        {
          "output_type": "display_data",
          "data": {
            "text/plain": [
              "<Figure size 640x480 with 1 Axes>"
            ],
            "image/png": "[encoded data removed]"
          },
          "metadata": {}
        }
      ]
    },
    {
      "cell_type": "code",
      "source": [],
      "metadata": {
        "id": "KDwFJZBaz2O2"
      },
      "execution_count": null,
      "outputs": []
    }
  ]
}