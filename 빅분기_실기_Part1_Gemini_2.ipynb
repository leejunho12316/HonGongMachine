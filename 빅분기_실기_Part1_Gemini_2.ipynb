{
  "nbformat": 4,
  "nbformat_minor": 0,
  "metadata": {
    "colab": {
      "provenance": [],
      "authorship_tag": "ABX9TyNIuBvjnXNCZ/nAa0IH1cHV",
      "include_colab_link": true
    },
    "kernelspec": {
      "name": "python3",
      "display_name": "Python 3"
    },
    "language_info": {
      "name": "python"
    }
  },
  "cells": [
    {
      "cell_type": "markdown",
      "metadata": {
        "id": "view-in-github",
        "colab_type": "text"
      },
      "source": [
        "<a href=\"https://colab.research.google.com/github/leejunho12316/HonGongMachine/blob/main/%EB%B9%85%EB%B6%84%EA%B8%B0_%EC%8B%A4%EA%B8%B0_Part1_Gemini_2.ipynb\" target=\"_parent\"><img src=\"https://colab.research.google.com/assets/colab-badge.svg\" alt=\"Open In Colab\"/></a>"
      ]
    },
    {
      "cell_type": "markdown",
      "source": [
        "문제 1\n",
        "\n",
        "제시문\n",
        "'수학교사'가 '김선생'이고 '영어교사'가 '장선생'인 학생들을 필터링하시오.\n",
        "\n",
        "이 학생들의 '수학', '영어', '국어' 점수를 합산하여 '총점'이라는 새로운 컬럼을 만드시오.\n",
        "\n",
        "'총점'이 가장 높은 학생의 '이름'을 출력하시오."
      ],
      "metadata": {
        "id": "tsmH8sRHjNCW"
      }
    },
    {
      "cell_type": "code",
      "execution_count": 5,
      "metadata": {
        "colab": {
          "base_uri": "https://localhost:8080/"
        },
        "id": "zHVnrl7yi59Z",
        "outputId": "5f1bbf17-881d-43cd-ae9a-03b1e6958091"
      },
      "outputs": [
        {
          "output_type": "stream",
          "name": "stdout",
          "text": [
            "원숭이\n"
          ]
        }
      ],
      "source": [
        "import pandas as pd\n",
        "df = pd.read_csv('school_data.csv')\n",
        "\n",
        "cond1 = df['수학교사'] == '김선생'\n",
        "cond2 = df['영어교사'] == '장선생'\n",
        "df = df[cond1 & cond2]\n",
        "\n",
        "df['총점'] = df[['수학','영어','국어']].sum(axis=1)\n",
        "\n",
        "idx = df['총점'].idxmax()\n",
        "print(df.loc[idx,'이름'])"
      ]
    },
    {
      "cell_type": "markdown",
      "source": [
        "문제 2\n",
        "\n",
        "제시문\n",
        "'국어교사'가 '이선생' 또는 '최선생'인 학생들의 데이터를 추출하시오.\n",
        "\n",
        "추출된 데이터에서 '국어' 점수가 가장 높은 상위 5명의 학생을 찾으시오.\n",
        "\n",
        "이 5명 학생들의 '영어' 점수 평균을 계산하고, 소수점 둘째 자리까지 반올림하여 출력하시오."
      ],
      "metadata": {
        "id": "1nPJ3dgvjr2c"
      }
    },
    {
      "cell_type": "code",
      "source": [
        "import pandas as pd\n",
        "df = pd.read_csv('school_data.csv')\n",
        "\n",
        "cond1 = df['국어교사'] == '이선생'\n",
        "cond2 = df['국어교사'] == '최선생'\n",
        "df = df[cond1 | cond2]\n",
        "\n",
        "df = df.nlargest(5, '국어')\n",
        "\n",
        "res = df['영어'].mean()\n",
        "print(round(res, 2))"
      ],
      "metadata": {
        "colab": {
          "base_uri": "https://localhost:8080/"
        },
        "id": "rekQELvsjsSE",
        "outputId": "98754bb1-8b32-46a4-c487-7bda218b46c6"
      },
      "execution_count": 9,
      "outputs": [
        {
          "output_type": "stream",
          "name": "stdout",
          "text": [
            "49.8\n"
          ]
        }
      ]
    },
    {
      "cell_type": "markdown",
      "source": [
        "문제 3\n",
        "\n",
        "제시문\n",
        "각 학생의 '수학교사'를 기준으로 해당 교사가 담당하는 학생들의 '수학' 점수 평균을 계산하고, '수학선생님평균'이라는 새로운 컬럼에 추가하시오. (예: '김선생'이 담당하는 모든 학생의 수학 점수 평균을 '김선생' 학생들의 '수학선생님평균' 컬럼 값으로 넣습니다.)\n",
        "\n",
        "자신의 '수학' 점수가 자신이 속한 '수학선생님평균' 점수보다 높은 학생은 '상위권', 아닌 경우는 '하위권'으로 분류하는 '수학성취도' 컬럼을 만드시오.\n",
        "\n",
        "'수학성취도'가 '상위권'인 학생의 수를 계산하여 정수로 출력하시오."
      ],
      "metadata": {
        "id": "FM56JY_MkJRi"
      }
    },
    {
      "cell_type": "code",
      "source": [
        "import pandas as pd\n",
        "df = pd.read_csv('school_data.csv')\n",
        "\n",
        "df['수학선생님평균'] = df.groupby('수학교사')['수학'].transform('mean')\n",
        "\n",
        "df['수학성취도'] = df['수학'] > df['수학선생님평균']\n",
        "df['수학성취도'] = df['수학성취도'].map({True : '상위권', False : '하위권'})\n",
        "\n",
        "print((df['수학성취도'] == '상위권').sum())"
      ],
      "metadata": {
        "colab": {
          "base_uri": "https://localhost:8080/"
        },
        "id": "SOYhJAR4kKkR",
        "outputId": "de3e9c8e-5201-4ca2-f707-7de18625cb84"
      },
      "execution_count": 25,
      "outputs": [
        {
          "output_type": "stream",
          "name": "stdout",
          "text": [
            "18\n"
          ]
        }
      ]
    },
    {
      "cell_type": "markdown",
      "source": [
        "문제 4\n",
        "\n",
        "제시문\n",
        "'수학교사' 컬럼의 '김선생'을 'Kim', '박선생'을 'Park'으로 변경하시오.\n",
        "\n",
        "데이터를 재구조화하여 '이름'을 인덱스로, '수학교사'를 컬럼으로, '수학' 점수를 값으로 하는 피벗 테이블(pivot table)을 만드시오.\n",
        "\n",
        "생성된 피벗 테이블에서 '호랑이' 학생의 'Park' 선생님 반의 점수를 정수로 출력하시오. (결측치가 있다면 0으로 간주합니다.)"
      ],
      "metadata": {
        "id": "r7rCeE2Mlr_V"
      }
    },
    {
      "cell_type": "code",
      "source": [
        "import pandas as pd\n",
        "df = pd.read_csv('school_data.csv')\n",
        "\n",
        "#df['수학교사'] = df['수학교사'].replace('김선생', 'Kim').replace('박선생', 'Park')\n",
        "df['수학교사'] = df['수학교사'].replace({'김선생' : 'Kim', '박선생' : 'Park'})\n",
        "\n",
        "df_pivot = pd.pivot_table(data=df, index = '이름', columns='수학교사', values = '수학')\n",
        "\n",
        "df_pivot.fillna(0, inplace=True)\n",
        "res = df_pivot.loc['호랑이', 'Park']\n",
        "\n",
        "print(int(res))"
      ],
      "metadata": {
        "colab": {
          "base_uri": "https://localhost:8080/"
        },
        "id": "2bpKGyzyl4tG",
        "outputId": "5f52d474-5f97-41ed-fb0e-c24d1c956e42"
      },
      "execution_count": 55,
      "outputs": [
        {
          "output_type": "stream",
          "name": "stdout",
          "text": [
            "83\n"
          ]
        }
      ]
    },
    {
      "cell_type": "markdown",
      "source": [
        "문제 5\n",
        "\n",
        "제시문\n",
        "'이름' 컬럼을 식별자(id)로 두고, '수학', '영어', '국어' 점수를 풀어써서 '과목'과 '점수' 컬럼으로 구성된 긴 형태(long format)의 데이터로 변환하시오.\n",
        "\n",
        "각 '과목'별 '점수'의 평균을 계산하시오.\n",
        "\n",
        "계산된 평균 점수들을 정수형으로 변환하고, 그중 가장 낮은 평균 점수를 가진 '과목'의 이름을 출력하시오."
      ],
      "metadata": {
        "id": "EfnrO7pXl4wx"
      }
    },
    {
      "cell_type": "code",
      "source": [
        "import pandas as pd\n",
        "df = pd.read_csv('school_data.csv')\n",
        "\n",
        "df_melt = df.melt(id_vars = '이름', value_vars = ['수학','영어','국어'], var_name = '과목', value_name = '점수')\n",
        "\n",
        "df_melt = df_melt.groupby('과목')['점수'].mean()\n",
        "df_melt = df_melt.astype(int)\n",
        "\n",
        "print(df_melt.idxmin())"
      ],
      "metadata": {
        "colab": {
          "base_uri": "https://localhost:8080/"
        },
        "id": "0tpQzRCNl40k",
        "outputId": "e45ac06b-4dce-4259-d0ac-ca736bbc3657"
      },
      "execution_count": 49,
      "outputs": [
        {
          "output_type": "stream",
          "name": "stdout",
          "text": [
            "국어\n"
          ]
        }
      ]
    },
    {
      "cell_type": "markdown",
      "source": [
        "문제 6\n",
        "제시문\n",
        "\n",
        "'국어' 점수가 가장 낮은 5명의 학생 데이터를 찾으시오.\n",
        "\n",
        "이 5명의 데이터 중, 위에서부터 순서대로 3명의 학생만 정수 인덱싱을 사용하여 선택하시오.\n",
        "\n",
        "선택된 3명의 '수학' 점수의 합을 정수로 출력하시오."
      ],
      "metadata": {
        "id": "R0OMtqnunpkf"
      }
    },
    {
      "cell_type": "code",
      "source": [
        "import pandas as pd\n",
        "df = pd.read_csv('school_data.csv')\n",
        "\n",
        "df = df.nsmallest(5,'국어')\n",
        "\n",
        "df = df.iloc[0:3, :]\n",
        "\n",
        "res = df['수학'].sum()\n",
        "print(int(res))"
      ],
      "metadata": {
        "colab": {
          "base_uri": "https://localhost:8080/"
        },
        "id": "Pfm8HnNznqFA",
        "outputId": "04b9366f-6bc9-4be7-9165-eda250810fc7"
      },
      "execution_count": 57,
      "outputs": [
        {
          "output_type": "stream",
          "name": "stdout",
          "text": [
            "243\n"
          ]
        }
      ]
    },
    {
      "cell_type": "markdown",
      "source": [
        "문제 7\n",
        "\n",
        "제시문\n",
        "'이름' 컬럼의 값 뒤에 '-A반'이라는 문자열을 추가하여 '소속'이라는 새로운 컬럼을 만드시오. (예: '강아지' -> '강아지-A반')\n",
        "\n",
        "'소속' 컬럼을 '-'를 기준으로 분리하여 첫 번째 값은 '이름', 두 번째 값은 '반'으로 하는 두 개의 새로운 컬럼을 기존 데이터프레임에 추가하시오.\n",
        "\n",
        "'반' 컬럼의 모든 값을 'B반'으로 변경하고, 가장 마지막 행에 '이름':'전학생', '수학':80, '영어':85, '국어':90, '수학교사':'박선생', '영어교사':'유선생', '국어교사':'최선생', '반':'B반' 정보를 가진 새로운 학생을 추가하시오.\n",
        "\n",
        "'B반' 학생들의 '국어' 점수 총합을 정수로 출력하시오."
      ],
      "metadata": {
        "id": "qiTw4gc7oxSG"
      }
    },
    {
      "cell_type": "code",
      "source": [
        "import pandas as pd\n",
        "df = pd.read_csv('school_data.csv')\n",
        "\n",
        "df['소속'] = df['이름'] + '-A반'\n",
        "\n",
        "#df['이름'], df['반'] = df['소속'].str.split('-').str[0], df['소속'].str.split('-').str[1]\n",
        "df[['이름','반']] = df['소속'].str.split('-', expand=True)\n",
        "\n",
        "df['반'] = 'B반'\n",
        "\n",
        "df.loc[len(df)] = {'이름' : '전학생', '수학' : 80, '영어' : 90, '국어' : 90, '수학교사' : '박선생', '영어교사' : '유선생', '국어교사' : '최선생', '반' : 'B반'}\n",
        "\n",
        "res = df[df['반'] == 'B반']['국어'].sum()\n",
        "print(int(res))"
      ],
      "metadata": {
        "colab": {
          "base_uri": "https://localhost:8080/"
        },
        "id": "qZWiRODpp9hs",
        "outputId": "77eddcbc-ef49-4795-ad7a-3dce98f0833c"
      },
      "execution_count": 133,
      "outputs": [
        {
          "output_type": "stream",
          "name": "stdout",
          "text": [
            "1455\n"
          ]
        }
      ]
    },
    {
      "cell_type": "markdown",
      "source": [
        "문제 8\n",
        "\n",
        "제시문\n",
        "'영어' 점수가 70점 미만인 학생들의 '영어' 점수를 결측치(NaN)로 처리하시오.\n",
        "\n",
        "'영어' 점수에 결측치가 있는 행을 모두 제거하시오.\n",
        "\n",
        "남은 학생들의 '수학', '영어', '국어' 점수의 평균을 계산하여 '평균' 컬럼을 만드시오.\n",
        "\n",
        "'평균' 점수가 정수인 학생의 수를 계산하여 출력하시오."
      ],
      "metadata": {
        "id": "pP3lKQtarK0p"
      }
    },
    {
      "cell_type": "code",
      "source": [
        "import pandas as pd\n",
        "df = pd.read_csv('school_data.csv')\n",
        "\n",
        "import numpy as np\n",
        "cond = df['영어'] < 70\n",
        "df.loc[cond, '영어'] = np.nan\n",
        "\n",
        "df.dropna(subset=['영어'], inplace=True)\n",
        "\n",
        "df['평균'] = df[['수학','영어','국어']].mean(axis=1)\n",
        "\n",
        "cond = df['평균'] == round(df['평균'], 0)\n",
        "res = cond.sum()\n",
        "\n",
        "print(int(res))"
      ],
      "metadata": {
        "colab": {
          "base_uri": "https://localhost:8080/"
        },
        "id": "hf3-qbKRrMrS",
        "outputId": "617f93d5-cbe3-462b-fc10-3fc167e0b008"
      },
      "execution_count": 112,
      "outputs": [
        {
          "output_type": "stream",
          "name": "stdout",
          "text": [
            "3\n"
          ]
        }
      ]
    },
    {
      "cell_type": "markdown",
      "source": [
        "문제 9\n",
        "\n",
        "제시문\n",
        "'수학' 점수가 30점 미만인 학생들의 '수학' 점수를 결측치(NaN)로 만드시오.\n",
        "\n",
        "각 '수학교사'가 담당하는 학생들의 '수학' 점수 평균을 계산하여, 결측치를 해당 교사의 평균 점수로 채우시오.\n",
        "\n",
        "결측치를 채운 후, 전체 학생의 '수학' 점수와 '국어' 점수 간의 상관계수를 계산하시오.\n",
        "\n",
        "계산된 상관계수를 소수점 셋째 자리에서 반올림하여 둘째 자리까지 출력하시오."
      ],
      "metadata": {
        "id": "fL8Jymrfro8Q"
      }
    },
    {
      "cell_type": "code",
      "source": [
        "import pandas as pd\n",
        "df = pd.read_csv('school_data.csv')\n",
        "\n",
        "import numpy as np\n",
        "cond = df['수학'] < 30\n",
        "df.loc[cond, '수학'] = np.nan\n",
        "\n",
        "g = df.groupby('수학교사')['수학'].transform('mean')\n",
        "df['수학'].fillna(g, inplace=True)\n",
        "\n",
        "df_corr = df[['수학','국어']].corr()\n",
        "res = df_corr.iloc[0, 1]\n",
        "print(round(res, 2))\n"
      ],
      "metadata": {
        "colab": {
          "base_uri": "https://localhost:8080/"
        },
        "id": "gTYloy1_sGmq",
        "outputId": "f763db8c-d77d-4f4e-d006-1e125815af4c"
      },
      "execution_count": 121,
      "outputs": [
        {
          "output_type": "stream",
          "name": "stdout",
          "text": [
            "0.11\n"
          ]
        },
        {
          "output_type": "stream",
          "name": "stderr",
          "text": [
            "/tmp/ipython-input-60094390.py:9: FutureWarning: A value is trying to be set on a copy of a DataFrame or Series through chained assignment using an inplace method.\n",
            "The behavior will change in pandas 3.0. This inplace method will never work because the intermediate object on which we are setting values always behaves as a copy.\n",
            "\n",
            "For example, when doing 'df[col].method(value, inplace=True)', try using 'df.method({col: value}, inplace=True)' or df[col] = df[col].method(value) instead, to perform the operation inplace on the original object.\n",
            "\n",
            "\n",
            "  df['수학'].fillna(g, inplace=True)\n"
          ]
        }
      ]
    },
    {
      "cell_type": "markdown",
      "source": [
        "최종 문제\n",
        "\n",
        "제시문\n",
        "(데이터 정제) '수학', '영어', '국어' 각 과목에서 20점 미만인 점수를 이상치로 간주하여 결측치(NaN)로 처리하시오.\n",
        "\n",
        "(결측치 처리) '영어교사'별로 그룹화하여 해당 그룹의 '영어' 과목 평균 점수를 계산하고, 이를 사용해 '영어' 컬럼의 결측치를 채우시오.\n",
        "\n",
        "(파생 변수 생성 1) 모든 과목의 평균 점수를 계산하여 '평균' 컬럼을 생성하시오. 그 후, '평균' 점수가 65점 이상이면 '통과', 미만이면 '과락'으로 분류하는 '합격여부' 컬럼을 만드시오.\n",
        "\n",
        "(파생 변수 생성 2) '수학교사' 컬럼의 값에서 '선생'을 제외하고 '김', '박'과 같은 성(last name)만 추출하여 '수학담당'이라는 새로운 컬럼을 만드시오.\n",
        "\n",
        "(데이터 집계) '수학담당'과 '합격여부'를 기준으로 그룹화하여 각 그룹에 속한 학생들의 '평균' 점수의 평균을 계산하시오.\n",
        "\n",
        "(결과 제출) 위에서 집계한 결과에서, '김' 선생님이 담당하는 학생들 중 '통과'한 그룹의 평균 점수를 소수점 둘째 자리까지 반올림하여 출력하시오."
      ],
      "metadata": {
        "id": "xOmCylY7unWa"
      }
    },
    {
      "cell_type": "code",
      "source": [
        "import pandas as pd\n",
        "import numpy as np\n",
        "df = pd.read_csv('school_data.csv')\n",
        "\n",
        "df.loc[df['수학'] < 20, '수학'] = np.nan\n",
        "df.loc[df['영어'] < 20, '영어'] = np.nan\n",
        "df.loc[df['국어'] < 20, '국어'] = np.nan\n",
        "\n",
        "m = df.groupby('영어교사')['영어'].transform('mean')\n",
        "df['영어'].fillna(m, inplace=True)\n",
        "\n",
        "df['평균'] = df[['수학','영어','국어']].mean(axis=1)\n",
        "df['합격여부'] = '과락'\n",
        "df.loc[df['평균'] >= 65, '합격여부'] = '통과'\n",
        "\n",
        "df['수학담당'] = df['수학교사'].str.replace('선생','')\n",
        "\n",
        "df = df.groupby(['수학담당','합격여부'])['평균'].mean()\n",
        "\n",
        "#res = df.unstack().loc['김', '통과']\n",
        "#print(round(res, 2))\n",
        "res = df.loc[('김','통과')]\n",
        "print(round(res, 2))\n"
      ],
      "metadata": {
        "colab": {
          "base_uri": "https://localhost:8080/"
        },
        "id": "z1idBUbduuNX",
        "outputId": "afe41256-9f0b-4a85-eb39-74db3ae38f23"
      },
      "execution_count": 187,
      "outputs": [
        {
          "output_type": "stream",
          "name": "stdout",
          "text": [
            "82.6\n"
          ]
        },
        {
          "output_type": "stream",
          "name": "stderr",
          "text": [
            "/tmp/ipython-input-336538586.py:10: FutureWarning: A value is trying to be set on a copy of a DataFrame or Series through chained assignment using an inplace method.\n",
            "The behavior will change in pandas 3.0. This inplace method will never work because the intermediate object on which we are setting values always behaves as a copy.\n",
            "\n",
            "For example, when doing 'df[col].method(value, inplace=True)', try using 'df.method({col: value}, inplace=True)' or df[col] = df[col].method(value) instead, to perform the operation inplace on the original object.\n",
            "\n",
            "\n",
            "  df['영어'].fillna(m, inplace=True)\n"
          ]
        }
      ]
    },
    {
      "cell_type": "code",
      "source": [
        "df"
      ],
      "metadata": {
        "colab": {
          "base_uri": "https://localhost:8080/",
          "height": 241
        },
        "id": "-hE-vCi7yJan",
        "outputId": "c59d362e-1525-42b9-d64b-3fce0e62cb16"
      },
      "execution_count": 185,
      "outputs": [
        {
          "output_type": "execute_result",
          "data": {
            "text/plain": [
              "수학담당  합격여부\n",
              "김     과락      52.910714\n",
              "      통과      82.603175\n",
              "박     과락      52.755102\n",
              "      통과      70.833333\n",
              "Name: 평균, dtype: float64"
            ],
            "text/html": [
              "<div>\n",
              "<style scoped>\n",
              "    .dataframe tbody tr th:only-of-type {\n",
              "        vertical-align: middle;\n",
              "    }\n",
              "\n",
              "    .dataframe tbody tr th {\n",
              "        vertical-align: top;\n",
              "    }\n",
              "\n",
              "    .dataframe thead th {\n",
              "        text-align: right;\n",
              "    }\n",
              "</style>\n",
              "<table border=\"1\" class=\"dataframe\">\n",
              "  <thead>\n",
              "    <tr style=\"text-align: right;\">\n",
              "      <th></th>\n",
              "      <th></th>\n",
              "      <th>평균</th>\n",
              "    </tr>\n",
              "    <tr>\n",
              "      <th>수학담당</th>\n",
              "      <th>합격여부</th>\n",
              "      <th></th>\n",
              "    </tr>\n",
              "  </thead>\n",
              "  <tbody>\n",
              "    <tr>\n",
              "      <th rowspan=\"2\" valign=\"top\">김</th>\n",
              "      <th>과락</th>\n",
              "      <td>52.910714</td>\n",
              "    </tr>\n",
              "    <tr>\n",
              "      <th>통과</th>\n",
              "      <td>82.603175</td>\n",
              "    </tr>\n",
              "    <tr>\n",
              "      <th rowspan=\"2\" valign=\"top\">박</th>\n",
              "      <th>과락</th>\n",
              "      <td>52.755102</td>\n",
              "    </tr>\n",
              "    <tr>\n",
              "      <th>통과</th>\n",
              "      <td>70.833333</td>\n",
              "    </tr>\n",
              "  </tbody>\n",
              "</table>\n",
              "</div><br><label><b>dtype:</b> float64</label>"
            ]
          },
          "metadata": {},
          "execution_count": 185
        }
      ]
    },
    {
      "cell_type": "code",
      "source": [],
      "metadata": {
        "id": "dMQfdscPvM8P"
      },
      "execution_count": null,
      "outputs": []
    }
  ]
}