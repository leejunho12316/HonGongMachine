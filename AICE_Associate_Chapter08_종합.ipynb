{
  "nbformat": 4,
  "nbformat_minor": 0,
  "metadata": {
    "colab": {
      "provenance": [],
      "collapsed_sections": [
        "C_yJ5WcW2RTp",
        "rInoaqkV1gHr",
        "VPQZDUdM9gEz"
      ],
      "authorship_tag": "ABX9TyO9IYDY3gBzIgmGfdwJPLjs",
      "include_colab_link": true
    },
    "kernelspec": {
      "name": "python3",
      "display_name": "Python 3"
    },
    "language_info": {
      "name": "python"
    }
  },
  "cells": [
    {
      "cell_type": "markdown",
      "metadata": {
        "id": "view-in-github",
        "colab_type": "text"
      },
      "source": [
        "<a href=\"https://colab.research.google.com/github/leejunho12316/HonGongMachine/blob/main/AICE_Associate_Chapter08_%EC%A2%85%ED%95%A9.ipynb\" target=\"_parent\"><img src=\"https://colab.research.google.com/assets/colab-badge.svg\" alt=\"Open In Colab\"/></a>"
      ]
    },
    {
      "cell_type": "code",
      "execution_count": null,
      "metadata": {
        "id": "XxtvPwdvy7og"
      },
      "outputs": [],
      "source": [
        "import numpy as np\n",
        "import pandas as pd\n",
        "import matplotlib.pyplot as plt"
      ]
    },
    {
      "cell_type": "markdown",
      "source": [
        "#선형 회귀"
      ],
      "metadata": {
        "id": "C_yJ5WcW2RTp"
      }
    },
    {
      "cell_type": "code",
      "source": [
        "from sklearn.model_selection import train_test_split\n",
        "from sklearn.linear_model import LinearRegression\n",
        "from sklearn.metrics import mean_squared_error"
      ],
      "metadata": {
        "id": "VcryzDMi3CHH"
      },
      "execution_count": null,
      "outputs": []
    },
    {
      "cell_type": "code",
      "source": [
        "df = pd.read_csv('/content/국민건강보험공단_건강검진정보_20211231_수정.CSV', encoding='cp949')\n",
        "pd.set_option('display.max_columns', None)\n",
        "df.drop(['치아우식증유무', '치석','시력(좌)', '시력(우)', '청력(좌)', '청력(우)','구강검진수검여부','기준년도', '가입자일련번호', '시도코드', '성별'],\n",
        "                 axis=1, inplace=True)\n",
        "df.head(3)"
      ],
      "metadata": {
        "colab": {
          "base_uri": "https://localhost:8080/",
          "height": 161
        },
        "id": "1UFniuRczgO5",
        "outputId": "52fdbbed-20cc-47bf-a07d-2d0bb323f5f8"
      },
      "execution_count": null,
      "outputs": [
        {
          "output_type": "execute_result",
          "data": {
            "text/plain": [
              "   연령대코드(5세단위)  신장(5cm단위)  체중(5kg단위)  허리둘레  수축기혈압  이완기혈압  식전혈당(공복혈당)  총콜레스테롤  \\\n",
              "0           10        160         65  86.4  110.0   72.0       179.0     NaN   \n",
              "1            8        175         90  94.0  126.0   76.0        86.0     NaN   \n",
              "2           13        160         55  80.0  183.0  109.0       115.0     NaN   \n",
              "\n",
              "   트리글리세라이드  HDL콜레스테롤  LDL콜레스테롤   혈색소  요단백  혈청크레아티닌  혈청지오티(AST)  혈청지피티(ALT)  \\\n",
              "0       NaN       NaN       NaN  14.3  1.0      0.8        18.0        20.0   \n",
              "1       NaN       NaN       NaN  16.0  1.0      0.8        58.0       144.0   \n",
              "2       NaN       NaN       NaN  13.8  1.0      0.8        32.0        26.0   \n",
              "\n",
              "   감마지티피  흡연상태  음주여부  \n",
              "0   28.0   1.0   1.0  \n",
              "1   74.0   1.0   1.0  \n",
              "2   38.0   1.0   1.0  "
            ],
            "text/html": [
              "\n",
              "  <div id=\"df-34671fe1-0486-429c-8f63-c26f1120cbbe\" class=\"colab-df-container\">\n",
              "    <div>\n",
              "<style scoped>\n",
              "    .dataframe tbody tr th:only-of-type {\n",
              "        vertical-align: middle;\n",
              "    }\n",
              "\n",
              "    .dataframe tbody tr th {\n",
              "        vertical-align: top;\n",
              "    }\n",
              "\n",
              "    .dataframe thead th {\n",
              "        text-align: right;\n",
              "    }\n",
              "</style>\n",
              "<table border=\"1\" class=\"dataframe\">\n",
              "  <thead>\n",
              "    <tr style=\"text-align: right;\">\n",
              "      <th></th>\n",
              "      <th>연령대코드(5세단위)</th>\n",
              "      <th>신장(5cm단위)</th>\n",
              "      <th>체중(5kg단위)</th>\n",
              "      <th>허리둘레</th>\n",
              "      <th>수축기혈압</th>\n",
              "      <th>이완기혈압</th>\n",
              "      <th>식전혈당(공복혈당)</th>\n",
              "      <th>총콜레스테롤</th>\n",
              "      <th>트리글리세라이드</th>\n",
              "      <th>HDL콜레스테롤</th>\n",
              "      <th>LDL콜레스테롤</th>\n",
              "      <th>혈색소</th>\n",
              "      <th>요단백</th>\n",
              "      <th>혈청크레아티닌</th>\n",
              "      <th>혈청지오티(AST)</th>\n",
              "      <th>혈청지피티(ALT)</th>\n",
              "      <th>감마지티피</th>\n",
              "      <th>흡연상태</th>\n",
              "      <th>음주여부</th>\n",
              "    </tr>\n",
              "  </thead>\n",
              "  <tbody>\n",
              "    <tr>\n",
              "      <th>0</th>\n",
              "      <td>10</td>\n",
              "      <td>160</td>\n",
              "      <td>65</td>\n",
              "      <td>86.4</td>\n",
              "      <td>110.0</td>\n",
              "      <td>72.0</td>\n",
              "      <td>179.0</td>\n",
              "      <td>NaN</td>\n",
              "      <td>NaN</td>\n",
              "      <td>NaN</td>\n",
              "      <td>NaN</td>\n",
              "      <td>14.3</td>\n",
              "      <td>1.0</td>\n",
              "      <td>0.8</td>\n",
              "      <td>18.0</td>\n",
              "      <td>20.0</td>\n",
              "      <td>28.0</td>\n",
              "      <td>1.0</td>\n",
              "      <td>1.0</td>\n",
              "    </tr>\n",
              "    <tr>\n",
              "      <th>1</th>\n",
              "      <td>8</td>\n",
              "      <td>175</td>\n",
              "      <td>90</td>\n",
              "      <td>94.0</td>\n",
              "      <td>126.0</td>\n",
              "      <td>76.0</td>\n",
              "      <td>86.0</td>\n",
              "      <td>NaN</td>\n",
              "      <td>NaN</td>\n",
              "      <td>NaN</td>\n",
              "      <td>NaN</td>\n",
              "      <td>16.0</td>\n",
              "      <td>1.0</td>\n",
              "      <td>0.8</td>\n",
              "      <td>58.0</td>\n",
              "      <td>144.0</td>\n",
              "      <td>74.0</td>\n",
              "      <td>1.0</td>\n",
              "      <td>1.0</td>\n",
              "    </tr>\n",
              "    <tr>\n",
              "      <th>2</th>\n",
              "      <td>13</td>\n",
              "      <td>160</td>\n",
              "      <td>55</td>\n",
              "      <td>80.0</td>\n",
              "      <td>183.0</td>\n",
              "      <td>109.0</td>\n",
              "      <td>115.0</td>\n",
              "      <td>NaN</td>\n",
              "      <td>NaN</td>\n",
              "      <td>NaN</td>\n",
              "      <td>NaN</td>\n",
              "      <td>13.8</td>\n",
              "      <td>1.0</td>\n",
              "      <td>0.8</td>\n",
              "      <td>32.0</td>\n",
              "      <td>26.0</td>\n",
              "      <td>38.0</td>\n",
              "      <td>1.0</td>\n",
              "      <td>1.0</td>\n",
              "    </tr>\n",
              "  </tbody>\n",
              "</table>\n",
              "</div>\n",
              "    <div class=\"colab-df-buttons\">\n",
              "\n",
              "  <div class=\"colab-df-container\">\n",
              "    <button class=\"colab-df-convert\" onclick=\"convertToInteractive('df-34671fe1-0486-429c-8f63-c26f1120cbbe')\"\n",
              "            title=\"Convert this dataframe to an interactive table.\"\n",
              "            style=\"display:none;\">\n",
              "\n",
              "  <svg xmlns=\"http://www.w3.org/2000/svg\" height=\"24px\" viewBox=\"0 -960 960 960\">\n",
              "    <path d=\"M120-120v-720h720v720H120Zm60-500h600v-160H180v160Zm220 220h160v-160H400v160Zm0 220h160v-160H400v160ZM180-400h160v-160H180v160Zm440 0h160v-160H620v160ZM180-180h160v-160H180v160Zm440 0h160v-160H620v160Z\"/>\n",
              "  </svg>\n",
              "    </button>\n",
              "\n",
              "  <style>\n",
              "    .colab-df-container {\n",
              "      display:flex;\n",
              "      gap: 12px;\n",
              "    }\n",
              "\n",
              "    .colab-df-convert {\n",
              "      background-color: #E8F0FE;\n",
              "      border: none;\n",
              "      border-radius: 50%;\n",
              "      cursor: pointer;\n",
              "      display: none;\n",
              "      fill: #1967D2;\n",
              "      height: 32px;\n",
              "      padding: 0 0 0 0;\n",
              "      width: 32px;\n",
              "    }\n",
              "\n",
              "    .colab-df-convert:hover {\n",
              "      background-color: #E2EBFA;\n",
              "      box-shadow: 0px 1px 2px rgba(60, 64, 67, 0.3), 0px 1px 3px 1px rgba(60, 64, 67, 0.15);\n",
              "      fill: #174EA6;\n",
              "    }\n",
              "\n",
              "    .colab-df-buttons div {\n",
              "      margin-bottom: 4px;\n",
              "    }\n",
              "\n",
              "    [theme=dark] .colab-df-convert {\n",
              "      background-color: #3B4455;\n",
              "      fill: #D2E3FC;\n",
              "    }\n",
              "\n",
              "    [theme=dark] .colab-df-convert:hover {\n",
              "      background-color: #434B5C;\n",
              "      box-shadow: 0px 1px 3px 1px rgba(0, 0, 0, 0.15);\n",
              "      filter: drop-shadow(0px 1px 2px rgba(0, 0, 0, 0.3));\n",
              "      fill: #FFFFFF;\n",
              "    }\n",
              "  </style>\n",
              "\n",
              "    <script>\n",
              "      const buttonEl =\n",
              "        document.querySelector('#df-34671fe1-0486-429c-8f63-c26f1120cbbe button.colab-df-convert');\n",
              "      buttonEl.style.display =\n",
              "        google.colab.kernel.accessAllowed ? 'block' : 'none';\n",
              "\n",
              "      async function convertToInteractive(key) {\n",
              "        const element = document.querySelector('#df-34671fe1-0486-429c-8f63-c26f1120cbbe');\n",
              "        const dataTable =\n",
              "          await google.colab.kernel.invokeFunction('convertToInteractive',\n",
              "                                                    [key], {});\n",
              "        if (!dataTable) return;\n",
              "\n",
              "        const docLinkHtml = 'Like what you see? Visit the ' +\n",
              "          '<a target=\"_blank\" href=https://colab.research.google.com/notebooks/data_table.ipynb>data table notebook</a>'\n",
              "          + ' to learn more about interactive tables.';\n",
              "        element.innerHTML = '';\n",
              "        dataTable['output_type'] = 'display_data';\n",
              "        await google.colab.output.renderOutput(dataTable, element);\n",
              "        const docLink = document.createElement('div');\n",
              "        docLink.innerHTML = docLinkHtml;\n",
              "        element.appendChild(docLink);\n",
              "      }\n",
              "    </script>\n",
              "  </div>\n",
              "\n",
              "\n",
              "    <div id=\"df-5bc5740f-e460-49a1-86b1-791954ee63c7\">\n",
              "      <button class=\"colab-df-quickchart\" onclick=\"quickchart('df-5bc5740f-e460-49a1-86b1-791954ee63c7')\"\n",
              "                title=\"Suggest charts\"\n",
              "                style=\"display:none;\">\n",
              "\n",
              "<svg xmlns=\"http://www.w3.org/2000/svg\" height=\"24px\"viewBox=\"0 0 24 24\"\n",
              "     width=\"24px\">\n",
              "    <g>\n",
              "        <path d=\"M19 3H5c-1.1 0-2 .9-2 2v14c0 1.1.9 2 2 2h14c1.1 0 2-.9 2-2V5c0-1.1-.9-2-2-2zM9 17H7v-7h2v7zm4 0h-2V7h2v10zm4 0h-2v-4h2v4z\"/>\n",
              "    </g>\n",
              "</svg>\n",
              "      </button>\n",
              "\n",
              "<style>\n",
              "  .colab-df-quickchart {\n",
              "      --bg-color: #E8F0FE;\n",
              "      --fill-color: #1967D2;\n",
              "      --hover-bg-color: #E2EBFA;\n",
              "      --hover-fill-color: #174EA6;\n",
              "      --disabled-fill-color: #AAA;\n",
              "      --disabled-bg-color: #DDD;\n",
              "  }\n",
              "\n",
              "  [theme=dark] .colab-df-quickchart {\n",
              "      --bg-color: #3B4455;\n",
              "      --fill-color: #D2E3FC;\n",
              "      --hover-bg-color: #434B5C;\n",
              "      --hover-fill-color: #FFFFFF;\n",
              "      --disabled-bg-color: #3B4455;\n",
              "      --disabled-fill-color: #666;\n",
              "  }\n",
              "\n",
              "  .colab-df-quickchart {\n",
              "    background-color: var(--bg-color);\n",
              "    border: none;\n",
              "    border-radius: 50%;\n",
              "    cursor: pointer;\n",
              "    display: none;\n",
              "    fill: var(--fill-color);\n",
              "    height: 32px;\n",
              "    padding: 0;\n",
              "    width: 32px;\n",
              "  }\n",
              "\n",
              "  .colab-df-quickchart:hover {\n",
              "    background-color: var(--hover-bg-color);\n",
              "    box-shadow: 0 1px 2px rgba(60, 64, 67, 0.3), 0 1px 3px 1px rgba(60, 64, 67, 0.15);\n",
              "    fill: var(--button-hover-fill-color);\n",
              "  }\n",
              "\n",
              "  .colab-df-quickchart-complete:disabled,\n",
              "  .colab-df-quickchart-complete:disabled:hover {\n",
              "    background-color: var(--disabled-bg-color);\n",
              "    fill: var(--disabled-fill-color);\n",
              "    box-shadow: none;\n",
              "  }\n",
              "\n",
              "  .colab-df-spinner {\n",
              "    border: 2px solid var(--fill-color);\n",
              "    border-color: transparent;\n",
              "    border-bottom-color: var(--fill-color);\n",
              "    animation:\n",
              "      spin 1s steps(1) infinite;\n",
              "  }\n",
              "\n",
              "  @keyframes spin {\n",
              "    0% {\n",
              "      border-color: transparent;\n",
              "      border-bottom-color: var(--fill-color);\n",
              "      border-left-color: var(--fill-color);\n",
              "    }\n",
              "    20% {\n",
              "      border-color: transparent;\n",
              "      border-left-color: var(--fill-color);\n",
              "      border-top-color: var(--fill-color);\n",
              "    }\n",
              "    30% {\n",
              "      border-color: transparent;\n",
              "      border-left-color: var(--fill-color);\n",
              "      border-top-color: var(--fill-color);\n",
              "      border-right-color: var(--fill-color);\n",
              "    }\n",
              "    40% {\n",
              "      border-color: transparent;\n",
              "      border-right-color: var(--fill-color);\n",
              "      border-top-color: var(--fill-color);\n",
              "    }\n",
              "    60% {\n",
              "      border-color: transparent;\n",
              "      border-right-color: var(--fill-color);\n",
              "    }\n",
              "    80% {\n",
              "      border-color: transparent;\n",
              "      border-right-color: var(--fill-color);\n",
              "      border-bottom-color: var(--fill-color);\n",
              "    }\n",
              "    90% {\n",
              "      border-color: transparent;\n",
              "      border-bottom-color: var(--fill-color);\n",
              "    }\n",
              "  }\n",
              "</style>\n",
              "\n",
              "      <script>\n",
              "        async function quickchart(key) {\n",
              "          const quickchartButtonEl =\n",
              "            document.querySelector('#' + key + ' button');\n",
              "          quickchartButtonEl.disabled = true;  // To prevent multiple clicks.\n",
              "          quickchartButtonEl.classList.add('colab-df-spinner');\n",
              "          try {\n",
              "            const charts = await google.colab.kernel.invokeFunction(\n",
              "                'suggestCharts', [key], {});\n",
              "          } catch (error) {\n",
              "            console.error('Error during call to suggestCharts:', error);\n",
              "          }\n",
              "          quickchartButtonEl.classList.remove('colab-df-spinner');\n",
              "          quickchartButtonEl.classList.add('colab-df-quickchart-complete');\n",
              "        }\n",
              "        (() => {\n",
              "          let quickchartButtonEl =\n",
              "            document.querySelector('#df-5bc5740f-e460-49a1-86b1-791954ee63c7 button');\n",
              "          quickchartButtonEl.style.display =\n",
              "            google.colab.kernel.accessAllowed ? 'block' : 'none';\n",
              "        })();\n",
              "      </script>\n",
              "    </div>\n",
              "\n",
              "    </div>\n",
              "  </div>\n"
            ],
            "application/vnd.google.colaboratory.intrinsic+json": {
              "type": "dataframe",
              "variable_name": "df"
            }
          },
          "metadata": {},
          "execution_count": 76
        }
      ]
    },
    {
      "cell_type": "code",
      "source": [
        "train = df.dropna(axis=0)\n",
        "test = df[df['LDL콜레스테롤'].isnull()]\n",
        "\n",
        "X = train.drop('LDL콜레스테롤', axis=1)\n",
        "y = train['LDL콜레스테롤']\n",
        "\n",
        "X_train, X_test, y_train, y_test = train_test_split(X, y, test_size = 0.33, random_state =42)"
      ],
      "metadata": {
        "id": "vdk5uOql0Qqr"
      },
      "execution_count": null,
      "outputs": []
    },
    {
      "cell_type": "code",
      "source": [
        "reg = LinearRegression()\n",
        "reg.fit(X_train, y_train)\n",
        "print(\"기울기 = \", reg.coef_)\n",
        "print(\"절편 = \", reg.intercept_)\n",
        "\n",
        "print(\"\\n---column 별---\")\n",
        "for i, v in enumerate(reg.coef_):\n",
        "  print(X_train.columns[i] + \" :\" + str(v))\n"
      ],
      "metadata": {
        "colab": {
          "base_uri": "https://localhost:8080/"
        },
        "id": "5UGv6xQi0yEE",
        "outputId": "e53bbebb-c698-496d-fd5d-8d033b4a4f86"
      },
      "execution_count": null,
      "outputs": [
        {
          "output_type": "stream",
          "name": "stdout",
          "text": [
            "기울기 =  [ 0.07504877  0.02436839  0.03984692  0.07006197 -0.01134489 -0.0169368\n",
            " -0.00398696  0.96371436 -0.17038637 -0.66997818  0.15014143  0.06685567\n",
            "  0.11166802 -0.01565601  0.0122948  -0.00499188  0.19822968 -0.8545701 ]\n",
            "절편 =  -27.041384181425443\n",
            "\n",
            "---column 별---\n",
            "연령대코드(5세단위) :0.07504876582677455\n",
            "신장(5cm단위) :0.02436838624290849\n",
            "체중(5kg단위) :0.039846923580407693\n",
            "허리둘레 :0.07006197239231851\n",
            "수축기혈압 :-0.01134489461360145\n",
            "이완기혈압 :-0.016936802963822776\n",
            "식전혈당(공복혈당) :-0.003986960487338668\n",
            "총콜레스테롤 :0.9637143587698423\n",
            "트리글리세라이드 :-0.17038637340316576\n",
            "HDL콜레스테롤 :-0.6699781830563377\n",
            "혈색소 :0.15014143013055298\n",
            "요단백 :0.06685566529591505\n",
            "혈청크레아티닌 :0.11166801919216951\n",
            "혈청지오티(AST) :-0.015656006321437217\n",
            "혈청지피티(ALT) :0.012294803445864196\n",
            "감마지티피 :-0.004991882110849657\n",
            "흡연상태 :0.1982296777847982\n",
            "음주여부 :-0.8545700979015762\n"
          ]
        }
      ]
    },
    {
      "cell_type": "code",
      "source": [
        "y_pred = reg.predict(X_test)\n",
        "\n",
        "mse = mean_squared_error(y_pred, y_test)\n",
        "print(\"mse value \", mse)"
      ],
      "metadata": {
        "colab": {
          "base_uri": "https://localhost:8080/"
        },
        "id": "5Utmj01U1rLq",
        "outputId": "4825981d-960e-4c84-f391-cb4f4473edd0"
      },
      "execution_count": null,
      "outputs": [
        {
          "output_type": "stream",
          "name": "stdout",
          "text": [
            "mse value  51.96327058869079\n"
          ]
        }
      ]
    },
    {
      "cell_type": "markdown",
      "source": [
        "#로지스틱 회귀"
      ],
      "metadata": {
        "id": "rInoaqkV1gHr"
      }
    },
    {
      "cell_type": "code",
      "source": [
        "from sklearn.linear_model import LogisticRegression"
      ],
      "metadata": {
        "id": "HCjUFyso26zr"
      },
      "execution_count": null,
      "outputs": []
    },
    {
      "cell_type": "code",
      "source": [
        "def sigmoid(x):\n",
        "  return 1/(1+np.exp(-x))"
      ],
      "metadata": {
        "id": "6nuf-P-u2Xon"
      },
      "execution_count": null,
      "outputs": []
    },
    {
      "cell_type": "code",
      "source": [
        "X_train = [3,4,5,6,7,8,9,10,11,12,13,14,15,16,17]\n",
        "y_train = [0,0,0,0,0,0,0,1 ,1 ,1 ,1 ,1 ,1 ,1 ,1]\n",
        "\n",
        "X_test = [0,1,2,18,19]\n",
        "y_test = [0,0,0,1 ,1]\n",
        "\n",
        "X_train = np.array(X_train).reshape(-1,1)\n",
        "X_test = np.array(X_test).reshape(-1,1)\n",
        "y_train = np.array(y_train)\n",
        "y_test = np.array(y_test)"
      ],
      "metadata": {
        "id": "aJiowJ2T2fO8"
      },
      "execution_count": null,
      "outputs": []
    },
    {
      "cell_type": "code",
      "source": [
        "#1. f(x) : logit function\n",
        "logi_reg = LogisticRegression()\n",
        "logi_reg.fit(X_train, y_train)\n",
        "print(f\"coef : {logi_reg.coef_}, intercept : {logi_reg.intercept_}\")"
      ],
      "metadata": {
        "colab": {
          "base_uri": "https://localhost:8080/"
        },
        "id": "kYias_t824vT",
        "outputId": "71be7607-0b69-4c74-8415-ca53fa115cba"
      },
      "execution_count": null,
      "outputs": [
        {
          "output_type": "stream",
          "name": "stdout",
          "text": [
            "coef : [[1.19388731]], intercept : [-11.34176791]\n"
          ]
        }
      ]
    },
    {
      "cell_type": "code",
      "source": [
        "#2. (x, y) : (x, y) of logit function\n",
        "y = []\n",
        "for x in X_train:\n",
        "  y.append(x*logi_reg.coef_[0] + logi_reg.intercept_)\n",
        "y = np.array(y)\n",
        "\n",
        "#3. p : probability of y\n",
        "p = sigmoid(y)\n",
        "p = p.reshape(-1,1)"
      ],
      "metadata": {
        "id": "2BEOSHz_3VnR"
      },
      "execution_count": null,
      "outputs": []
    },
    {
      "cell_type": "code",
      "source": [
        "plt.figure(figsize=(10,5))\n",
        "plt.plot(X_train,  p)\n",
        "plt.scatter(X_train, y_train, color='red')\n",
        "plt.xticks(np.arange(3,18,1))\n",
        "plt.yticks([0, 0.5, 1])\n",
        "plt.ylim([-0.1, 1.1])\n",
        "\n",
        "# + Linear Regression result\n",
        "lr = LinearRegression()\n",
        "lr.fit(X_train, y_train)\n",
        "plt.plot(X_train, X_train*lr.coef_[0] + lr.intercept_, color='grey')\n",
        "\n",
        "# + 확인문제\n",
        "res = logi_reg.predict(np.array([9.5]).reshape(-1,1))\n",
        "plt.scatter(9.5, res, color='orange', )\n",
        "\n",
        "res2 = lr.predict(np.array(9.5).reshape(-1,1))\n",
        "plt.scatter(9.5, round(res2[0]), color='green')\n",
        "\n",
        "plt.legend(['Sigmoid','Category','Linear_Regression','9.5'])\n",
        "plt.show()"
      ],
      "metadata": {
        "colab": {
          "base_uri": "https://localhost:8080/",
          "height": 445
        },
        "id": "Ypbw6uY437S9",
        "outputId": "0bb2864a-5e2b-41ec-e8da-0e5c02605d45"
      },
      "execution_count": null,
      "outputs": [
        {
          "output_type": "display_data",
          "data": {
            "text/plain": [
              "<Figure size 1000x500 with 1 Axes>"
            ],
            "image/png": "[encoded data removed]"
          },
          "metadata": {}
        }
      ]
    },
    {
      "cell_type": "markdown",
      "source": [
        "#의사결정나무"
      ],
      "metadata": {
        "id": "VPQZDUdM9gEz"
      }
    },
    {
      "cell_type": "code",
      "source": [
        "!pip install graphviz"
      ],
      "metadata": {
        "colab": {
          "base_uri": "https://localhost:8080/"
        },
        "id": "ICcV4iEf_oHV",
        "outputId": "85747d60-6d3b-420d-cd7f-95af44c57284"
      },
      "execution_count": null,
      "outputs": [
        {
          "output_type": "stream",
          "name": "stdout",
          "text": [
            "Requirement already satisfied: graphviz in /usr/local/lib/python3.11/dist-packages (0.20.3)\n"
          ]
        }
      ]
    },
    {
      "cell_type": "code",
      "source": [
        "from sklearn.tree import DecisionTreeClassifier\n",
        "import graphviz\n",
        "from sklearn.tree import export_graphviz"
      ],
      "metadata": {
        "id": "OJweFonl-n0-"
      },
      "execution_count": null,
      "outputs": []
    },
    {
      "cell_type": "code",
      "source": [
        "df = pd.read_csv('/content/국민건강보험공단_건강검진정보_20211231_수정.CSV', encoding='cp949')\n",
        "df_sample = df[['신장(5cm단위)','성별','체중(5kg단위)','음주여부']]\n",
        "df_sample.dropna(inplace=True)\n",
        "df_sample.info()"
      ],
      "metadata": {
        "colab": {
          "base_uri": "https://localhost:8080/"
        },
        "id": "mZN2Wsql9icX",
        "outputId": "73aa1d2a-9da0-470f-fce8-142d86a88e0b"
      },
      "execution_count": null,
      "outputs": [
        {
          "output_type": "stream",
          "name": "stdout",
          "text": [
            "<class 'pandas.core.frame.DataFrame'>\n",
            "Index: 999829 entries, 0 to 999999\n",
            "Data columns (total 4 columns):\n",
            " #   Column     Non-Null Count   Dtype  \n",
            "---  ------     --------------   -----  \n",
            " 0   신장(5cm단위)  999829 non-null  int64  \n",
            " 1   성별         999829 non-null  int64  \n",
            " 2   체중(5kg단위)  999829 non-null  int64  \n",
            " 3   음주여부       999829 non-null  float64\n",
            "dtypes: float64(1), int64(3)\n",
            "memory usage: 38.1 MB\n"
          ]
        },
        {
          "output_type": "stream",
          "name": "stderr",
          "text": [
            "<ipython-input-114-b5d6f135c849>:3: SettingWithCopyWarning: \n",
            "A value is trying to be set on a copy of a slice from a DataFrame\n",
            "\n",
            "See the caveats in the documentation: https://pandas.pydata.org/pandas-docs/stable/user_guide/indexing.html#returning-a-view-versus-a-copy\n",
            "  df_sample.dropna(inplace=True)\n"
          ]
        }
      ]
    },
    {
      "cell_type": "code",
      "source": [
        "X = df_sample.drop('음주여부', axis=1)\n",
        "y = df_sample['음주여부']\n",
        "\n",
        "X_train, X_test, y_train, y_test = train_test_split(X, y, test_size = 0.2, shuffle=True, random_state = 42)\n",
        "\n",
        "dt = DecisionTreeClassifier(random_state = 42, max_depth = 2)\n",
        "dt.fit(X_train, y_train)\n",
        "\n",
        "print(\"학습 정확도 : \", dt.score(X_train, y_train))\n",
        "print(\"검증 정확도 : \", dt.score(X_train, y_train))"
      ],
      "metadata": {
        "colab": {
          "base_uri": "https://localhost:8080/"
        },
        "id": "TkiDPHiJ-PSR",
        "outputId": "889177aa-1822-4857-9497-e0fcfa94bc00"
      },
      "execution_count": null,
      "outputs": [
        {
          "output_type": "stream",
          "name": "stdout",
          "text": [
            "학습 정확도 :  0.6897831253602179\n",
            "검증 정확도 :  0.6897831253602179\n"
          ]
        }
      ]
    },
    {
      "cell_type": "code",
      "source": [
        "tree_pic = graphviz.Source(export_graphviz(dt, class_names=['X','O'], feature_names = ['height','sex','weight'], impurity = True, filled=True))\n",
        "tree_pic.render('tree_pic',format='png')\n",
        "tree_pic"
      ],
      "metadata": {
        "colab": {
          "base_uri": "https://localhost:8080/",
          "height": 439
        },
        "id": "JJPQOfkS_mrP",
        "outputId": "6a629796-23dd-4249-f2eb-4c48d27beee4"
      },
      "execution_count": null,
      "outputs": [
        {
          "output_type": "execute_result",
          "data": {
            "image/svg+xml": "<?xml version=\"1.0\" encoding=\"UTF-8\" standalone=\"no\"?>\n<!DOCTYPE svg PUBLIC \"-//W3C//DTD SVG 1.1//EN\"\n \"http://www.w3.org/Graphics/SVG/1.1/DTD/svg11.dtd\">\n<!-- Generated by graphviz version 2.43.0 (0)\n -->\n<!-- Title: Tree Pages: 1 -->\n<svg width=\"720pt\" height=\"314pt\"\n viewBox=\"0.00 0.00 719.50 314.00\" xmlns=\"http://www.w3.org/2000/svg\" xmlns:xlink=\"http://www.w3.org/1999/xlink\">\n<g id=\"graph0\" class=\"graph\" transform=\"scale(1 1) rotate(0) translate(4 310)\">\n<title>Tree</title>\n<polygon fill=\"white\" stroke=\"transparent\" points=\"-4,4 -4,-310 715.5,-310 715.5,4 -4,4\"/>\n<!-- 0 -->\n<g id=\"node1\" class=\"node\">\n<title>0</title>\n<polygon fill=\"#a7d4f3\" stroke=\"black\" points=\"429.5,-306 259.5,-306 259.5,-223 429.5,-223 429.5,-306\"/>\n<text text-anchor=\"middle\" x=\"344.5\" y=\"-290.8\" font-family=\"Helvetica,sans-Serif\" font-size=\"14.00\">height &lt;= 157.5</text>\n<text text-anchor=\"middle\" x=\"344.5\" y=\"-275.8\" font-family=\"Helvetica,sans-Serif\" font-size=\"14.00\">gini = 0.46</text>\n<text text-anchor=\"middle\" x=\"344.5\" y=\"-260.8\" font-family=\"Helvetica,sans-Serif\" font-size=\"14.00\">samples = 799863</text>\n<text text-anchor=\"middle\" x=\"344.5\" y=\"-245.8\" font-family=\"Helvetica,sans-Serif\" font-size=\"14.00\">value = [286297, 513566]</text>\n<text text-anchor=\"middle\" x=\"344.5\" y=\"-230.8\" font-family=\"Helvetica,sans-Serif\" font-size=\"14.00\">class = O</text>\n</g>\n<!-- 1 -->\n<g id=\"node2\" class=\"node\">\n<title>1</title>\n<polygon fill=\"#f9e2d2\" stroke=\"black\" points=\"335.5,-187 165.5,-187 165.5,-104 335.5,-104 335.5,-187\"/>\n<text text-anchor=\"middle\" x=\"250.5\" y=\"-171.8\" font-family=\"Helvetica,sans-Serif\" font-size=\"14.00\">height &lt;= 152.5</text>\n<text text-anchor=\"middle\" x=\"250.5\" y=\"-156.8\" font-family=\"Helvetica,sans-Serif\" font-size=\"14.00\">gini = 0.492</text>\n<text text-anchor=\"middle\" x=\"250.5\" y=\"-141.8\" font-family=\"Helvetica,sans-Serif\" font-size=\"14.00\">samples = 254031</text>\n<text text-anchor=\"middle\" x=\"250.5\" y=\"-126.8\" font-family=\"Helvetica,sans-Serif\" font-size=\"14.00\">value = [143370, 110661]</text>\n<text text-anchor=\"middle\" x=\"250.5\" y=\"-111.8\" font-family=\"Helvetica,sans-Serif\" font-size=\"14.00\">class = X</text>\n</g>\n<!-- 0&#45;&gt;1 -->\n<g id=\"edge1\" class=\"edge\">\n<title>0&#45;&gt;1</title>\n<path fill=\"none\" stroke=\"black\" d=\"M311.89,-222.91C304.67,-213.92 296.95,-204.32 289.51,-195.05\"/>\n<polygon fill=\"black\" stroke=\"black\" points=\"292.05,-192.62 283.06,-187.02 286.59,-197.01 292.05,-192.62\"/>\n<text text-anchor=\"middle\" x=\"280.35\" y=\"-208.17\" font-family=\"Helvetica,sans-Serif\" font-size=\"14.00\">True</text>\n</g>\n<!-- 4 -->\n<g id=\"node5\" class=\"node\">\n<title>4</title>\n<polygon fill=\"#7fc0ee\" stroke=\"black\" points=\"523.5,-187 353.5,-187 353.5,-104 523.5,-104 523.5,-187\"/>\n<text text-anchor=\"middle\" x=\"438.5\" y=\"-171.8\" font-family=\"Helvetica,sans-Serif\" font-size=\"14.00\">height &lt;= 167.5</text>\n<text text-anchor=\"middle\" x=\"438.5\" y=\"-156.8\" font-family=\"Helvetica,sans-Serif\" font-size=\"14.00\">gini = 0.387</text>\n<text text-anchor=\"middle\" x=\"438.5\" y=\"-141.8\" font-family=\"Helvetica,sans-Serif\" font-size=\"14.00\">samples = 545832</text>\n<text text-anchor=\"middle\" x=\"438.5\" y=\"-126.8\" font-family=\"Helvetica,sans-Serif\" font-size=\"14.00\">value = [142927, 402905]</text>\n<text text-anchor=\"middle\" x=\"438.5\" y=\"-111.8\" font-family=\"Helvetica,sans-Serif\" font-size=\"14.00\">class = O</text>\n</g>\n<!-- 0&#45;&gt;4 -->\n<g id=\"edge4\" class=\"edge\">\n<title>0&#45;&gt;4</title>\n<path fill=\"none\" stroke=\"black\" d=\"M377.11,-222.91C384.33,-213.92 392.05,-204.32 399.49,-195.05\"/>\n<polygon fill=\"black\" stroke=\"black\" points=\"402.41,-197.01 405.94,-187.02 396.95,-192.62 402.41,-197.01\"/>\n<text text-anchor=\"middle\" x=\"408.65\" y=\"-208.17\" font-family=\"Helvetica,sans-Serif\" font-size=\"14.00\">False</text>\n</g>\n<!-- 2 -->\n<g id=\"node3\" class=\"node\">\n<title>2</title>\n<polygon fill=\"#f2c29f\" stroke=\"black\" points=\"155,-68 0,-68 0,0 155,0 155,-68\"/>\n<text text-anchor=\"middle\" x=\"77.5\" y=\"-52.8\" font-family=\"Helvetica,sans-Serif\" font-size=\"14.00\">gini = 0.449</text>\n<text text-anchor=\"middle\" x=\"77.5\" y=\"-37.8\" font-family=\"Helvetica,sans-Serif\" font-size=\"14.00\">samples = 119912</text>\n<text text-anchor=\"middle\" x=\"77.5\" y=\"-22.8\" font-family=\"Helvetica,sans-Serif\" font-size=\"14.00\">value = [79039, 40873]</text>\n<text text-anchor=\"middle\" x=\"77.5\" y=\"-7.8\" font-family=\"Helvetica,sans-Serif\" font-size=\"14.00\">class = X</text>\n</g>\n<!-- 1&#45;&gt;2 -->\n<g id=\"edge2\" class=\"edge\">\n<title>1&#45;&gt;2</title>\n<path fill=\"none\" stroke=\"black\" d=\"M186.08,-103.73C170.44,-93.82 153.76,-83.27 138.29,-73.48\"/>\n<polygon fill=\"black\" stroke=\"black\" points=\"140.16,-70.52 129.83,-68.13 136.41,-76.43 140.16,-70.52\"/>\n</g>\n<!-- 3 -->\n<g id=\"node4\" class=\"node\">\n<title>3</title>\n<polygon fill=\"#f0f7fd\" stroke=\"black\" points=\"328,-68 173,-68 173,0 328,0 328,-68\"/>\n<text text-anchor=\"middle\" x=\"250.5\" y=\"-52.8\" font-family=\"Helvetica,sans-Serif\" font-size=\"14.00\">gini = 0.499</text>\n<text text-anchor=\"middle\" x=\"250.5\" y=\"-37.8\" font-family=\"Helvetica,sans-Serif\" font-size=\"14.00\">samples = 134119</text>\n<text text-anchor=\"middle\" x=\"250.5\" y=\"-22.8\" font-family=\"Helvetica,sans-Serif\" font-size=\"14.00\">value = [64331, 69788]</text>\n<text text-anchor=\"middle\" x=\"250.5\" y=\"-7.8\" font-family=\"Helvetica,sans-Serif\" font-size=\"14.00\">class = O</text>\n</g>\n<!-- 1&#45;&gt;3 -->\n<g id=\"edge3\" class=\"edge\">\n<title>1&#45;&gt;3</title>\n<path fill=\"none\" stroke=\"black\" d=\"M250.5,-103.73C250.5,-95.52 250.5,-86.86 250.5,-78.56\"/>\n<polygon fill=\"black\" stroke=\"black\" points=\"254,-78.3 250.5,-68.3 247,-78.3 254,-78.3\"/>\n</g>\n<!-- 5 -->\n<g id=\"node6\" class=\"node\">\n<title>5</title>\n<polygon fill=\"#98ccf2\" stroke=\"black\" points=\"531,-68 346,-68 346,0 531,0 531,-68\"/>\n<text text-anchor=\"middle\" x=\"438.5\" y=\"-52.8\" font-family=\"Helvetica,sans-Serif\" font-size=\"14.00\">gini = 0.439</text>\n<text text-anchor=\"middle\" x=\"438.5\" y=\"-37.8\" font-family=\"Helvetica,sans-Serif\" font-size=\"14.00\">samples = 293400</text>\n<text text-anchor=\"middle\" x=\"438.5\" y=\"-22.8\" font-family=\"Helvetica,sans-Serif\" font-size=\"14.00\">value = [95346.0, 198054.0]</text>\n<text text-anchor=\"middle\" x=\"438.5\" y=\"-7.8\" font-family=\"Helvetica,sans-Serif\" font-size=\"14.00\">class = O</text>\n</g>\n<!-- 4&#45;&gt;5 -->\n<g id=\"edge5\" class=\"edge\">\n<title>4&#45;&gt;5</title>\n<path fill=\"none\" stroke=\"black\" d=\"M438.5,-103.73C438.5,-95.52 438.5,-86.86 438.5,-78.56\"/>\n<polygon fill=\"black\" stroke=\"black\" points=\"442,-78.3 438.5,-68.3 435,-78.3 442,-78.3\"/>\n</g>\n<!-- 6 -->\n<g id=\"node7\" class=\"node\">\n<title>6</title>\n<polygon fill=\"#67b4eb\" stroke=\"black\" points=\"711.5,-68 549.5,-68 549.5,0 711.5,0 711.5,-68\"/>\n<text text-anchor=\"middle\" x=\"630.5\" y=\"-52.8\" font-family=\"Helvetica,sans-Serif\" font-size=\"14.00\">gini = 0.306</text>\n<text text-anchor=\"middle\" x=\"630.5\" y=\"-37.8\" font-family=\"Helvetica,sans-Serif\" font-size=\"14.00\">samples = 252432</text>\n<text text-anchor=\"middle\" x=\"630.5\" y=\"-22.8\" font-family=\"Helvetica,sans-Serif\" font-size=\"14.00\">value = [47581, 204851]</text>\n<text text-anchor=\"middle\" x=\"630.5\" y=\"-7.8\" font-family=\"Helvetica,sans-Serif\" font-size=\"14.00\">class = O</text>\n</g>\n<!-- 4&#45;&gt;6 -->\n<g id=\"edge6\" class=\"edge\">\n<title>4&#45;&gt;6</title>\n<path fill=\"none\" stroke=\"black\" d=\"M509.72,-103.88C527.35,-93.83 546.18,-83.09 563.6,-73.16\"/>\n<polygon fill=\"black\" stroke=\"black\" points=\"565.61,-76.04 572.56,-68.04 562.14,-69.96 565.61,-76.04\"/>\n</g>\n</g>\n</svg>\n",
            "text/plain": [
              "<graphviz.sources.Source at 0x7ae1ef870050>"
            ]
          },
          "metadata": {},
          "execution_count": 130
        }
      ]
    },
    {
      "cell_type": "code",
      "source": [
        "#확인문제 1\n",
        "\n",
        "for i in (1,15,30):\n",
        "  dt = DecisionTreeClassifier(random_state = 1001, max_depth = i)\n",
        "  dt.fit(X_train, y_train)\n",
        "  print(f\"{i} score : \", dt.score(X_test, y_test))"
      ],
      "metadata": {
        "colab": {
          "base_uri": "https://localhost:8080/"
        },
        "id": "T1Fu-LctATgv",
        "outputId": "b03e356d-a1b6-4aea-cb67-245710094843"
      },
      "execution_count": null,
      "outputs": [
        {
          "output_type": "stream",
          "name": "stdout",
          "text": [
            "1 score :  0.682676054929338\n",
            "15 score :  0.6924677195123171\n",
            "30 score :  0.6924677195123171\n"
          ]
        }
      ]
    },
    {
      "cell_type": "code",
      "source": [
        "#확인문제 2\n",
        "\n",
        "for i in [1,2,3]:\n",
        "  dt = DecisionTreeClassifier(random_state = 1001, max_features = i, max_depth = 1)\n",
        "  dt_model = dt.fit(X_train, y_train)\n",
        "  print(f\"{i} train score : {round(dt_model.score(X_train, y_train),3)} val score : {round(dt_model.score(X_test, y_test),3)}\", )"
      ],
      "metadata": {
        "colab": {
          "base_uri": "https://localhost:8080/"
        },
        "id": "sS9z_EMTBgAy",
        "outputId": "cdffd3f4-df34-46e5-c117-988a6dd09476"
      },
      "execution_count": null,
      "outputs": [
        {
          "output_type": "stream",
          "name": "stdout",
          "text": [
            "1 train score : 0.683 val score : 0.683\n",
            "2 train score : 0.683 val score : 0.683\n",
            "3 train score : 0.683 val score : 0.683\n"
          ]
        }
      ]
    },
    {
      "cell_type": "markdown",
      "source": [
        "#랜덤포레스트"
      ],
      "metadata": {
        "id": "oe6lMek2BHzq"
      }
    },
    {
      "cell_type": "code",
      "source": [
        "from tensorflow.keras.datasets.mnist import load_data\n",
        "from sklearn.tree import DecisionTreeClassifier\n",
        "from sklearn.ensemble import RandomForestClassifier"
      ],
      "metadata": {
        "id": "BYfDa6BfFJKn"
      },
      "execution_count": null,
      "outputs": []
    },
    {
      "cell_type": "code",
      "source": [
        "(X_train, y_train), (X_test, y_test) = load_data()\n",
        "print(\"original shapes : \", X_train.shape, y_train.shape, X_test.shape, y_test.shape)\n",
        "\n",
        "X_train = X_train.reshape(-1, 784)\n",
        "X_test = X_test.reshape(-1, 784)\n",
        "print(\"changed shapes : \", X_train.shape, y_train.shape, X_test.shape, y_test.shape)"
      ],
      "metadata": {
        "colab": {
          "base_uri": "https://localhost:8080/"
        },
        "id": "KszKkmJvD3rr",
        "outputId": "f6787202-ce55-42ea-d5b8-5174c41afffc"
      },
      "execution_count": null,
      "outputs": [
        {
          "output_type": "stream",
          "name": "stdout",
          "text": [
            "original shapes :  (60000, 28, 28) (60000,) (10000, 28, 28) (10000,)\n",
            "changed shapes :  (60000, 784) (60000,) (10000, 784) (10000,)\n"
          ]
        }
      ]
    },
    {
      "cell_type": "code",
      "source": [
        "#의사결정나무\n",
        "dct = DecisionTreeClassifier()\n",
        "dct.fit(X_train, y_train)\n",
        "\n",
        "dct_train_acc = dct.score(X_train, y_train)\n",
        "dct_val_acc = dct.score(X_test, y_test)\n",
        "\n",
        "print(\"train 정확도 : \", dct_train_acc)\n",
        "print(\"val 정확도 : \", dct_val_acc)"
      ],
      "metadata": {
        "colab": {
          "base_uri": "https://localhost:8080/"
        },
        "id": "drTi-3J-Eo04",
        "outputId": "6a95ddcc-0fc0-490e-f546-788aba4d1176"
      },
      "execution_count": null,
      "outputs": [
        {
          "output_type": "stream",
          "name": "stdout",
          "text": [
            "train 정확도 :  1.0\n",
            "val 정확도 :  0.8754\n"
          ]
        }
      ]
    },
    {
      "cell_type": "code",
      "source": [
        "#랜덤포레스트\n",
        "rfc = RandomForestClassifier()\n",
        "rfc.fit(X_train, y_train)\n",
        "\n",
        "rfc_train_acc = rfc.score(X_train, y_train)\n",
        "rfc_val_acc = rfc.score(X_test, y_test)\n",
        "\n",
        "print(\"train 정확도 : \", rfc_train_acc)\n",
        "print(\"val 정확도 : \", rfc_val_acc)"
      ],
      "metadata": {
        "colab": {
          "base_uri": "https://localhost:8080/"
        },
        "id": "VCVEHaDuFdax",
        "outputId": "47c377a1-6bc2-4d30-e0be-2a12218c7ff2"
      },
      "execution_count": null,
      "outputs": [
        {
          "output_type": "stream",
          "name": "stdout",
          "text": [
            "train 정확도 :  1.0\n",
            "val 정확도 :  0.9698\n"
          ]
        }
      ]
    },
    {
      "cell_type": "code",
      "source": [
        "plt.figure()\n",
        "plt.bar(x = ['dct_train', 'dct_val'], height = [dct_train_acc, dct_val_acc], color='red')\n",
        "plt.bar(x = ['rfc_train', 'rfc_val'], height = [rfc_train_acc, rfc_val_acc], color='blue' )\n",
        "plt.show()"
      ],
      "metadata": {
        "colab": {
          "base_uri": "https://localhost:8080/",
          "height": 430
        },
        "id": "WIuXsEo9Fsw_",
        "outputId": "92567b34-de00-403e-8473-124c0a4af03a"
      },
      "execution_count": null,
      "outputs": [
        {
          "output_type": "display_data",
          "data": {
            "text/plain": [
              "<Figure size 640x480 with 1 Axes>"
            ],
            "image/png": "[encoded data removed]"
          },
          "metadata": {}
        }
      ]
    },
    {
      "cell_type": "markdown",
      "source": [
        "#랜덤포레스트 일부러 팔다리 자르기 == 의사결정나무"
      ],
      "metadata": {
        "id": "JR7tGkX8Gdcj"
      }
    },
    {
      "cell_type": "code",
      "source": [
        "rfc_debuff = RandomForestClassifier(\n",
        "    random_state = 0,\n",
        "    n_estimators = 1,\n",
        "    max_features = None,\n",
        "    bootstrap=False\n",
        ")\n",
        "rfc_debuff.fit(X_train, y_train)\n",
        "\n",
        "rfc_debuff_train_acc = rfc_debuff.score(X_train, y_train)\n",
        "rfc_debuff_val_acc = rfc_debuff.score(X_test, y_test)\n"
      ],
      "metadata": {
        "id": "hnJHPnwUGwdA"
      },
      "execution_count": null,
      "outputs": []
    },
    {
      "cell_type": "code",
      "source": [
        "print(f\"Decision Tree normal : {dct_train_acc}, {dct_val_acc}\")\n",
        "print(f\"random forest debuffed : {rfc_debuff_train_acc}, {rfc_debuff_val_acc}\" )\n",
        "\n",
        "plt.figure()\n",
        "plt.bar(x = ['dct_train', 'dct_val'], height = [dct_train_acc, dct_val_acc], color='red')\n",
        "plt.bar(x = ['rfc_debuff_train', 'rfc_debuff_val'], height = [rfc_debuff_train_acc, rfc_debuff_val_acc], color='blue' )\n",
        "plt.grid(True)\n",
        "plt.show()"
      ],
      "metadata": {
        "colab": {
          "base_uri": "https://localhost:8080/",
          "height": 467
        },
        "id": "0Qk8O0jGHEhR",
        "outputId": "c545b384-0dc8-46a2-9728-eeac38cf5c5d"
      },
      "execution_count": null,
      "outputs": [
        {
          "output_type": "stream",
          "name": "stdout",
          "text": [
            "Decision Tree normal : 1.0, 0.8754\n",
            "random forest debuffed : 1.0, 0.8773\n"
          ]
        },
        {
          "output_type": "display_data",
          "data": {
            "text/plain": [
              "<Figure size 640x480 with 1 Axes>"
            ],
            "image/png": "[encoded data removed]"
          },
          "metadata": {}
        }
      ]
    },
    {
      "cell_type": "code",
      "source": [
        "#확인 문제\n",
        "for i in [40, 50, 60]:\n",
        "  rfc = RandomForestClassifier(\n",
        "      random_state = 0,\n",
        "      max_features = i\n",
        "  )\n",
        "  rfc.fit(X_train, y_train)\n",
        "  rfc_train_acc = rfc.score(X_train, y_train)\n",
        "  rfc_val_acc = rfc.score(X_test, y_test)\n",
        "\n",
        "  print(\"-----> max_features : \",i)\n",
        "  print(\"train 정확도 : \", rfc_train_acc)\n",
        "  print(\"val 정확도 : \", rfc_val_acc)\n"
      ],
      "metadata": {
        "colab": {
          "base_uri": "https://localhost:8080/"
        },
        "id": "yF4IsIVMHiA5",
        "outputId": "7b648f53-9cde-47d4-db36-38bda8fbd75f"
      },
      "execution_count": null,
      "outputs": [
        {
          "output_type": "stream",
          "name": "stdout",
          "text": [
            "-----> max_features :  40\n",
            "train 정확도 :  1.0\n",
            "val 정확도 :  0.97\n",
            "-----> max_features :  50\n",
            "train 정확도 :  1.0\n",
            "val 정확도 :  0.9713\n",
            "-----> max_features :  60\n",
            "train 정확도 :  1.0\n",
            "val 정확도 :  0.9697\n"
          ]
        }
      ]
    },
    {
      "cell_type": "code",
      "source": [],
      "metadata": {
        "id": "QRmKKMR3IWLY"
      },
      "execution_count": null,
      "outputs": []
    }
  ]
}