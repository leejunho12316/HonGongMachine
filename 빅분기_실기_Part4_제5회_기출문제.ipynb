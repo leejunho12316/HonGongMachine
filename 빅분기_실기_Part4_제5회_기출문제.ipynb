{
  "nbformat": 4,
  "nbformat_minor": 0,
  "metadata": {
    "colab": {
      "provenance": [],
      "collapsed_sections": [
        "Z-4SbzvvZY-f"
      ],
      "authorship_tag": "ABX9TyOGiYb+ubxVC2wrwovb5Pr+",
      "include_colab_link": true
    },
    "kernelspec": {
      "name": "python3",
      "display_name": "Python 3"
    },
    "language_info": {
      "name": "python"
    }
  },
  "cells": [
    {
      "cell_type": "markdown",
      "metadata": {
        "id": "view-in-github",
        "colab_type": "text"
      },
      "source": [
        "<a href=\"https://colab.research.google.com/github/leejunho12316/HonGongMachine/blob/main/%EB%B9%85%EB%B6%84%EA%B8%B0_%EC%8B%A4%EA%B8%B0_Part4_%EC%A0%9C5%ED%9A%8C_%EA%B8%B0%EC%B6%9C%EB%AC%B8%EC%A0%9C.ipynb\" target=\"_parent\"><img src=\"https://colab.research.google.com/assets/colab-badge.svg\" alt=\"Open In Colab\"/></a>"
      ]
    },
    {
      "cell_type": "markdown",
      "source": [
        "#제1유형"
      ],
      "metadata": {
        "id": "Z-4SbzvvZY-f"
      }
    },
    {
      "cell_type": "markdown",
      "source": [
        "문제1 : 종량제 봉투 종류가 '규격봉투'고, 종량제 봉투 용도가 '음식물쓰레기'인 2L가격 평균을 구하시오. 단, 가격이 0이면 평균에서 제외하고, 반올림 후 정수를 출력하시오"
      ],
      "metadata": {
        "id": "F3KrG0TWUrw3"
      }
    },
    {
      "cell_type": "code",
      "source": [
        "import pandas as pd\n",
        "df = pd.read_csv('data5-1.csv')\n",
        "\n",
        "cond1 = df['종량제봉투종류'] == '규격봉투'\n",
        "cond2 = df['종량제봉투용도'] == '음식물쓰레기'\n",
        "cond3 = df['2ℓ가격'] != 0\n",
        "df = df[cond1 & cond2 & cond3]\n",
        "\n",
        "res = df['2ℓ가격'].mean()\n",
        "print(round(res))"
      ],
      "metadata": {
        "colab": {
          "base_uri": "https://localhost:8080/"
        },
        "id": "puhJ_5-qU_XP",
        "outputId": "c3ca9add-6563-4d8f-9ca7-5fa2af714b0f"
      },
      "execution_count": 8,
      "outputs": [
        {
          "output_type": "stream",
          "name": "stdout",
          "text": [
            "118\n"
          ]
        }
      ]
    },
    {
      "cell_type": "markdown",
      "source": [
        "문제2: bmi 수치가 정상인 사람 수와 위험체중인 사람 수의 차이를 절댓값으로 구하시오 (정수로 출력)"
      ],
      "metadata": {
        "id": "Eo0_YjL8VhsU"
      }
    },
    {
      "cell_type": "code",
      "source": [
        "import pandas as pd\n",
        "df = pd.read_csv('data5-2.csv')\n",
        "\n",
        "def status(x):\n",
        "  if 25<=x : return '비만체중'\n",
        "  elif 23<= x : return '위험체중'\n",
        "  elif 18.5<= x: return '정상체중'\n",
        "  else : return '저체중'\n",
        "\n",
        "df['BMI'] = df['Weight']/(df['Height']/100)**2\n",
        "df['BMI_status'] = df['BMI'].apply(lambda x : status(x))\n",
        "\n",
        "num_normal = len(df[df['BMI_status'] == '정상체중'])\n",
        "num_danger = len(df[df['BMI_status'] == '위험체중'])\n",
        "print(abs(num_normal - num_danger))"
      ],
      "metadata": {
        "colab": {
          "base_uri": "https://localhost:8080/"
        },
        "id": "R6_vOW6JVmDt",
        "outputId": "9c117581-785d-4b0e-9304-4d784876268d"
      },
      "execution_count": 23,
      "outputs": [
        {
          "output_type": "stream",
          "name": "stdout",
          "text": [
            "144\n"
          ]
        }
      ]
    },
    {
      "cell_type": "code",
      "source": [
        "import pandas as pd\n",
        "df = pd.read_csv('data5-2.csv')\n",
        "df['BMI'] = df['Weight']/(df['Height']/100)**2\n",
        "\n",
        "cond_normal = (18.5 <= df['BMI']) & (df['BMI'] < 23)\n",
        "cond_danger = (23 <= df['BMI']) & (df['BMI']<25)\n",
        "\n",
        "print(abs(len(df[cond_normal]) - len(df[cond_danger])))"
      ],
      "metadata": {
        "colab": {
          "base_uri": "https://localhost:8080/"
        },
        "id": "2Jf3uymKYuuG",
        "outputId": "9f953235-3765-461c-ccfc-f5ab74fa3ca2"
      },
      "execution_count": 35,
      "outputs": [
        {
          "output_type": "stream",
          "name": "stdout",
          "text": [
            "144\n"
          ]
        }
      ]
    },
    {
      "cell_type": "markdown",
      "source": [
        "문제3 : 순 전입학생이 가장 많은 학교의 전체 학생 수를 구하시오. (순 전입학생 = 전입학생 - 전출학생)"
      ],
      "metadata": {
        "id": "X9q5QUj-VpoC"
      }
    },
    {
      "cell_type": "code",
      "source": [
        "import pandas as pd\n",
        "pd.set_option('display.max_columns', None)\n",
        "df = pd.read_csv('data5-3.csv')\n",
        "\n",
        "df['순 전입학생수(계)'] = df['전입학생수(계)'] - df['전출학생수(계)']\n",
        "print(df.sort_values('순 전입학생수(계)', ascending = False).iloc[0, -2])\n"
      ],
      "metadata": {
        "colab": {
          "base_uri": "https://localhost:8080/"
        },
        "id": "E7isZGk_XSOL",
        "outputId": "2d23a6fa-163e-4550-de55-f983ee18a6fb"
      },
      "execution_count": 32,
      "outputs": [
        {
          "output_type": "stream",
          "name": "stdout",
          "text": [
            "230.0\n"
          ]
        }
      ]
    },
    {
      "cell_type": "markdown",
      "source": [
        "#제2유형"
      ],
      "metadata": {
        "id": "5pF7znkzZaRL"
      }
    },
    {
      "cell_type": "code",
      "source": [
        "import pandas as pd\n",
        "train = pd.read_csv('train.csv')\n",
        "test = pd.read_csv('test.csv')\n",
        "\n",
        "target = train.pop('price')"
      ],
      "metadata": {
        "id": "iTdRpVYOZa_x"
      },
      "execution_count": 161,
      "outputs": []
    },
    {
      "cell_type": "code",
      "source": [
        "print(train.shape, test.shape)\n",
        "print(train.isnull().sum().sum(), test.isnull().sum().sum())"
      ],
      "metadata": {
        "colab": {
          "base_uri": "https://localhost:8080/"
        },
        "id": "9979dvs0Zkv2",
        "outputId": "219e3bc1-884b-4b61-dd62-07d308550433"
      },
      "execution_count": 162,
      "outputs": [
        {
          "output_type": "stream",
          "name": "stdout",
          "text": [
            "(3759, 8) (1617, 8)\n",
            "0 0\n"
          ]
        }
      ]
    },
    {
      "cell_type": "code",
      "source": [
        "train.head(3)"
      ],
      "metadata": {
        "colab": {
          "base_uri": "https://localhost:8080/",
          "height": 143
        },
        "id": "L_70UQIJZ8sH",
        "outputId": "3444fd39-bcff-4f39-ae4c-8fe55ffe5946"
      },
      "execution_count": 163,
      "outputs": [
        {
          "output_type": "execute_result",
          "data": {
            "text/plain": [
              "       model  year transmission  mileage fuelType  tax   mpg  engineSize\n",
              "0   EcoSport  2017       Manual    25013   Petrol  150  53.3         1.0\n",
              "1      Focus  2016       Manual    30970   Diesel    0  74.3         1.5\n",
              "2      S-MAX  2017       Manual    60200   Diesel  150  56.5         2.0"
            ],
            "text/html": [
              "\n",
              "  <div id=\"df-544f0bd7-4964-4c61-9c6d-37eb4fa017da\" class=\"colab-df-container\">\n",
              "    <div>\n",
              "<style scoped>\n",
              "    .dataframe tbody tr th:only-of-type {\n",
              "        vertical-align: middle;\n",
              "    }\n",
              "\n",
              "    .dataframe tbody tr th {\n",
              "        vertical-align: top;\n",
              "    }\n",
              "\n",
              "    .dataframe thead th {\n",
              "        text-align: right;\n",
              "    }\n",
              "</style>\n",
              "<table border=\"1\" class=\"dataframe\">\n",
              "  <thead>\n",
              "    <tr style=\"text-align: right;\">\n",
              "      <th></th>\n",
              "      <th>model</th>\n",
              "      <th>year</th>\n",
              "      <th>transmission</th>\n",
              "      <th>mileage</th>\n",
              "      <th>fuelType</th>\n",
              "      <th>tax</th>\n",
              "      <th>mpg</th>\n",
              "      <th>engineSize</th>\n",
              "    </tr>\n",
              "  </thead>\n",
              "  <tbody>\n",
              "    <tr>\n",
              "      <th>0</th>\n",
              "      <td>EcoSport</td>\n",
              "      <td>2017</td>\n",
              "      <td>Manual</td>\n",
              "      <td>25013</td>\n",
              "      <td>Petrol</td>\n",
              "      <td>150</td>\n",
              "      <td>53.3</td>\n",
              "      <td>1.0</td>\n",
              "    </tr>\n",
              "    <tr>\n",
              "      <th>1</th>\n",
              "      <td>Focus</td>\n",
              "      <td>2016</td>\n",
              "      <td>Manual</td>\n",
              "      <td>30970</td>\n",
              "      <td>Diesel</td>\n",
              "      <td>0</td>\n",
              "      <td>74.3</td>\n",
              "      <td>1.5</td>\n",
              "    </tr>\n",
              "    <tr>\n",
              "      <th>2</th>\n",
              "      <td>S-MAX</td>\n",
              "      <td>2017</td>\n",
              "      <td>Manual</td>\n",
              "      <td>60200</td>\n",
              "      <td>Diesel</td>\n",
              "      <td>150</td>\n",
              "      <td>56.5</td>\n",
              "      <td>2.0</td>\n",
              "    </tr>\n",
              "  </tbody>\n",
              "</table>\n",
              "</div>\n",
              "    <div class=\"colab-df-buttons\">\n",
              "\n",
              "  <div class=\"colab-df-container\">\n",
              "    <button class=\"colab-df-convert\" onclick=\"convertToInteractive('df-544f0bd7-4964-4c61-9c6d-37eb4fa017da')\"\n",
              "            title=\"Convert this dataframe to an interactive table.\"\n",
              "            style=\"display:none;\">\n",
              "\n",
              "  <svg xmlns=\"http://www.w3.org/2000/svg\" height=\"24px\" viewBox=\"0 -960 960 960\">\n",
              "    <path d=\"M120-120v-720h720v720H120Zm60-500h600v-160H180v160Zm220 220h160v-160H400v160Zm0 220h160v-160H400v160ZM180-400h160v-160H180v160Zm440 0h160v-160H620v160ZM180-180h160v-160H180v160Zm440 0h160v-160H620v160Z\"/>\n",
              "  </svg>\n",
              "    </button>\n",
              "\n",
              "  <style>\n",
              "    .colab-df-container {\n",
              "      display:flex;\n",
              "      gap: 12px;\n",
              "    }\n",
              "\n",
              "    .colab-df-convert {\n",
              "      background-color: #E8F0FE;\n",
              "      border: none;\n",
              "      border-radius: 50%;\n",
              "      cursor: pointer;\n",
              "      display: none;\n",
              "      fill: #1967D2;\n",
              "      height: 32px;\n",
              "      padding: 0 0 0 0;\n",
              "      width: 32px;\n",
              "    }\n",
              "\n",
              "    .colab-df-convert:hover {\n",
              "      background-color: #E2EBFA;\n",
              "      box-shadow: 0px 1px 2px rgba(60, 64, 67, 0.3), 0px 1px 3px 1px rgba(60, 64, 67, 0.15);\n",
              "      fill: #174EA6;\n",
              "    }\n",
              "\n",
              "    .colab-df-buttons div {\n",
              "      margin-bottom: 4px;\n",
              "    }\n",
              "\n",
              "    [theme=dark] .colab-df-convert {\n",
              "      background-color: #3B4455;\n",
              "      fill: #D2E3FC;\n",
              "    }\n",
              "\n",
              "    [theme=dark] .colab-df-convert:hover {\n",
              "      background-color: #434B5C;\n",
              "      box-shadow: 0px 1px 3px 1px rgba(0, 0, 0, 0.15);\n",
              "      filter: drop-shadow(0px 1px 2px rgba(0, 0, 0, 0.3));\n",
              "      fill: #FFFFFF;\n",
              "    }\n",
              "  </style>\n",
              "\n",
              "    <script>\n",
              "      const buttonEl =\n",
              "        document.querySelector('#df-544f0bd7-4964-4c61-9c6d-37eb4fa017da button.colab-df-convert');\n",
              "      buttonEl.style.display =\n",
              "        google.colab.kernel.accessAllowed ? 'block' : 'none';\n",
              "\n",
              "      async function convertToInteractive(key) {\n",
              "        const element = document.querySelector('#df-544f0bd7-4964-4c61-9c6d-37eb4fa017da');\n",
              "        const dataTable =\n",
              "          await google.colab.kernel.invokeFunction('convertToInteractive',\n",
              "                                                    [key], {});\n",
              "        if (!dataTable) return;\n",
              "\n",
              "        const docLinkHtml = 'Like what you see? Visit the ' +\n",
              "          '<a target=\"_blank\" href=https://colab.research.google.com/notebooks/data_table.ipynb>data table notebook</a>'\n",
              "          + ' to learn more about interactive tables.';\n",
              "        element.innerHTML = '';\n",
              "        dataTable['output_type'] = 'display_data';\n",
              "        await google.colab.output.renderOutput(dataTable, element);\n",
              "        const docLink = document.createElement('div');\n",
              "        docLink.innerHTML = docLinkHtml;\n",
              "        element.appendChild(docLink);\n",
              "      }\n",
              "    </script>\n",
              "  </div>\n",
              "\n",
              "\n",
              "    <div id=\"df-96aa2a49-1dc8-4ae5-b450-a67e6c17d015\">\n",
              "      <button class=\"colab-df-quickchart\" onclick=\"quickchart('df-96aa2a49-1dc8-4ae5-b450-a67e6c17d015')\"\n",
              "                title=\"Suggest charts\"\n",
              "                style=\"display:none;\">\n",
              "\n",
              "<svg xmlns=\"http://www.w3.org/2000/svg\" height=\"24px\"viewBox=\"0 0 24 24\"\n",
              "     width=\"24px\">\n",
              "    <g>\n",
              "        <path d=\"M19 3H5c-1.1 0-2 .9-2 2v14c0 1.1.9 2 2 2h14c1.1 0 2-.9 2-2V5c0-1.1-.9-2-2-2zM9 17H7v-7h2v7zm4 0h-2V7h2v10zm4 0h-2v-4h2v4z\"/>\n",
              "    </g>\n",
              "</svg>\n",
              "      </button>\n",
              "\n",
              "<style>\n",
              "  .colab-df-quickchart {\n",
              "      --bg-color: #E8F0FE;\n",
              "      --fill-color: #1967D2;\n",
              "      --hover-bg-color: #E2EBFA;\n",
              "      --hover-fill-color: #174EA6;\n",
              "      --disabled-fill-color: #AAA;\n",
              "      --disabled-bg-color: #DDD;\n",
              "  }\n",
              "\n",
              "  [theme=dark] .colab-df-quickchart {\n",
              "      --bg-color: #3B4455;\n",
              "      --fill-color: #D2E3FC;\n",
              "      --hover-bg-color: #434B5C;\n",
              "      --hover-fill-color: #FFFFFF;\n",
              "      --disabled-bg-color: #3B4455;\n",
              "      --disabled-fill-color: #666;\n",
              "  }\n",
              "\n",
              "  .colab-df-quickchart {\n",
              "    background-color: var(--bg-color);\n",
              "    border: none;\n",
              "    border-radius: 50%;\n",
              "    cursor: pointer;\n",
              "    display: none;\n",
              "    fill: var(--fill-color);\n",
              "    height: 32px;\n",
              "    padding: 0;\n",
              "    width: 32px;\n",
              "  }\n",
              "\n",
              "  .colab-df-quickchart:hover {\n",
              "    background-color: var(--hover-bg-color);\n",
              "    box-shadow: 0 1px 2px rgba(60, 64, 67, 0.3), 0 1px 3px 1px rgba(60, 64, 67, 0.15);\n",
              "    fill: var(--button-hover-fill-color);\n",
              "  }\n",
              "\n",
              "  .colab-df-quickchart-complete:disabled,\n",
              "  .colab-df-quickchart-complete:disabled:hover {\n",
              "    background-color: var(--disabled-bg-color);\n",
              "    fill: var(--disabled-fill-color);\n",
              "    box-shadow: none;\n",
              "  }\n",
              "\n",
              "  .colab-df-spinner {\n",
              "    border: 2px solid var(--fill-color);\n",
              "    border-color: transparent;\n",
              "    border-bottom-color: var(--fill-color);\n",
              "    animation:\n",
              "      spin 1s steps(1) infinite;\n",
              "  }\n",
              "\n",
              "  @keyframes spin {\n",
              "    0% {\n",
              "      border-color: transparent;\n",
              "      border-bottom-color: var(--fill-color);\n",
              "      border-left-color: var(--fill-color);\n",
              "    }\n",
              "    20% {\n",
              "      border-color: transparent;\n",
              "      border-left-color: var(--fill-color);\n",
              "      border-top-color: var(--fill-color);\n",
              "    }\n",
              "    30% {\n",
              "      border-color: transparent;\n",
              "      border-left-color: var(--fill-color);\n",
              "      border-top-color: var(--fill-color);\n",
              "      border-right-color: var(--fill-color);\n",
              "    }\n",
              "    40% {\n",
              "      border-color: transparent;\n",
              "      border-right-color: var(--fill-color);\n",
              "      border-top-color: var(--fill-color);\n",
              "    }\n",
              "    60% {\n",
              "      border-color: transparent;\n",
              "      border-right-color: var(--fill-color);\n",
              "    }\n",
              "    80% {\n",
              "      border-color: transparent;\n",
              "      border-right-color: var(--fill-color);\n",
              "      border-bottom-color: var(--fill-color);\n",
              "    }\n",
              "    90% {\n",
              "      border-color: transparent;\n",
              "      border-bottom-color: var(--fill-color);\n",
              "    }\n",
              "  }\n",
              "</style>\n",
              "\n",
              "      <script>\n",
              "        async function quickchart(key) {\n",
              "          const quickchartButtonEl =\n",
              "            document.querySelector('#' + key + ' button');\n",
              "          quickchartButtonEl.disabled = true;  // To prevent multiple clicks.\n",
              "          quickchartButtonEl.classList.add('colab-df-spinner');\n",
              "          try {\n",
              "            const charts = await google.colab.kernel.invokeFunction(\n",
              "                'suggestCharts', [key], {});\n",
              "          } catch (error) {\n",
              "            console.error('Error during call to suggestCharts:', error);\n",
              "          }\n",
              "          quickchartButtonEl.classList.remove('colab-df-spinner');\n",
              "          quickchartButtonEl.classList.add('colab-df-quickchart-complete');\n",
              "        }\n",
              "        (() => {\n",
              "          let quickchartButtonEl =\n",
              "            document.querySelector('#df-96aa2a49-1dc8-4ae5-b450-a67e6c17d015 button');\n",
              "          quickchartButtonEl.style.display =\n",
              "            google.colab.kernel.accessAllowed ? 'block' : 'none';\n",
              "        })();\n",
              "      </script>\n",
              "    </div>\n",
              "\n",
              "    </div>\n",
              "  </div>\n"
            ],
            "application/vnd.google.colaboratory.intrinsic+json": {
              "type": "dataframe",
              "variable_name": "train",
              "summary": "{\n  \"name\": \"train\",\n  \"rows\": 3759,\n  \"fields\": [\n    {\n      \"column\": \"model\",\n      \"properties\": {\n        \"dtype\": \"category\",\n        \"num_unique_values\": 19,\n        \"samples\": [\n          \" EcoSport\",\n          \" Ka+\",\n          \" Edge\"\n        ],\n        \"semantic_type\": \"\",\n        \"description\": \"\"\n      }\n    },\n    {\n      \"column\": \"year\",\n      \"properties\": {\n        \"dtype\": \"number\",\n        \"std\": 2,\n        \"min\": 2002,\n        \"max\": 2060,\n        \"num_unique_values\": 20,\n        \"samples\": [\n          2017,\n          2002,\n          2012\n        ],\n        \"semantic_type\": \"\",\n        \"description\": \"\"\n      }\n    },\n    {\n      \"column\": \"transmission\",\n      \"properties\": {\n        \"dtype\": \"category\",\n        \"num_unique_values\": 3,\n        \"samples\": [\n          \"Manual\",\n          \"Automatic\",\n          \"Semi-Auto\"\n        ],\n        \"semantic_type\": \"\",\n        \"description\": \"\"\n      }\n    },\n    {\n      \"column\": \"mileage\",\n      \"properties\": {\n        \"dtype\": \"number\",\n        \"std\": 19223,\n        \"min\": 5,\n        \"max\": 144000,\n        \"num_unique_values\": 3329,\n        \"samples\": [\n          11410,\n          17378,\n          22213\n        ],\n        \"semantic_type\": \"\",\n        \"description\": \"\"\n      }\n    },\n    {\n      \"column\": \"fuelType\",\n      \"properties\": {\n        \"dtype\": \"category\",\n        \"num_unique_values\": 3,\n        \"samples\": [\n          \"Petrol\",\n          \"Diesel\",\n          \"Hybrid\"\n        ],\n        \"semantic_type\": \"\",\n        \"description\": \"\"\n      }\n    },\n    {\n      \"column\": \"tax\",\n      \"properties\": {\n        \"dtype\": \"number\",\n        \"std\": 61,\n        \"min\": 0,\n        \"max\": 570,\n        \"num_unique_values\": 23,\n        \"samples\": [\n          120,\n          235,\n          150\n        ],\n        \"semantic_type\": \"\",\n        \"description\": \"\"\n      }\n    },\n    {\n      \"column\": \"mpg\",\n      \"properties\": {\n        \"dtype\": \"number\",\n        \"std\": 10.099221435024088,\n        \"min\": 20.9,\n        \"max\": 201.8,\n        \"num_unique_values\": 76,\n        \"samples\": [\n          54.3,\n          34.0,\n          67.3\n        ],\n        \"semantic_type\": \"\",\n        \"description\": \"\"\n      }\n    },\n    {\n      \"column\": \"engineSize\",\n      \"properties\": {\n        \"dtype\": \"number\",\n        \"std\": 0.4371297993972949,\n        \"min\": 0.0,\n        \"max\": 5.0,\n        \"num_unique_values\": 14,\n        \"samples\": [\n          1.8,\n          2.5,\n          1.0\n        ],\n        \"semantic_type\": \"\",\n        \"description\": \"\"\n      }\n    }\n  ]\n}"
            }
          },
          "metadata": {},
          "execution_count": 163
        }
      ]
    },
    {
      "cell_type": "code",
      "source": [
        "train.info()"
      ],
      "metadata": {
        "colab": {
          "base_uri": "https://localhost:8080/"
        },
        "id": "KItou9JkZ6ld",
        "outputId": "ed78d0b8-01cd-4be0-db19-f01436398ecd"
      },
      "execution_count": 164,
      "outputs": [
        {
          "output_type": "stream",
          "name": "stdout",
          "text": [
            "<class 'pandas.core.frame.DataFrame'>\n",
            "RangeIndex: 3759 entries, 0 to 3758\n",
            "Data columns (total 8 columns):\n",
            " #   Column        Non-Null Count  Dtype  \n",
            "---  ------        --------------  -----  \n",
            " 0   model         3759 non-null   object \n",
            " 1   year          3759 non-null   int64  \n",
            " 2   transmission  3759 non-null   object \n",
            " 3   mileage       3759 non-null   int64  \n",
            " 4   fuelType      3759 non-null   object \n",
            " 5   tax           3759 non-null   int64  \n",
            " 6   mpg           3759 non-null   float64\n",
            " 7   engineSize    3759 non-null   float64\n",
            "dtypes: float64(2), int64(3), object(3)\n",
            "memory usage: 235.1+ KB\n"
          ]
        }
      ]
    },
    {
      "cell_type": "code",
      "source": [
        "for c in train.columns:\n",
        "  print(c,' : ', train[c].unique())\n",
        "\n",
        "  if set(train[c]) != set(test[c]) :\n",
        "    print('***값 test와 다름 ***')\n",
        "    print()"
      ],
      "metadata": {
        "colab": {
          "base_uri": "https://localhost:8080/"
        },
        "id": "UapND3QUZ__U",
        "outputId": "fa66b80b-c93a-4dd0-d0ce-cfa38239807a"
      },
      "execution_count": 165,
      "outputs": [
        {
          "output_type": "stream",
          "name": "stdout",
          "text": [
            "model  :  [' EcoSport' ' Focus' ' S-MAX' ' Fiesta' ' B-MAX' ' Ka+' ' Grand C-MAX'\n",
            " ' Kuga' ' KA' ' Mondeo' ' C-MAX' ' Edge' ' Galaxy'\n",
            " ' Grand Tourneo Connect' ' Puma' ' Mustang' ' Tourneo Custom'\n",
            " ' Tourneo Connect' ' Fusion']\n",
            "year  :  [2017 2016 2018 2014 2019 2013 2015 2020 2009 2010 2011 2005 2008 2007\n",
            " 2060 2012 2006 2002 2003 2004]\n",
            "***값 test와 다름 ***\n",
            "\n",
            "transmission  :  ['Manual' 'Automatic' 'Semi-Auto']\n",
            "mileage  :  [25013 30970 60200 ... 16207  9487  8143]\n",
            "***값 test와 다름 ***\n",
            "\n",
            "fuelType  :  ['Petrol' 'Diesel' 'Hybrid']\n",
            "tax  :  [150   0 145  30 200 125  20 160 165 235 240 265 205 260 325 120 220 135\n",
            " 300 555 570 195 305]\n",
            "***값 test와 다름 ***\n",
            "\n",
            "mpg  :  [ 53.3  74.3  56.5  65.7  54.3  47.1  57.7  64.2  39.2  38.2  67.3  49.6\n",
            "  48.7  60.1  34.4  78.5  55.4  51.4  58.9  52.3  61.4  43.5  47.9  80.7\n",
            "  56.6  68.9  44.1  40.3  44.8  45.6  62.8  50.4  41.5  42.8  34.5  34.\n",
            "  76.4  88.3  22.1  29.1  39.8  35.8  37.7  37.2  32.8  35.3  36.7  31.7\n",
            "  70.6  74.4  42.2  40.9  40.4  31.   46.3  33.6  22.8  30.4  85.6  30.1\n",
            "  23.9  38.7  54.2  34.9  30.7  32.5  83.1  29.4 201.8  28.8  23.5  20.9\n",
            "  26.3  69.   28.5  28. ]\n",
            "***값 test와 다름 ***\n",
            "\n",
            "engineSize  :  [1.  1.5 2.  1.2 1.4 1.1 1.6 2.3 5.  1.8 2.2 2.5 0.  1.3]\n",
            "***값 test와 다름 ***\n",
            "\n"
          ]
        }
      ]
    },
    {
      "cell_type": "markdown",
      "source": [
        "전처리"
      ],
      "metadata": {
        "id": "MB4skN_EaFr4"
      }
    },
    {
      "cell_type": "code",
      "source": [
        "#이상값 제거\n",
        "i = train[train['year'] == 2060].index\n",
        "train.drop(i, axis=0, inplace=True)\n",
        "target.drop(i, axis=0, inplace=True)\n",
        "\n",
        "#object -> OH\n",
        "train = pd.get_dummies(train)\n",
        "test = pd.get_dummies(test)\n",
        "print(train.shape, test.shape)\n",
        "\n",
        "#number -> 아직ㄴㄴ\n",
        "from sklearn.preprocessing import RobustScaler #RobustScaler, MinMaxScaler\n",
        "cols = train.select_dtypes(include='number').columns\n",
        "\n",
        "scaler = RobustScaler()\n",
        "train[cols] = scaler.fit_transform(train[cols])\n",
        "test[cols] = scaler.transform(test[cols])"
      ],
      "metadata": {
        "colab": {
          "base_uri": "https://localhost:8080/"
        },
        "id": "cry2xlMBaGiW",
        "outputId": "77584985-8a29-4f5d-deae-75421d9561de"
      },
      "execution_count": 166,
      "outputs": [
        {
          "output_type": "stream",
          "name": "stdout",
          "text": [
            "(3758, 30) (1617, 30)\n"
          ]
        }
      ]
    },
    {
      "cell_type": "markdown",
      "source": [
        "모델학습"
      ],
      "metadata": {
        "id": "Q4i-WKdrehs4"
      }
    },
    {
      "cell_type": "code",
      "source": [
        "from sklearn.model_selection import train_test_split\n",
        "X_train, X_val, y_train, y_val = train_test_split(train, target, test_size=0.3, random_state = 99)\n",
        "print(X_train.shape, X_val.shape, y_train.shape, y_val.shape)"
      ],
      "metadata": {
        "colab": {
          "base_uri": "https://localhost:8080/"
        },
        "id": "sRsfkgCwej-i",
        "outputId": "ae1bb078-c50c-4781-876a-2c558bf98eb2"
      },
      "execution_count": 196,
      "outputs": [
        {
          "output_type": "stream",
          "name": "stdout",
          "text": [
            "(2630, 30) (1128, 30) (2630,) (1128,)\n"
          ]
        }
      ]
    },
    {
      "cell_type": "code",
      "source": [
        "#회귀\n",
        "from sklearn.linear_model import LinearRegression\n",
        "from sklearn.ensemble import RandomForestRegressor\n",
        "from sklearn.tree import DecisionTreeRegressor\n",
        "import xgboost as xgb\n",
        "import lightgbm as lgb\n",
        "from sklearn.metrics import root_mean_squared_error\n",
        "\n",
        "def model_selection(model, name):\n",
        "  model.fit(X_train, y_train)\n",
        "  pred = model.predict(X_val)\n",
        "  print(name, ':', root_mean_squared_error(y_val, pred))\n",
        "\n",
        "model = LinearRegression()\n",
        "model_selection(model, 'lr')\n",
        "model = RandomForestRegressor()\n",
        "model_selection(model, 'rfr')\n",
        "model = DecisionTreeRegressor()\n",
        "model_selection(model, 'dt')\n",
        "model = xgb.XGBRegressor()\n",
        "model_selection(model, 'xgb')\n",
        "model = lgb.LGBMRegressor()\n",
        "model_selection(model, 'lgb')\n",
        "\n"
      ],
      "metadata": {
        "colab": {
          "base_uri": "https://localhost:8080/"
        },
        "id": "RHxLzc09fLCE",
        "outputId": "71cc1e51-0cdf-4bb4-d96d-1bbcd71f6f24"
      },
      "execution_count": 197,
      "outputs": [
        {
          "output_type": "stream",
          "name": "stdout",
          "text": [
            "lr : 2007.3382756671447\n",
            "rfr : 1379.375559283207\n",
            "dt : 1672.5192648493937\n",
            "xgb : 1438.36572265625\n",
            "[LightGBM] [Warning] Found whitespace in feature_names, replace with underlines\n",
            "[LightGBM] [Info] Auto-choosing col-wise multi-threading, the overhead of testing was 0.000403 seconds.\n",
            "You can set `force_col_wise=true` to remove the overhead.\n",
            "[LightGBM] [Info] Total Bins 390\n",
            "[LightGBM] [Info] Number of data points in the train set: 2630, number of used features: 23\n",
            "[LightGBM] [Info] Start training from score 12368.858555\n",
            "lgb : 1321.1768645191182\n"
          ]
        }
      ]
    },
    {
      "cell_type": "code",
      "source": [
        "OH,                   lgb : 1329.7467937658735\n",
        "OH, StandardScaler    lgb : 1330.3654275740785\n",
        "OH, RobustScaler      lgb : 1321.1768645191182 -- *\n",
        "OH, MinMaxScaler      lgb : 1329.7467937658735\n",
        "\n",
        "LE, StandardScaler    lgb : 1350.3907985048147\n",
        "LE, RobustScaler      lgb : 1358.8154200735635\n",
        "LE, MinMaxScaler      lgb : 1355.995434011075"
      ],
      "metadata": {
        "colab": {
          "base_uri": "https://localhost:8080/",
          "height": 111
        },
        "id": "D1MSHgr5gA4v",
        "outputId": "fa093b4b-0eb6-4022-f829-8c2e4903aa8b"
      },
      "execution_count": 169,
      "outputs": [
        {
          "output_type": "error",
          "ename": "SyntaxError",
          "evalue": "only single target (not tuple) can be annotated (ipython-input-2589224388.py, line 1)",
          "traceback": [
            "\u001b[0;36m  File \u001b[0;32m\"/tmp/ipython-input-2589224388.py\"\u001b[0;36m, line \u001b[0;32m1\u001b[0m\n\u001b[0;31m    OH,                   lgb : 1329.7467937658735\u001b[0m\n\u001b[0m    ^\u001b[0m\n\u001b[0;31mSyntaxError\u001b[0m\u001b[0;31m:\u001b[0m only single target (not tuple) can be annotated\n"
          ]
        }
      ]
    },
    {
      "cell_type": "markdown",
      "source": [
        "파라미터"
      ],
      "metadata": {
        "id": "6A3-3qWBi7SI"
      }
    },
    {
      "cell_type": "code",
      "source": [
        "from sklearn.model_selection import GridSearchCV\n",
        "\n",
        "model = lgb.LGBMRegressor(random_state = 99)\n",
        "\n",
        "grid_search = GridSearchCV(\n",
        "    estimator = model,\n",
        "    param_grid = {\n",
        "        'max_depth' : [-1],\n",
        "        'learning_rate' : [0.05, 0.1, 0.5],\n",
        "        'n_estimators' : [100, 200, 300, 400]\n",
        "    },\n",
        "    cv = 5, scoring = 'neg_root_mean_squared_error',\n",
        "    n_jobs = -1, verbose=5\n",
        ")\n",
        "\n",
        "grid_search.fit(X_train, y_train)\n",
        "\n",
        "model = grid_search.best_estimator_\n",
        "print(grid_search.best_score_)\n",
        "print(grid_search.best_params_)\n",
        "\n",
        "pred = model.predict(X_val)\n",
        "print('grid search score : ', root_mean_squared_error(y_val, pred))\n"
      ],
      "metadata": {
        "colab": {
          "base_uri": "https://localhost:8080/"
        },
        "id": "U3kOHXjQi5Uh",
        "outputId": "05557263-bf31-4a50-eeb0-2c88978a45f0"
      },
      "execution_count": 183,
      "outputs": [
        {
          "output_type": "stream",
          "name": "stdout",
          "text": [
            "Fitting 5 folds for each of 12 candidates, totalling 60 fits\n",
            "[LightGBM] [Warning] Found whitespace in feature_names, replace with underlines\n",
            "[LightGBM] [Info] Auto-choosing col-wise multi-threading, the overhead of testing was 0.000411 seconds.\n",
            "You can set `force_col_wise=true` to remove the overhead.\n",
            "[LightGBM] [Info] Total Bins 390\n",
            "[LightGBM] [Info] Number of data points in the train set: 2630, number of used features: 23\n",
            "[LightGBM] [Info] Start training from score 12368.858555\n",
            "-1373.9465595008771\n",
            "{'learning_rate': 0.1, 'max_depth': -1, 'n_estimators': 300}\n",
            "grid search score :  1273.132705548665\n"
          ]
        }
      ]
    },
    {
      "cell_type": "code",
      "source": [
        "#1. {'learning_rate': 0.1, 'max_depth': -1, 'n_estimators': 300} grid search score :  1273.132705548665\n"
      ],
      "metadata": {
        "id": "FkAQOrs3mZl8"
      },
      "execution_count": null,
      "outputs": []
    },
    {
      "cell_type": "markdown",
      "source": [
        "저장"
      ],
      "metadata": {
        "id": "0ussolqpk0Ox"
      }
    },
    {
      "cell_type": "code",
      "source": [
        "res = pd.DataFrame({\n",
        "    'pred' : model.predict(test)\n",
        "    })\n",
        "res.to_csv('result.csv', index=False)"
      ],
      "metadata": {
        "id": "u589C70ak0jz"
      },
      "execution_count": 202,
      "outputs": []
    },
    {
      "cell_type": "code",
      "source": [
        "saved = pd.read_csv('result.csv')\n",
        "saved"
      ],
      "metadata": {
        "colab": {
          "base_uri": "https://localhost:8080/",
          "height": 423
        },
        "id": "8ZiCtxPjk_VZ",
        "outputId": "0f7d7913-34a4-470d-b64b-e02f6cdd7aef"
      },
      "execution_count": 203,
      "outputs": [
        {
          "output_type": "execute_result",
          "data": {
            "text/plain": [
              "              pred\n",
              "0     15952.053719\n",
              "1     15303.010029\n",
              "2     14552.690877\n",
              "3     17525.214520\n",
              "4      6308.177290\n",
              "...            ...\n",
              "1612  10964.531863\n",
              "1613  17688.147824\n",
              "1614   9288.986024\n",
              "1615  13503.280298\n",
              "1616   5959.916782\n",
              "\n",
              "[1617 rows x 1 columns]"
            ],
            "text/html": [
              "\n",
              "  <div id=\"df-16fb42e8-6219-4c2a-84ce-befbb9c98ec4\" class=\"colab-df-container\">\n",
              "    <div>\n",
              "<style scoped>\n",
              "    .dataframe tbody tr th:only-of-type {\n",
              "        vertical-align: middle;\n",
              "    }\n",
              "\n",
              "    .dataframe tbody tr th {\n",
              "        vertical-align: top;\n",
              "    }\n",
              "\n",
              "    .dataframe thead th {\n",
              "        text-align: right;\n",
              "    }\n",
              "</style>\n",
              "<table border=\"1\" class=\"dataframe\">\n",
              "  <thead>\n",
              "    <tr style=\"text-align: right;\">\n",
              "      <th></th>\n",
              "      <th>pred</th>\n",
              "    </tr>\n",
              "  </thead>\n",
              "  <tbody>\n",
              "    <tr>\n",
              "      <th>0</th>\n",
              "      <td>15952.053719</td>\n",
              "    </tr>\n",
              "    <tr>\n",
              "      <th>1</th>\n",
              "      <td>15303.010029</td>\n",
              "    </tr>\n",
              "    <tr>\n",
              "      <th>2</th>\n",
              "      <td>14552.690877</td>\n",
              "    </tr>\n",
              "    <tr>\n",
              "      <th>3</th>\n",
              "      <td>17525.214520</td>\n",
              "    </tr>\n",
              "    <tr>\n",
              "      <th>4</th>\n",
              "      <td>6308.177290</td>\n",
              "    </tr>\n",
              "    <tr>\n",
              "      <th>...</th>\n",
              "      <td>...</td>\n",
              "    </tr>\n",
              "    <tr>\n",
              "      <th>1612</th>\n",
              "      <td>10964.531863</td>\n",
              "    </tr>\n",
              "    <tr>\n",
              "      <th>1613</th>\n",
              "      <td>17688.147824</td>\n",
              "    </tr>\n",
              "    <tr>\n",
              "      <th>1614</th>\n",
              "      <td>9288.986024</td>\n",
              "    </tr>\n",
              "    <tr>\n",
              "      <th>1615</th>\n",
              "      <td>13503.280298</td>\n",
              "    </tr>\n",
              "    <tr>\n",
              "      <th>1616</th>\n",
              "      <td>5959.916782</td>\n",
              "    </tr>\n",
              "  </tbody>\n",
              "</table>\n",
              "<p>1617 rows × 1 columns</p>\n",
              "</div>\n",
              "    <div class=\"colab-df-buttons\">\n",
              "\n",
              "  <div class=\"colab-df-container\">\n",
              "    <button class=\"colab-df-convert\" onclick=\"convertToInteractive('df-16fb42e8-6219-4c2a-84ce-befbb9c98ec4')\"\n",
              "            title=\"Convert this dataframe to an interactive table.\"\n",
              "            style=\"display:none;\">\n",
              "\n",
              "  <svg xmlns=\"http://www.w3.org/2000/svg\" height=\"24px\" viewBox=\"0 -960 960 960\">\n",
              "    <path d=\"M120-120v-720h720v720H120Zm60-500h600v-160H180v160Zm220 220h160v-160H400v160Zm0 220h160v-160H400v160ZM180-400h160v-160H180v160Zm440 0h160v-160H620v160ZM180-180h160v-160H180v160Zm440 0h160v-160H620v160Z\"/>\n",
              "  </svg>\n",
              "    </button>\n",
              "\n",
              "  <style>\n",
              "    .colab-df-container {\n",
              "      display:flex;\n",
              "      gap: 12px;\n",
              "    }\n",
              "\n",
              "    .colab-df-convert {\n",
              "      background-color: #E8F0FE;\n",
              "      border: none;\n",
              "      border-radius: 50%;\n",
              "      cursor: pointer;\n",
              "      display: none;\n",
              "      fill: #1967D2;\n",
              "      height: 32px;\n",
              "      padding: 0 0 0 0;\n",
              "      width: 32px;\n",
              "    }\n",
              "\n",
              "    .colab-df-convert:hover {\n",
              "      background-color: #E2EBFA;\n",
              "      box-shadow: 0px 1px 2px rgba(60, 64, 67, 0.3), 0px 1px 3px 1px rgba(60, 64, 67, 0.15);\n",
              "      fill: #174EA6;\n",
              "    }\n",
              "\n",
              "    .colab-df-buttons div {\n",
              "      margin-bottom: 4px;\n",
              "    }\n",
              "\n",
              "    [theme=dark] .colab-df-convert {\n",
              "      background-color: #3B4455;\n",
              "      fill: #D2E3FC;\n",
              "    }\n",
              "\n",
              "    [theme=dark] .colab-df-convert:hover {\n",
              "      background-color: #434B5C;\n",
              "      box-shadow: 0px 1px 3px 1px rgba(0, 0, 0, 0.15);\n",
              "      filter: drop-shadow(0px 1px 2px rgba(0, 0, 0, 0.3));\n",
              "      fill: #FFFFFF;\n",
              "    }\n",
              "  </style>\n",
              "\n",
              "    <script>\n",
              "      const buttonEl =\n",
              "        document.querySelector('#df-16fb42e8-6219-4c2a-84ce-befbb9c98ec4 button.colab-df-convert');\n",
              "      buttonEl.style.display =\n",
              "        google.colab.kernel.accessAllowed ? 'block' : 'none';\n",
              "\n",
              "      async function convertToInteractive(key) {\n",
              "        const element = document.querySelector('#df-16fb42e8-6219-4c2a-84ce-befbb9c98ec4');\n",
              "        const dataTable =\n",
              "          await google.colab.kernel.invokeFunction('convertToInteractive',\n",
              "                                                    [key], {});\n",
              "        if (!dataTable) return;\n",
              "\n",
              "        const docLinkHtml = 'Like what you see? Visit the ' +\n",
              "          '<a target=\"_blank\" href=https://colab.research.google.com/notebooks/data_table.ipynb>data table notebook</a>'\n",
              "          + ' to learn more about interactive tables.';\n",
              "        element.innerHTML = '';\n",
              "        dataTable['output_type'] = 'display_data';\n",
              "        await google.colab.output.renderOutput(dataTable, element);\n",
              "        const docLink = document.createElement('div');\n",
              "        docLink.innerHTML = docLinkHtml;\n",
              "        element.appendChild(docLink);\n",
              "      }\n",
              "    </script>\n",
              "  </div>\n",
              "\n",
              "\n",
              "    <div id=\"df-5c9af369-565f-4d5d-b4a1-1d3802a53d42\">\n",
              "      <button class=\"colab-df-quickchart\" onclick=\"quickchart('df-5c9af369-565f-4d5d-b4a1-1d3802a53d42')\"\n",
              "                title=\"Suggest charts\"\n",
              "                style=\"display:none;\">\n",
              "\n",
              "<svg xmlns=\"http://www.w3.org/2000/svg\" height=\"24px\"viewBox=\"0 0 24 24\"\n",
              "     width=\"24px\">\n",
              "    <g>\n",
              "        <path d=\"M19 3H5c-1.1 0-2 .9-2 2v14c0 1.1.9 2 2 2h14c1.1 0 2-.9 2-2V5c0-1.1-.9-2-2-2zM9 17H7v-7h2v7zm4 0h-2V7h2v10zm4 0h-2v-4h2v4z\"/>\n",
              "    </g>\n",
              "</svg>\n",
              "      </button>\n",
              "\n",
              "<style>\n",
              "  .colab-df-quickchart {\n",
              "      --bg-color: #E8F0FE;\n",
              "      --fill-color: #1967D2;\n",
              "      --hover-bg-color: #E2EBFA;\n",
              "      --hover-fill-color: #174EA6;\n",
              "      --disabled-fill-color: #AAA;\n",
              "      --disabled-bg-color: #DDD;\n",
              "  }\n",
              "\n",
              "  [theme=dark] .colab-df-quickchart {\n",
              "      --bg-color: #3B4455;\n",
              "      --fill-color: #D2E3FC;\n",
              "      --hover-bg-color: #434B5C;\n",
              "      --hover-fill-color: #FFFFFF;\n",
              "      --disabled-bg-color: #3B4455;\n",
              "      --disabled-fill-color: #666;\n",
              "  }\n",
              "\n",
              "  .colab-df-quickchart {\n",
              "    background-color: var(--bg-color);\n",
              "    border: none;\n",
              "    border-radius: 50%;\n",
              "    cursor: pointer;\n",
              "    display: none;\n",
              "    fill: var(--fill-color);\n",
              "    height: 32px;\n",
              "    padding: 0;\n",
              "    width: 32px;\n",
              "  }\n",
              "\n",
              "  .colab-df-quickchart:hover {\n",
              "    background-color: var(--hover-bg-color);\n",
              "    box-shadow: 0 1px 2px rgba(60, 64, 67, 0.3), 0 1px 3px 1px rgba(60, 64, 67, 0.15);\n",
              "    fill: var(--button-hover-fill-color);\n",
              "  }\n",
              "\n",
              "  .colab-df-quickchart-complete:disabled,\n",
              "  .colab-df-quickchart-complete:disabled:hover {\n",
              "    background-color: var(--disabled-bg-color);\n",
              "    fill: var(--disabled-fill-color);\n",
              "    box-shadow: none;\n",
              "  }\n",
              "\n",
              "  .colab-df-spinner {\n",
              "    border: 2px solid var(--fill-color);\n",
              "    border-color: transparent;\n",
              "    border-bottom-color: var(--fill-color);\n",
              "    animation:\n",
              "      spin 1s steps(1) infinite;\n",
              "  }\n",
              "\n",
              "  @keyframes spin {\n",
              "    0% {\n",
              "      border-color: transparent;\n",
              "      border-bottom-color: var(--fill-color);\n",
              "      border-left-color: var(--fill-color);\n",
              "    }\n",
              "    20% {\n",
              "      border-color: transparent;\n",
              "      border-left-color: var(--fill-color);\n",
              "      border-top-color: var(--fill-color);\n",
              "    }\n",
              "    30% {\n",
              "      border-color: transparent;\n",
              "      border-left-color: var(--fill-color);\n",
              "      border-top-color: var(--fill-color);\n",
              "      border-right-color: var(--fill-color);\n",
              "    }\n",
              "    40% {\n",
              "      border-color: transparent;\n",
              "      border-right-color: var(--fill-color);\n",
              "      border-top-color: var(--fill-color);\n",
              "    }\n",
              "    60% {\n",
              "      border-color: transparent;\n",
              "      border-right-color: var(--fill-color);\n",
              "    }\n",
              "    80% {\n",
              "      border-color: transparent;\n",
              "      border-right-color: var(--fill-color);\n",
              "      border-bottom-color: var(--fill-color);\n",
              "    }\n",
              "    90% {\n",
              "      border-color: transparent;\n",
              "      border-bottom-color: var(--fill-color);\n",
              "    }\n",
              "  }\n",
              "</style>\n",
              "\n",
              "      <script>\n",
              "        async function quickchart(key) {\n",
              "          const quickchartButtonEl =\n",
              "            document.querySelector('#' + key + ' button');\n",
              "          quickchartButtonEl.disabled = true;  // To prevent multiple clicks.\n",
              "          quickchartButtonEl.classList.add('colab-df-spinner');\n",
              "          try {\n",
              "            const charts = await google.colab.kernel.invokeFunction(\n",
              "                'suggestCharts', [key], {});\n",
              "          } catch (error) {\n",
              "            console.error('Error during call to suggestCharts:', error);\n",
              "          }\n",
              "          quickchartButtonEl.classList.remove('colab-df-spinner');\n",
              "          quickchartButtonEl.classList.add('colab-df-quickchart-complete');\n",
              "        }\n",
              "        (() => {\n",
              "          let quickchartButtonEl =\n",
              "            document.querySelector('#df-5c9af369-565f-4d5d-b4a1-1d3802a53d42 button');\n",
              "          quickchartButtonEl.style.display =\n",
              "            google.colab.kernel.accessAllowed ? 'block' : 'none';\n",
              "        })();\n",
              "      </script>\n",
              "    </div>\n",
              "\n",
              "  <div id=\"id_5fc18367-c8b0-4298-bc61-c45091f3ff14\">\n",
              "    <style>\n",
              "      .colab-df-generate {\n",
              "        background-color: #E8F0FE;\n",
              "        border: none;\n",
              "        border-radius: 50%;\n",
              "        cursor: pointer;\n",
              "        display: none;\n",
              "        fill: #1967D2;\n",
              "        height: 32px;\n",
              "        padding: 0 0 0 0;\n",
              "        width: 32px;\n",
              "      }\n",
              "\n",
              "      .colab-df-generate:hover {\n",
              "        background-color: #E2EBFA;\n",
              "        box-shadow: 0px 1px 2px rgba(60, 64, 67, 0.3), 0px 1px 3px 1px rgba(60, 64, 67, 0.15);\n",
              "        fill: #174EA6;\n",
              "      }\n",
              "\n",
              "      [theme=dark] .colab-df-generate {\n",
              "        background-color: #3B4455;\n",
              "        fill: #D2E3FC;\n",
              "      }\n",
              "\n",
              "      [theme=dark] .colab-df-generate:hover {\n",
              "        background-color: #434B5C;\n",
              "        box-shadow: 0px 1px 3px 1px rgba(0, 0, 0, 0.15);\n",
              "        filter: drop-shadow(0px 1px 2px rgba(0, 0, 0, 0.3));\n",
              "        fill: #FFFFFF;\n",
              "      }\n",
              "    </style>\n",
              "    <button class=\"colab-df-generate\" onclick=\"generateWithVariable('saved')\"\n",
              "            title=\"Generate code using this dataframe.\"\n",
              "            style=\"display:none;\">\n",
              "\n",
              "  <svg xmlns=\"http://www.w3.org/2000/svg\" height=\"24px\"viewBox=\"0 0 24 24\"\n",
              "       width=\"24px\">\n",
              "    <path d=\"M7,19H8.4L18.45,9,17,7.55,7,17.6ZM5,21V16.75L18.45,3.32a2,2,0,0,1,2.83,0l1.4,1.43a1.91,1.91,0,0,1,.58,1.4,1.91,1.91,0,0,1-.58,1.4L9.25,21ZM18.45,9,17,7.55Zm-12,3A5.31,5.31,0,0,0,4.9,8.1,5.31,5.31,0,0,0,1,6.5,5.31,5.31,0,0,0,4.9,4.9,5.31,5.31,0,0,0,6.5,1,5.31,5.31,0,0,0,8.1,4.9,5.31,5.31,0,0,0,12,6.5,5.46,5.46,0,0,0,6.5,12Z\"/>\n",
              "  </svg>\n",
              "    </button>\n",
              "    <script>\n",
              "      (() => {\n",
              "      const buttonEl =\n",
              "        document.querySelector('#id_5fc18367-c8b0-4298-bc61-c45091f3ff14 button.colab-df-generate');\n",
              "      buttonEl.style.display =\n",
              "        google.colab.kernel.accessAllowed ? 'block' : 'none';\n",
              "\n",
              "      buttonEl.onclick = () => {\n",
              "        google.colab.notebook.generateWithVariable('saved');\n",
              "      }\n",
              "      })();\n",
              "    </script>\n",
              "  </div>\n",
              "\n",
              "    </div>\n",
              "  </div>\n"
            ],
            "application/vnd.google.colaboratory.intrinsic+json": {
              "type": "dataframe",
              "variable_name": "saved",
              "summary": "{\n  \"name\": \"saved\",\n  \"rows\": 1617,\n  \"fields\": [\n    {\n      \"column\": \"pred\",\n      \"properties\": {\n        \"dtype\": \"number\",\n        \"std\": 4545.275205043689,\n        \"min\": 2018.0433874346909,\n        \"max\": 35694.14039598836,\n        \"num_unique_values\": 1458,\n        \"samples\": [\n          9293.452593967157,\n          7445.930939298978,\n          13587.950567559958\n        ],\n        \"semantic_type\": \"\",\n        \"description\": \"\"\n      }\n    }\n  ]\n}"
            }
          },
          "metadata": {},
          "execution_count": 203
        }
      ]
    },
    {
      "cell_type": "code",
      "source": [],
      "metadata": {
        "id": "LxQjxqVGlWMd"
      },
      "execution_count": null,
      "outputs": []
    }
  ]
}