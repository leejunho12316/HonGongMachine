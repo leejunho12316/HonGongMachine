{
  "nbformat": 4,
  "nbformat_minor": 0,
  "metadata": {
    "colab": {
      "provenance": [],
      "authorship_tag": "ABX9TyMZfdNRdUnzfN35kWcsyi71",
      "include_colab_link": true
    },
    "kernelspec": {
      "name": "python3",
      "display_name": "Python 3"
    },
    "language_info": {
      "name": "python"
    }
  },
  "cells": [
    {
      "cell_type": "markdown",
      "metadata": {
        "id": "view-in-github",
        "colab_type": "text"
      },
      "source": [
        "<a href=\"https://colab.research.google.com/github/leejunho12316/HonGongMachine/blob/main/Udemy_linalg_Matrix_Rank.ipynb\" target=\"_parent\"><img src=\"https://colab.research.google.com/assets/colab-badge.svg\" alt=\"Open In Colab\"/></a>"
      ]
    },
    {
      "cell_type": "code",
      "execution_count": 1,
      "metadata": {
        "id": "tsHP27QBSt3n"
      },
      "outputs": [],
      "source": [
        "import numpy as np"
      ]
    },
    {
      "cell_type": "markdown",
      "source": [
        "#행렬 rank 확인"
      ],
      "metadata": {
        "id": "zvWLRJVWS223"
      }
    },
    {
      "cell_type": "code",
      "source": [
        "A = np.array(([1,2],[1,1]))\n",
        "print(\"일반적인 행렬 A의 rank\")\n",
        "print(\"rank(A) = \", np.linalg.matrix_rank(A))"
      ],
      "metadata": {
        "colab": {
          "base_uri": "https://localhost:8080/"
        },
        "id": "1A_Gd69qS4oP",
        "outputId": "2e63cbff-cb6a-405e-95e2-418d963218db"
      },
      "execution_count": 6,
      "outputs": [
        {
          "output_type": "stream",
          "name": "stdout",
          "text": [
            "일반적인 행렬 A의 rank\n",
            "rank(A) =  2\n"
          ]
        }
      ]
    },
    {
      "cell_type": "code",
      "source": [
        "A = np.array([[1, 1.0000001], [1,1]])\n",
        "print(\"거의 선형 종속적인 행렬 A의 rank\")\n",
        "print(\"rank(A) = \", np.linalg.matrix_rank(A))"
      ],
      "metadata": {
        "colab": {
          "base_uri": "https://localhost:8080/"
        },
        "id": "209QYHGwTK8R",
        "outputId": "b650720f-e598-4d8f-cea5-676e5b3a4d14"
      },
      "execution_count": 7,
      "outputs": [
        {
          "output_type": "stream",
          "name": "stdout",
          "text": [
            "거의 선형 종속적인 행렬 A의 rank\n",
            "rank(A) =  2\n"
          ]
        }
      ]
    },
    {
      "cell_type": "code",
      "source": [
        "A = np.array([[1,2],[1,1]])\n",
        "U, S, VT = np.linalg.svd(A)\n",
        "print(\"SVD 행렬 분해\")\n",
        "print(\"U = \", U)\n",
        "print(\"S = \", S, \"(0이 아닌 값이 2개이므로 rank가 2)\")\n",
        "print(\"VT = \", VT)"
      ],
      "metadata": {
        "colab": {
          "base_uri": "https://localhost:8080/"
        },
        "id": "I1KIeevVTUqS",
        "outputId": "63d70e3d-e873-421b-b4b9-b1ae77e75394"
      },
      "execution_count": 12,
      "outputs": [
        {
          "output_type": "stream",
          "name": "stdout",
          "text": [
            "SVD 행렬 분해\n",
            "U =  [[-0.85065081 -0.52573111]\n",
            " [-0.52573111  0.85065081]]\n",
            "S =  [2.61803399 0.38196601] (0이 아닌 값이 2개이므로 rank가 2)\n",
            "VT =  [[-0.52573111 -0.85065081]\n",
            " [ 0.85065081 -0.52573111]]\n"
          ]
        }
      ]
    },
    {
      "cell_type": "code",
      "source": [
        "A = np.array([[1,2],[2,4]])\n",
        "U, S, VT = np.linalg.svd(A)\n",
        "print(\"U = \", U)\n",
        "print(\"S = \", S, \"(1.98602732e-16는 거의 0이 이므로 rank가 1)\")\n",
        "print(\"VT = \", VT)"
      ],
      "metadata": {
        "colab": {
          "base_uri": "https://localhost:8080/"
        },
        "id": "5HEoYg7qT-V9",
        "outputId": "1cf68125-a3c4-4f03-9cdc-2b950b68219c"
      },
      "execution_count": 16,
      "outputs": [
        {
          "output_type": "stream",
          "name": "stdout",
          "text": [
            "U =  [[-0.4472136  -0.89442719]\n",
            " [-0.89442719  0.4472136 ]]\n",
            "S =  [5.00000000e+00 1.98602732e-16] (1.98602732e-16는 거의 0이 이므로 rank가 1)\n",
            "VT =  [[-0.4472136  -0.89442719]\n",
            " [-0.89442719  0.4472136 ]]\n"
          ]
        }
      ]
    },
    {
      "cell_type": "markdown",
      "source": [
        "#행렬 분해"
      ],
      "metadata": {
        "id": "JJoV1DPmURlU"
      }
    },
    {
      "cell_type": "code",
      "source": [
        "L = np.array([[1,0],[2,1]])\n",
        "A = L @ L.T\n",
        "\n",
        "print(\"---Cholesky 행렬분해---\")\n",
        "print(\"L x LT = \", A)\n",
        "print(\"L = \", np.linalg.cholesky(A))"
      ],
      "metadata": {
        "colab": {
          "base_uri": "https://localhost:8080/"
        },
        "id": "9A3qjSUxUSaU",
        "outputId": "1243623d-1f2a-48b4-97b5-30b559254779"
      },
      "execution_count": 28,
      "outputs": [
        {
          "output_type": "stream",
          "name": "stdout",
          "text": [
            "---Cholesky 행렬분해---\n",
            "L x LT =  [[1 2]\n",
            " [2 5]]\n",
            "L =  [[1. 0.]\n",
            " [2. 1.]]\n"
          ]
        }
      ]
    },
    {
      "cell_type": "code",
      "source": [
        "import scipy\n",
        "A = np.array(([1,2,3],[3,4,5],[5,6,7]))\n",
        "print(\"---LU  행렬분해---\")\n",
        "P, L, U = scipy.linalg.lu(A)\n",
        "print(\"P = (P는 Permutation 행렬로 L 의 행을 재배치하는데 쓰임)\\n\",P)\n",
        "print(\"L = \\n\",L)\n",
        "print(\"U = \\n\",U)"
      ],
      "metadata": {
        "colab": {
          "base_uri": "https://localhost:8080/"
        },
        "id": "NV3tH2UmUmUt",
        "outputId": "61662266-f78a-4116-e3e5-ebbc03d64a8e"
      },
      "execution_count": 29,
      "outputs": [
        {
          "output_type": "stream",
          "name": "stdout",
          "text": [
            "---LU  행렬분해---\n",
            "P = (P는 Permutation 행렬로 L 재배치하는데 쓰임)\n",
            " [[0. 1. 0.]\n",
            " [0. 0. 1.]\n",
            " [1. 0. 0.]]\n",
            "L = \n",
            " [[1.  0.  0. ]\n",
            " [0.2 1.  0. ]\n",
            " [0.6 0.5 1. ]]\n",
            "U = \n",
            " [[5.  6.  7. ]\n",
            " [0.  0.8 1.6]\n",
            " [0.  0.  0. ]]\n"
          ]
        }
      ]
    },
    {
      "cell_type": "code",
      "source": [
        "A = np.array([[1,2],[3,4],[5,6]])\n",
        "Q, R = np.linalg.qr(A)\n",
        "Q\n",
        "print(\"Q = \\n\",Q)\n",
        "print(\"R = \\n\", R)"
      ],
      "metadata": {
        "colab": {
          "base_uri": "https://localhost:8080/"
        },
        "id": "MAzJr7EOV9Eg",
        "outputId": "13e81039-2a1b-4492-a266-8259dadf78f9"
      },
      "execution_count": 34,
      "outputs": [
        {
          "output_type": "stream",
          "name": "stdout",
          "text": [
            "Q = \n",
            " [[-0.16903085  0.89708523]\n",
            " [-0.50709255  0.27602622]\n",
            " [-0.84515425 -0.34503278]]\n",
            "R = \n",
            " [[-5.91607978 -7.43735744]\n",
            " [ 0.          0.82807867]]\n"
          ]
        }
      ]
    },
    {
      "cell_type": "code",
      "source": [
        "print(\"3x2 Q가 어떻게 직교행렬인가?\")\n",
        "print(\"Q.T @ Q = I 나옴. (Q @ Q.T는 안나옴)\")\n",
        "print(Q.T @ Q)"
      ],
      "metadata": {
        "colab": {
          "base_uri": "https://localhost:8080/"
        },
        "id": "MfZTwbTLWZjI",
        "outputId": "0fb68bb1-db3a-434e-e8f5-aa10fc3c586e"
      },
      "execution_count": 38,
      "outputs": [
        {
          "output_type": "stream",
          "name": "stdout",
          "text": [
            "3x2 Q가 어떻게 직교행렬인가?\n",
            "Q.T @ Q = I 나옴. (Q @ Q.T는 안나옴)\n",
            "[[1.00000000e+00 6.18439648e-17]\n",
            " [6.18439648e-17 1.00000000e+00]]\n"
          ]
        }
      ]
    },
    {
      "cell_type": "markdown",
      "source": [
        "#Forbenius Norm and Trace"
      ],
      "metadata": {
        "id": "sDhljlmRW1Q8"
      }
    },
    {
      "cell_type": "code",
      "source": [
        "A = np.array([[1,2],[3,4],[5,6]])\n",
        "print(\"Forbenius Norm = 모든 원소 제곱해서 더한거 루트\")\n",
        "print(\"np.linalg.norm(A) = \", np.linalg.norm(A))\n",
        "print(\"np.sqrt = \", np.sqrt(1+4+9+16+25+36))\n",
        "\n",
        "print(\"대각곱 공식 : \")\n",
        "print(np.sqrt(np.trace(A @ A.T)))\n",
        "print(np.sqrt(np.trace(A.T @ A)))"
      ],
      "metadata": {
        "colab": {
          "base_uri": "https://localhost:8080/"
        },
        "id": "yInX6Av8W3iq",
        "outputId": "d1d21619-0eea-4c10-d668-7af12e11621e"
      },
      "execution_count": 50,
      "outputs": [
        {
          "output_type": "stream",
          "name": "stdout",
          "text": [
            "Forbenius Norm = 모든 원소 제곱해서 더한거 루트\n",
            "np.linalg.norm(A) =  9.539392014169456\n",
            "np.sqrt =  9.539392014169456\n",
            "대각곱 공식 : \n",
            "9.539392014169456\n",
            "9.539392014169456\n"
          ]
        }
      ]
    },
    {
      "cell_type": "markdown",
      "source": [
        "#SVD (Singular Value Decomposition)"
      ],
      "metadata": {
        "id": "Gs4djinuXyg9"
      }
    },
    {
      "cell_type": "code",
      "source": [
        "A = np.array([[1,2,3],[3,4,5],[5,6,7],[7,8,9]])\n",
        "U, S, VT = np.linalg.svd(A)"
      ],
      "metadata": {
        "id": "81eVnbIvX1nw"
      },
      "execution_count": 65,
      "outputs": []
    },
    {
      "cell_type": "code",
      "source": [
        "U"
      ],
      "metadata": {
        "colab": {
          "base_uri": "https://localhost:8080/"
        },
        "id": "sPNGpYzsX_YJ",
        "outputId": "cb0c3492-1302-4391-f003-987dc987f35b"
      },
      "execution_count": 66,
      "outputs": [
        {
          "output_type": "execute_result",
          "data": {
            "text/plain": [
              "array([[-0.18923073, -0.81497959,  0.37684105, -0.39748059],\n",
              "       [-0.36846753, -0.40525508, -0.2061902 ,  0.81085486],\n",
              "       [-0.54770432,  0.00446943, -0.71814276, -0.42926795],\n",
              "       [-0.72694112,  0.41419393,  0.54749191,  0.01589368]])"
            ]
          },
          "metadata": {},
          "execution_count": 66
        }
      ]
    },
    {
      "cell_type": "code",
      "source": [
        "S"
      ],
      "metadata": {
        "colab": {
          "base_uri": "https://localhost:8080/"
        },
        "id": "98Lj-cFXX_rc",
        "outputId": "8e0e1753-25cc-44d7-857b-16802a39529c"
      },
      "execution_count": 67,
      "outputs": [
        {
          "output_type": "execute_result",
          "data": {
            "text/plain": [
              "array([1.91491774e+01, 1.14411715e+00, 1.08189867e-15])"
            ]
          },
          "metadata": {},
          "execution_count": 67
        }
      ]
    },
    {
      "cell_type": "code",
      "source": [
        "VT"
      ],
      "metadata": {
        "colab": {
          "base_uri": "https://localhost:8080/"
        },
        "id": "pBL9opjSX_93",
        "outputId": "d14871b1-751b-4691-d9b1-8c6f7015a7b9"
      },
      "execution_count": 68,
      "outputs": [
        {
          "output_type": "execute_result",
          "data": {
            "text/plain": [
              "array([[-0.47635167, -0.57203953, -0.66772738],\n",
              "       [ 0.77873129,  0.07812881, -0.62247367],\n",
              "       [-0.40824829,  0.81649658, -0.40824829]])"
            ]
          },
          "metadata": {},
          "execution_count": 68
        }
      ]
    },
    {
      "cell_type": "code",
      "source": [
        "print(\"U가 직교행렬인지 확인\")\n",
        "Z = U @ U.T\n",
        "print(\"Z = \\n\", Z)\n",
        "I = np.eye(len(Z))\n",
        "print(\"I = \\n\", I)\n",
        "\n",
        "print(\"***allclose? = \", np.allclose(Z, I),\"***\")"
      ],
      "metadata": {
        "colab": {
          "base_uri": "https://localhost:8080/"
        },
        "id": "Xzf3OF2qYAc_",
        "outputId": "b0d42d4f-ac64-4360-ada9-ff8ac8919781"
      },
      "execution_count": 62,
      "outputs": [
        {
          "output_type": "stream",
          "name": "stdout",
          "text": [
            "U가 직교행렬인지 확인\n",
            "Z = \n",
            " [[ 1.00000000e+00 -1.49623437e-16  9.19305943e-17  2.76029300e-16]\n",
            " [-1.49623437e-16  1.00000000e+00  2.76362030e-17  1.54733747e-16]\n",
            " [ 9.19305943e-17  2.76362030e-17  1.00000000e+00 -3.56629509e-17]\n",
            " [ 2.76029300e-16  1.54733747e-16 -3.56629509e-17  1.00000000e+00]]\n",
            "I = \n",
            " [[1. 0. 0. 0.]\n",
            " [0. 1. 0. 0.]\n",
            " [0. 0. 1. 0.]\n",
            " [0. 0. 0. 1.]]\n",
            "***allclose? =  True ***\n"
          ]
        }
      ]
    },
    {
      "cell_type": "code",
      "source": [
        "print(\"VT가 직교행렬인지 확인\")\n",
        "Z = VT @ VT.T\n",
        "print(Z)\n",
        "I = np.eye(len(Z))\n",
        "print(I)\n",
        "print(\"***allclose? = \", print(np.allclose(Z,I)))"
      ],
      "metadata": {
        "colab": {
          "base_uri": "https://localhost:8080/"
        },
        "id": "hDp3RV-KYn6D",
        "outputId": "00f4c451-d82f-4704-b43d-d3a5ac654d29"
      },
      "execution_count": 69,
      "outputs": [
        {
          "output_type": "stream",
          "name": "stdout",
          "text": [
            "VT가 직교행렬인지 확인\n",
            "[[ 1.00000000e+00  2.92372402e-18 -2.10291059e-16]\n",
            " [ 2.92372402e-18  1.00000000e+00 -2.20293883e-17]\n",
            " [-2.10291059e-16 -2.20293883e-17  1.00000000e+00]]\n",
            "[[1. 0. 0.]\n",
            " [0. 1. 0.]\n",
            " [0. 0. 1.]]\n",
            "True\n",
            "***allclose? =  None\n"
          ]
        }
      ]
    },
    {
      "cell_type": "code",
      "source": [
        "#A@AT AT@A가 거의 특이행렬이라는 것을 확인\n",
        "print(\"rank(AT @ A) = \", np.linalg.matrix_rank(A.T @ A),\"\\n\",\n",
        "      \"S의 0이 아닌 값의 개수 = 2\\n\",\n",
        "      \"-> 특이행렬\")"
      ],
      "metadata": {
        "colab": {
          "base_uri": "https://localhost:8080/"
        },
        "id": "2-JYHQn9Y7W9",
        "outputId": "34c86ce0-ab89-4762-9ca6-8777ba9aeea9"
      },
      "execution_count": 80,
      "outputs": [
        {
          "output_type": "stream",
          "name": "stdout",
          "text": [
            "rank(AT @ A) =  2 \n",
            " S의 0이 아닌 값의 개수 = 2\n",
            " -> 특이행렬\n"
          ]
        }
      ]
    },
    {
      "cell_type": "markdown",
      "source": [
        "또 다른 SVD 표현방법\n",
        "$$\n",
        "USV^T = \\sum_{i=1}^r \\sigma_i \\, \\mathbf{u}_i \\mathbf{v}_i^T\n",
        "$$\n",
        "\n"
      ],
      "metadata": {
        "id": "PSHBxLZYaYQL"
      }
    },
    {
      "cell_type": "code",
      "source": [
        "A = np.array([[1,2,3],[3,4,5],[5,6,7],[7,8,9]])\n",
        "U, S, VT = np.linalg.svd(A)"
      ],
      "metadata": {
        "id": "o94sxQPzc_1A"
      },
      "execution_count": 81,
      "outputs": []
    },
    {
      "cell_type": "code",
      "source": [
        "print(\"rank 1 approximation - S의 첫 번째 원소 x U의 첫 번째 열 x VT의 첫 번쨰 행\")\n",
        "Ahat1 = S[0] * np.outer(U[:, 0], VT[0, :])\n",
        "Ahat1"
      ],
      "metadata": {
        "colab": {
          "base_uri": "https://localhost:8080/"
        },
        "id": "wEa_mj74a4iO",
        "outputId": "19476a2c-8245-46d3-b945-0122e2643224"
      },
      "execution_count": 84,
      "outputs": [
        {
          "output_type": "stream",
          "name": "stdout",
          "text": [
            "rank 1 approximation - S의 첫 번째 원소 x U의 첫 번째 열 x VT의 첫 번쨰 행\n"
          ]
        },
        {
          "output_type": "execute_result",
          "data": {
            "text/plain": [
              "array([[1.72611407, 2.07284981, 2.41958555],\n",
              "       [3.36106599, 4.03622515, 4.7113843 ],\n",
              "       [4.99601792, 5.99960048, 7.00318305],\n",
              "       [6.63096985, 7.96297582, 9.2949818 ]])"
            ]
          },
          "metadata": {},
          "execution_count": 84
        }
      ]
    },
    {
      "cell_type": "code",
      "source": [
        "print(\"rank 2 approximation - i=1,2일 때의 SUM\")\n",
        "Ahat2 = S[0] * np.outer(U[:,0], VT[0,:]) + S[1] * np.outer(U[:,1], VT[1,:])\n",
        "print(Ahat2)\n",
        "print(\"-> A의 rank가 2라 벌써 원본 값이 나옴\")"
      ],
      "metadata": {
        "colab": {
          "base_uri": "https://localhost:8080/"
        },
        "id": "QjC75EWEa4bI",
        "outputId": "04558798-68ae-421b-ef92-1ad2d3720c30"
      },
      "execution_count": 90,
      "outputs": [
        {
          "output_type": "stream",
          "name": "stdout",
          "text": [
            "rank 2 approximation - i=1,2일 때의 SUM\n",
            "[[1. 2. 3.]\n",
            " [3. 4. 5.]\n",
            " [5. 6. 7.]\n",
            " [7. 8. 9.]]\n",
            "-> A의 rank가 2라 벌써 원본 값이 나옴\n"
          ]
        }
      ]
    },
    {
      "cell_type": "code",
      "source": [
        "print(\"rank 3 approximation - i=1,2,3일 떄의 SUM\")\n",
        "Ahat3 = S[0] * np.outer(U[:,0], VT[0,:]) + S[1] * np.outer(U[:,1], VT[1,:]) + S[2] * np.outer(U[:,2], VT[2,:])\n",
        "Ahat3"
      ],
      "metadata": {
        "colab": {
          "base_uri": "https://localhost:8080/"
        },
        "id": "7jKY_vVMa0RD",
        "outputId": "d49e5077-6aa0-4f6e-e3b9-2b9000a2f7e4"
      },
      "execution_count": 88,
      "outputs": [
        {
          "output_type": "stream",
          "name": "stdout",
          "text": [
            "rank 3 approximation - i=1,2,3일 떄의 SUM\n"
          ]
        },
        {
          "output_type": "execute_result",
          "data": {
            "text/plain": [
              "array([[1., 2., 3.],\n",
              "       [3., 4., 5.],\n",
              "       [5., 6., 7.],\n",
              "       [7., 8., 9.]])"
            ]
          },
          "metadata": {},
          "execution_count": 88
        }
      ]
    },
    {
      "cell_type": "code",
      "source": [
        "print(S[2] * np.outer(U[:,2], VT[2,:]))\n",
        "print(\"-> 거의 0\")\n"
      ],
      "metadata": {
        "colab": {
          "base_uri": "https://localhost:8080/"
        },
        "id": "KnCv_Sw2aaZc",
        "outputId": "6df28db9-1c5f-4511-8e55-4353e23f28e5"
      },
      "execution_count": 92,
      "outputs": [
        {
          "output_type": "execute_result",
          "data": {
            "text/plain": [
              "array([[-1.66444394e-16,  3.32888787e-16, -1.66444394e-16],\n",
              "       [ 9.10707641e-17, -1.82141528e-16,  9.10707641e-17],\n",
              "       [ 3.17191652e-16, -6.34383305e-16,  3.17191652e-16],\n",
              "       [-2.41818023e-16,  4.83636046e-16, -2.41818023e-16]])"
            ]
          },
          "metadata": {},
          "execution_count": 92
        }
      ]
    },
    {
      "cell_type": "code",
      "source": [
        "#어떤 rank1 approximation이 가장 원본에 근접한지 Frobenius norm으로 확인하기\n",
        "Ahat1 = S[0] * np.outer(U[:, 0], VT[0, :])\n",
        "Ahat2 = S[1] * np.outer(U[:, 1], VT[1, :])\n",
        "Ahat3 = S[2] * np.outer(U[:, 2], VT[2, :])\n",
        "\n",
        "print(np.linalg.norm(A - Ahat1),\",\",np.linalg.norm(A - Ahat2),\",\",np.linalg.norm(A - Ahat3))\n",
        "print(\"차가 적어 가장 값이 작은 Ahat1이 가장 원본에 근접한 rank 1 approximation\")"
      ],
      "metadata": {
        "colab": {
          "base_uri": "https://localhost:8080/"
        },
        "id": "xeQmo4OoevS3",
        "outputId": "75ea9123-d946-459c-8f79-b87d1b304c09"
      },
      "execution_count": 96,
      "outputs": [
        {
          "output_type": "stream",
          "name": "stdout",
          "text": [
            "1.1441171501608633 , 19.14917742219513 , 19.183326093250876\n",
            "차가 적어 가장 값이 작은 Ahat1이 가장 원본에 근접한 rank 1 approximation\n"
          ]
        }
      ]
    }
  ]
}