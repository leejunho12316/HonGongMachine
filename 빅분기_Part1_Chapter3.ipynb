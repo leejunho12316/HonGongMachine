{
  "nbformat": 4,
  "nbformat_minor": 0,
  "metadata": {
    "colab": {
      "provenance": [],
      "authorship_tag": "ABX9TyOI7cSedGD9r9Vy/twN2QJx",
      "include_colab_link": true
    },
    "kernelspec": {
      "name": "python3",
      "display_name": "Python 3"
    },
    "language_info": {
      "name": "python"
    }
  },
  "cells": [
    {
      "cell_type": "markdown",
      "metadata": {
        "id": "view-in-github",
        "colab_type": "text"
      },
      "source": [
        "<a href=\"https://colab.research.google.com/github/leejunho12316/HonGongMachine/blob/main/%EB%B9%85%EB%B6%84%EA%B8%B0_Part1_Chapter3.ipynb\" target=\"_parent\"><img src=\"https://colab.research.google.com/assets/colab-badge.svg\" alt=\"Open In Colab\"/></a>"
      ]
    },
    {
      "cell_type": "markdown",
      "source": [
        "# Section 01"
      ],
      "metadata": {
        "id": "c-A6t_ORrzo2"
      }
    },
    {
      "cell_type": "code",
      "source": [
        "import pandas as pd\n",
        "df = pd.read_csv('type1_data1.csv')"
      ],
      "metadata": {
        "id": "l7juQcHyqq4e",
        "colab": {
          "base_uri": "https://localhost:8080/",
          "height": 333
        },
        "outputId": "6022af8f-c484-453b-86e4-5e958d1cf3d1"
      },
      "execution_count": null,
      "outputs": [
        {
          "output_type": "error",
          "ename": "FileNotFoundError",
          "evalue": "[Errno 2] No such file or directory: 'type1_data1.csv'",
          "traceback": [
            "\u001b[0;31m---------------------------------------------------------------------------\u001b[0m",
            "\u001b[0;31mFileNotFoundError\u001b[0m                         Traceback (most recent call last)",
            "\u001b[0;32m/tmp/ipython-input-915650947.py\u001b[0m in \u001b[0;36m<cell line: 0>\u001b[0;34m()\u001b[0m\n\u001b[1;32m      1\u001b[0m \u001b[0;32mimport\u001b[0m \u001b[0mpandas\u001b[0m \u001b[0;32mas\u001b[0m \u001b[0mpd\u001b[0m\u001b[0;34m\u001b[0m\u001b[0;34m\u001b[0m\u001b[0m\n\u001b[0;32m----> 2\u001b[0;31m \u001b[0mdf\u001b[0m \u001b[0;34m=\u001b[0m \u001b[0mpd\u001b[0m\u001b[0;34m.\u001b[0m\u001b[0mread_csv\u001b[0m\u001b[0;34m(\u001b[0m\u001b[0;34m'type1_data1.csv'\u001b[0m\u001b[0;34m)\u001b[0m\u001b[0;34m\u001b[0m\u001b[0;34m\u001b[0m\u001b[0m\n\u001b[0m",
            "\u001b[0;32m/usr/local/lib/python3.12/dist-packages/pandas/io/parsers/readers.py\u001b[0m in \u001b[0;36mread_csv\u001b[0;34m(filepath_or_buffer, sep, delimiter, header, names, index_col, usecols, dtype, engine, converters, true_values, false_values, skipinitialspace, skiprows, skipfooter, nrows, na_values, keep_default_na, na_filter, verbose, skip_blank_lines, parse_dates, infer_datetime_format, keep_date_col, date_parser, date_format, dayfirst, cache_dates, iterator, chunksize, compression, thousands, decimal, lineterminator, quotechar, quoting, doublequote, escapechar, comment, encoding, encoding_errors, dialect, on_bad_lines, delim_whitespace, low_memory, memory_map, float_precision, storage_options, dtype_backend)\u001b[0m\n\u001b[1;32m   1024\u001b[0m     \u001b[0mkwds\u001b[0m\u001b[0;34m.\u001b[0m\u001b[0mupdate\u001b[0m\u001b[0;34m(\u001b[0m\u001b[0mkwds_defaults\u001b[0m\u001b[0;34m)\u001b[0m\u001b[0;34m\u001b[0m\u001b[0;34m\u001b[0m\u001b[0m\n\u001b[1;32m   1025\u001b[0m \u001b[0;34m\u001b[0m\u001b[0m\n\u001b[0;32m-> 1026\u001b[0;31m     \u001b[0;32mreturn\u001b[0m \u001b[0m_read\u001b[0m\u001b[0;34m(\u001b[0m\u001b[0mfilepath_or_buffer\u001b[0m\u001b[0;34m,\u001b[0m \u001b[0mkwds\u001b[0m\u001b[0;34m)\u001b[0m\u001b[0;34m\u001b[0m\u001b[0;34m\u001b[0m\u001b[0m\n\u001b[0m\u001b[1;32m   1027\u001b[0m \u001b[0;34m\u001b[0m\u001b[0m\n\u001b[1;32m   1028\u001b[0m \u001b[0;34m\u001b[0m\u001b[0m\n",
            "\u001b[0;32m/usr/local/lib/python3.12/dist-packages/pandas/io/parsers/readers.py\u001b[0m in \u001b[0;36m_read\u001b[0;34m(filepath_or_buffer, kwds)\u001b[0m\n\u001b[1;32m    618\u001b[0m \u001b[0;34m\u001b[0m\u001b[0m\n\u001b[1;32m    619\u001b[0m     \u001b[0;31m# Create the parser.\u001b[0m\u001b[0;34m\u001b[0m\u001b[0;34m\u001b[0m\u001b[0m\n\u001b[0;32m--> 620\u001b[0;31m     \u001b[0mparser\u001b[0m \u001b[0;34m=\u001b[0m \u001b[0mTextFileReader\u001b[0m\u001b[0;34m(\u001b[0m\u001b[0mfilepath_or_buffer\u001b[0m\u001b[0;34m,\u001b[0m \u001b[0;34m**\u001b[0m\u001b[0mkwds\u001b[0m\u001b[0;34m)\u001b[0m\u001b[0;34m\u001b[0m\u001b[0;34m\u001b[0m\u001b[0m\n\u001b[0m\u001b[1;32m    621\u001b[0m \u001b[0;34m\u001b[0m\u001b[0m\n\u001b[1;32m    622\u001b[0m     \u001b[0;32mif\u001b[0m \u001b[0mchunksize\u001b[0m \u001b[0;32mor\u001b[0m \u001b[0miterator\u001b[0m\u001b[0;34m:\u001b[0m\u001b[0;34m\u001b[0m\u001b[0;34m\u001b[0m\u001b[0m\n",
            "\u001b[0;32m/usr/local/lib/python3.12/dist-packages/pandas/io/parsers/readers.py\u001b[0m in \u001b[0;36m__init__\u001b[0;34m(self, f, engine, **kwds)\u001b[0m\n\u001b[1;32m   1618\u001b[0m \u001b[0;34m\u001b[0m\u001b[0m\n\u001b[1;32m   1619\u001b[0m         \u001b[0mself\u001b[0m\u001b[0;34m.\u001b[0m\u001b[0mhandles\u001b[0m\u001b[0;34m:\u001b[0m \u001b[0mIOHandles\u001b[0m \u001b[0;34m|\u001b[0m \u001b[0;32mNone\u001b[0m \u001b[0;34m=\u001b[0m \u001b[0;32mNone\u001b[0m\u001b[0;34m\u001b[0m\u001b[0;34m\u001b[0m\u001b[0m\n\u001b[0;32m-> 1620\u001b[0;31m         \u001b[0mself\u001b[0m\u001b[0;34m.\u001b[0m\u001b[0m_engine\u001b[0m \u001b[0;34m=\u001b[0m \u001b[0mself\u001b[0m\u001b[0;34m.\u001b[0m\u001b[0m_make_engine\u001b[0m\u001b[0;34m(\u001b[0m\u001b[0mf\u001b[0m\u001b[0;34m,\u001b[0m \u001b[0mself\u001b[0m\u001b[0;34m.\u001b[0m\u001b[0mengine\u001b[0m\u001b[0;34m)\u001b[0m\u001b[0;34m\u001b[0m\u001b[0;34m\u001b[0m\u001b[0m\n\u001b[0m\u001b[1;32m   1621\u001b[0m \u001b[0;34m\u001b[0m\u001b[0m\n\u001b[1;32m   1622\u001b[0m     \u001b[0;32mdef\u001b[0m \u001b[0mclose\u001b[0m\u001b[0;34m(\u001b[0m\u001b[0mself\u001b[0m\u001b[0;34m)\u001b[0m \u001b[0;34m->\u001b[0m \u001b[0;32mNone\u001b[0m\u001b[0;34m:\u001b[0m\u001b[0;34m\u001b[0m\u001b[0;34m\u001b[0m\u001b[0m\n",
            "\u001b[0;32m/usr/local/lib/python3.12/dist-packages/pandas/io/parsers/readers.py\u001b[0m in \u001b[0;36m_make_engine\u001b[0;34m(self, f, engine)\u001b[0m\n\u001b[1;32m   1878\u001b[0m                 \u001b[0;32mif\u001b[0m \u001b[0;34m\"b\"\u001b[0m \u001b[0;32mnot\u001b[0m \u001b[0;32min\u001b[0m \u001b[0mmode\u001b[0m\u001b[0;34m:\u001b[0m\u001b[0;34m\u001b[0m\u001b[0;34m\u001b[0m\u001b[0m\n\u001b[1;32m   1879\u001b[0m                     \u001b[0mmode\u001b[0m \u001b[0;34m+=\u001b[0m \u001b[0;34m\"b\"\u001b[0m\u001b[0;34m\u001b[0m\u001b[0;34m\u001b[0m\u001b[0m\n\u001b[0;32m-> 1880\u001b[0;31m             self.handles = get_handle(\n\u001b[0m\u001b[1;32m   1881\u001b[0m                 \u001b[0mf\u001b[0m\u001b[0;34m,\u001b[0m\u001b[0;34m\u001b[0m\u001b[0;34m\u001b[0m\u001b[0m\n\u001b[1;32m   1882\u001b[0m                 \u001b[0mmode\u001b[0m\u001b[0;34m,\u001b[0m\u001b[0;34m\u001b[0m\u001b[0;34m\u001b[0m\u001b[0m\n",
            "\u001b[0;32m/usr/local/lib/python3.12/dist-packages/pandas/io/common.py\u001b[0m in \u001b[0;36mget_handle\u001b[0;34m(path_or_buf, mode, encoding, compression, memory_map, is_text, errors, storage_options)\u001b[0m\n\u001b[1;32m    871\u001b[0m         \u001b[0;32mif\u001b[0m \u001b[0mioargs\u001b[0m\u001b[0;34m.\u001b[0m\u001b[0mencoding\u001b[0m \u001b[0;32mand\u001b[0m \u001b[0;34m\"b\"\u001b[0m \u001b[0;32mnot\u001b[0m \u001b[0;32min\u001b[0m \u001b[0mioargs\u001b[0m\u001b[0;34m.\u001b[0m\u001b[0mmode\u001b[0m\u001b[0;34m:\u001b[0m\u001b[0;34m\u001b[0m\u001b[0;34m\u001b[0m\u001b[0m\n\u001b[1;32m    872\u001b[0m             \u001b[0;31m# Encoding\u001b[0m\u001b[0;34m\u001b[0m\u001b[0;34m\u001b[0m\u001b[0m\n\u001b[0;32m--> 873\u001b[0;31m             handle = open(\n\u001b[0m\u001b[1;32m    874\u001b[0m                 \u001b[0mhandle\u001b[0m\u001b[0;34m,\u001b[0m\u001b[0;34m\u001b[0m\u001b[0;34m\u001b[0m\u001b[0m\n\u001b[1;32m    875\u001b[0m                 \u001b[0mioargs\u001b[0m\u001b[0;34m.\u001b[0m\u001b[0mmode\u001b[0m\u001b[0;34m,\u001b[0m\u001b[0;34m\u001b[0m\u001b[0;34m\u001b[0m\u001b[0m\n",
            "\u001b[0;31mFileNotFoundError\u001b[0m: [Errno 2] No such file or directory: 'type1_data1.csv'"
          ]
        }
      ]
    },
    {
      "cell_type": "code",
      "source": [
        "#문제1\n",
        "cond = df['f5'] != 0\n",
        "df2 = df[cond]\n",
        "\n",
        "#문제2\n",
        "v_min = df2['views'].min()\n",
        "df2['views'] = df2['views'].fillna(v_min)\n",
        "\n",
        "print(df2['views'].median())"
      ],
      "metadata": {
        "colab": {
          "base_uri": "https://localhost:8080/"
        },
        "id": "Yv8MbpHwq5eW",
        "outputId": "f79c277b-7f51-4fd7-eceb-9ae854bf0609"
      },
      "execution_count": null,
      "outputs": [
        {
          "output_type": "stream",
          "name": "stdout",
          "text": [
            "5924.0\n"
          ]
        },
        {
          "output_type": "stream",
          "name": "stderr",
          "text": [
            "/tmp/ipython-input-2872252605.py:7: SettingWithCopyWarning: \n",
            "A value is trying to be set on a copy of a slice from a DataFrame.\n",
            "Try using .loc[row_indexer,col_indexer] = value instead\n",
            "\n",
            "See the caveats in the documentation: https://pandas.pydata.org/pandas-docs/stable/user_guide/indexing.html#returning-a-view-versus-a-copy\n",
            "  df2['views'] = df2['views'].fillna(v_min)\n"
          ]
        }
      ]
    },
    {
      "cell_type": "markdown",
      "source": [
        "# Section 02"
      ],
      "metadata": {
        "id": "MwcpxoMwr7x_"
      }
    },
    {
      "cell_type": "code",
      "source": [
        "import pandas as pd\n",
        "df = pd.read_csv('type1_data1.csv')"
      ],
      "metadata": {
        "id": "IM5gewHlr-jc"
      },
      "execution_count": null,
      "outputs": []
    },
    {
      "cell_type": "code",
      "source": [
        "#문제1\n",
        "df2 = df['subscribed'].value_counts().sort_values(ascending=False)\n",
        "date = df2.index[0]\n",
        "print(date)\n",
        "\n",
        "#문제2\n",
        "print(int(date[-2:]))"
      ],
      "metadata": {
        "colab": {
          "base_uri": "https://localhost:8080/"
        },
        "id": "uaVT1bKusAHW",
        "outputId": "82d437b5-b4f6-465c-f743-54447db2d1bf"
      },
      "execution_count": null,
      "outputs": [
        {
          "output_type": "stream",
          "name": "stdout",
          "text": [
            "2025-02-17\n",
            "17\n"
          ]
        }
      ]
    },
    {
      "cell_type": "markdown",
      "source": [
        "# Section3"
      ],
      "metadata": {
        "id": "kE6Ug4rhsC5e"
      }
    },
    {
      "cell_type": "code",
      "source": [
        "import pandas as pd\n",
        "df = pd.read_csv('type1_data1.csv')"
      ],
      "metadata": {
        "id": "0aGRIpyZsDB4"
      },
      "execution_count": null,
      "outputs": []
    },
    {
      "cell_type": "code",
      "source": [
        "#문제1\n",
        "df2 = df.dropna(axis=0)\n",
        "\n",
        "#문제2\n",
        "df2['Q2'] = df2['views']/df2['f1']\n",
        "\n",
        "#문제3\n",
        "Q2_max = df2['Q2'].max()\n",
        "int(df2[df2['Q2'] == Q2_max].loc[115,'age'])\n",
        "#int(df2.sort_values(by = 'Q2', ascending=False).iloc[0, 1])"
      ],
      "metadata": {
        "id": "q0DfDDgcsDI5",
        "colab": {
          "base_uri": "https://localhost:8080/"
        },
        "outputId": "f2189235-0f0d-4c91-8832-35e1e01e5b28"
      },
      "execution_count": null,
      "outputs": [
        {
          "output_type": "stream",
          "name": "stderr",
          "text": [
            "/tmp/ipython-input-3073642203.py:5: SettingWithCopyWarning: \n",
            "A value is trying to be set on a copy of a slice from a DataFrame.\n",
            "Try using .loc[row_indexer,col_indexer] = value instead\n",
            "\n",
            "See the caveats in the documentation: https://pandas.pydata.org/pandas-docs/stable/user_guide/indexing.html#returning-a-view-versus-a-copy\n",
            "  df2['Q2'] = df2['views']/df2['f1']\n"
          ]
        },
        {
          "output_type": "execute_result",
          "data": {
            "text/plain": [
              "22"
            ]
          },
          "metadata": {},
          "execution_count": 25
        }
      ]
    },
    {
      "cell_type": "markdown",
      "source": [
        "#Section 04"
      ],
      "metadata": {
        "id": "ym2ymZPNH55P"
      }
    },
    {
      "cell_type": "code",
      "source": [
        "import pandas as pd\n",
        "df = pd.read_csv('type1_data1.csv')"
      ],
      "metadata": {
        "id": "eXh3-rKgHS8V"
      },
      "execution_count": null,
      "outputs": []
    },
    {
      "cell_type": "code",
      "source": [
        "#Q1\n",
        "df['views'] = df['views'].fillna(0)\n",
        "\n",
        "#Q2\n",
        "df = df.sort_values(by='views', ascending=False)\n",
        "views_10 = df.iloc[9, 9]\n",
        "print(views_10)\n",
        "\n",
        "#Q3\n",
        "df.iloc[0:10, 9] = views_10\n",
        "\n",
        "#Q4\n",
        "views_sum = int(df['views'].sum())\n",
        "print(views_sum)"
      ],
      "metadata": {
        "colab": {
          "base_uri": "https://localhost:8080/"
        },
        "id": "sUdG8ZRlHTrh",
        "outputId": "8957fbc8-691f-4dfd-e0e8-10227fd8b704"
      },
      "execution_count": null,
      "outputs": [
        {
          "output_type": "stream",
          "name": "stdout",
          "text": [
            "9877.0\n",
            "652812\n"
          ]
        }
      ]
    },
    {
      "cell_type": "code",
      "source": [
        "val = df['views'].nlargest(10).iloc[-1]\n",
        "print(val)"
      ],
      "metadata": {
        "colab": {
          "base_uri": "https://localhost:8080/"
        },
        "id": "DMxNW68HJogN",
        "outputId": "07ee3d04-0bfe-484d-e8e2-384bab8ac0da"
      },
      "execution_count": null,
      "outputs": [
        {
          "output_type": "stream",
          "name": "stdout",
          "text": [
            "9877.0\n"
          ]
        }
      ]
    },
    {
      "cell_type": "markdown",
      "source": [
        "#Section05"
      ],
      "metadata": {
        "id": "Jf_ChE3rl6Pp"
      }
    },
    {
      "cell_type": "code",
      "source": [
        "import pandas as pd\n",
        "df = pd.read_csv('type1_data1.csv')"
      ],
      "metadata": {
        "id": "yAJdNy6bl_pu"
      },
      "execution_count": null,
      "outputs": []
    },
    {
      "cell_type": "code",
      "source": [
        "#문제1\n",
        "cond = df['f4'].str.contains('FJ')\n",
        "df = df[cond]\n",
        "\n",
        "r = df['f2'].mean()\n",
        "print(round(r,2))"
      ],
      "metadata": {
        "id": "WTrHNEjumEj6"
      },
      "execution_count": null,
      "outputs": []
    },
    {
      "cell_type": "markdown",
      "source": [
        "#Section6"
      ],
      "metadata": {
        "id": "y3u7SH1zmQhp"
      }
    },
    {
      "cell_type": "code",
      "source": [
        "import pandas as pd\n",
        "df = pd.read_csv('type1_data1.csv')"
      ],
      "metadata": {
        "id": "saoPl6zomsl7"
      },
      "execution_count": null,
      "outputs": []
    },
    {
      "cell_type": "code",
      "source": [
        "cond1 = df['f3'] == 'gold'\n",
        "cond2 = df['f2'] == 2\n",
        "\n",
        "df = df[cond1 & cond2]\n",
        "\n",
        "var = df['f1'].var()\n",
        "print(round(var,2))"
      ],
      "metadata": {
        "colab": {
          "base_uri": "https://localhost:8080/"
        },
        "id": "2Kt2QgvVmwsZ",
        "outputId": "6537cf02-e985-44a3-c504-4ed10f8977a2"
      },
      "execution_count": null,
      "outputs": [
        {
          "output_type": "stream",
          "name": "stdout",
          "text": [
            "235.43\n"
          ]
        }
      ]
    },
    {
      "cell_type": "markdown",
      "source": [
        "#Section07"
      ],
      "metadata": {
        "id": "LubjK03-nNcn"
      }
    },
    {
      "cell_type": "code",
      "source": [
        "import pandas as pd\n",
        "df = pd.read_csv('type1_data1.csv')"
      ],
      "metadata": {
        "id": "1gns82B5mxiQ"
      },
      "execution_count": null,
      "outputs": []
    },
    {
      "cell_type": "code",
      "source": [
        "df['age'] = df['age'] + 1\n",
        "\n",
        "cond20 = (df['age']//10 == 2)\n",
        "mean20 = df[cond20]['views'].mean()\n",
        "\n",
        "cond30 = (df['age']//10 == 3)\n",
        "mean30 = df[cond30]['views'].mean()\n",
        "\n",
        "res = abs(mean20 - mean30)\n",
        "print(round(res,2))"
      ],
      "metadata": {
        "colab": {
          "base_uri": "https://localhost:8080/"
        },
        "id": "2LfZfQS_nTIk",
        "outputId": "1e0f2ba8-2324-40bc-ae19-1f9b2768fcd3"
      },
      "execution_count": null,
      "outputs": [
        {
          "output_type": "stream",
          "name": "stdout",
          "text": [
            "263.13\n"
          ]
        }
      ]
    },
    {
      "cell_type": "markdown",
      "source": [
        "#Section 08"
      ],
      "metadata": {
        "id": "MoOR4pFVoaaW"
      }
    },
    {
      "cell_type": "code",
      "source": [
        "import pandas as pd\n",
        "df = pd.read_csv('type1_data1.csv')"
      ],
      "metadata": {
        "id": "zyM5Iq72o73l"
      },
      "execution_count": null,
      "outputs": []
    },
    {
      "cell_type": "code",
      "source": [
        "df['subscribed'] = pd.to_datetime(df['subscribed'])\n",
        "\n",
        "cond1 = df['subscribed'].dt.year == 2024\n",
        "cond2 = df['subscribed'].dt.month == 2\n",
        "df = df[cond1 & cond2]\n",
        "\n",
        "cond3 = df['f3'] == 'gold'\n",
        "\n",
        "print(len(df[cond3]))"
      ],
      "metadata": {
        "colab": {
          "base_uri": "https://localhost:8080/"
        },
        "id": "oMVCOqDeoEEj",
        "outputId": "9444a644-f7b4-43ca-a4a1-9ca1b2cb3ed0"
      },
      "execution_count": null,
      "outputs": [
        {
          "output_type": "stream",
          "name": "stdout",
          "text": [
            "5\n"
          ]
        }
      ]
    },
    {
      "cell_type": "markdown",
      "source": [
        "#Section 09"
      ],
      "metadata": {
        "id": "6JRIBBl7n8mq"
      }
    },
    {
      "cell_type": "code",
      "source": [
        "import pandas as pd\n",
        "df = pd.read_csv('type1_data1.csv')"
      ],
      "metadata": {
        "id": "vT4X6Aghp5Y2"
      },
      "execution_count": null,
      "outputs": []
    },
    {
      "cell_type": "code",
      "source": [
        "cond = df['views'] <= 1000\n",
        "df = df[cond]\n",
        "\n",
        "df['f4'].value_counts().index[0]"
      ],
      "metadata": {
        "colab": {
          "base_uri": "https://localhost:8080/",
          "height": 35
        },
        "id": "ZjGZIIdyp5po",
        "outputId": "b7647ff5-7cee-48aa-87cf-1e293b733a22"
      },
      "execution_count": null,
      "outputs": [
        {
          "output_type": "execute_result",
          "data": {
            "text/plain": [
              "'ISFJ'"
            ],
            "application/vnd.google.colaboratory.intrinsic+json": {
              "type": "string"
            }
          },
          "metadata": {},
          "execution_count": 81
        }
      ]
    },
    {
      "cell_type": "markdown",
      "source": [
        "#Section 10"
      ],
      "metadata": {
        "id": "DPPHtYyIq4ZX"
      }
    },
    {
      "cell_type": "code",
      "source": [
        "import pandas as pd\n",
        "df = pd.read_csv('type1_data1.csv')"
      ],
      "metadata": {
        "id": "N2pIA7EOq5TD"
      },
      "execution_count": null,
      "outputs": []
    },
    {
      "cell_type": "code",
      "source": [
        "df.dropna(axis=0, inplace=True)\n",
        "\n",
        "df = df.groupby(by='city').mean(numeric_only=True)\n",
        "\n",
        "df = df['f2'].sort_values(ascending=False)\n",
        "df.index[0]"
      ],
      "metadata": {
        "colab": {
          "base_uri": "https://localhost:8080/",
          "height": 35
        },
        "id": "-QqYscwCq9fB",
        "outputId": "48df916e-1cfd-475c-b420-61e7226b436a"
      },
      "execution_count": null,
      "outputs": [
        {
          "output_type": "execute_result",
          "data": {
            "text/plain": [
              "'서울'"
            ],
            "application/vnd.google.colaboratory.intrinsic+json": {
              "type": "string"
            }
          },
          "metadata": {},
          "execution_count": 96
        }
      ]
    },
    {
      "cell_type": "markdown",
      "source": [
        "#Section 11"
      ],
      "metadata": {
        "id": "6pgsu2BerEBV"
      }
    },
    {
      "cell_type": "code",
      "source": [
        "import pandas as pd\n",
        "df = pd.read_csv('type1_data1.csv')"
      ],
      "metadata": {
        "id": "GSznCs3Nt13D"
      },
      "execution_count": null,
      "outputs": []
    },
    {
      "cell_type": "code",
      "source": [
        "df.dropna(axis=0, inplace=True)\n",
        "\n",
        "end = int(len(df)*0.7)\n",
        "df = df.head(end)\n",
        "#df = df.iloc[:end]\n",
        "\n",
        "\n",
        "Q3, Q1 = df['views'].quantile(0.75), df['views'].quantile(0.25)\n",
        "print(int(Q3-Q1))"
      ],
      "metadata": {
        "colab": {
          "base_uri": "https://localhost:8080/"
        },
        "id": "xO6U-ynJt3aT",
        "outputId": "74a68123-c89d-4a7c-e69b-b073805aecff"
      },
      "execution_count": null,
      "outputs": [
        {
          "output_type": "stream",
          "name": "stdout",
          "text": [
            "2771\n"
          ]
        }
      ]
    },
    {
      "cell_type": "markdown",
      "source": [
        "#Section 12"
      ],
      "metadata": {
        "id": "wt5ZNcYrt4IF"
      }
    },
    {
      "cell_type": "code",
      "source": [
        "import pandas as pd\n",
        "df = pd.read_csv('type1_data1.csv')"
      ],
      "metadata": {
        "id": "XvRDL7MIuvKj"
      },
      "execution_count": null,
      "outputs": []
    },
    {
      "cell_type": "code",
      "source": [
        "df.isnull().sum().sort_values(ascending=False)\n",
        "#f1, f3\n",
        "\n",
        "df.dropna(subset=['f1'], inplace=True)\n",
        "\n",
        "df['f3'].fillna(df['f3'].mode()[0], inplace=True)\n",
        "\n",
        "print(len(df[df['f3'] == 'gold']))\n",
        "\n"
      ],
      "metadata": {
        "colab": {
          "base_uri": "https://localhost:8080/"
        },
        "id": "F6U_pWOkt4x_",
        "outputId": "49fdb936-4551-499a-f752-0ce485693d1c"
      },
      "execution_count": null,
      "outputs": [
        {
          "output_type": "stream",
          "name": "stdout",
          "text": [
            "63\n"
          ]
        },
        {
          "output_type": "stream",
          "name": "stderr",
          "text": [
            "/tmp/ipython-input-3142405841.py:6: FutureWarning: A value is trying to be set on a copy of a DataFrame or Series through chained assignment using an inplace method.\n",
            "The behavior will change in pandas 3.0. This inplace method will never work because the intermediate object on which we are setting values always behaves as a copy.\n",
            "\n",
            "For example, when doing 'df[col].method(value, inplace=True)', try using 'df.method({col: value}, inplace=True)' or df[col] = df[col].method(value) instead, to perform the operation inplace on the original object.\n",
            "\n",
            "\n",
            "  df['f3'].fillna(df['f3'].mode()[0], inplace=True)\n"
          ]
        }
      ]
    },
    {
      "cell_type": "markdown",
      "source": [
        "#Section 13"
      ],
      "metadata": {
        "id": "l2tii5BnwnQ7"
      }
    },
    {
      "cell_type": "code",
      "source": [
        "import pandas as pd\n",
        "df = pd.read_csv('type1_data1.csv')"
      ],
      "metadata": {
        "id": "Ab2_2bgbxRyK"
      },
      "execution_count": null,
      "outputs": []
    },
    {
      "cell_type": "code",
      "source": [
        "df = df[df['f1'].isnull()]\n",
        "\n",
        "print(round(df['age'].mean(), 1))"
      ],
      "metadata": {
        "colab": {
          "base_uri": "https://localhost:8080/"
        },
        "id": "YFNNaWWEt4d3",
        "outputId": "5f1c8142-5bf6-49d2-b7bc-dbd33cf9af82"
      },
      "execution_count": null,
      "outputs": [
        {
          "output_type": "stream",
          "name": "stdout",
          "text": [
            "53.6\n"
          ]
        }
      ]
    },
    {
      "cell_type": "markdown",
      "source": [
        "#Section 14"
      ],
      "metadata": {
        "id": "XWkJ01H_xYXq"
      }
    },
    {
      "cell_type": "code",
      "source": [
        "import pandas as pd\n",
        "df = pd.read_csv('type1_data1.csv')\n",
        "\n",
        "df.drop_duplicates(inplace=True)\n",
        "\n",
        "df['f3'].fillna(0, inplace=True)\n",
        "df['f3'] = df['f3'].replace('silver',1).replace('gold', 2).replace('vip',3)\n",
        "\n",
        "print(df['f3'].sum())"
      ],
      "metadata": {
        "colab": {
          "base_uri": "https://localhost:8080/"
        },
        "id": "gG7ucyXZxYcl",
        "outputId": "240d8406-461b-4f0f-ba1a-7e4db255081c"
      },
      "execution_count": null,
      "outputs": [
        {
          "output_type": "stream",
          "name": "stdout",
          "text": [
            "167\n"
          ]
        },
        {
          "output_type": "stream",
          "name": "stderr",
          "text": [
            "/tmp/ipython-input-4030630626.py:6: FutureWarning: A value is trying to be set on a copy of a DataFrame or Series through chained assignment using an inplace method.\n",
            "The behavior will change in pandas 3.0. This inplace method will never work because the intermediate object on which we are setting values always behaves as a copy.\n",
            "\n",
            "For example, when doing 'df[col].method(value, inplace=True)', try using 'df.method({col: value}, inplace=True)' or df[col] = df[col].method(value) instead, to perform the operation inplace on the original object.\n",
            "\n",
            "\n",
            "  df['f3'].fillna(0, inplace=True)\n",
            "/tmp/ipython-input-4030630626.py:7: FutureWarning: Downcasting behavior in `replace` is deprecated and will be removed in a future version. To retain the old behavior, explicitly call `result.infer_objects(copy=False)`. To opt-in to the future behavior, set `pd.set_option('future.no_silent_downcasting', True)`\n",
            "  df['f3'] = df['f3'].replace('silver',1).replace('gold', 2).replace('vip',3)\n"
          ]
        }
      ]
    },
    {
      "cell_type": "markdown",
      "source": [
        "#Section 15"
      ],
      "metadata": {
        "id": "7y_X0VPC2dMy"
      }
    },
    {
      "cell_type": "code",
      "source": [
        "import pandas as pd\n",
        "df = pd.read_csv('type1_data1.csv')\n",
        "\n",
        "df = df.select_dtypes(exclude='object')\n",
        "df.fillna(0, inplace=True)\n",
        "df['sum'] = df.sum(axis=1)\n",
        "\n",
        "res = len(df[df['sum'] > 3000])\n",
        "print(int(res))"
      ],
      "metadata": {
        "colab": {
          "base_uri": "https://localhost:8080/"
        },
        "id": "LZl2CxzB2fKq",
        "outputId": "d1131e34-0f08-4b62-e3a8-70cecf1dcc0f"
      },
      "execution_count": null,
      "outputs": [
        {
          "output_type": "stream",
          "name": "stdout",
          "text": [
            "88\n"
          ]
        }
      ]
    },
    {
      "cell_type": "markdown",
      "source": [
        "#Section 16"
      ],
      "metadata": {
        "id": "_1Ss7cIz2jYp"
      }
    },
    {
      "cell_type": "code",
      "source": [
        "import pandas as pd\n",
        "df = pd.read_csv('type1_data1.csv')\n",
        "\n",
        "Q1, Q3 = df['views'].quantile(0.25), df['views'].quantile(0.75)\n",
        "IQR = Q3-Q1\n",
        "\n",
        "cond1 = df['views'] < Q1-IQR*1.5\n",
        "cond2 = df['views'] > Q3+IQR*1.5\n",
        "res = df[cond1|cond2]['views'].sum()\n",
        "print(int(res))"
      ],
      "metadata": {
        "colab": {
          "base_uri": "https://localhost:8080/"
        },
        "id": "wP6LGGE5xYkd",
        "outputId": "d1c2ffcd-44db-4e79-ae39-0042de3ba25c"
      },
      "execution_count": null,
      "outputs": [
        {
          "output_type": "stream",
          "name": "stdout",
          "text": [
            "77699\n"
          ]
        }
      ]
    },
    {
      "cell_type": "markdown",
      "source": [
        "#Section 17"
      ],
      "metadata": {
        "id": "RhyEHygy4Kz7"
      }
    },
    {
      "cell_type": "code",
      "source": [
        "import pandas as pd\n",
        "df = pd.read_csv('type1_data1.csv')\n",
        "\n",
        "std1 = df['views'].std()\n",
        "\n",
        "cond_so = (df['age'] != round(df['age'], 0))\n",
        "cond_min = df['age'] <= 0\n",
        "df = df[~(cond_so | cond_min)]\n",
        "\n",
        "std2 = df['views'].std()\n",
        "\n",
        "res = std1+std2\n",
        "print(round(res,2))"
      ],
      "metadata": {
        "colab": {
          "base_uri": "https://localhost:8080/"
        },
        "id": "W-ldwbiJ4cqu",
        "outputId": "14101b1b-746c-4cbe-eaf2-3dd844d8d1d1"
      },
      "execution_count": null,
      "outputs": [
        {
          "output_type": "stream",
          "name": "stdout",
          "text": [
            "8297.31\n"
          ]
        }
      ]
    },
    {
      "cell_type": "markdown",
      "source": [
        "#Section 18"
      ],
      "metadata": {
        "id": "JQyKG0WD4xdI"
      }
    },
    {
      "cell_type": "code",
      "source": [
        "import pandas as pd\n",
        "df = pd.read_csv('type1_data2.csv', index_col = 'year')"
      ],
      "metadata": {
        "id": "wLtzH2Id7uYO"
      },
      "execution_count": null,
      "outputs": []
    },
    {
      "cell_type": "code",
      "source": [
        "df1 = df.loc[2001, :]\n",
        "mean = df1.mean()\n",
        "res1 = len(df1[df1>mean])\n",
        "\n",
        "df2 = df.loc[2003, :]\n",
        "mean = df2.mean()\n",
        "res2 = len(df2[df2<mean])\n",
        "\n",
        "print(res1 + res2)"
      ],
      "metadata": {
        "colab": {
          "base_uri": "https://localhost:8080/"
        },
        "id": "mrO-lv7F6gSs",
        "outputId": "d1608473-4153-458d-d647-e4cc99c6aef6"
      },
      "execution_count": null,
      "outputs": [
        {
          "output_type": "stream",
          "name": "stdout",
          "text": [
            "202\n"
          ]
        }
      ]
    },
    {
      "cell_type": "markdown",
      "source": [
        "#Section 19"
      ],
      "metadata": {
        "id": "-Wa0P3fs-HQi"
      }
    },
    {
      "cell_type": "code",
      "source": [
        "import pandas as pd\n",
        "df = pd.read_csv('type1_data1.csv')\n",
        "df.fillna(method='bfill', inplace=True)\n",
        "df = df.groupby(by=['city','f2']).sum(numeric_only=True).reset_index()\n",
        "\n",
        "df.iloc[2, 0]\n"
      ],
      "metadata": {
        "colab": {
          "base_uri": "https://localhost:8080/",
          "height": 92
        },
        "id": "XbvOdxYU-H9A",
        "outputId": "a9a22d15-7e1f-44ef-9043-7e5da3fc313c"
      },
      "execution_count": null,
      "outputs": [
        {
          "output_type": "stream",
          "name": "stderr",
          "text": [
            "/tmp/ipython-input-3086904951.py:3: FutureWarning: DataFrame.fillna with 'method' is deprecated and will raise in a future version. Use obj.ffill() or obj.bfill() instead.\n",
            "  df.fillna(method='bfill', inplace=True)\n"
          ]
        },
        {
          "output_type": "execute_result",
          "data": {
            "text/plain": [
              "'경기'"
            ],
            "application/vnd.google.colaboratory.intrinsic+json": {
              "type": "string"
            }
          },
          "metadata": {},
          "execution_count": 326
        }
      ]
    },
    {
      "cell_type": "markdown",
      "source": [
        "#Section 20"
      ],
      "metadata": {
        "id": "GECroHiq_iYr"
      }
    },
    {
      "cell_type": "code",
      "source": [
        "import pandas as pd\n",
        "df = pd.read_csv('type1_data1.csv')\n",
        "\n",
        "df['subscribed'] = pd.to_datetime(df['subscribed'])\n",
        "df['month'] = df['subscribed'].dt.month\n",
        "\n",
        "df = df.groupby(by='month').sum(numeric_only=True)\n",
        "\n",
        "res = df.sort_values(by='views', ascending=True).index[0]\n",
        "print(res)"
      ],
      "metadata": {
        "colab": {
          "base_uri": "https://localhost:8080/"
        },
        "id": "eM_ERjFexYoS",
        "outputId": "6f18fa1e-f11b-48fa-fd93-76efdcff7c18"
      },
      "execution_count": null,
      "outputs": [
        {
          "output_type": "stream",
          "name": "stdout",
          "text": [
            "11\n"
          ]
        }
      ]
    },
    {
      "cell_type": "markdown",
      "source": [
        "#Section 21"
      ],
      "metadata": {
        "id": "S2WyNanM_o0m"
      }
    },
    {
      "cell_type": "code",
      "source": [
        "import pandas as pd\n",
        "df = pd.read_csv('delivery_time.csv')\n",
        "\n",
        "df['실제도착시간'] = pd.to_datetime(df['실제도착시간'])\n",
        "df['예상도착시간'] = pd.to_datetime(df['예상도착시간'])\n",
        "\n",
        "cond = df['예상도착시간'] < df['실제도착시간']\n",
        "df = df[cond]\n",
        "\n",
        "df = df[df['거리'] >= 7]\n",
        "print(len(df))"
      ],
      "metadata": {
        "colab": {
          "base_uri": "https://localhost:8080/"
        },
        "id": "Yyw7_GgIAaPf",
        "outputId": "59de9f37-48a8-46df-a90a-a56a1ccfa1e6"
      },
      "execution_count": null,
      "outputs": [
        {
          "output_type": "stream",
          "name": "stdout",
          "text": [
            "311\n"
          ]
        }
      ]
    },
    {
      "cell_type": "markdown",
      "source": [
        "#Section 22"
      ],
      "metadata": {
        "id": "6dMpvdmtBRnF"
      }
    },
    {
      "cell_type": "code",
      "source": [
        "import pandas as pd\n",
        "df = pd.read_csv('delivery_time.csv')\n",
        "\n",
        "df['주문시간'] = pd.to_datetime(df['주문시간'])\n",
        "df['실제도착시간'] = pd.to_datetime(df['실제도착시간'])\n",
        "\n",
        "df['차이'] = (df['실제도착시간'] - df['주문시간']).dt.total_seconds()/60\n",
        "\n",
        "df = df.groupby(by = '앱종류')['차이'].mean()\n",
        "\n",
        "res = df.min()\n",
        "print(int(round(res)))"
      ],
      "metadata": {
        "colab": {
          "base_uri": "https://localhost:8080/"
        },
        "id": "KauUvXM2BTZX",
        "outputId": "75fc6104-1dcf-4720-9d96-e9a854d87b6a"
      },
      "execution_count": null,
      "outputs": [
        {
          "output_type": "stream",
          "name": "stdout",
          "text": [
            "62\n"
          ]
        }
      ]
    },
    {
      "cell_type": "markdown",
      "source": [
        "#Section 23"
      ],
      "metadata": {
        "id": "Q500FxKdCtq_"
      }
    },
    {
      "cell_type": "code",
      "source": [
        "import pandas as pd\n",
        "df = pd.read_csv('delivery_time.csv')\n",
        "\n",
        "df['실제도착시간'] = pd.to_datetime(df['실제도착시간'])\n",
        "df['예상도착시간'] = pd.to_datetime(df['예상도착시간'])\n",
        "df['차이'] = (df['실제도착시간'] - df['예상도착시간']).dt.total_seconds()\n",
        "\n",
        "df['지연여부'] = df['차이'] > 0\n",
        "\n",
        "df.groupby(by=['결제종류'])['지연여부'].mean()"
      ],
      "metadata": {
        "colab": {
          "base_uri": "https://localhost:8080/",
          "height": 209
        },
        "id": "DA7ufxHkDVuf",
        "outputId": "4138c992-fc5c-4c46-c4bc-c80473ec7e68"
      },
      "execution_count": null,
      "outputs": [
        {
          "output_type": "execute_result",
          "data": {
            "text/plain": [
              "결제종류\n",
              "앱결제    0.556634\n",
              "카드     0.489971\n",
              "현금     0.488304\n",
              "Name: 지연여부, dtype: float64"
            ],
            "text/html": [
              "<div>\n",
              "<style scoped>\n",
              "    .dataframe tbody tr th:only-of-type {\n",
              "        vertical-align: middle;\n",
              "    }\n",
              "\n",
              "    .dataframe tbody tr th {\n",
              "        vertical-align: top;\n",
              "    }\n",
              "\n",
              "    .dataframe thead th {\n",
              "        text-align: right;\n",
              "    }\n",
              "</style>\n",
              "<table border=\"1\" class=\"dataframe\">\n",
              "  <thead>\n",
              "    <tr style=\"text-align: right;\">\n",
              "      <th></th>\n",
              "      <th>지연여부</th>\n",
              "    </tr>\n",
              "    <tr>\n",
              "      <th>결제종류</th>\n",
              "      <th></th>\n",
              "    </tr>\n",
              "  </thead>\n",
              "  <tbody>\n",
              "    <tr>\n",
              "      <th>앱결제</th>\n",
              "      <td>0.556634</td>\n",
              "    </tr>\n",
              "    <tr>\n",
              "      <th>카드</th>\n",
              "      <td>0.489971</td>\n",
              "    </tr>\n",
              "    <tr>\n",
              "      <th>현금</th>\n",
              "      <td>0.488304</td>\n",
              "    </tr>\n",
              "  </tbody>\n",
              "</table>\n",
              "</div><br><label><b>dtype:</b> float64</label>"
            ]
          },
          "metadata": {},
          "execution_count": 415
        }
      ]
    },
    {
      "cell_type": "markdown",
      "source": [
        "#Section 24"
      ],
      "metadata": {
        "id": "lwZP2MpKDXlr"
      }
    },
    {
      "cell_type": "code",
      "source": [
        "import pandas as pd\n",
        "df = pd.read_csv('delivery_time.csv')\n",
        "\n",
        "df_temp = df.groupby(by='user').sum(numeric_only=True)\n",
        "user_50 = df_temp[df_temp['거리'] >= 50].index\n",
        "\n",
        "df = df[df['user'].isin(user_50)]['결제종류']\n",
        "\n",
        "print(df.value_counts()[0])"
      ],
      "metadata": {
        "colab": {
          "base_uri": "https://localhost:8080/"
        },
        "id": "eQGGj6onJYf6",
        "outputId": "ceb696b3-f4b2-44a5-f9a1-682c34cd8322"
      },
      "execution_count": null,
      "outputs": [
        {
          "output_type": "stream",
          "name": "stdout",
          "text": [
            "48\n"
          ]
        },
        {
          "output_type": "stream",
          "name": "stderr",
          "text": [
            "/tmp/ipython-input-4097782634.py:9: FutureWarning: Series.__getitem__ treating keys as positions is deprecated. In a future version, integer keys will always be treated as labels (consistent with DataFrame behavior). To access a value by position, use `ser.iloc[pos]`\n",
            "  print(df.value_counts()[0])\n"
          ]
        }
      ]
    },
    {
      "cell_type": "markdown",
      "source": [
        "#Section 25"
      ],
      "metadata": {
        "id": "VMqqkWF_Qte4"
      }
    },
    {
      "cell_type": "code",
      "source": [
        "import pandas as pd\n",
        "df = pd.read_csv('delivery_time.csv')\n",
        "\n",
        "df['주문시간'] = pd.to_datetime(df['주문시간'])\n",
        "df_first = df.groupby('user')['주문시간'].min().reset_index()\n",
        "df_last = df.groupby('user')['주문시간'].max().reset_index()\n",
        "df = pd.merge(df_first, df_last, on='user')\n",
        "df.columns = ['user','첫 주문','마지막 주문']\n",
        "\n",
        "df['difference'] = (df['마지막 주문'] - df['첫 주문']).dt.days\n",
        "\n",
        "cond = df['difference'] != 0\n",
        "mean = df[cond].mean()\n",
        "\n",
        "cond = df['difference'] > mean\n",
        "print(len(df[cond]))"
      ],
      "metadata": {
        "colab": {
          "base_uri": "https://localhost:8080/"
        },
        "id": "cnk1oWIxQuii",
        "outputId": "9fac934a-f48e-4904-bcf2-be574f02dc9d"
      },
      "execution_count": null,
      "outputs": [
        {
          "output_type": "stream",
          "name": "stdout",
          "text": [
            "146\n"
          ]
        }
      ]
    },
    {
      "cell_type": "markdown",
      "source": [
        "#Section 26"
      ],
      "metadata": {
        "id": "rV-SRkytSr56"
      }
    },
    {
      "cell_type": "code",
      "source": [
        "import pandas as pd\n",
        "df = pd.read_csv('delivery_time.csv')\n",
        "\n",
        "df['주문시간'] = pd.to_datetime(df['주문시간'])\n",
        "\n",
        "df['연-월'] = df['주문시간'].dt.to_period('M')\n",
        "date = df['연-월'].value_counts().index[0] #2022-09\n",
        "\n",
        "cond1 = df['연-월'] == date\n",
        "cond2 = df['앱종류'] == '배고팡'\n",
        "df = df[cond1 & cond2].value_counts('결제종류')\n",
        "\n",
        "res = df.loc['앱결제'] / df.sum()\n",
        "print(round(res, 2))"
      ],
      "metadata": {
        "colab": {
          "base_uri": "https://localhost:8080/"
        },
        "id": "0xBzYlHZVpNS",
        "outputId": "0f0977c1-ed19-4956-987e-c48e478ac21b"
      },
      "execution_count": null,
      "outputs": [
        {
          "output_type": "stream",
          "name": "stdout",
          "text": [
            "0.31\n"
          ]
        }
      ]
    },
    {
      "cell_type": "code",
      "source": [
        "import pandas as pd\n",
        "df = pd.read_csv('delivery_time.csv')\n",
        "\n",
        "df['주문시간'] = pd.to_datetime(df['주문시간'])\n",
        "\n",
        "df['year'] = df['주문시간'].dt.year\n",
        "df['month'] = df['주문시간'].dt.month\n",
        "df.value_counts(['year','month']) #2022-9\n",
        "\n",
        "cond1 = df['year'] == 2022\n",
        "cond2 = df['month'] == 9\n",
        "df = df[cond1 & cond2]\n",
        "\n",
        "cond3 = df['앱종류'] == '배고팡'\n",
        "df = df[cond3]\n",
        "\n",
        "df = df.value_counts('결제종류')\n",
        "round(df[1] / df.sum(), 2)"
      ],
      "metadata": {
        "colab": {
          "base_uri": "https://localhost:8080/"
        },
        "id": "etavD7xES18O",
        "outputId": "6f3eb921-69cf-4ae0-d4a5-70cc25dca763"
      },
      "execution_count": null,
      "outputs": [
        {
          "output_type": "stream",
          "name": "stderr",
          "text": [
            "/tmp/ipython-input-1862445245.py:18: FutureWarning: Series.__getitem__ treating keys as positions is deprecated. In a future version, integer keys will always be treated as labels (consistent with DataFrame behavior). To access a value by position, use `ser.iloc[pos]`\n",
            "  round(df[1] / df.sum(), 2)\n"
          ]
        },
        {
          "output_type": "execute_result",
          "data": {
            "text/plain": [
              "np.float64(0.31)"
            ]
          },
          "metadata": {},
          "execution_count": 517
        }
      ]
    },
    {
      "cell_type": "markdown",
      "source": [
        "#Section 27"
      ],
      "metadata": {
        "id": "3bRvQNopDXvE"
      }
    },
    {
      "cell_type": "code",
      "source": [
        "import pandas as pd\n",
        "df = pd.read_csv('delivery_time.csv')\n",
        "\n",
        "df['주문시간'] = pd.to_datetime(df['주문시간'])\n",
        "df['실제도착시간'] = pd.to_datetime(df['실제도착시간'])\n",
        "\n",
        "cond = (df['주문시간'].dt.hour >= 10) & (df['주문시간'].dt.hour <13)\n",
        "df = df[cond]\n",
        "\n",
        "df['배달시간'] = (df['실제도착시간'] - df['주문시간']).dt.total_seconds()/60/60\n",
        "df['속도'] = df['거리']/df['배달시간']\n",
        "\n",
        "cond2 = df['속도'] >= 50\n",
        "len(df[cond2])"
      ],
      "metadata": {
        "colab": {
          "base_uri": "https://localhost:8080/"
        },
        "id": "O-klMgZ6ZwZH",
        "outputId": "23c6f0a6-7731-46e8-849e-5a18c5937e4a"
      },
      "execution_count": null,
      "outputs": [
        {
          "output_type": "execute_result",
          "data": {
            "text/plain": [
              "1"
            ]
          },
          "metadata": {},
          "execution_count": 560
        }
      ]
    },
    {
      "cell_type": "markdown",
      "source": [
        "#Section 28"
      ],
      "metadata": {
        "id": "977fiydQDYDl"
      }
    },
    {
      "cell_type": "code",
      "source": [
        "import pandas as pd\n",
        "df = pd.read_csv('delivery_time.csv')\n",
        "\n",
        "df['주문시간'] = pd.to_datetime(df['주문시간'])\n",
        "df['연-월'] = df['주문시간'].dt.to_period('M')\n",
        "\n",
        "#date = df.value_counts('연-월').index[0]\n",
        "#int(''.join(str(date).split('-')))\n",
        "\n",
        "df = df.groupby('연-월').size()\n",
        "res = df.idxmax()\n",
        "\n",
        "int(str(res).replace('-',''))\n"
      ],
      "metadata": {
        "colab": {
          "base_uri": "https://localhost:8080/"
        },
        "id": "8qY05fwUb-Wi",
        "outputId": "a22ec22e-1f34-4448-bb63-53adb7443fee"
      },
      "execution_count": null,
      "outputs": [
        {
          "output_type": "execute_result",
          "data": {
            "text/plain": [
              "202209"
            ]
          },
          "metadata": {},
          "execution_count": 583
        }
      ]
    },
    {
      "cell_type": "markdown",
      "source": [
        "#Section 29"
      ],
      "metadata": {
        "id": "I8nhu4W3JagT"
      }
    },
    {
      "cell_type": "code",
      "source": [
        "def money(x):\n",
        "  if x<5: return 2000\n",
        "  elif x<10: return 4000\n",
        "  elif x<15 : return 6000\n",
        "  elif x<20 : return 8000\n",
        "  else : return 0\n",
        "\n",
        "import pandas as pd\n",
        "df = pd.read_csv('delivery_time.csv')\n",
        "\n",
        "df['배달료'] = df['거리'].apply(lambda x : money(x))\n",
        "\n",
        "df['주문시간'] = pd.to_datetime(df['주문시간'])\n",
        "df['주문월'] = df['주문시간'].dt.to_period('M')\n",
        "\n",
        "df = df.groupby('주문월')['배달료'].sum()\n",
        "m = df.idxmax()\n",
        "\n",
        "print(df[m])"
      ],
      "metadata": {
        "colab": {
          "base_uri": "https://localhost:8080/"
        },
        "id": "g36d8-GddGB-",
        "outputId": "f64b082f-054e-43e0-a915-25f6766b0a86"
      },
      "execution_count": null,
      "outputs": [
        {
          "output_type": "stream",
          "name": "stdout",
          "text": [
            "448000\n"
          ]
        }
      ]
    },
    {
      "cell_type": "markdown",
      "source": [
        "#Section 30"
      ],
      "metadata": {
        "id": "dfIKqLiqfMFf"
      }
    },
    {
      "cell_type": "code",
      "source": [
        "import pandas as pd\n",
        "df = pd.read_csv('delivery_time.csv')\n",
        "\n",
        "df['주문시간'] = pd.to_datetime(df['주문시간'])\n",
        "df['요일'] = df['주문시간'].dt.dayofweek\n",
        "df['주말여부'] = df['요일'] >= 5\n",
        "\n",
        "df = df['주말여부'].value_counts()\n",
        "print(abs(df[0] - df[1]))\n"
      ],
      "metadata": {
        "colab": {
          "base_uri": "https://localhost:8080/"
        },
        "id": "-tJXv3v6A_4X",
        "outputId": "5ac6491e-d6db-45c5-8ed6-8634e1e03288"
      },
      "execution_count": 24,
      "outputs": [
        {
          "output_type": "stream",
          "name": "stdout",
          "text": [
            "412\n"
          ]
        },
        {
          "output_type": "stream",
          "name": "stderr",
          "text": [
            "/tmp/ipython-input-2890669137.py:10: FutureWarning: Series.__getitem__ treating keys as positions is deprecated. In a future version, integer keys will always be treated as labels (consistent with DataFrame behavior). To access a value by position, use `ser.iloc[pos]`\n",
            "  print(abs(df[0] - df[1]))\n"
          ]
        }
      ]
    },
    {
      "cell_type": "markdown",
      "source": [
        "#Section 31"
      ],
      "metadata": {
        "id": "DYHUZzYnCz2T"
      }
    },
    {
      "cell_type": "code",
      "source": [
        "import pandas as pd\n",
        "df = pd.read_csv('delivery_time.csv')\n",
        "\n",
        "df['num'] = df['user'].str.split('_').str[1]\n",
        "#df['num'] = df['num'].apply(lambda x : int(x))\n",
        "df['num'] = df['num'].astype(int)\n",
        "\n",
        "print(df['num'].sum())"
      ],
      "metadata": {
        "colab": {
          "base_uri": "https://localhost:8080/"
        },
        "id": "2sE8lkrTC1qE",
        "outputId": "2e9960fb-6a2a-46d1-d047-73f8f11f7388"
      },
      "execution_count": 44,
      "outputs": [
        {
          "output_type": "stream",
          "name": "stdout",
          "text": [
            "261387\n"
          ]
        }
      ]
    },
    {
      "cell_type": "markdown",
      "source": [
        "#Section 32"
      ],
      "metadata": {
        "id": "OiRW7JTpD5IN"
      }
    },
    {
      "cell_type": "code",
      "source": [
        "import pandas as pd\n",
        "df = pd.read_csv('school_data.csv')\n",
        "\n",
        "df['총점'] = df[['수학','영어','국어']].sum(axis=1)\n",
        "#df['총점'] = df['수학'] + df['영어'] + df['국어']\n",
        "\n",
        "df = df.nlargest(10, '총점')\n",
        "#df = df.sort_values(by='총점', ascending=False).head(10)\n",
        "\n",
        "m = df['수학'].mean()\n",
        "print(round(m))"
      ],
      "metadata": {
        "colab": {
          "base_uri": "https://localhost:8080/"
        },
        "id": "dJtxK6bFD59M",
        "outputId": "bf92d1bf-de9a-43f6-af74-845a0a3385f3"
      },
      "execution_count": 60,
      "outputs": [
        {
          "output_type": "stream",
          "name": "stdout",
          "text": [
            "82\n"
          ]
        }
      ]
    },
    {
      "cell_type": "markdown",
      "source": [
        "#Section 33"
      ],
      "metadata": {
        "id": "GNb_Zr3vE8xm"
      }
    },
    {
      "cell_type": "code",
      "source": [
        "import pandas as pd\n",
        "df = pd.read_csv('school_data.csv')\n",
        "\n",
        "df = df.melt(id_vars = ['이름'], value_vars = ['수학','영어','국어'])\n",
        "print(df['value'].nsmallest(25).sum())\n"
      ],
      "metadata": {
        "colab": {
          "base_uri": "https://localhost:8080/"
        },
        "id": "Gon5wxXUE9kw",
        "outputId": "690e4ef4-6a5b-4a65-f04e-447bdba04374"
      },
      "execution_count": 70,
      "outputs": [
        {
          "output_type": "stream",
          "name": "stdout",
          "text": [
            "420\n"
          ]
        }
      ]
    },
    {
      "cell_type": "markdown",
      "source": [
        "#Section 34"
      ],
      "metadata": {
        "id": "Z0AUq-yME-X4"
      }
    },
    {
      "cell_type": "code",
      "source": [
        "import pandas as pd\n",
        "df = pd.read_csv('school_data.csv')\n",
        "df_science = pd.read_csv('school_data_science.csv')\n",
        "\n",
        "df = pd.concat([df, df_science], axis=1)\n",
        "df['평균'] = df[['수학','영어','국어','과학']].mean(axis=1)\n",
        "\n",
        "len(df[df['평균'] >= 60])"
      ],
      "metadata": {
        "colab": {
          "base_uri": "https://localhost:8080/"
        },
        "id": "Ubwam0jfHH5H",
        "outputId": "a46026ed-d63e-4b18-ccf6-16e4dbf51a6a"
      },
      "execution_count": 90,
      "outputs": [
        {
          "output_type": "execute_result",
          "data": {
            "text/plain": [
              "9"
            ]
          },
          "metadata": {},
          "execution_count": 90
        }
      ]
    },
    {
      "cell_type": "code",
      "source": [
        "import pandas as pd\n",
        "df = pd.read_csv('school_data.csv')\n",
        "df_science = pd.read_csv('school_data_science.csv')\n",
        "\n",
        "df = pd.merge(df, df_science, on='이름')\n",
        "df['평균'] = df[['수학','영어','국어','과학']].mean(axis=1)\n",
        "\n",
        "len(df[df['평균'] >= 60])"
      ],
      "metadata": {
        "colab": {
          "base_uri": "https://localhost:8080/"
        },
        "id": "OOfySz0vF6Yk",
        "outputId": "e3827f71-7449-4272-ac62-8127fba40eac"
      },
      "execution_count": 86,
      "outputs": [
        {
          "output_type": "execute_result",
          "data": {
            "text/plain": [
              "9"
            ]
          },
          "metadata": {},
          "execution_count": 86
        }
      ]
    },
    {
      "cell_type": "markdown",
      "source": [
        "#Section 35"
      ],
      "metadata": {
        "id": "ZwioTD28EzDz"
      }
    },
    {
      "cell_type": "code",
      "source": [
        "import pandas as pd\n",
        "df = pd.read_csv('school_data.csv')\n",
        "df_science = pd.read_csv('school_data_social.csv')\n",
        "\n",
        "df = pd.merge(df, df_science, on='이름')\n",
        "\n",
        "cond1 = df['영어교사'] == '장선생'\n",
        "cond2 = df['사회교사'] == '오선생'\n",
        "res = df[cond1 & cond2]['수학'].sum()\n",
        "\n",
        "print(res)"
      ],
      "metadata": {
        "colab": {
          "base_uri": "https://localhost:8080/"
        },
        "id": "8_uROxFJHGTo",
        "outputId": "6158292e-30e1-4362-8609-72b5e851b33b"
      },
      "execution_count": 94,
      "outputs": [
        {
          "output_type": "stream",
          "name": "stdout",
          "text": [
            "602\n"
          ]
        }
      ]
    },
    {
      "cell_type": "markdown",
      "source": [
        "#Section 36"
      ],
      "metadata": {
        "id": "dc8KOnzNGGU4"
      }
    },
    {
      "cell_type": "code",
      "source": [
        "import pandas as pd\n",
        "df = pd.read_csv('sales.csv')\n",
        "\n",
        "m = df.groupby('지역코드')['판매금액'].transform('mean')\n",
        "df['판매금액'] = df['판매금액'].fillna(m)\n",
        "df['지역평균 판매금액'] = m\n",
        "df['차이'] = abs(df['판매금액'] - df['지역평균 판매금액'])\n",
        "\n",
        "df.groupby(['지역코드'])['차이'].mean().idxmax()"
      ],
      "metadata": {
        "colab": {
          "base_uri": "https://localhost:8080/"
        },
        "id": "zVpcoVQwJABI",
        "outputId": "e49cebb9-7c12-4e75-c4e7-51f79bbd4ee1"
      },
      "execution_count": 129,
      "outputs": [
        {
          "output_type": "execute_result",
          "data": {
            "text/plain": [
              "np.int64(103)"
            ]
          },
          "metadata": {},
          "execution_count": 129
        }
      ]
    },
    {
      "cell_type": "markdown",
      "source": [
        "#Section 37"
      ],
      "metadata": {
        "id": "KROnFEQmJAQD"
      }
    },
    {
      "cell_type": "code",
      "source": [
        "import pandas as pd\n",
        "df = pd.read_csv('store_sales.csv')\n",
        "\n",
        "df['매추랙'] = df['판매수량'] * df['단가']\n",
        "\n",
        "df['주말여부'] = (df['요일'] == '토') | (df['요일'] == '일')\n",
        "df = df.groupby(['매장코드','주말여부'])['매추랙'].sum().unstack()\n",
        "\n",
        "df['차이'] = abs(df[False] - df[True])\n",
        "\n",
        "df['차이'].max()"
      ],
      "metadata": {
        "colab": {
          "base_uri": "https://localhost:8080/"
        },
        "id": "uNal6FAsMK4_",
        "outputId": "7e1e1eea-2a4d-47ad-c868-aa8112ad9276"
      },
      "execution_count": 159,
      "outputs": [
        {
          "output_type": "execute_result",
          "data": {
            "text/plain": [
              "241975"
            ]
          },
          "metadata": {},
          "execution_count": 159
        }
      ]
    },
    {
      "cell_type": "markdown",
      "source": [
        "#Section 38"
      ],
      "metadata": {
        "id": "Rs8RQAFCJAWu"
      }
    },
    {
      "cell_type": "code",
      "source": [
        "import pandas as pd\n",
        "df = pd.read_csv('region_sales.csv')\n",
        "\n",
        "df_pivot = df.pivot_table(index=['Region', 'Channel'], columns='Product', values = 'Sales', aggfunc = 'sum')\n",
        "\n",
        "df_pivot['A_ratio'] = df_pivot['A'] / (df_pivot['A'] + df_pivot['B'])\n",
        "\n",
        "round(df_pivot['A_ratio'].max(),2)"
      ],
      "metadata": {
        "colab": {
          "base_uri": "https://localhost:8080/"
        },
        "id": "cG3Aug_NOBry",
        "outputId": "fb9b667b-c8a7-4869-f528-70dc80cd0a0a"
      },
      "execution_count": 180,
      "outputs": [
        {
          "output_type": "execute_result",
          "data": {
            "text/plain": [
              "0.51"
            ]
          },
          "metadata": {},
          "execution_count": 180
        }
      ]
    },
    {
      "cell_type": "markdown",
      "source": [
        "#Section 39"
      ],
      "metadata": {
        "id": "LKd1ciq3PrG3"
      }
    },
    {
      "cell_type": "code",
      "source": [
        "import pandas as pd\n",
        "df = pd.read_csv('monthly_sales.csv')\n",
        "\n",
        "df = df.melt(id_vars = ['Region'], value_vars=['Jan', 'Feb', 'Mar'])\n",
        "df = df.groupby(['Region','variable'])['value'].sum()\n",
        "len(df[df>1400])\n"
      ],
      "metadata": {
        "colab": {
          "base_uri": "https://localhost:8080/"
        },
        "id": "uZwgCbDvPsXR",
        "outputId": "d70a1c3b-b821-4687-f10d-ed6971a40fc0"
      },
      "execution_count": 209,
      "outputs": [
        {
          "output_type": "execute_result",
          "data": {
            "text/plain": [
              "6"
            ]
          },
          "metadata": {},
          "execution_count": 209
        }
      ]
    },
    {
      "cell_type": "code",
      "source": [
        "import pandas as pd\n",
        "df = pd.read_csv('monthly_sales.csv')\n",
        "\n",
        "df = pd.melt(df, id_vars=['Region'], value_vars = ['Jan','Feb','Mar'],\n",
        "             var_name='Month', value_name='Sales')\n",
        "\n",
        "df.groupby(['Region','Month'])['Sales'].sum()"
      ],
      "metadata": {
        "colab": {
          "base_uri": "https://localhost:8080/",
          "height": 585
        },
        "id": "KDWmaP85R0MT",
        "outputId": "2de77e56-e67f-4b2e-99d9-8c2e4fb26084"
      },
      "execution_count": 223,
      "outputs": [
        {
          "output_type": "execute_result",
          "data": {
            "text/plain": [
              "Region   Month\n",
              "Busan    Feb      1323\n",
              "         Jan      1256\n",
              "         Mar      1371\n",
              "Daegu    Feb      1365\n",
              "         Jan      1317\n",
              "         Mar      1538\n",
              "Daejeon  Feb      1348\n",
              "         Jan      1350\n",
              "         Mar      1400\n",
              "Incheon  Feb      1444\n",
              "         Jan      1436\n",
              "         Mar      1466\n",
              "Seoul    Feb      1425\n",
              "         Jan      1385\n",
              "         Mar      1420\n",
              "Name: Sales, dtype: int64"
            ],
            "text/html": [
              "<div>\n",
              "<style scoped>\n",
              "    .dataframe tbody tr th:only-of-type {\n",
              "        vertical-align: middle;\n",
              "    }\n",
              "\n",
              "    .dataframe tbody tr th {\n",
              "        vertical-align: top;\n",
              "    }\n",
              "\n",
              "    .dataframe thead th {\n",
              "        text-align: right;\n",
              "    }\n",
              "</style>\n",
              "<table border=\"1\" class=\"dataframe\">\n",
              "  <thead>\n",
              "    <tr style=\"text-align: right;\">\n",
              "      <th></th>\n",
              "      <th></th>\n",
              "      <th>Sales</th>\n",
              "    </tr>\n",
              "    <tr>\n",
              "      <th>Region</th>\n",
              "      <th>Month</th>\n",
              "      <th></th>\n",
              "    </tr>\n",
              "  </thead>\n",
              "  <tbody>\n",
              "    <tr>\n",
              "      <th rowspan=\"3\" valign=\"top\">Busan</th>\n",
              "      <th>Feb</th>\n",
              "      <td>1323</td>\n",
              "    </tr>\n",
              "    <tr>\n",
              "      <th>Jan</th>\n",
              "      <td>1256</td>\n",
              "    </tr>\n",
              "    <tr>\n",
              "      <th>Mar</th>\n",
              "      <td>1371</td>\n",
              "    </tr>\n",
              "    <tr>\n",
              "      <th rowspan=\"3\" valign=\"top\">Daegu</th>\n",
              "      <th>Feb</th>\n",
              "      <td>1365</td>\n",
              "    </tr>\n",
              "    <tr>\n",
              "      <th>Jan</th>\n",
              "      <td>1317</td>\n",
              "    </tr>\n",
              "    <tr>\n",
              "      <th>Mar</th>\n",
              "      <td>1538</td>\n",
              "    </tr>\n",
              "    <tr>\n",
              "      <th rowspan=\"3\" valign=\"top\">Daejeon</th>\n",
              "      <th>Feb</th>\n",
              "      <td>1348</td>\n",
              "    </tr>\n",
              "    <tr>\n",
              "      <th>Jan</th>\n",
              "      <td>1350</td>\n",
              "    </tr>\n",
              "    <tr>\n",
              "      <th>Mar</th>\n",
              "      <td>1400</td>\n",
              "    </tr>\n",
              "    <tr>\n",
              "      <th rowspan=\"3\" valign=\"top\">Incheon</th>\n",
              "      <th>Feb</th>\n",
              "      <td>1444</td>\n",
              "    </tr>\n",
              "    <tr>\n",
              "      <th>Jan</th>\n",
              "      <td>1436</td>\n",
              "    </tr>\n",
              "    <tr>\n",
              "      <th>Mar</th>\n",
              "      <td>1466</td>\n",
              "    </tr>\n",
              "    <tr>\n",
              "      <th rowspan=\"3\" valign=\"top\">Seoul</th>\n",
              "      <th>Feb</th>\n",
              "      <td>1425</td>\n",
              "    </tr>\n",
              "    <tr>\n",
              "      <th>Jan</th>\n",
              "      <td>1385</td>\n",
              "    </tr>\n",
              "    <tr>\n",
              "      <th>Mar</th>\n",
              "      <td>1420</td>\n",
              "    </tr>\n",
              "  </tbody>\n",
              "</table>\n",
              "</div><br><label><b>dtype:</b> int64</label>"
            ]
          },
          "metadata": {},
          "execution_count": 223
        }
      ]
    },
    {
      "cell_type": "code",
      "source": [
        "df"
      ],
      "metadata": {
        "colab": {
          "base_uri": "https://localhost:8080/",
          "height": 1000
        },
        "id": "3CUxhgpoOI1U",
        "outputId": "e417db56-66bf-44cb-8156-c6b50c20d7f4"
      },
      "execution_count": 182,
      "outputs": [
        {
          "output_type": "execute_result",
          "data": {
            "text/plain": [
              "     Region  Jan  Feb  Mar\n",
              "0     Seoul  120  135  110\n",
              "1     Seoul   95  108  145\n",
              "2     Seoul  200  179  140\n",
              "3     Seoul  150  155  170\n",
              "4     Seoul  110   98  190\n",
              "5     Seoul  130  140  105\n",
              "6     Seoul   90  115  150\n",
              "7     Seoul  180  182  160\n",
              "8     Seoul  140  125  130\n",
              "9     Seoul  170  188  120\n",
              "10    Busan   90   92  105\n",
              "11    Busan   80  100   95\n",
              "12    Busan  115  130  125\n",
              "13    Busan  145  155  135\n",
              "14    Busan  165  148  178\n",
              "15    Busan  120  135  110\n",
              "16    Busan   99  101  123\n",
              "17    Busan  170  185  190\n",
              "18    Busan  130  127  150\n",
              "19    Busan  142  150  160\n",
              "20    Daegu   85  130  150\n",
              "21    Daegu  108  115  130\n",
              "22    Daegu  160  170  148\n",
              "23    Daegu  140  135  190\n",
              "24    Daegu  180  182  195\n",
              "25    Daegu   95   88  120\n",
              "26    Daegu   99  120  140\n",
              "27    Daegu  150  155  170\n",
              "28    Daegu  130  105  110\n",
              "29    Daegu  170  165  185\n",
              "30  Incheon  132  140  150\n",
              "31  Incheon  115  110  100\n",
              "32  Incheon  180  192  155\n",
              "33  Incheon  155  140  165\n",
              "34  Incheon  160  170  185\n",
              "35  Incheon  190  185  195\n",
              "36  Incheon  145  132  155\n",
              "37  Incheon  105  100   95\n",
              "38  Incheon   82   95   88\n",
              "39  Incheon  172  180  178\n",
              "40  Daejeon  180  165  170\n",
              "41  Daejeon  188  190  195\n",
              "42  Daejeon  100  110   95\n",
              "43  Daejeon   92   85  100\n",
              "44  Daejeon  140  145  135\n",
              "45  Daejeon  150  155  170\n",
              "46  Daejeon  120  105  115\n",
              "47  Daejeon  130  135  140\n",
              "48  Daejeon   95   98  105\n",
              "49  Daejeon  155  160  175"
            ],
            "text/html": [
              "\n",
              "  <div id=\"df-8af73dd2-318a-4693-9a57-b9d2e902672b\" class=\"colab-df-container\">\n",
              "    <div>\n",
              "<style scoped>\n",
              "    .dataframe tbody tr th:only-of-type {\n",
              "        vertical-align: middle;\n",
              "    }\n",
              "\n",
              "    .dataframe tbody tr th {\n",
              "        vertical-align: top;\n",
              "    }\n",
              "\n",
              "    .dataframe thead th {\n",
              "        text-align: right;\n",
              "    }\n",
              "</style>\n",
              "<table border=\"1\" class=\"dataframe\">\n",
              "  <thead>\n",
              "    <tr style=\"text-align: right;\">\n",
              "      <th></th>\n",
              "      <th>Region</th>\n",
              "      <th>Jan</th>\n",
              "      <th>Feb</th>\n",
              "      <th>Mar</th>\n",
              "    </tr>\n",
              "  </thead>\n",
              "  <tbody>\n",
              "    <tr>\n",
              "      <th>0</th>\n",
              "      <td>Seoul</td>\n",
              "      <td>120</td>\n",
              "      <td>135</td>\n",
              "      <td>110</td>\n",
              "    </tr>\n",
              "    <tr>\n",
              "      <th>1</th>\n",
              "      <td>Seoul</td>\n",
              "      <td>95</td>\n",
              "      <td>108</td>\n",
              "      <td>145</td>\n",
              "    </tr>\n",
              "    <tr>\n",
              "      <th>2</th>\n",
              "      <td>Seoul</td>\n",
              "      <td>200</td>\n",
              "      <td>179</td>\n",
              "      <td>140</td>\n",
              "    </tr>\n",
              "    <tr>\n",
              "      <th>3</th>\n",
              "      <td>Seoul</td>\n",
              "      <td>150</td>\n",
              "      <td>155</td>\n",
              "      <td>170</td>\n",
              "    </tr>\n",
              "    <tr>\n",
              "      <th>4</th>\n",
              "      <td>Seoul</td>\n",
              "      <td>110</td>\n",
              "      <td>98</td>\n",
              "      <td>190</td>\n",
              "    </tr>\n",
              "    <tr>\n",
              "      <th>5</th>\n",
              "      <td>Seoul</td>\n",
              "      <td>130</td>\n",
              "      <td>140</td>\n",
              "      <td>105</td>\n",
              "    </tr>\n",
              "    <tr>\n",
              "      <th>6</th>\n",
              "      <td>Seoul</td>\n",
              "      <td>90</td>\n",
              "      <td>115</td>\n",
              "      <td>150</td>\n",
              "    </tr>\n",
              "    <tr>\n",
              "      <th>7</th>\n",
              "      <td>Seoul</td>\n",
              "      <td>180</td>\n",
              "      <td>182</td>\n",
              "      <td>160</td>\n",
              "    </tr>\n",
              "    <tr>\n",
              "      <th>8</th>\n",
              "      <td>Seoul</td>\n",
              "      <td>140</td>\n",
              "      <td>125</td>\n",
              "      <td>130</td>\n",
              "    </tr>\n",
              "    <tr>\n",
              "      <th>9</th>\n",
              "      <td>Seoul</td>\n",
              "      <td>170</td>\n",
              "      <td>188</td>\n",
              "      <td>120</td>\n",
              "    </tr>\n",
              "    <tr>\n",
              "      <th>10</th>\n",
              "      <td>Busan</td>\n",
              "      <td>90</td>\n",
              "      <td>92</td>\n",
              "      <td>105</td>\n",
              "    </tr>\n",
              "    <tr>\n",
              "      <th>11</th>\n",
              "      <td>Busan</td>\n",
              "      <td>80</td>\n",
              "      <td>100</td>\n",
              "      <td>95</td>\n",
              "    </tr>\n",
              "    <tr>\n",
              "      <th>12</th>\n",
              "      <td>Busan</td>\n",
              "      <td>115</td>\n",
              "      <td>130</td>\n",
              "      <td>125</td>\n",
              "    </tr>\n",
              "    <tr>\n",
              "      <th>13</th>\n",
              "      <td>Busan</td>\n",
              "      <td>145</td>\n",
              "      <td>155</td>\n",
              "      <td>135</td>\n",
              "    </tr>\n",
              "    <tr>\n",
              "      <th>14</th>\n",
              "      <td>Busan</td>\n",
              "      <td>165</td>\n",
              "      <td>148</td>\n",
              "      <td>178</td>\n",
              "    </tr>\n",
              "    <tr>\n",
              "      <th>15</th>\n",
              "      <td>Busan</td>\n",
              "      <td>120</td>\n",
              "      <td>135</td>\n",
              "      <td>110</td>\n",
              "    </tr>\n",
              "    <tr>\n",
              "      <th>16</th>\n",
              "      <td>Busan</td>\n",
              "      <td>99</td>\n",
              "      <td>101</td>\n",
              "      <td>123</td>\n",
              "    </tr>\n",
              "    <tr>\n",
              "      <th>17</th>\n",
              "      <td>Busan</td>\n",
              "      <td>170</td>\n",
              "      <td>185</td>\n",
              "      <td>190</td>\n",
              "    </tr>\n",
              "    <tr>\n",
              "      <th>18</th>\n",
              "      <td>Busan</td>\n",
              "      <td>130</td>\n",
              "      <td>127</td>\n",
              "      <td>150</td>\n",
              "    </tr>\n",
              "    <tr>\n",
              "      <th>19</th>\n",
              "      <td>Busan</td>\n",
              "      <td>142</td>\n",
              "      <td>150</td>\n",
              "      <td>160</td>\n",
              "    </tr>\n",
              "    <tr>\n",
              "      <th>20</th>\n",
              "      <td>Daegu</td>\n",
              "      <td>85</td>\n",
              "      <td>130</td>\n",
              "      <td>150</td>\n",
              "    </tr>\n",
              "    <tr>\n",
              "      <th>21</th>\n",
              "      <td>Daegu</td>\n",
              "      <td>108</td>\n",
              "      <td>115</td>\n",
              "      <td>130</td>\n",
              "    </tr>\n",
              "    <tr>\n",
              "      <th>22</th>\n",
              "      <td>Daegu</td>\n",
              "      <td>160</td>\n",
              "      <td>170</td>\n",
              "      <td>148</td>\n",
              "    </tr>\n",
              "    <tr>\n",
              "      <th>23</th>\n",
              "      <td>Daegu</td>\n",
              "      <td>140</td>\n",
              "      <td>135</td>\n",
              "      <td>190</td>\n",
              "    </tr>\n",
              "    <tr>\n",
              "      <th>24</th>\n",
              "      <td>Daegu</td>\n",
              "      <td>180</td>\n",
              "      <td>182</td>\n",
              "      <td>195</td>\n",
              "    </tr>\n",
              "    <tr>\n",
              "      <th>25</th>\n",
              "      <td>Daegu</td>\n",
              "      <td>95</td>\n",
              "      <td>88</td>\n",
              "      <td>120</td>\n",
              "    </tr>\n",
              "    <tr>\n",
              "      <th>26</th>\n",
              "      <td>Daegu</td>\n",
              "      <td>99</td>\n",
              "      <td>120</td>\n",
              "      <td>140</td>\n",
              "    </tr>\n",
              "    <tr>\n",
              "      <th>27</th>\n",
              "      <td>Daegu</td>\n",
              "      <td>150</td>\n",
              "      <td>155</td>\n",
              "      <td>170</td>\n",
              "    </tr>\n",
              "    <tr>\n",
              "      <th>28</th>\n",
              "      <td>Daegu</td>\n",
              "      <td>130</td>\n",
              "      <td>105</td>\n",
              "      <td>110</td>\n",
              "    </tr>\n",
              "    <tr>\n",
              "      <th>29</th>\n",
              "      <td>Daegu</td>\n",
              "      <td>170</td>\n",
              "      <td>165</td>\n",
              "      <td>185</td>\n",
              "    </tr>\n",
              "    <tr>\n",
              "      <th>30</th>\n",
              "      <td>Incheon</td>\n",
              "      <td>132</td>\n",
              "      <td>140</td>\n",
              "      <td>150</td>\n",
              "    </tr>\n",
              "    <tr>\n",
              "      <th>31</th>\n",
              "      <td>Incheon</td>\n",
              "      <td>115</td>\n",
              "      <td>110</td>\n",
              "      <td>100</td>\n",
              "    </tr>\n",
              "    <tr>\n",
              "      <th>32</th>\n",
              "      <td>Incheon</td>\n",
              "      <td>180</td>\n",
              "      <td>192</td>\n",
              "      <td>155</td>\n",
              "    </tr>\n",
              "    <tr>\n",
              "      <th>33</th>\n",
              "      <td>Incheon</td>\n",
              "      <td>155</td>\n",
              "      <td>140</td>\n",
              "      <td>165</td>\n",
              "    </tr>\n",
              "    <tr>\n",
              "      <th>34</th>\n",
              "      <td>Incheon</td>\n",
              "      <td>160</td>\n",
              "      <td>170</td>\n",
              "      <td>185</td>\n",
              "    </tr>\n",
              "    <tr>\n",
              "      <th>35</th>\n",
              "      <td>Incheon</td>\n",
              "      <td>190</td>\n",
              "      <td>185</td>\n",
              "      <td>195</td>\n",
              "    </tr>\n",
              "    <tr>\n",
              "      <th>36</th>\n",
              "      <td>Incheon</td>\n",
              "      <td>145</td>\n",
              "      <td>132</td>\n",
              "      <td>155</td>\n",
              "    </tr>\n",
              "    <tr>\n",
              "      <th>37</th>\n",
              "      <td>Incheon</td>\n",
              "      <td>105</td>\n",
              "      <td>100</td>\n",
              "      <td>95</td>\n",
              "    </tr>\n",
              "    <tr>\n",
              "      <th>38</th>\n",
              "      <td>Incheon</td>\n",
              "      <td>82</td>\n",
              "      <td>95</td>\n",
              "      <td>88</td>\n",
              "    </tr>\n",
              "    <tr>\n",
              "      <th>39</th>\n",
              "      <td>Incheon</td>\n",
              "      <td>172</td>\n",
              "      <td>180</td>\n",
              "      <td>178</td>\n",
              "    </tr>\n",
              "    <tr>\n",
              "      <th>40</th>\n",
              "      <td>Daejeon</td>\n",
              "      <td>180</td>\n",
              "      <td>165</td>\n",
              "      <td>170</td>\n",
              "    </tr>\n",
              "    <tr>\n",
              "      <th>41</th>\n",
              "      <td>Daejeon</td>\n",
              "      <td>188</td>\n",
              "      <td>190</td>\n",
              "      <td>195</td>\n",
              "    </tr>\n",
              "    <tr>\n",
              "      <th>42</th>\n",
              "      <td>Daejeon</td>\n",
              "      <td>100</td>\n",
              "      <td>110</td>\n",
              "      <td>95</td>\n",
              "    </tr>\n",
              "    <tr>\n",
              "      <th>43</th>\n",
              "      <td>Daejeon</td>\n",
              "      <td>92</td>\n",
              "      <td>85</td>\n",
              "      <td>100</td>\n",
              "    </tr>\n",
              "    <tr>\n",
              "      <th>44</th>\n",
              "      <td>Daejeon</td>\n",
              "      <td>140</td>\n",
              "      <td>145</td>\n",
              "      <td>135</td>\n",
              "    </tr>\n",
              "    <tr>\n",
              "      <th>45</th>\n",
              "      <td>Daejeon</td>\n",
              "      <td>150</td>\n",
              "      <td>155</td>\n",
              "      <td>170</td>\n",
              "    </tr>\n",
              "    <tr>\n",
              "      <th>46</th>\n",
              "      <td>Daejeon</td>\n",
              "      <td>120</td>\n",
              "      <td>105</td>\n",
              "      <td>115</td>\n",
              "    </tr>\n",
              "    <tr>\n",
              "      <th>47</th>\n",
              "      <td>Daejeon</td>\n",
              "      <td>130</td>\n",
              "      <td>135</td>\n",
              "      <td>140</td>\n",
              "    </tr>\n",
              "    <tr>\n",
              "      <th>48</th>\n",
              "      <td>Daejeon</td>\n",
              "      <td>95</td>\n",
              "      <td>98</td>\n",
              "      <td>105</td>\n",
              "    </tr>\n",
              "    <tr>\n",
              "      <th>49</th>\n",
              "      <td>Daejeon</td>\n",
              "      <td>155</td>\n",
              "      <td>160</td>\n",
              "      <td>175</td>\n",
              "    </tr>\n",
              "  </tbody>\n",
              "</table>\n",
              "</div>\n",
              "    <div class=\"colab-df-buttons\">\n",
              "\n",
              "  <div class=\"colab-df-container\">\n",
              "    <button class=\"colab-df-convert\" onclick=\"convertToInteractive('df-8af73dd2-318a-4693-9a57-b9d2e902672b')\"\n",
              "            title=\"Convert this dataframe to an interactive table.\"\n",
              "            style=\"display:none;\">\n",
              "\n",
              "  <svg xmlns=\"http://www.w3.org/2000/svg\" height=\"24px\" viewBox=\"0 -960 960 960\">\n",
              "    <path d=\"M120-120v-720h720v720H120Zm60-500h600v-160H180v160Zm220 220h160v-160H400v160Zm0 220h160v-160H400v160ZM180-400h160v-160H180v160Zm440 0h160v-160H620v160ZM180-180h160v-160H180v160Zm440 0h160v-160H620v160Z\"/>\n",
              "  </svg>\n",
              "    </button>\n",
              "\n",
              "  <style>\n",
              "    .colab-df-container {\n",
              "      display:flex;\n",
              "      gap: 12px;\n",
              "    }\n",
              "\n",
              "    .colab-df-convert {\n",
              "      background-color: #E8F0FE;\n",
              "      border: none;\n",
              "      border-radius: 50%;\n",
              "      cursor: pointer;\n",
              "      display: none;\n",
              "      fill: #1967D2;\n",
              "      height: 32px;\n",
              "      padding: 0 0 0 0;\n",
              "      width: 32px;\n",
              "    }\n",
              "\n",
              "    .colab-df-convert:hover {\n",
              "      background-color: #E2EBFA;\n",
              "      box-shadow: 0px 1px 2px rgba(60, 64, 67, 0.3), 0px 1px 3px 1px rgba(60, 64, 67, 0.15);\n",
              "      fill: #174EA6;\n",
              "    }\n",
              "\n",
              "    .colab-df-buttons div {\n",
              "      margin-bottom: 4px;\n",
              "    }\n",
              "\n",
              "    [theme=dark] .colab-df-convert {\n",
              "      background-color: #3B4455;\n",
              "      fill: #D2E3FC;\n",
              "    }\n",
              "\n",
              "    [theme=dark] .colab-df-convert:hover {\n",
              "      background-color: #434B5C;\n",
              "      box-shadow: 0px 1px 3px 1px rgba(0, 0, 0, 0.15);\n",
              "      filter: drop-shadow(0px 1px 2px rgba(0, 0, 0, 0.3));\n",
              "      fill: #FFFFFF;\n",
              "    }\n",
              "  </style>\n",
              "\n",
              "    <script>\n",
              "      const buttonEl =\n",
              "        document.querySelector('#df-8af73dd2-318a-4693-9a57-b9d2e902672b button.colab-df-convert');\n",
              "      buttonEl.style.display =\n",
              "        google.colab.kernel.accessAllowed ? 'block' : 'none';\n",
              "\n",
              "      async function convertToInteractive(key) {\n",
              "        const element = document.querySelector('#df-8af73dd2-318a-4693-9a57-b9d2e902672b');\n",
              "        const dataTable =\n",
              "          await google.colab.kernel.invokeFunction('convertToInteractive',\n",
              "                                                    [key], {});\n",
              "        if (!dataTable) return;\n",
              "\n",
              "        const docLinkHtml = 'Like what you see? Visit the ' +\n",
              "          '<a target=\"_blank\" href=https://colab.research.google.com/notebooks/data_table.ipynb>data table notebook</a>'\n",
              "          + ' to learn more about interactive tables.';\n",
              "        element.innerHTML = '';\n",
              "        dataTable['output_type'] = 'display_data';\n",
              "        await google.colab.output.renderOutput(dataTable, element);\n",
              "        const docLink = document.createElement('div');\n",
              "        docLink.innerHTML = docLinkHtml;\n",
              "        element.appendChild(docLink);\n",
              "      }\n",
              "    </script>\n",
              "  </div>\n",
              "\n",
              "\n",
              "    <div id=\"df-ebf77752-0297-4a13-9e6a-f89311233832\">\n",
              "      <button class=\"colab-df-quickchart\" onclick=\"quickchart('df-ebf77752-0297-4a13-9e6a-f89311233832')\"\n",
              "                title=\"Suggest charts\"\n",
              "                style=\"display:none;\">\n",
              "\n",
              "<svg xmlns=\"http://www.w3.org/2000/svg\" height=\"24px\"viewBox=\"0 0 24 24\"\n",
              "     width=\"24px\">\n",
              "    <g>\n",
              "        <path d=\"M19 3H5c-1.1 0-2 .9-2 2v14c0 1.1.9 2 2 2h14c1.1 0 2-.9 2-2V5c0-1.1-.9-2-2-2zM9 17H7v-7h2v7zm4 0h-2V7h2v10zm4 0h-2v-4h2v4z\"/>\n",
              "    </g>\n",
              "</svg>\n",
              "      </button>\n",
              "\n",
              "<style>\n",
              "  .colab-df-quickchart {\n",
              "      --bg-color: #E8F0FE;\n",
              "      --fill-color: #1967D2;\n",
              "      --hover-bg-color: #E2EBFA;\n",
              "      --hover-fill-color: #174EA6;\n",
              "      --disabled-fill-color: #AAA;\n",
              "      --disabled-bg-color: #DDD;\n",
              "  }\n",
              "\n",
              "  [theme=dark] .colab-df-quickchart {\n",
              "      --bg-color: #3B4455;\n",
              "      --fill-color: #D2E3FC;\n",
              "      --hover-bg-color: #434B5C;\n",
              "      --hover-fill-color: #FFFFFF;\n",
              "      --disabled-bg-color: #3B4455;\n",
              "      --disabled-fill-color: #666;\n",
              "  }\n",
              "\n",
              "  .colab-df-quickchart {\n",
              "    background-color: var(--bg-color);\n",
              "    border: none;\n",
              "    border-radius: 50%;\n",
              "    cursor: pointer;\n",
              "    display: none;\n",
              "    fill: var(--fill-color);\n",
              "    height: 32px;\n",
              "    padding: 0;\n",
              "    width: 32px;\n",
              "  }\n",
              "\n",
              "  .colab-df-quickchart:hover {\n",
              "    background-color: var(--hover-bg-color);\n",
              "    box-shadow: 0 1px 2px rgba(60, 64, 67, 0.3), 0 1px 3px 1px rgba(60, 64, 67, 0.15);\n",
              "    fill: var(--button-hover-fill-color);\n",
              "  }\n",
              "\n",
              "  .colab-df-quickchart-complete:disabled,\n",
              "  .colab-df-quickchart-complete:disabled:hover {\n",
              "    background-color: var(--disabled-bg-color);\n",
              "    fill: var(--disabled-fill-color);\n",
              "    box-shadow: none;\n",
              "  }\n",
              "\n",
              "  .colab-df-spinner {\n",
              "    border: 2px solid var(--fill-color);\n",
              "    border-color: transparent;\n",
              "    border-bottom-color: var(--fill-color);\n",
              "    animation:\n",
              "      spin 1s steps(1) infinite;\n",
              "  }\n",
              "\n",
              "  @keyframes spin {\n",
              "    0% {\n",
              "      border-color: transparent;\n",
              "      border-bottom-color: var(--fill-color);\n",
              "      border-left-color: var(--fill-color);\n",
              "    }\n",
              "    20% {\n",
              "      border-color: transparent;\n",
              "      border-left-color: var(--fill-color);\n",
              "      border-top-color: var(--fill-color);\n",
              "    }\n",
              "    30% {\n",
              "      border-color: transparent;\n",
              "      border-left-color: var(--fill-color);\n",
              "      border-top-color: var(--fill-color);\n",
              "      border-right-color: var(--fill-color);\n",
              "    }\n",
              "    40% {\n",
              "      border-color: transparent;\n",
              "      border-right-color: var(--fill-color);\n",
              "      border-top-color: var(--fill-color);\n",
              "    }\n",
              "    60% {\n",
              "      border-color: transparent;\n",
              "      border-right-color: var(--fill-color);\n",
              "    }\n",
              "    80% {\n",
              "      border-color: transparent;\n",
              "      border-right-color: var(--fill-color);\n",
              "      border-bottom-color: var(--fill-color);\n",
              "    }\n",
              "    90% {\n",
              "      border-color: transparent;\n",
              "      border-bottom-color: var(--fill-color);\n",
              "    }\n",
              "  }\n",
              "</style>\n",
              "\n",
              "      <script>\n",
              "        async function quickchart(key) {\n",
              "          const quickchartButtonEl =\n",
              "            document.querySelector('#' + key + ' button');\n",
              "          quickchartButtonEl.disabled = true;  // To prevent multiple clicks.\n",
              "          quickchartButtonEl.classList.add('colab-df-spinner');\n",
              "          try {\n",
              "            const charts = await google.colab.kernel.invokeFunction(\n",
              "                'suggestCharts', [key], {});\n",
              "          } catch (error) {\n",
              "            console.error('Error during call to suggestCharts:', error);\n",
              "          }\n",
              "          quickchartButtonEl.classList.remove('colab-df-spinner');\n",
              "          quickchartButtonEl.classList.add('colab-df-quickchart-complete');\n",
              "        }\n",
              "        (() => {\n",
              "          let quickchartButtonEl =\n",
              "            document.querySelector('#df-ebf77752-0297-4a13-9e6a-f89311233832 button');\n",
              "          quickchartButtonEl.style.display =\n",
              "            google.colab.kernel.accessAllowed ? 'block' : 'none';\n",
              "        })();\n",
              "      </script>\n",
              "    </div>\n",
              "\n",
              "  <div id=\"id_8edc9a0b-b975-4ff8-b88a-40080ac6317d\">\n",
              "    <style>\n",
              "      .colab-df-generate {\n",
              "        background-color: #E8F0FE;\n",
              "        border: none;\n",
              "        border-radius: 50%;\n",
              "        cursor: pointer;\n",
              "        display: none;\n",
              "        fill: #1967D2;\n",
              "        height: 32px;\n",
              "        padding: 0 0 0 0;\n",
              "        width: 32px;\n",
              "      }\n",
              "\n",
              "      .colab-df-generate:hover {\n",
              "        background-color: #E2EBFA;\n",
              "        box-shadow: 0px 1px 2px rgba(60, 64, 67, 0.3), 0px 1px 3px 1px rgba(60, 64, 67, 0.15);\n",
              "        fill: #174EA6;\n",
              "      }\n",
              "\n",
              "      [theme=dark] .colab-df-generate {\n",
              "        background-color: #3B4455;\n",
              "        fill: #D2E3FC;\n",
              "      }\n",
              "\n",
              "      [theme=dark] .colab-df-generate:hover {\n",
              "        background-color: #434B5C;\n",
              "        box-shadow: 0px 1px 3px 1px rgba(0, 0, 0, 0.15);\n",
              "        filter: drop-shadow(0px 1px 2px rgba(0, 0, 0, 0.3));\n",
              "        fill: #FFFFFF;\n",
              "      }\n",
              "    </style>\n",
              "    <button class=\"colab-df-generate\" onclick=\"generateWithVariable('df')\"\n",
              "            title=\"Generate code using this dataframe.\"\n",
              "            style=\"display:none;\">\n",
              "\n",
              "  <svg xmlns=\"http://www.w3.org/2000/svg\" height=\"24px\"viewBox=\"0 0 24 24\"\n",
              "       width=\"24px\">\n",
              "    <path d=\"M7,19H8.4L18.45,9,17,7.55,7,17.6ZM5,21V16.75L18.45,3.32a2,2,0,0,1,2.83,0l1.4,1.43a1.91,1.91,0,0,1,.58,1.4,1.91,1.91,0,0,1-.58,1.4L9.25,21ZM18.45,9,17,7.55Zm-12,3A5.31,5.31,0,0,0,4.9,8.1,5.31,5.31,0,0,0,1,6.5,5.31,5.31,0,0,0,4.9,4.9,5.31,5.31,0,0,0,6.5,1,5.31,5.31,0,0,0,8.1,4.9,5.31,5.31,0,0,0,12,6.5,5.46,5.46,0,0,0,6.5,12Z\"/>\n",
              "  </svg>\n",
              "    </button>\n",
              "    <script>\n",
              "      (() => {\n",
              "      const buttonEl =\n",
              "        document.querySelector('#id_8edc9a0b-b975-4ff8-b88a-40080ac6317d button.colab-df-generate');\n",
              "      buttonEl.style.display =\n",
              "        google.colab.kernel.accessAllowed ? 'block' : 'none';\n",
              "\n",
              "      buttonEl.onclick = () => {\n",
              "        google.colab.notebook.generateWithVariable('df');\n",
              "      }\n",
              "      })();\n",
              "    </script>\n",
              "  </div>\n",
              "\n",
              "    </div>\n",
              "  </div>\n"
            ],
            "application/vnd.google.colaboratory.intrinsic+json": {
              "type": "dataframe",
              "variable_name": "df",
              "summary": "{\n  \"name\": \"df\",\n  \"rows\": 50,\n  \"fields\": [\n    {\n      \"column\": \"Region\",\n      \"properties\": {\n        \"dtype\": \"category\",\n        \"num_unique_values\": 5,\n        \"samples\": [\n          \"Busan\",\n          \"Daejeon\",\n          \"Daegu\"\n        ],\n        \"semantic_type\": \"\",\n        \"description\": \"\"\n      }\n    },\n    {\n      \"column\": \"Jan\",\n      \"properties\": {\n        \"dtype\": \"number\",\n        \"std\": 33,\n        \"min\": 80,\n        \"max\": 200,\n        \"num_unique_values\": 28,\n        \"samples\": [\n          170,\n          188,\n          140\n        ],\n        \"semantic_type\": \"\",\n        \"description\": \"\"\n      }\n    },\n    {\n      \"column\": \"Feb\",\n      \"properties\": {\n        \"dtype\": \"number\",\n        \"std\": 31,\n        \"min\": 85,\n        \"max\": 192,\n        \"num_unique_values\": 32,\n        \"samples\": [\n          85,\n          185,\n          192\n        ],\n        \"semantic_type\": \"\",\n        \"description\": \"\"\n      }\n    },\n    {\n      \"column\": \"Mar\",\n      \"properties\": {\n        \"dtype\": \"number\",\n        \"std\": 32,\n        \"min\": 88,\n        \"max\": 195,\n        \"num_unique_values\": 24,\n        \"samples\": [\n          130,\n          195,\n          110\n        ],\n        \"semantic_type\": \"\",\n        \"description\": \"\"\n      }\n    }\n  ]\n}"
            }
          },
          "metadata": {},
          "execution_count": 182
        }
      ]
    }
  ]
}